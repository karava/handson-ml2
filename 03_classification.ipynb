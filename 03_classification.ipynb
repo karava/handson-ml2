{
 "cells": [
  {
   "cell_type": "markdown",
   "metadata": {},
   "source": [
    "**Chapter 3 – Classification**\n",
    "\n",
    "_This notebook contains all the sample code and solutions to the exercises in chapter 3._"
   ]
  },
  {
   "cell_type": "markdown",
   "metadata": {},
   "source": [
    "<table align=\"left\">\n",
    "  <td>\n",
    "    <a target=\"_blank\" href=\"https://colab.research.google.com/github/ageron/handson-ml2/blob/master/03_classification.ipynb\"><img src=\"https://www.tensorflow.org/images/colab_logo_32px.png\" />Run in Google Colab</a>\n",
    "  </td>\n",
    "</table>"
   ]
  },
  {
   "cell_type": "markdown",
   "metadata": {},
   "source": [
    "# Setup"
   ]
  },
  {
   "cell_type": "markdown",
   "metadata": {},
   "source": [
    "First, let's import a few common modules, ensure MatplotLib plots figures inline and prepare a function to save the figures. We also check that Python 3.5 or later is installed (although Python 2.x may work, it is deprecated so we strongly recommend you use Python 3 instead), as well as Scikit-Learn ≥0.20."
   ]
  },
  {
   "cell_type": "code",
   "execution_count": 1,
   "metadata": {},
   "outputs": [],
   "source": [
    "# Python ≥3.5 is required\n",
    "import sys\n",
    "assert sys.version_info >= (3, 5)\n",
    "\n",
    "# Scikit-Learn ≥0.20 is required\n",
    "import sklearn\n",
    "assert sklearn.__version__ >= \"0.20\"\n",
    "\n",
    "# Common imports\n",
    "import numpy as np\n",
    "import os\n",
    "\n",
    "# to make this notebook's output stable across runs\n",
    "np.random.seed(42)\n",
    "\n",
    "# To plot pretty figures\n",
    "%matplotlib inline\n",
    "import matplotlib as mpl\n",
    "import matplotlib.pyplot as plt\n",
    "mpl.rc('axes', labelsize=14)\n",
    "mpl.rc('xtick', labelsize=12)\n",
    "mpl.rc('ytick', labelsize=12)\n",
    "\n",
    "# Where to save the figures\n",
    "PROJECT_ROOT_DIR = \".\"\n",
    "CHAPTER_ID = \"classification\"\n",
    "IMAGES_PATH = os.path.join(PROJECT_ROOT_DIR, \"images\", CHAPTER_ID)\n",
    "os.makedirs(IMAGES_PATH, exist_ok=True)\n",
    "\n",
    "def save_fig(fig_id, tight_layout=True, fig_extension=\"png\", resolution=300):\n",
    "    path = os.path.join(IMAGES_PATH, fig_id + \".\" + fig_extension)\n",
    "    print(\"Saving figure\", fig_id)\n",
    "    if tight_layout:\n",
    "        plt.tight_layout()\n",
    "    plt.savefig(path, format=fig_extension, dpi=resolution)"
   ]
  },
  {
   "cell_type": "markdown",
   "metadata": {},
   "source": [
    "# MNIST"
   ]
  },
  {
   "cell_type": "code",
   "execution_count": 2,
   "metadata": {},
   "outputs": [
    {
     "output_type": "execute_result",
     "data": {
      "text/plain": "dict_keys(['data', 'target', 'feature_names', 'DESCR', 'details', 'categories', 'url'])"
     },
     "metadata": {},
     "execution_count": 2
    }
   ],
   "source": [
    "from sklearn.datasets import fetch_openml\n",
    "mnist = fetch_openml('mnist_784', version=1)\n",
    "mnist.keys()"
   ]
  },
  {
   "cell_type": "code",
   "execution_count": 3,
   "metadata": {},
   "outputs": [
    {
     "output_type": "execute_result",
     "data": {
      "text/plain": "(70000, 784)"
     },
     "metadata": {},
     "execution_count": 3
    }
   ],
   "source": [
    "X, y = mnist[\"data\"], mnist[\"target\"]\n",
    "X.shape"
   ]
  },
  {
   "cell_type": "code",
   "execution_count": 4,
   "metadata": {},
   "outputs": [
    {
     "output_type": "execute_result",
     "data": {
      "text/plain": "(70000,)"
     },
     "metadata": {},
     "execution_count": 4
    }
   ],
   "source": [
    "y.shape"
   ]
  },
  {
   "cell_type": "code",
   "execution_count": 5,
   "metadata": {},
   "outputs": [
    {
     "output_type": "execute_result",
     "data": {
      "text/plain": "784"
     },
     "metadata": {},
     "execution_count": 5
    }
   ],
   "source": [
    "28 * 28"
   ]
  },
  {
   "cell_type": "code",
   "execution_count": 8,
   "metadata": {},
   "outputs": [
    {
     "output_type": "stream",
     "name": "stdout",
     "text": "Saving figure some_digit_plot\n"
    },
    {
     "output_type": "display_data",
     "data": {
      "text/plain": "<Figure size 432x288 with 1 Axes>",
      "image/svg+xml": "<?xml version=\"1.0\" encoding=\"utf-8\" standalone=\"no\"?>\n<!DOCTYPE svg PUBLIC \"-//W3C//DTD SVG 1.1//EN\"\n  \"http://www.w3.org/Graphics/SVG/1.1/DTD/svg11.dtd\">\n<!-- Created with matplotlib (https://matplotlib.org/) -->\n<svg height=\"280.8pt\" version=\"1.1\" viewBox=\"0 0 280.8 280.8\" width=\"280.8pt\" xmlns=\"http://www.w3.org/2000/svg\" xmlns:xlink=\"http://www.w3.org/1999/xlink\">\n <defs>\n  <style type=\"text/css\">\n*{stroke-linecap:butt;stroke-linejoin:round;}\n  </style>\n </defs>\n <g id=\"figure_1\">\n  <g id=\"patch_1\">\n   <path d=\"M 0 280.8 \nL 280.8 280.8 \nL 280.8 0 \nL 0 0 \nz\n\" style=\"fill:none;\"/>\n  </g>\n  <g id=\"axes_1\">\n   <g clip-path=\"url(#p1f638ade73)\">\n    <image height=\"267\" id=\"image8809d94ecb\" transform=\"scale(1 -1)translate(0 -267)\" width=\"267\" x=\"7.2\" xlink:href=\"data:image/png;base64,\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\" y=\"-6.6\"/>\n   </g>\n  </g>\n </g>\n <defs>\n  <clipPath id=\"p1f638ade73\">\n   <rect height=\"266.4\" width=\"266.4\" x=\"7.2\" y=\"7.2\"/>\n  </clipPath>\n </defs>\n</svg>\n",
      "image/png": "[encoded data removed]"
     },
     "metadata": {
      "needs_background": "light"
     }
    }
   ],
   "source": [
    "%matplotlib inline\n",
    "import matplotlib as mpl\n",
    "import matplotlib.pyplot as plt\n",
    "\n",
    "some_digit = X[0]\n",
    "some_digit_image = some_digit.reshape(28, 28)\n",
    "plt.imshow(some_digit_image, cmap=mpl.cm.binary)\n",
    "plt.axis(\"off\")\n",
    "\n",
    "save_fig(\"some_digit_plot\")\n",
    "plt.show()"
   ]
  },
  {
   "cell_type": "code",
   "execution_count": 9,
   "metadata": {},
   "outputs": [
    {
     "output_type": "execute_result",
     "data": {
      "text/plain": "'5'"
     },
     "metadata": {},
     "execution_count": 9
    }
   ],
   "source": [
    "y[0]"
   ]
  },
  {
   "cell_type": "code",
   "execution_count": 10,
   "metadata": {},
   "outputs": [],
   "source": [
    "y = y.astype(np.uint8)"
   ]
  },
  {
   "cell_type": "code",
   "execution_count": 11,
   "metadata": {},
   "outputs": [],
   "source": [
    "def plot_digit(data):\n",
    "    image = data.reshape(28, 28)\n",
    "    plt.imshow(image, cmap = mpl.cm.binary,\n",
    "               interpolation=\"nearest\")\n",
    "    plt.axis(\"off\")"
   ]
  },
  {
   "cell_type": "code",
   "execution_count": 12,
   "metadata": {},
   "outputs": [],
   "source": [
    "# EXTRA\n",
    "def plot_digits(instances, images_per_row=10, **options):\n",
    "    size = 28\n",
    "    images_per_row = min(len(instances), images_per_row)\n",
    "    images = [instance.reshape(size,size) for instance in instances]\n",
    "    n_rows = (len(instances) - 1) // images_per_row + 1\n",
    "    row_images = []\n",
    "    n_empty = n_rows * images_per_row - len(instances)\n",
    "    images.append(np.zeros((size, size * n_empty)))\n",
    "    for row in range(n_rows):\n",
    "        rimages = images[row * images_per_row : (row + 1) * images_per_row]\n",
    "        row_images.append(np.concatenate(rimages, axis=1))\n",
    "    image = np.concatenate(row_images, axis=0)\n",
    "    plt.imshow(image, cmap = mpl.cm.binary, **options)\n",
    "    plt.axis(\"off\")"
   ]
  },
  {
   "cell_type": "code",
   "execution_count": 13,
   "metadata": {},
   "outputs": [
    {
     "output_type": "stream",
     "name": "stdout",
     "text": "Saving figure more_digits_plot\n"
    },
    {
     "output_type": "display_data",
     "data": {
      "text/plain": "<Figure size 648x648 with 1 Axes>",
      "image/svg+xml": "<?xml version=\"1.0\" encoding=\"utf-8\" standalone=\"no\"?>\n<!DOCTYPE svg PUBLIC \"-//W3C//DTD SVG 1.1//EN\"\n  \"http://www.w3.org/Graphics/SVG/1.1/DTD/svg11.dtd\">\n<!-- Created with matplotlib (https://matplotlib.org/) -->\n<svg height=\"640.8pt\" version=\"1.1\" viewBox=\"0 0 640.8 640.8\" width=\"640.8pt\" xmlns=\"http://www.w3.org/2000/svg\" xmlns:xlink=\"http://www.w3.org/1999/xlink\">\n <defs>\n  <style type=\"text/css\">\n*{stroke-linecap:butt;stroke-linejoin:round;}\n  </style>\n </defs>\n <g id=\"figure_1\">\n  <g id=\"patch_1\">\n   <path d=\"M 0 640.8 \nL 640.8 640.8 \nL 640.8 0 \nL 0 0 \nz\n\" style=\"fill:none;\"/>\n  </g>\n  <g id=\"axes_1\">\n   <g clip-path=\"url(#p1089f1957f)\">\n    <image height=\"627\" id=\"imagecfd1f43423\" transform=\"scale(1 -1)translate(0 -627)\" width=\"627\" x=\"7.2\" xlink:href=\"data:image/png;base64,\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\" y=\"-6.6\"/>\n   </g>\n  </g>\n </g>\n <defs>\n  <clipPath id=\"p1089f1957f\">\n   <rect height=\"626.4\" width=\"626.4\" x=\"7.2\" y=\"7.2\"/>\n  </clipPath>\n </defs>\n</svg>\n",
      "image/png": "[encoded data removed]"
     },
     "metadata": {
      "needs_background": "light"
     }
    }
   ],
   "source": [
    "plt.figure(figsize=(9,9))\n",
    "example_images = X[:100]\n",
    "plot_digits(example_images, images_per_row=10)\n",
    "save_fig(\"more_digits_plot\")\n",
    "plt.show()"
   ]
  },
  {
   "cell_type": "code",
   "execution_count": 14,
   "metadata": {},
   "outputs": [
    {
     "output_type": "execute_result",
     "data": {
      "text/plain": "5"
     },
     "metadata": {},
     "execution_count": 14
    }
   ],
   "source": [
    "y[0]"
   ]
  },
  {
   "cell_type": "code",
   "execution_count": 17,
   "metadata": {},
   "outputs": [],
   "source": [
    "X_train, X_test, y_train, y_test = X[:60000], X[60000:], y[:60000], y[60000:]"
   ]
  },
  {
   "cell_type": "markdown",
   "metadata": {},
   "source": [
    "# Binary classifier"
   ]
  },
  {
   "cell_type": "code",
   "execution_count": 18,
   "metadata": {},
   "outputs": [],
   "source": [
    "y_train_5 = (y_train == 5)\n",
    "y_test_5 = (y_test == 5)"
   ]
  },
  {
   "cell_type": "markdown",
   "metadata": {},
   "source": [
    "**Note**: some hyperparameters will have a different defaut value in future versions of Scikit-Learn, such as `max_iter` and `tol`. To be future-proof, we explicitly set these hyperparameters to their future default values. For simplicity, this is not shown in the book."
   ]
  },
  {
   "cell_type": "code",
   "execution_count": 19,
   "metadata": {},
   "outputs": [
    {
     "output_type": "execute_result",
     "data": {
      "text/plain": "SGDClassifier(alpha=0.0001, average=False, class_weight=None,\n       early_stopping=False, epsilon=0.1, eta0=0.0, fit_intercept=True,\n       l1_ratio=0.15, learning_rate='optimal', loss='hinge', max_iter=1000,\n       n_iter=None, n_iter_no_change=5, n_jobs=None, penalty='l2',\n       power_t=0.5, random_state=42, shuffle=True, tol=0.001,\n       validation_fraction=0.1, verbose=0, warm_start=False)"
     },
     "metadata": {},
     "execution_count": 19
    }
   ],
   "source": [
    "from sklearn.linear_model import SGDClassifier\n",
    "\n",
    "sgd_clf = SGDClassifier(max_iter=1000, tol=1e-3, random_state=42)\n",
    "sgd_clf.fit(X_train, y_train_5)"
   ]
  },
  {
   "cell_type": "code",
   "execution_count": 20,
   "metadata": {},
   "outputs": [
    {
     "output_type": "execute_result",
     "data": {
      "text/plain": "array([ True])"
     },
     "metadata": {},
     "execution_count": 20
    }
   ],
   "source": [
    "sgd_clf.predict([some_digit])"
   ]
  },
  {
   "cell_type": "code",
   "execution_count": 21,
   "metadata": {},
   "outputs": [
    {
     "output_type": "execute_result",
     "data": {
      "text/plain": "array([0.96355, 0.93795, 0.95615])"
     },
     "metadata": {},
     "execution_count": 21
    }
   ],
   "source": [
    "from sklearn.model_selection import cross_val_score\n",
    "cross_val_score(sgd_clf, X_train, y_train_5, cv=3, scoring=\"accuracy\")"
   ]
  },
  {
   "cell_type": "code",
   "execution_count": 22,
   "metadata": {},
   "outputs": [
    {
     "output_type": "stream",
     "name": "stdout",
     "text": "0.96355\n0.93795\n0.95615\n"
    }
   ],
   "source": [
    "from sklearn.model_selection import StratifiedKFold\n",
    "from sklearn.base import clone\n",
    "\n",
    "skfolds = StratifiedKFold(n_splits=3, random_state=42)\n",
    "\n",
    "for train_index, test_index in skfolds.split(X_train, y_train_5):\n",
    "    clone_clf = clone(sgd_clf)\n",
    "    X_train_folds = X_train[train_index]\n",
    "    y_train_folds = y_train_5[train_index]\n",
    "    X_test_fold = X_train[test_index]\n",
    "    y_test_fold = y_train_5[test_index]\n",
    "\n",
    "    clone_clf.fit(X_train_folds, y_train_folds)\n",
    "    y_pred = clone_clf.predict(X_test_fold)\n",
    "    n_correct = sum(y_pred == y_test_fold)\n",
    "    print(n_correct / len(y_pred))"
   ]
  },
  {
   "cell_type": "code",
   "execution_count": 23,
   "metadata": {},
   "outputs": [],
   "source": [
    "from sklearn.base import BaseEstimator\n",
    "class Never5Classifier(BaseEstimator):\n",
    "    def fit(self, X, y=None):\n",
    "        pass\n",
    "    def predict(self, X):\n",
    "        return np.zeros((len(X), 1), dtype=bool)"
   ]
  },
  {
   "cell_type": "code",
   "execution_count": 24,
   "metadata": {},
   "outputs": [
    {
     "output_type": "execute_result",
     "data": {
      "text/plain": "array([0.91125, 0.90855, 0.90915])"
     },
     "metadata": {},
     "execution_count": 24
    }
   ],
   "source": [
    "never_5_clf = Never5Classifier()\n",
    "cross_val_score(never_5_clf, X_train, y_train_5, cv=3, scoring=\"accuracy\")"
   ]
  },
  {
   "cell_type": "code",
   "execution_count": 25,
   "metadata": {},
   "outputs": [],
   "source": [
    "from sklearn.model_selection import cross_val_predict\n",
    "\n",
    "y_train_pred = cross_val_predict(sgd_clf, X_train, y_train_5, cv=3)"
   ]
  },
  {
   "cell_type": "code",
   "execution_count": 26,
   "metadata": {},
   "outputs": [
    {
     "output_type": "execute_result",
     "data": {
      "text/plain": "array([[53057,  1522],\n       [ 1325,  4096]])"
     },
     "metadata": {},
     "execution_count": 26
    }
   ],
   "source": [
    "from sklearn.metrics import confusion_matrix\n",
    "\n",
    "confusion_matrix(y_train_5, y_train_pred)"
   ]
  },
  {
   "cell_type": "code",
   "execution_count": 27,
   "metadata": {},
   "outputs": [
    {
     "output_type": "execute_result",
     "data": {
      "text/plain": "array([[54579,     0],\n       [    0,  5421]])"
     },
     "metadata": {},
     "execution_count": 27
    }
   ],
   "source": [
    "y_train_perfect_predictions = y_train_5  # pretend we reached perfection\n",
    "confusion_matrix(y_train_5, y_train_perfect_predictions)"
   ]
  },
  {
   "cell_type": "code",
   "execution_count": 28,
   "metadata": {},
   "outputs": [
    {
     "output_type": "execute_result",
     "data": {
      "text/plain": "0.7290850836596654"
     },
     "metadata": {},
     "execution_count": 28
    }
   ],
   "source": [
    "from sklearn.metrics import precision_score, recall_score\n",
    "\n",
    "precision_score(y_train_5, y_train_pred)"
   ]
  },
  {
   "cell_type": "code",
   "execution_count": 29,
   "metadata": {},
   "outputs": [
    {
     "output_type": "execute_result",
     "data": {
      "text/plain": "0.7290850836596654"
     },
     "metadata": {},
     "execution_count": 29
    }
   ],
   "source": [
    "4096 / (4096 + 1522)"
   ]
  },
  {
   "cell_type": "code",
   "execution_count": 30,
   "metadata": {},
   "outputs": [
    {
     "output_type": "execute_result",
     "data": {
      "text/plain": "0.7555801512636044"
     },
     "metadata": {},
     "execution_count": 30
    }
   ],
   "source": [
    "recall_score(y_train_5, y_train_pred)"
   ]
  },
  {
   "cell_type": "code",
   "execution_count": 31,
   "metadata": {},
   "outputs": [
    {
     "output_type": "execute_result",
     "data": {
      "text/plain": "0.7555801512636044"
     },
     "metadata": {},
     "execution_count": 31
    }
   ],
   "source": [
    "4096 / (4096 + 1325)"
   ]
  },
  {
   "cell_type": "code",
   "execution_count": 32,
   "metadata": {},
   "outputs": [
    {
     "output_type": "execute_result",
     "data": {
      "text/plain": "0.7420962043663375"
     },
     "metadata": {},
     "execution_count": 32
    }
   ],
   "source": [
    "from sklearn.metrics import f1_score\n",
    "\n",
    "f1_score(y_train_5, y_train_pred)"
   ]
  },
  {
   "cell_type": "code",
   "execution_count": 33,
   "metadata": {},
   "outputs": [
    {
     "output_type": "execute_result",
     "data": {
      "text/plain": "0.7420962043663375"
     },
     "metadata": {},
     "execution_count": 33
    }
   ],
   "source": [
    "4096 / (4096 + (1522 + 1325) / 2)"
   ]
  },
  {
   "cell_type": "code",
   "execution_count": 37,
   "metadata": {},
   "outputs": [
    {
     "output_type": "execute_result",
     "data": {
      "text/plain": "array([2412.53175101])"
     },
     "metadata": {},
     "execution_count": 37
    }
   ],
   "source": [
    "y_scores = sgd_clf.decision_function([some_digit])\n",
    "y_scores"
   ]
  },
  {
   "cell_type": "code",
   "execution_count": 38,
   "metadata": {},
   "outputs": [],
   "source": [
    "threshold = 0\n",
    "y_some_digit_pred = (y_scores > threshold)"
   ]
  },
  {
   "cell_type": "code",
   "execution_count": 39,
   "metadata": {},
   "outputs": [
    {
     "output_type": "execute_result",
     "data": {
      "text/plain": "array([ True])"
     },
     "metadata": {},
     "execution_count": 39
    }
   ],
   "source": [
    "y_some_digit_pred"
   ]
  },
  {
   "cell_type": "code",
   "execution_count": 40,
   "metadata": {},
   "outputs": [
    {
     "output_type": "execute_result",
     "data": {
      "text/plain": "array([False])"
     },
     "metadata": {},
     "execution_count": 40
    }
   ],
   "source": [
    "threshold = 8000\n",
    "y_some_digit_pred = (y_scores > threshold)\n",
    "y_some_digit_pred"
   ]
  },
  {
   "cell_type": "code",
   "execution_count": 41,
   "metadata": {},
   "outputs": [],
   "source": [
    "y_scores = cross_val_predict(sgd_clf, X_train, y_train_5, cv=3,\n",
    "                             method=\"decision_function\")"
   ]
  },
  {
   "cell_type": "code",
   "execution_count": 42,
   "metadata": {},
   "outputs": [],
   "source": [
    "from sklearn.metrics import precision_recall_curve\n",
    "\n",
    "precisions, recalls, thresholds = precision_recall_curve(y_train_5, y_scores)"
   ]
  },
  {
   "cell_type": "code",
   "execution_count": 45,
   "metadata": {},
   "outputs": [
    {
     "output_type": "stream",
     "name": "stdout",
     "text": "Saving figure precision_recall_vs_threshold_plot\n"
    },
    {
     "output_type": "display_data",
     "data": {
      "text/plain": "<Figure size 576x288 with 1 Axes>",
      "image/svg+xml": "<?xml version=\"1.0\" encoding=\"utf-8\" standalone=\"no\"?>\n<!DOCTYPE svg PUBLIC \"-//W3C//DTD SVG 1.1//EN\"\n  \"http://www.w3.org/Graphics/SVG/1.1/DTD/svg11.dtd\">\n<!-- Created with matplotlib (https://matplotlib.org/) -->\n<svg height=\"279.457813pt\" version=\"1.1\" viewBox=\"0 0 568.88375 279.457813\" width=\"568.88375pt\" xmlns=\"http://www.w3.org/2000/svg\" xmlns:xlink=\"http://www.w3.org/1999/xlink\">\n <defs>\n  <style type=\"text/css\">\n*{stroke-linecap:butt;stroke-linejoin:round;}\n  </style>\n </defs>\n <g id=\"figure_1\">\n  <g id=\"patch_1\">\n   <path d=\"M 0 279.457813 \nL 568.88375 279.457813 \nL 568.88375 0 \nL 0 0 \nz\n\" style=\"fill:none;\"/>\n  </g>\n  <g id=\"axes_1\">\n   <g id=\"patch_2\">\n    <path d=\"M 33.28375 234.159063 \nL 561.68375 234.159063 \nL 561.68375 11.759062 \nL 33.28375 11.759062 \nz\n\" style=\"fill:#ffffff;\"/>\n   </g>\n   <g id=\"matplotlib.axis_1\">\n    <g id=\"xtick_1\">\n     <g id=\"line2d_1\">\n      <path clip-path=\"url(#pee4f0e0098)\" d=\"M 86.12375 234.159063 \nL 86.12375 11.759062 \n\" style=\"fill:none;stroke:#b0b0b0;stroke-linecap:square;stroke-width:0.8;\"/>\n     </g>\n     <g id=\"line2d_2\">\n      <defs>\n       <path d=\"M 0 0 \nL 0 3.5 \n\" id=\"m5d080fa4f3\" style=\"stroke:#000000;stroke-width:0.8;\"/>\n      </defs>\n      <g>\n       <use style=\"stroke:#000000;stroke-width:0.8;\" x=\"86.12375\" xlink:href=\"#m5d080fa4f3\" y=\"234.159063\"/>\n      </g>\n     </g>\n     <g id=\"text_1\">\n      <!-- −40000 -->\n      <defs>\n       <path d=\"M 10.59375 35.5 \nL 73.1875 35.5 \nL 73.1875 27.203125 \nL 10.59375 27.203125 \nz\n\" id=\"DejaVuSans-8722\"/>\n       <path d=\"M 37.796875 64.3125 \nL 12.890625 25.390625 \nL 37.796875 25.390625 \nz\nM 35.203125 72.90625 \nL 47.609375 72.90625 \nL 47.609375 25.390625 \nL 58.015625 25.390625 \nL 58.015625 17.1875 \nL 47.609375 17.1875 \nL 47.609375 0 \nL 37.796875 0 \nL 37.796875 17.1875 \nL 4.890625 17.1875 \nL 4.890625 26.703125 \nz\n\" id=\"DejaVuSans-52\"/>\n       <path d=\"M 31.78125 66.40625 \nQ 24.171875 66.40625 20.328125 58.90625 \nQ 16.5 51.421875 16.5 36.375 \nQ 16.5 21.390625 20.328125 13.890625 \nQ 24.171875 6.390625 31.78125 6.390625 \nQ 39.453125 6.390625 43.28125 13.890625 \nQ 47.125 21.390625 47.125 36.375 \nQ 47.125 51.421875 43.28125 58.90625 \nQ 39.453125 66.40625 31.78125 66.40625 \nz\nM 31.78125 74.21875 \nQ 44.046875 74.21875 50.515625 64.515625 \nQ 56.984375 54.828125 56.984375 36.375 \nQ 56.984375 17.96875 50.515625 8.265625 \nQ 44.046875 -1.421875 31.78125 -1.421875 \nQ 19.53125 -1.421875 13.0625 8.265625 \nQ 6.59375 17.96875 6.59375 36.375 \nQ 6.59375 54.828125 13.0625 64.515625 \nQ 19.53125 74.21875 31.78125 74.21875 \nz\n\" id=\"DejaVuSans-48\"/>\n      </defs>\n      <g transform=\"translate(62.008437 250.277188)scale(0.12 -0.12)\">\n       <use xlink:href=\"#DejaVuSans-8722\"/>\n       <use x=\"83.789062\" xlink:href=\"#DejaVuSans-52\"/>\n       <use x=\"147.412109\" xlink:href=\"#DejaVuSans-48\"/>\n       <use x=\"211.035156\" xlink:href=\"#DejaVuSans-48\"/>\n       <use x=\"274.658203\" xlink:href=\"#DejaVuSans-48\"/>\n       <use x=\"338.28125\" xlink:href=\"#DejaVuSans-48\"/>\n      </g>\n     </g>\n    </g>\n    <g id=\"xtick_2\">\n     <g id=\"line2d_3\">\n      <path clip-path=\"url(#pee4f0e0098)\" d=\"M 191.80375 234.159063 \nL 191.80375 11.759062 \n\" style=\"fill:none;stroke:#b0b0b0;stroke-linecap:square;stroke-width:0.8;\"/>\n     </g>\n     <g id=\"line2d_4\">\n      <g>\n       <use style=\"stroke:#000000;stroke-width:0.8;\" x=\"191.80375\" xlink:href=\"#m5d080fa4f3\" y=\"234.159063\"/>\n      </g>\n     </g>\n     <g id=\"text_2\">\n      <!-- −20000 -->\n      <defs>\n       <path d=\"M 19.1875 8.296875 \nL 53.609375 8.296875 \nL 53.609375 0 \nL 7.328125 0 \nL 7.328125 8.296875 \nQ 12.9375 14.109375 22.625 23.890625 \nQ 32.328125 33.6875 34.8125 36.53125 \nQ 39.546875 41.84375 41.421875 45.53125 \nQ 43.3125 49.21875 43.3125 52.78125 \nQ 43.3125 58.59375 39.234375 62.25 \nQ 35.15625 65.921875 28.609375 65.921875 \nQ 23.96875 65.921875 18.8125 64.3125 \nQ 13.671875 62.703125 7.8125 59.421875 \nL 7.8125 69.390625 \nQ 13.765625 71.78125 18.9375 73 \nQ 24.125 74.21875 28.421875 74.21875 \nQ 39.75 74.21875 46.484375 68.546875 \nQ 53.21875 62.890625 53.21875 53.421875 \nQ 53.21875 48.921875 51.53125 44.890625 \nQ 49.859375 40.875 45.40625 35.40625 \nQ 44.1875 33.984375 37.640625 27.21875 \nQ 31.109375 20.453125 19.1875 8.296875 \nz\n\" id=\"DejaVuSans-50\"/>\n      </defs>\n      <g transform=\"translate(167.688437 250.277188)scale(0.12 -0.12)\">\n       <use xlink:href=\"#DejaVuSans-8722\"/>\n       <use x=\"83.789062\" xlink:href=\"#DejaVuSans-50\"/>\n       <use x=\"147.412109\" xlink:href=\"#DejaVuSans-48\"/>\n       <use x=\"211.035156\" xlink:href=\"#DejaVuSans-48\"/>\n       <use x=\"274.658203\" xlink:href=\"#DejaVuSans-48\"/>\n       <use x=\"338.28125\" xlink:href=\"#DejaVuSans-48\"/>\n      </g>\n     </g>\n    </g>\n    <g id=\"xtick_3\">\n     <g id=\"line2d_5\">\n      <path clip-path=\"url(#pee4f0e0098)\" d=\"M 297.48375 234.159063 \nL 297.48375 11.759062 \n\" style=\"fill:none;stroke:#b0b0b0;stroke-linecap:square;stroke-width:0.8;\"/>\n     </g>\n     <g id=\"line2d_6\">\n      <g>\n       <use style=\"stroke:#000000;stroke-width:0.8;\" x=\"297.48375\" xlink:href=\"#m5d080fa4f3\" y=\"234.159063\"/>\n      </g>\n     </g>\n     <g id=\"text_3\">\n      <!-- 0 -->\n      <g transform=\"translate(293.66625 250.277188)scale(0.12 -0.12)\">\n       <use xlink:href=\"#DejaVuSans-48\"/>\n      </g>\n     </g>\n    </g>\n    <g id=\"xtick_4\">\n     <g id=\"line2d_7\">\n      <path clip-path=\"url(#pee4f0e0098)\" d=\"M 403.16375 234.159063 \nL 403.16375 11.759062 \n\" style=\"fill:none;stroke:#b0b0b0;stroke-linecap:square;stroke-width:0.8;\"/>\n     </g>\n     <g id=\"line2d_8\">\n      <g>\n       <use style=\"stroke:#000000;stroke-width:0.8;\" x=\"403.16375\" xlink:href=\"#m5d080fa4f3\" y=\"234.159063\"/>\n      </g>\n     </g>\n     <g id=\"text_4\">\n      <!-- 20000 -->\n      <g transform=\"translate(384.07625 250.277188)scale(0.12 -0.12)\">\n       <use xlink:href=\"#DejaVuSans-50\"/>\n       <use x=\"63.623047\" xlink:href=\"#DejaVuSans-48\"/>\n       <use x=\"127.246094\" xlink:href=\"#DejaVuSans-48\"/>\n       <use x=\"190.869141\" xlink:href=\"#DejaVuSans-48\"/>\n       <use x=\"254.492188\" xlink:href=\"#DejaVuSans-48\"/>\n      </g>\n     </g>\n    </g>\n    <g id=\"xtick_5\">\n     <g id=\"line2d_9\">\n      <path clip-path=\"url(#pee4f0e0098)\" d=\"M 508.84375 234.159063 \nL 508.84375 11.759062 \n\" style=\"fill:none;stroke:#b0b0b0;stroke-linecap:square;stroke-width:0.8;\"/>\n     </g>\n     <g id=\"line2d_10\">\n      <g>\n       <use style=\"stroke:#000000;stroke-width:0.8;\" x=\"508.84375\" xlink:href=\"#m5d080fa4f3\" y=\"234.159063\"/>\n      </g>\n     </g>\n     <g id=\"text_5\">\n      <!-- 40000 -->\n      <g transform=\"translate(489.75625 250.277188)scale(0.12 -0.12)\">\n       <use xlink:href=\"#DejaVuSans-52\"/>\n       <use x=\"63.623047\" xlink:href=\"#DejaVuSans-48\"/>\n       <use x=\"127.246094\" xlink:href=\"#DejaVuSans-48\"/>\n       <use x=\"190.869141\" xlink:href=\"#DejaVuSans-48\"/>\n       <use x=\"254.492188\" xlink:href=\"#DejaVuSans-48\"/>\n      </g>\n     </g>\n    </g>\n    <g id=\"text_6\">\n     <!-- Threshold -->\n     <defs>\n      <path d=\"M -0.296875 72.90625 \nL 61.375 72.90625 \nL 61.375 64.59375 \nL 35.5 64.59375 \nL 35.5 0 \nL 25.59375 0 \nL 25.59375 64.59375 \nL -0.296875 64.59375 \nz\n\" id=\"DejaVuSans-84\"/>\n      <path d=\"M 54.890625 33.015625 \nL 54.890625 0 \nL 45.90625 0 \nL 45.90625 32.71875 \nQ 45.90625 40.484375 42.875 44.328125 \nQ 39.84375 48.1875 33.796875 48.1875 \nQ 26.515625 48.1875 22.3125 43.546875 \nQ 18.109375 38.921875 18.109375 30.90625 \nL 18.109375 0 \nL 9.078125 0 \nL 9.078125 75.984375 \nL 18.109375 75.984375 \nL 18.109375 46.1875 \nQ 21.34375 51.125 25.703125 53.5625 \nQ 30.078125 56 35.796875 56 \nQ 45.21875 56 50.046875 50.171875 \nQ 54.890625 44.34375 54.890625 33.015625 \nz\n\" id=\"DejaVuSans-104\"/>\n      <path d=\"M 41.109375 46.296875 \nQ 39.59375 47.171875 37.8125 47.578125 \nQ 36.03125 48 33.890625 48 \nQ 26.265625 48 22.1875 43.046875 \nQ 18.109375 38.09375 18.109375 28.8125 \nL 18.109375 0 \nL 9.078125 0 \nL 9.078125 54.6875 \nL 18.109375 54.6875 \nL 18.109375 46.1875 \nQ 20.953125 51.171875 25.484375 53.578125 \nQ 30.03125 56 36.53125 56 \nQ 37.453125 56 38.578125 55.875 \nQ 39.703125 55.765625 41.0625 55.515625 \nz\n\" id=\"DejaVuSans-114\"/>\n      <path d=\"M 56.203125 29.59375 \nL 56.203125 25.203125 \nL 14.890625 25.203125 \nQ 15.484375 15.921875 20.484375 11.0625 \nQ 25.484375 6.203125 34.421875 6.203125 \nQ 39.59375 6.203125 44.453125 7.46875 \nQ 49.3125 8.734375 54.109375 11.28125 \nL 54.109375 2.78125 \nQ 49.265625 0.734375 44.1875 -0.34375 \nQ 39.109375 -1.421875 33.890625 -1.421875 \nQ 20.796875 -1.421875 13.15625 6.1875 \nQ 5.515625 13.8125 5.515625 26.8125 \nQ 5.515625 40.234375 12.765625 48.109375 \nQ 20.015625 56 32.328125 56 \nQ 43.359375 56 49.78125 48.890625 \nQ 56.203125 41.796875 56.203125 29.59375 \nz\nM 47.21875 32.234375 \nQ 47.125 39.59375 43.09375 43.984375 \nQ 39.0625 48.390625 32.421875 48.390625 \nQ 24.90625 48.390625 20.390625 44.140625 \nQ 15.875 39.890625 15.1875 32.171875 \nz\n\" id=\"DejaVuSans-101\"/>\n      <path d=\"M 44.28125 53.078125 \nL 44.28125 44.578125 \nQ 40.484375 46.53125 36.375 47.5 \nQ 32.28125 48.484375 27.875 48.484375 \nQ 21.1875 48.484375 17.84375 46.4375 \nQ 14.5 44.390625 14.5 40.28125 \nQ 14.5 37.15625 16.890625 35.375 \nQ 19.28125 33.59375 26.515625 31.984375 \nL 29.59375 31.296875 \nQ 39.15625 29.25 43.1875 25.515625 \nQ 47.21875 21.78125 47.21875 15.09375 \nQ 47.21875 7.46875 41.1875 3.015625 \nQ 35.15625 -1.421875 24.609375 -1.421875 \nQ 20.21875 -1.421875 15.453125 -0.5625 \nQ 10.6875 0.296875 5.421875 2 \nL 5.421875 11.28125 \nQ 10.40625 8.6875 15.234375 7.390625 \nQ 20.0625 6.109375 24.8125 6.109375 \nQ 31.15625 6.109375 34.5625 8.28125 \nQ 37.984375 10.453125 37.984375 14.40625 \nQ 37.984375 18.0625 35.515625 20.015625 \nQ 33.0625 21.96875 24.703125 23.78125 \nL 21.578125 24.515625 \nQ 13.234375 26.265625 9.515625 29.90625 \nQ 5.8125 33.546875 5.8125 39.890625 \nQ 5.8125 47.609375 11.28125 51.796875 \nQ 16.75 56 26.8125 56 \nQ 31.78125 56 36.171875 55.265625 \nQ 40.578125 54.546875 44.28125 53.078125 \nz\n\" id=\"DejaVuSans-115\"/>\n      <path d=\"M 30.609375 48.390625 \nQ 23.390625 48.390625 19.1875 42.75 \nQ 14.984375 37.109375 14.984375 27.296875 \nQ 14.984375 17.484375 19.15625 11.84375 \nQ 23.34375 6.203125 30.609375 6.203125 \nQ 37.796875 6.203125 41.984375 11.859375 \nQ 46.1875 17.53125 46.1875 27.296875 \nQ 46.1875 37.015625 41.984375 42.703125 \nQ 37.796875 48.390625 30.609375 48.390625 \nz\nM 30.609375 56 \nQ 42.328125 56 49.015625 48.375 \nQ 55.71875 40.765625 55.71875 27.296875 \nQ 55.71875 13.875 49.015625 6.21875 \nQ 42.328125 -1.421875 30.609375 -1.421875 \nQ 18.84375 -1.421875 12.171875 6.21875 \nQ 5.515625 13.875 5.515625 27.296875 \nQ 5.515625 40.765625 12.171875 48.375 \nQ 18.84375 56 30.609375 56 \nz\n\" id=\"DejaVuSans-111\"/>\n      <path d=\"M 9.421875 75.984375 \nL 18.40625 75.984375 \nL 18.40625 0 \nL 9.421875 0 \nz\n\" id=\"DejaVuSans-108\"/>\n      <path d=\"M 45.40625 46.390625 \nL 45.40625 75.984375 \nL 54.390625 75.984375 \nL 54.390625 0 \nL 45.40625 0 \nL 45.40625 8.203125 \nQ 42.578125 3.328125 38.25 0.953125 \nQ 33.9375 -1.421875 27.875 -1.421875 \nQ 17.96875 -1.421875 11.734375 6.484375 \nQ 5.515625 14.40625 5.515625 27.296875 \nQ 5.515625 40.1875 11.734375 48.09375 \nQ 17.96875 56 27.875 56 \nQ 33.9375 56 38.25 53.625 \nQ 42.578125 51.265625 45.40625 46.390625 \nz\nM 14.796875 27.296875 \nQ 14.796875 17.390625 18.875 11.75 \nQ 22.953125 6.109375 30.078125 6.109375 \nQ 37.203125 6.109375 41.296875 11.75 \nQ 45.40625 17.390625 45.40625 27.296875 \nQ 45.40625 37.203125 41.296875 42.84375 \nQ 37.203125 48.484375 30.078125 48.484375 \nQ 22.953125 48.484375 18.875 42.84375 \nQ 14.796875 37.203125 14.796875 27.296875 \nz\n\" id=\"DejaVuSans-100\"/>\n     </defs>\n     <g transform=\"translate(257.885 268.930313)scale(0.16 -0.16)\">\n      <use xlink:href=\"#DejaVuSans-84\"/>\n      <use x=\"61.083984\" xlink:href=\"#DejaVuSans-104\"/>\n      <use x=\"124.462891\" xlink:href=\"#DejaVuSans-114\"/>\n      <use x=\"165.544922\" xlink:href=\"#DejaVuSans-101\"/>\n      <use x=\"227.068359\" xlink:href=\"#DejaVuSans-115\"/>\n      <use x=\"279.167969\" xlink:href=\"#DejaVuSans-104\"/>\n      <use x=\"342.546875\" xlink:href=\"#DejaVuSans-111\"/>\n      <use x=\"403.728516\" xlink:href=\"#DejaVuSans-108\"/>\n      <use x=\"431.511719\" xlink:href=\"#DejaVuSans-100\"/>\n     </g>\n    </g>\n   </g>\n   <g id=\"matplotlib.axis_2\">\n    <g id=\"ytick_1\">\n     <g id=\"line2d_11\">\n      <path clip-path=\"url(#pee4f0e0098)\" d=\"M 33.28375 234.159063 \nL 561.68375 234.159063 \n\" style=\"fill:none;stroke:#b0b0b0;stroke-linecap:square;stroke-width:0.8;\"/>\n     </g>\n     <g id=\"line2d_12\">\n      <defs>\n       <path d=\"M 0 0 \nL -3.5 0 \n\" id=\"m5d1126b440\" style=\"stroke:#000000;stroke-width:0.8;\"/>\n      </defs>\n      <g>\n       <use style=\"stroke:#000000;stroke-width:0.8;\" x=\"33.28375\" xlink:href=\"#m5d1126b440\" y=\"234.159063\"/>\n      </g>\n     </g>\n     <g id=\"text_7\">\n      <!-- 0.0 -->\n      <defs>\n       <path d=\"M 10.6875 12.40625 \nL 21 12.40625 \nL 21 0 \nL 10.6875 0 \nz\n\" id=\"DejaVuSans-46\"/>\n      </defs>\n      <g transform=\"translate(7.2 238.718125)scale(0.12 -0.12)\">\n       <use xlink:href=\"#DejaVuSans-48\"/>\n       <use x=\"63.623047\" xlink:href=\"#DejaVuSans-46\"/>\n       <use x=\"95.410156\" xlink:href=\"#DejaVuSans-48\"/>\n      </g>\n     </g>\n    </g>\n    <g id=\"ytick_2\">\n     <g id=\"line2d_13\">\n      <path clip-path=\"url(#pee4f0e0098)\" d=\"M 33.28375 189.679063 \nL 561.68375 189.679063 \n\" style=\"fill:none;stroke:#b0b0b0;stroke-linecap:square;stroke-width:0.8;\"/>\n     </g>\n     <g id=\"line2d_14\">\n      <g>\n       <use style=\"stroke:#000000;stroke-width:0.8;\" x=\"33.28375\" xlink:href=\"#m5d1126b440\" y=\"189.679063\"/>\n      </g>\n     </g>\n     <g id=\"text_8\">\n      <!-- 0.2 -->\n      <g transform=\"translate(7.2 194.238125)scale(0.12 -0.12)\">\n       <use xlink:href=\"#DejaVuSans-48\"/>\n       <use x=\"63.623047\" xlink:href=\"#DejaVuSans-46\"/>\n       <use x=\"95.410156\" xlink:href=\"#DejaVuSans-50\"/>\n      </g>\n     </g>\n    </g>\n    <g id=\"ytick_3\">\n     <g id=\"line2d_15\">\n      <path clip-path=\"url(#pee4f0e0098)\" d=\"M 33.28375 145.199062 \nL 561.68375 145.199062 \n\" style=\"fill:none;stroke:#b0b0b0;stroke-linecap:square;stroke-width:0.8;\"/>\n     </g>\n     <g id=\"line2d_16\">\n      <g>\n       <use style=\"stroke:#000000;stroke-width:0.8;\" x=\"33.28375\" xlink:href=\"#m5d1126b440\" y=\"145.199062\"/>\n      </g>\n     </g>\n     <g id=\"text_9\">\n      <!-- 0.4 -->\n      <g transform=\"translate(7.2 149.758125)scale(0.12 -0.12)\">\n       <use xlink:href=\"#DejaVuSans-48\"/>\n       <use x=\"63.623047\" xlink:href=\"#DejaVuSans-46\"/>\n       <use x=\"95.410156\" xlink:href=\"#DejaVuSans-52\"/>\n      </g>\n     </g>\n    </g>\n    <g id=\"ytick_4\">\n     <g id=\"line2d_17\">\n      <path clip-path=\"url(#pee4f0e0098)\" d=\"M 33.28375 100.719062 \nL 561.68375 100.719062 \n\" style=\"fill:none;stroke:#b0b0b0;stroke-linecap:square;stroke-width:0.8;\"/>\n     </g>\n     <g id=\"line2d_18\">\n      <g>\n       <use style=\"stroke:#000000;stroke-width:0.8;\" x=\"33.28375\" xlink:href=\"#m5d1126b440\" y=\"100.719062\"/>\n      </g>\n     </g>\n     <g id=\"text_10\">\n      <!-- 0.6 -->\n      <defs>\n       <path d=\"M 33.015625 40.375 \nQ 26.375 40.375 22.484375 35.828125 \nQ 18.609375 31.296875 18.609375 23.390625 \nQ 18.609375 15.53125 22.484375 10.953125 \nQ 26.375 6.390625 33.015625 6.390625 \nQ 39.65625 6.390625 43.53125 10.953125 \nQ 47.40625 15.53125 47.40625 23.390625 \nQ 47.40625 31.296875 43.53125 35.828125 \nQ 39.65625 40.375 33.015625 40.375 \nz\nM 52.59375 71.296875 \nL 52.59375 62.3125 \nQ 48.875 64.0625 45.09375 64.984375 \nQ 41.3125 65.921875 37.59375 65.921875 \nQ 27.828125 65.921875 22.671875 59.328125 \nQ 17.53125 52.734375 16.796875 39.40625 \nQ 19.671875 43.65625 24.015625 45.921875 \nQ 28.375 48.1875 33.59375 48.1875 \nQ 44.578125 48.1875 50.953125 41.515625 \nQ 57.328125 34.859375 57.328125 23.390625 \nQ 57.328125 12.15625 50.6875 5.359375 \nQ 44.046875 -1.421875 33.015625 -1.421875 \nQ 20.359375 -1.421875 13.671875 8.265625 \nQ 6.984375 17.96875 6.984375 36.375 \nQ 6.984375 53.65625 15.1875 63.9375 \nQ 23.390625 74.21875 37.203125 74.21875 \nQ 40.921875 74.21875 44.703125 73.484375 \nQ 48.484375 72.75 52.59375 71.296875 \nz\n\" id=\"DejaVuSans-54\"/>\n      </defs>\n      <g transform=\"translate(7.2 105.278125)scale(0.12 -0.12)\">\n       <use xlink:href=\"#DejaVuSans-48\"/>\n       <use x=\"63.623047\" xlink:href=\"#DejaVuSans-46\"/>\n       <use x=\"95.410156\" xlink:href=\"#DejaVuSans-54\"/>\n      </g>\n     </g>\n    </g>\n    <g id=\"ytick_5\">\n     <g id=\"line2d_19\">\n      <path clip-path=\"url(#pee4f0e0098)\" d=\"M 33.28375 56.239062 \nL 561.68375 56.239062 \n\" style=\"fill:none;stroke:#b0b0b0;stroke-linecap:square;stroke-width:0.8;\"/>\n     </g>\n     <g id=\"line2d_20\">\n      <g>\n       <use style=\"stroke:#000000;stroke-width:0.8;\" x=\"33.28375\" xlink:href=\"#m5d1126b440\" y=\"56.239062\"/>\n      </g>\n     </g>\n     <g id=\"text_11\">\n      <!-- 0.8 -->\n      <defs>\n       <path d=\"M 31.78125 34.625 \nQ 24.75 34.625 20.71875 30.859375 \nQ 16.703125 27.09375 16.703125 20.515625 \nQ 16.703125 13.921875 20.71875 10.15625 \nQ 24.75 6.390625 31.78125 6.390625 \nQ 38.8125 6.390625 42.859375 10.171875 \nQ 46.921875 13.96875 46.921875 20.515625 \nQ 46.921875 27.09375 42.890625 30.859375 \nQ 38.875 34.625 31.78125 34.625 \nz\nM 21.921875 38.8125 \nQ 15.578125 40.375 12.03125 44.71875 \nQ 8.5 49.078125 8.5 55.328125 \nQ 8.5 64.0625 14.71875 69.140625 \nQ 20.953125 74.21875 31.78125 74.21875 \nQ 42.671875 74.21875 48.875 69.140625 \nQ 55.078125 64.0625 55.078125 55.328125 \nQ 55.078125 49.078125 51.53125 44.71875 \nQ 48 40.375 41.703125 38.8125 \nQ 48.828125 37.15625 52.796875 32.3125 \nQ 56.78125 27.484375 56.78125 20.515625 \nQ 56.78125 9.90625 50.3125 4.234375 \nQ 43.84375 -1.421875 31.78125 -1.421875 \nQ 19.734375 -1.421875 13.25 4.234375 \nQ 6.78125 9.90625 6.78125 20.515625 \nQ 6.78125 27.484375 10.78125 32.3125 \nQ 14.796875 37.15625 21.921875 38.8125 \nz\nM 18.3125 54.390625 \nQ 18.3125 48.734375 21.84375 45.5625 \nQ 25.390625 42.390625 31.78125 42.390625 \nQ 38.140625 42.390625 41.71875 45.5625 \nQ 45.3125 48.734375 45.3125 54.390625 \nQ 45.3125 60.0625 41.71875 63.234375 \nQ 38.140625 66.40625 31.78125 66.40625 \nQ 25.390625 66.40625 21.84375 63.234375 \nQ 18.3125 60.0625 18.3125 54.390625 \nz\n\" id=\"DejaVuSans-56\"/>\n      </defs>\n      <g transform=\"translate(7.2 60.798125)scale(0.12 -0.12)\">\n       <use xlink:href=\"#DejaVuSans-48\"/>\n       <use x=\"63.623047\" xlink:href=\"#DejaVuSans-46\"/>\n       <use x=\"95.410156\" xlink:href=\"#DejaVuSans-56\"/>\n      </g>\n     </g>\n    </g>\n    <g id=\"ytick_6\">\n     <g id=\"line2d_21\">\n      <path clip-path=\"url(#pee4f0e0098)\" d=\"M 33.28375 11.759062 \nL 561.68375 11.759062 \n\" style=\"fill:none;stroke:#b0b0b0;stroke-linecap:square;stroke-width:0.8;\"/>\n     </g>\n     <g id=\"line2d_22\">\n      <g>\n       <use style=\"stroke:#000000;stroke-width:0.8;\" x=\"33.28375\" xlink:href=\"#m5d1126b440\" y=\"11.759062\"/>\n      </g>\n     </g>\n     <g id=\"text_12\">\n      <!-- 1.0 -->\n      <defs>\n       <path d=\"M 12.40625 8.296875 \nL 28.515625 8.296875 \nL 28.515625 63.921875 \nL 10.984375 60.40625 \nL 10.984375 69.390625 \nL 28.421875 72.90625 \nL 38.28125 72.90625 \nL 38.28125 8.296875 \nL 54.390625 8.296875 \nL 54.390625 0 \nL 12.40625 0 \nz\n\" id=\"DejaVuSans-49\"/>\n      </defs>\n      <g transform=\"translate(7.2 16.318125)scale(0.12 -0.12)\">\n       <use xlink:href=\"#DejaVuSans-49\"/>\n       <use x=\"63.623047\" xlink:href=\"#DejaVuSans-46\"/>\n       <use x=\"95.410156\" xlink:href=\"#DejaVuSans-48\"/>\n      </g>\n     </g>\n    </g>\n   </g>\n   <g id=\"line2d_23\">\n    <path clip-path=\"url(#pee4f0e0098)\" d=\"M 33.266383 213.343564 \nL 57.736374 213.047065 \nL 61.11191 212.999532 \nL 70.267586 212.833521 \nL 75.350025 212.736663 \nL 90.343064 212.405471 \nL 91.995094 212.365338 \nL 92.619866 212.355616 \nL 108.782381 211.86625 \nL 112.115661 211.769829 \nL 117.881463 211.58068 \nL 141.46952 210.438276 \nL 143.299322 210.333337 \nL 145.344539 210.197538 \nL 146.242078 210.131752 \nL 149.112395 209.928537 \nL 153.508989 209.588087 \nL 156.226432 209.364935 \nL 156.458537 209.342806 \nL 165.082732 208.54795 \nL 165.193412 208.534767 \nL 167.110026 208.325326 \nL 167.28627 208.304419 \nL 168.856318 208.128374 \nL 173.86083 207.561506 \nL 175.254946 207.373989 \nL 175.40908 207.353526 \nL 178.819207 206.905656 \nL 178.974714 206.879462 \nL 180.353585 206.65164 \nL 180.464847 206.639572 \nL 187.445348 205.550418 \nL 188.271051 205.413594 \nL 189.438982 205.18615 \nL 189.665533 205.138105 \nL 190.606871 204.946637 \nL 193.225295 204.419301 \nL 194.063255 204.238474 \nL 194.786506 204.083257 \nL 195.326251 203.980442 \nL 198.615515 203.219022 \nL 198.727634 203.189186 \nL 200.792061 202.661438 \nL 201.010153 202.606218 \nL 208.152592 200.569167 \nL 208.970341 200.303161 \nL 209.069418 200.280494 \nL 209.580118 200.141565 \nL 210.343309 199.919442 \nL 210.457916 199.896641 \nL 212.236253 199.262115 \nL 212.530853 199.164078 \nL 213.202625 198.935965 \nL 213.462046 198.831124 \nL 213.979717 198.632759 \nL 214.090337 198.586831 \nL 214.728159 198.354311 \nL 215.110194 198.194323 \nL 215.225634 198.139579 \nL 215.719665 197.953462 \nL 215.833947 197.896859 \nL 216.437051 197.657409 \nL 216.601696 197.587443 \nL 217.071609 197.385076 \nL 217.178077 197.343875 \nL 217.601034 197.159638 \nL 217.826215 197.077291 \nL 218.196424 196.944274 \nL 219.225466 196.522466 \nL 219.608187 196.34658 \nL 220.497023 195.924167 \nL 221.295145 195.545579 \nL 221.532644 195.408818 \nL 221.651815 195.340074 \nL 222.101658 195.125533 \nL 222.563068 194.928953 \nL 222.565096 194.935038 \nL 222.642285 194.886766 \nL 222.657367 194.885019 \nL 222.967162 194.732392 \nL 223.279192 194.539163 \nL 224.747817 193.727549 \nL 225.078927 193.542428 \nL 225.081688 193.548686 \nL 225.164985 193.491283 \nL 225.175746 193.487077 \nL 225.371998 193.340709 \nL 225.60695 193.201818 \nL 225.899392 193.018979 \nL 226.840674 192.419223 \nL 227.29891 192.122165 \nL 232.990012 188.310714 \nL 233.10681 188.20334 \nL 233.623123 187.772426 \nL 234.061599 187.445351 \nL 234.182037 187.350582 \nL 234.622136 186.999781 \nL 234.766002 186.855702 \nL 235.159488 186.562996 \nL 235.39758 186.402577 \nL 235.521949 186.289834 \nL 236.085667 185.875573 \nL 236.363526 185.629583 \nL 236.722626 185.324442 \nL 236.834767 185.196208 \nL 237.024147 185.026234 \nL 237.174036 184.893358 \nL 237.390948 184.723319 \nL 242.207357 179.80243 \nL 242.486421 179.494914 \nL 243.070717 178.835575 \nL 243.194502 178.709511 \nL 243.309471 178.535233 \nL 243.635094 178.183225 \nL 243.73597 178.04593 \nL 243.883666 177.891637 \nL 244.088283 177.65156 \nL 244.303588 177.384605 \nL 244.363812 177.348424 \nL 244.386333 177.315196 \nL 244.905035 176.658278 \nL 245.016894 176.555979 \nL 245.344051 176.145041 \nL 245.454475 176.003155 \nL 245.589465 175.795776 \nL 245.901476 175.439183 \nL 246.022195 175.26102 \nL 246.150029 175.075777 \nL 246.273532 174.922525 \nL 249.959545 169.6711 \nL 250.07408 169.482081 \nL 250.152196 169.32815 \nL 250.602883 168.664493 \nL 250.761599 168.415564 \nL 250.894606 168.188669 \nL 251.025738 167.993093 \nL 251.23392 167.670317 \nL 251.339925 167.448036 \nL 251.435422 167.293787 \nL 251.586116 167.072738 \nL 251.862811 166.653816 \nL 251.986519 166.499821 \nL 252.505754 165.706007 \nL 252.61512 165.474183 \nL 252.755108 165.225276 \nL 252.908217 164.93628 \nL 253.061527 164.687474 \nL 257.55361 156.370279 \nL 257.837054 155.795322 \nL 257.940092 155.563719 \nL 258.061507 155.281889 \nL 258.348817 154.796471 \nL 258.506669 154.546197 \nL 258.617971 154.285408 \nL 258.800182 153.902484 \nL 258.817975 153.911158 \nL 258.921853 153.723823 \nL 259.052082 153.414714 \nL 259.056258 153.419012 \nL 259.576686 152.23732 \nL 259.577746 152.247388 \nL 259.665211 152.017795 \nL 259.763307 151.852163 \nL 260.275601 150.880814 \nL 260.391823 150.636954 \nL 260.781891 149.835618 \nL 260.78622 149.839595 \nL 260.930942 149.477766 \nL 261.027234 149.311383 \nL 262.244086 146.573425 \nL 262.459101 146.020083 \nL 262.546547 145.828268 \nL 262.673633 145.442123 \nL 262.886715 144.821283 \nL 263.127733 144.187833 \nL 263.23272 143.922852 \nL 263.355732 143.645579 \nL 263.467803 143.446314 \nL 263.608685 143.220193 \nL 263.696021 143.062765 \nL 263.817885 142.698654 \nL 264.95073 139.98986 \nL 265.063237 139.749047 \nL 267.352544 134.070158 \nL 267.691089 133.093594 \nL 267.767838 132.896936 \nL 268.948908 130.009356 \nL 268.963494 130.032696 \nL 269.014553 129.907766 \nL 269.13047 129.627525 \nL 269.303859 129.276651 \nL 269.661533 128.275397 \nL 269.799475 127.73205 \nL 270.021568 127.194542 \nL 270.266086 126.440779 \nL 270.916205 124.676902 \nL 270.977593 124.482951 \nL 271.139081 124.016222 \nL 271.15003 124.03846 \nL 271.214411 123.907604 \nL 271.492162 123.192373 \nL 271.509821 123.203556 \nL 271.571123 123.059213 \nL 271.671414 122.724581 \nL 271.721538 122.57893 \nL 271.950046 121.980763 \nL 272.181065 121.306793 \nL 272.335572 120.902539 \nL 273.002387 119.263943 \nL 273.314297 118.309707 \nL 273.388672 118.102963 \nL 273.508252 117.822074 \nL 273.757642 117.041912 \nL 273.763593 117.053073 \nL 273.828276 116.902623 \nL 274.277247 115.609466 \nL 274.394157 115.350831 \nL 274.496767 115.089154 \nL 274.56685 114.895859 \nL 274.708714 114.453543 \nL 275.344005 112.702573 \nL 275.436944 112.639762 \nL 275.572082 112.257497 \nL 275.843595 111.728619 \nL 276.259827 110.670384 \nL 276.403802 110.209136 \nL 278.788969 104.28578 \nL 278.948553 103.870599 \nL 279.098129 103.542338 \nL 279.199847 103.281696 \nL 279.299498 103.081692 \nL 279.47205 102.60537 \nL 279.480756 102.616442 \nL 279.491947 102.627517 \nL 279.528596 102.526266 \nL 279.747225 102.0443 \nL 280.030044 101.449323 \nL 280.326078 100.840638 \nL 280.340425 100.851707 \nL 281.015276 99.446764 \nL 281.129814 99.252874 \nL 281.135068 99.263925 \nL 281.192946 99.137526 \nL 282.107502 97.473642 \nL 282.108229 97.484674 \nL 282.21135 97.235724 \nL 282.22025 97.246753 \nL 282.224579 97.257785 \nL 282.286848 97.131688 \nL 282.449301 96.657569 \nL 282.451274 96.668597 \nL 282.53701 96.447038 \nL 282.737521 96.059585 \nL 282.758075 96.070597 \nL 282.792552 95.973288 \nL 283.101878 95.228572 \nL 283.105109 95.239557 \nL 283.171212 95.096772 \nL 283.400365 94.747211 \nL 283.488802 94.566006 \nL 283.640825 94.316638 \nL 283.647262 94.327612 \nL 283.659867 94.360552 \nL 283.721028 94.148086 \nL 283.736457 94.159063 \nL 283.746896 94.084416 \nL 283.769499 94.058036 \nL 283.918468 93.855415 \nL 284.068073 93.625372 \nL 284.379121 92.7955 \nL 284.492395 92.546931 \nL 284.660542 92.258193 \nL 284.88765 91.831561 \nL 285.039 91.298692 \nL 285.042907 91.309597 \nL 285.089301 91.144016 \nL 285.728577 89.922166 \nL 285.733518 89.933034 \nL 285.769189 89.772426 \nL 286.241082 88.672526 \nL 286.249027 88.683372 \nL 286.264327 88.69422 \nL 286.28887 88.591577 \nL 286.654971 87.821634 \nL 286.705183 87.844939 \nL 286.666276 87.811637 \nL 286.746919 87.794063 \nL 287.825046 86.129623 \nL 287.912505 85.935622 \nL 288.051276 85.773263 \nL 288.348736 85.424781 \nL 288.370176 85.446399 \nL 288.409021 85.32616 \nL 288.426781 85.336968 \nL 288.548614 84.996327 \nL 288.63237 84.742278 \nL 289.095456 83.880726 \nL 289.22702 83.607274 \nL 289.23351 83.628783 \nL 289.480272 83.360687 \nL 289.589949 83.106942 \nL 289.59357 83.11771 \nL 289.600773 83.128481 \nL 289.656642 83.023875 \nL 289.770148 82.816603 \nL 289.91255 82.662357 \nL 289.91782 82.70544 \nL 290.003547 82.542693 \nL 290.110092 82.527318 \nL 290.112152 82.504218 \nL 290.752093 81.505402 \nL 290.762529 81.537663 \nL 290.774414 81.548423 \nL 290.82197 81.464988 \nL 290.829431 81.486509 \nL 291.384942 80.547577 \nL 291.44345 80.411766 \nL 291.490827 80.417363 \nL 291.671288 80.173705 \nL 291.799175 80.003791 \nL 291.803362 80.014548 \nL 291.844799 79.892964 \nL 291.85868 79.903714 \nL 292.061284 79.582426 \nL 292.137405 79.372334 \nL 292.195459 79.401459 \nL 292.206817 79.412209 \nL 292.244702 79.299883 \nL 292.434165 78.93352 \nL 292.570291 78.881226 \nL 292.573042 78.891969 \nL 292.578699 78.913465 \nL 292.659176 78.746585 \nL 292.673366 78.764648 \nL 292.77666 78.715126 \nL 293.346309 77.768195 \nL 293.392891 77.796542 \nL 293.396853 77.807324 \nL 293.428723 77.6392 \nL 293.444491 77.649972 \nL 293.669237 77.254675 \nL 293.778872 77.226827 \nL 293.783178 77.200986 \nL 293.875718 77.032618 \nL 293.878179 77.043395 \nL 294.029875 77.09941 \nL 294.035282 77.021426 \nL 294.151825 76.751827 \nL 294.158608 76.762614 \nL 294.357996 76.302886 \nL 294.625016 75.95162 \nL 294.627722 75.962382 \nL 294.630524 75.973147 \nL 294.649168 75.920082 \nL 294.722899 75.910036 \nL 295.64731 74.262642 \nL 295.657376 74.273348 \nL 295.698383 74.163725 \nL 295.831114 73.92554 \nL 295.849097 73.936229 \nL 296.810621 72.824561 \nL 296.90753 72.814636 \nL 296.91919 72.757974 \nL 297.050061 72.491973 \nL 297.067426 72.52409 \nL 297.1156 72.410042 \nL 297.214942 72.263207 \nL 297.135478 72.417179 \nL 297.227385 72.295373 \nL 297.235203 72.306103 \nL 297.293736 72.201993 \nL 297.404902 72.043456 \nL 297.412575 72.054174 \nL 297.548379 72.013854 \nL 297.694936 71.904725 \nL 297.765339 71.900474 \nL 297.711881 71.886491 \nL 297.77906 71.842452 \nL 298.050791 71.265549 \nL 298.061832 71.276244 \nL 298.087846 71.169748 \nL 298.174429 70.988201 \nL 298.200961 71.020257 \nL 298.459679 70.516892 \nL 298.483455 70.548895 \nL 298.492618 70.559571 \nL 298.524728 70.440654 \nL 298.550297 70.472662 \nL 298.67839 70.308853 \nL 298.681021 70.319529 \nL 298.750003 70.180676 \nL 298.880311 69.944636 \nL 298.90334 69.976612 \nL 298.916361 69.997948 \nL 298.997269 69.900718 \nL 298.998271 69.911394 \nL 299.022339 69.943446 \nL 299.029971 69.822677 \nL 299.241954 69.412238 \nL 299.256234 69.422885 \nL 299.330766 69.415276 \nL 299.342875 69.354327 \nL 299.488696 69.103336 \nL 299.599356 69.032641 \nL 299.746675 68.66559 \nL 299.776711 68.718704 \nL 299.796017 68.771918 \nL 299.838854 68.627899 \nL 300.019174 68.476283 \nL 300.036395 68.497593 \nL 300.12034 68.436947 \nL 300.206491 68.240936 \nL 300.232453 68.251603 \nL 300.417124 68.012684 \nL 300.479926 68.002508 \nL 300.486042 67.939438 \nL 300.645299 67.634415 \nL 300.51143 67.950552 \nL 300.647466 67.64506 \nL 300.728714 67.634835 \nL 300.735667 67.571276 \nL 300.91208 67.210001 \nL 301.003256 66.942303 \nL 301.030238 66.98476 \nL 301.054554 66.995384 \nL 301.065645 66.898851 \nL 301.139787 66.748309 \nL 301.157067 66.780119 \nL 301.212536 66.736755 \nL 301.214958 66.70444 \nL 301.3144 66.57445 \nL 301.701697 66.255287 \nL 301.724293 66.308371 \nL 301.738784 66.329634 \nL 301.770379 66.209316 \nL 301.992608 65.85636 \nL 302.015211 65.888163 \nL 302.274974 65.515969 \nL 302.276408 65.526578 \nL 302.321886 65.437277 \nL 302.357639 65.44637 \nL 302.478487 65.209152 \nL 302.489709 65.219753 \nL 302.590792 65.218054 \nL 302.666669 65.172173 \nL 302.668595 65.138598 \nL 302.802528 64.764248 \nL 302.827778 64.774822 \nL 302.903282 64.770691 \nL 302.914275 64.73684 \nL 303.301107 63.945815 \nL 303.310446 63.97745 \nL 303.347378 63.998561 \nL 303.376225 63.871406 \nL 303.503843 63.714086 \nL 303.509671 63.735184 \nL 303.511771 63.74574 \nL 303.571851 63.51366 \nL 303.674662 63.462078 \nL 303.71042 63.483155 \nL 303.801415 63.434623 \nL 303.902076 63.25024 \nL 303.82716 63.44197 \nL 303.915875 63.27133 \nL 304.040008 63.254058 \nL 304.052518 63.219001 \nL 304.190833 63.10676 \nL 304.195642 63.117319 \nL 304.488335 63.135258 \nL 304.628004 62.989915 \nL 304.645608 63.032439 \nL 304.681047 62.92584 \nL 305.114553 62.499004 \nL 305.123446 62.541482 \nL 305.135182 62.562748 \nL 305.177897 62.42953 \nL 305.205631 62.440153 \nL 305.230492 62.332085 \nL 305.347134 62.23017 \nL 305.372552 62.25139 \nL 305.534985 62.270408 \nL 305.539449 62.234152 \nL 305.697868 62.037533 \nL 305.746737 62.043665 \nL 305.755407 61.970827 \nL 305.961937 61.768396 \nL 306.147872 61.544451 \nL 306.154384 61.555057 \nL 306.165666 61.407847 \nL 306.318304 61.265749 \nL 306.760972 60.840442 \nL 306.772746 60.851022 \nL 306.804976 60.738873 \nL 306.813895 60.74944 \nL 307.143213 60.150984 \nL 307.247772 59.982812 \nL 307.270687 60.003797 \nL 307.441885 59.980461 \nL 307.641615 59.545074 \nL 307.663591 59.555554 \nL 307.670952 59.440607 \nL 307.677521 59.451073 \nL 307.802012 59.17827 \nL 307.812976 59.188717 \nL 307.828567 59.083429 \nL 307.842129 59.093866 \nL 307.95214 58.91396 \nL 308.13003 58.901945 \nL 308.134541 58.863077 \nL 308.143489 58.785288 \nL 308.23347 58.879383 \nL 308.37717 58.739388 \nL 308.413299 58.770848 \nL 308.478036 58.823375 \nL 308.509817 58.716253 \nL 308.627582 58.732336 \nL 308.63605 58.692994 \nL 308.840947 58.334716 \nL 308.954091 58.140605 \nL 308.962711 58.151099 \nL 309.451549 57.75185 \nL 309.532388 57.439575 \nL 309.562472 57.450026 \nL 309.669159 57.463283 \nL 309.688644 57.443708 \nL 309.732948 57.353363 \nL 309.751911 57.363844 \nL 309.833198 57.303471 \nL 310.01294 57.162523 \nL 310.028945 57.193966 \nL 310.210624 57.25816 \nL 310.22613 57.176242 \nL 310.337524 57.074222 \nL 310.341568 57.084729 \nL 310.385901 56.941324 \nL 310.406195 56.962315 \nL 310.510544 56.767353 \nL 310.571601 56.809319 \nL 310.649486 56.758082 \nL 310.712057 56.71723 \nL 310.973349 56.395682 \nL 311.182276 55.850637 \nL 311.472919 55.57471 \nL 311.515989 55.553131 \nL 311.518527 55.510747 \nL 311.693332 55.137391 \nL 311.828841 55.177487 \nL 311.848334 55.092014 \nL 311.945362 54.919244 \nL 311.959097 54.93991 \nL 312.284109 54.643608 \nL 312.862204 53.689599 \nL 312.870979 53.699829 \nL 313.110025 53.216997 \nL 313.266852 52.980695 \nL 313.293334 53.021267 \nL 313.419753 53.003156 \nL 313.562057 52.581059 \nL 313.5635 52.591174 \nL 313.739338 52.557273 \nL 313.860632 52.296114 \nL 314.05113 51.942446 \nL 314.055092 51.952504 \nL 314.153631 51.871287 \nL 314.219308 51.810028 \nL 314.269477 51.840187 \nL 314.335153 51.82459 \nL 314.307504 51.804467 \nL 314.358412 51.788826 \nL 315.03604 50.923133 \nL 315.041419 50.933073 \nL 315.103968 50.972884 \nL 315.136411 50.889701 \nL 315.178922 50.796458 \nL 315.241355 50.816329 \nL 315.295604 50.846174 \nL 315.297242 50.752742 \nL 315.454139 50.691851 \nL 315.508953 50.674795 \nL 315.51342 50.637793 \nL 315.775355 50.387634 \nL 315.776067 50.397562 \nL 316.337445 49.96698 \nL 316.342132 49.976868 \nL 316.598627 49.683263 \nL 316.602397 49.693124 \nL 316.800038 49.666177 \nL 316.808973 49.618082 \nL 316.896349 49.667494 \nL 316.92991 49.600777 \nL 316.969511 49.630472 \nL 317.105439 49.351083 \nL 317.13099 49.380707 \nL 317.149258 49.342032 \nL 317.214145 49.323072 \nL 317.301125 49.226397 \nL 317.327281 49.246164 \nL 317.403376 49.24683 \nL 317.415147 49.197963 \nL 317.419985 49.100152 \nL 317.530427 49.11048 \nL 317.937125 48.835616 \nL 317.947188 48.855406 \nL 317.971257 48.865309 \nL 317.995948 48.786107 \nL 318.100696 48.607457 \nL 318.256466 48.547481 \nL 318.417787 48.37698 \nL 318.709546 48.394605 \nL 318.922662 48.04093 \nL 318.92497 48.050781 \nL 319.308259 47.425839 \nL 319.397901 47.484501 \nL 319.412341 47.494297 \nL 319.441875 47.391875 \nL 319.587516 47.318623 \nL 319.592362 47.328395 \nL 319.749719 47.384759 \nL 319.771966 47.333249 \nL 319.868081 47.311133 \nL 320.433876 46.943437 \nL 320.499487 46.963083 \nL 320.67918 46.907594 \nL 320.725077 46.966684 \nL 320.769194 46.87157 \nL 320.886471 46.6576 \nL 320.924353 46.677239 \nL 321.052585 46.713013 \nL 321.058989 46.660107 \nL 321.197971 46.55035 \nL 321.199724 46.560194 \nL 321.327705 46.513005 \nL 321.416587 46.305407 \nL 321.43931 46.334917 \nL 321.610884 45.974447 \nL 321.746463 45.95975 \nL 321.919008 45.792712 \nL 321.937022 45.802486 \nL 321.961148 45.694235 \nL 322.011201 45.723515 \nL 322.03029 45.624808 \nL 322.587819 44.925109 \nL 322.6816 44.798387 \nL 322.70588 44.827284 \nL 322.84665 44.885231 \nL 322.865348 44.829936 \nL 323.012056 44.813246 \nL 323.061997 44.777159 \nL 323.138414 44.80619 \nL 323.364067 44.520721 \nL 323.542497 44.515143 \nL 323.949394 44.050404 \nL 323.970301 44.069631 \nL 324.133362 44.014031 \nL 324.238883 43.815522 \nL 324.774021 43.271328 \nL 324.860326 43.098161 \nL 324.967625 42.962456 \nL 325.138997 42.980211 \nL 325.252785 42.755342 \nL 325.344035 42.540364 \nL 325.394531 42.559185 \nL 325.577847 42.536111 \nL 325.677088 42.319407 \nL 325.828486 42.316795 \nL 325.829292 42.257676 \nL 325.8889 42.117555 \nL 325.911926 42.136318 \nL 325.986149 42.095716 \nL 326.143031 41.863502 \nL 326.155051 41.872851 \nL 326.164488 41.882206 \nL 326.216684 41.781333 \nL 326.278311 41.670893 \nL 326.478866 41.616072 \nL 326.866685 41.053498 \nL 326.881403 41.06271 \nL 326.919673 41.081152 \nL 326.925662 41.020378 \nL 327.084833 40.963103 \nL 327.089151 40.972324 \nL 327.185169 40.966657 \nL 327.190537 40.914731 \nL 327.290474 40.749357 \nL 327.321968 40.767758 \nL 327.457317 40.841595 \nL 327.468409 40.718502 \nL 327.605837 40.632045 \nL 327.687681 40.588692 \nL 328.479411 39.766055 \nL 328.606407 39.739348 \nL 328.6385 39.622224 \nL 328.705077 39.676591 \nL 328.978599 39.622554 \nL 329.100335 39.513653 \nL 329.110389 39.522723 \nL 329.156905 39.540881 \nL 329.188007 39.422565 \nL 329.313431 39.376887 \nL 329.315877 39.385939 \nL 329.339664 39.322079 \nL 329.505837 39.294301 \nL 329.66333 39.275482 \nL 329.794623 39.183263 \nL 330.072195 39.135899 \nL 330.195304 38.904402 \nL 330.205811 38.922421 \nL 330.691209 38.975068 \nL 330.895507 38.590162 \nL 331.174902 38.605599 \nL 331.506223 38.290729 \nL 331.7783 38.260349 \nL 331.868332 38.079035 \nL 331.918978 38.114784 \nL 332.250959 37.870189 \nL 332.270425 37.896951 \nL 332.589158 37.887816 \nL 332.595465 37.820368 \nL 332.631126 37.838292 \nL 332.883501 37.765823 \nL 332.998683 37.657058 \nL 333.00432 37.674968 \nL 333.091329 37.70188 \nL 333.100467 37.633855 \nL 333.135787 37.456217 \nL 333.181673 37.465137 \nL 333.370361 37.441428 \nL 333.599553 37.160669 \nL 333.606337 37.178426 \nL 333.772524 37.118419 \nL 333.883669 37.015845 \nL 333.898492 37.024701 \nL 334.108001 36.861172 \nL 334.313667 36.844716 \nL 334.358363 36.671006 \nL 334.412765 36.697442 \nL 334.499432 36.662819 \nL 334.503749 36.592809 \nL 334.596721 36.636903 \nL 334.930676 36.69073 \nL 334.930676 36.620205 \nL 335.11587 36.443631 \nL 335.208009 36.40813 \nL 335.586894 35.925994 \nL 335.595469 35.934722 \nL 335.711302 35.995992 \nL 335.730797 35.92422 \nL 335.815213 35.760807 \nL 336.056702 35.6774 \nL 336.160683 35.422097 \nL 336.227207 35.491516 \nL 336.487628 35.479548 \nL 336.599576 35.221401 \nL 336.625796 35.230059 \nL 336.711039 35.173913 \nL 336.776157 34.961726 \nL 336.809197 34.970313 \nL 337.00929 34.865556 \nL 337.026924 34.882716 \nL 337.248968 34.825828 \nL 337.981618 34.835153 \nL 338.21506 34.49403 \nL 338.217481 34.511195 \nL 338.3929 34.46152 \nL 338.473946 34.234763 \nL 338.521889 34.268843 \nL 338.920347 33.855142 \nL 339.080384 33.812457 \nL 339.623444 33.391973 \nL 339.960688 33.356288 \nL 340.049937 33.226244 \nL 340.055196 33.234536 \nL 340.216352 33.198319 \nL 340.400271 33.067364 \nL 340.414994 33.083907 \nL 340.773135 33.055442 \nL 340.806324 32.906997 \nL 340.894882 32.923493 \nL 341.080622 32.973136 \nL 341.087835 32.894456 \nL 341.206003 32.753344 \nL 341.617793 32.726952 \nL 341.624873 32.64746 \nL 341.700512 32.66396 \nL 342.151194 32.636708 \nL 342.182952 32.47626 \nL 342.220616 32.492768 \nL 342.891871 32.293788 \nL 342.988625 32.245627 \nL 342.996318 32.164374 \nL 343.095071 32.18081 \nL 343.184809 32.124048 \nL 343.185752 32.042517 \nL 343.194188 32.050706 \nL 343.344662 32.083527 \nL 343.346536 32.001781 \nL 343.459692 31.846223 \nL 343.690134 31.845637 \nL 343.704038 31.763295 \nL 343.791944 31.78775 \nL 344.09456 31.471168 \nL 344.098852 31.47926 \nL 344.109625 31.396023 \nL 344.19031 31.428334 \nL 344.308109 31.369116 \nL 344.328653 31.285526 \nL 344.603296 31.250092 \nL 344.741932 30.998135 \nL 344.767723 31.006102 \nL 344.912106 31.046033 \nL 344.925118 30.885278 \nL 345.017429 30.909146 \nL 345.124237 30.739912 \nL 345.152648 30.755729 \nL 345.268205 30.795388 \nL 345.351836 30.680772 \nL 345.391726 30.704593 \nL 345.447137 30.720507 \nL 345.815583 30.636765 \nL 346.465659 30.638519 \nL 346.469535 30.552099 \nL 346.548818 30.576069 \nL 346.709547 30.521397 \nL 346.86677 30.37153 \nL 347.068402 30.316187 \nL 347.218871 29.997963 \nL 347.237727 30.013639 \nL 347.533453 29.773367 \nL 347.669374 29.71623 \nL 347.987918 29.283834 \nL 348.001162 29.291467 \nL 348.210162 29.217414 \nL 348.518544 29.211759 \nL 348.922909 28.836556 \nL 348.92456 28.844096 \nL 348.930283 28.851642 \nL 348.998751 28.760918 \nL 349.080243 28.783487 \nL 349.093756 28.692573 \nL 349.200854 28.631467 \nL 349.304427 28.463774 \nL 349.50739 28.439062 \nL 349.54322 28.347182 \nL 349.550814 28.354594 \nL 349.88779 28.32926 \nL 349.995607 28.066395 \nL 350.848494 28.13579 \nL 350.963363 27.977841 \nL 351.123419 27.913288 \nL 351.552055 27.315804 \nL 352.330069 27.304263 \nL 352.469781 27.118465 \nL 352.488173 27.125636 \nL 352.635895 27.154385 \nL 352.639955 27.057518 \nL 352.640022 26.960561 \nL 352.74123 26.967681 \nL 353.063262 27.046445 \nL 353.098089 26.948888 \nL 353.111738 26.963211 \nL 353.477532 26.908353 \nL 353.630024 26.838816 \nL 353.635478 26.84597 \nL 353.772279 26.903443 \nL 354.128427 26.855047 \nL 354.176899 26.65667 \nL 354.242734 26.685237 \nL 354.266134 26.592844 \nL 354.303419 26.599965 \nL 354.305856 26.500273 \nL 354.345008 26.507357 \nL 354.573511 26.435748 \nL 354.589101 26.335641 \nL 354.627796 26.356746 \nL 355.12955 26.347984 \nL 355.356643 26.145833 \nL 355.461619 26.173877 \nL 355.566505 26.086442 \nL 355.990924 26.068689 \nL 356.215148 25.686479 \nL 356.266289 25.714003 \nL 356.472981 25.645286 \nL 356.706533 25.569296 \nL 356.734512 25.465623 \nL 357.214963 25.568577 \nL 357.218791 25.464073 \nL 357.315827 25.366284 \nL 357.743804 25.322772 \nL 357.791398 25.112039 \nL 357.848701 25.132281 \nL 357.951446 25.14581 \nL 357.952865 25.040034 \nL 358.000764 24.934151 \nL 358.887538 25.068935 \nL 358.977846 25.103062 \nL 359.149487 25.016205 \nL 359.332512 25.091569 \nL 359.420731 24.990309 \nL 359.441544 25.004013 \nL 359.512443 25.017746 \nL 359.988911 24.656868 \nL 360.838868 24.70983 \nL 360.899322 24.508107 \nL 360.930395 24.514878 \nL 361.110474 24.548839 \nL 361.114294 24.437166 \nL 361.258355 24.338785 \nL 361.261706 24.345501 \nL 361.538807 24.399491 \nL 361.648944 24.061533 \nL 361.892508 23.981476 \nL 361.898828 23.868173 \nL 361.968472 23.887788 \nL 362.368216 23.8198 \nL 362.370733 23.705671 \nL 362.480463 23.73817 \nL 362.525966 23.757755 \nL 362.691615 23.547478 \nL 363.574579 23.580989 \nL 363.57851 23.464326 \nL 363.656774 23.490323 \nL 364.017358 23.418627 \nL 364.607807 23.398455 \nL 364.706811 23.292772 \nL 364.709245 23.299277 \nL 365.119758 23.005426 \nL 365.186285 23.018221 \nL 365.245425 22.777741 \nL 365.253713 22.790305 \nL 366.429438 22.846831 \nL 366.447821 22.601547 \nL 366.551544 22.614147 \nL 366.57435 22.368021 \nL 366.61881 22.386568 \nL 367.190316 22.362005 \nL 367.223395 22.237272 \nL 367.254926 22.249629 \nL 367.474804 22.161431 \nL 367.834067 21.934226 \nL 368.618059 21.935101 \nL 368.706876 21.703232 \nL 368.993297 21.74547 \nL 369.033786 21.6165 \nL 369.086367 21.634488 \nL 369.311348 21.652542 \nL 369.559521 21.534887 \nL 370.476364 21.615742 \nL 370.488812 21.482985 \nL 370.559661 21.495148 \nL 370.682551 21.513448 \nL 370.786421 21.386164 \nL 370.862952 21.404317 \nL 370.887184 21.270509 \nL 370.992204 21.300514 \nL 372.08865 21.478343 \nL 372.256249 21.515966 \nL 372.673615 21.391125 \nL 373.472897 21.517281 \nL 373.570005 21.384243 \nL 373.731876 21.250855 \nL 373.956504 21.27585 \nL 374.093269 21.025729 \nL 374.109482 21.038003 \nL 374.486118 21.156246 \nL 374.501229 21.013291 \nL 374.501241 20.870144 \nL 374.554473 20.882398 \nL 374.75026 20.907006 \nL 374.786071 20.619022 \nL 375.641637 20.630589 \nL 375.648103 20.483632 \nL 375.721906 20.501683 \nL 375.861492 20.531934 \nL 376.108287 20.110662 \nL 376.115173 20.116474 \nL 377.762856 20.2208 \nL 377.814284 19.913196 \nL 377.883916 19.919062 \nL 378.327978 19.972241 \nL 378.331623 19.817034 \nL 378.393279 19.828729 \nL 378.794684 19.887717 \nL 378.969469 19.754367 \nL 379.721324 19.849337 \nL 379.752915 19.690117 \nL 379.764919 19.70192 \nL 380.169259 19.743505 \nL 380.190835 19.583015 \nL 380.713813 19.636078 \nL 380.719353 19.474296 \nL 380.827955 19.485951 \nL 380.83588 19.323688 \nL 380.938441 19.346629 \nL 381.087252 19.381302 \nL 382.25389 19.350684 \nL 382.333456 19.016871 \nL 382.360754 19.028168 \nL 382.768003 19.09669 \nL 382.789456 18.769307 \nL 382.829957 18.785919 \nL 383.234249 18.824988 \nL 383.305153 18.493086 \nL 383.336107 18.503835 \nL 383.548988 18.514618 \nL 383.594774 18.174447 \nL 384.087772 18.257764 \nL 384.228067 18.102991 \nL 385.373676 18.289264 \nL 385.389989 18.108013 \nL 385.465638 18.118692 \nL 385.727427 18.161772 \nL 385.785146 17.978724 \nL 386.791344 18.118855 \nL 386.926911 18.135431 \nL 387.570566 18.219626 \nL 387.57772 18.029371 \nL 387.61333 18.045988 \nL 388.653279 18.153312 \nL 388.880594 17.786163 \nL 389.002358 17.797072 \nL 389.185506 17.606388 \nL 389.24797 17.61701 \nL 389.253599 17.420153 \nL 390.433367 17.546423 \nL 390.467546 17.344923 \nL 390.529619 17.360555 \nL 391.746101 17.532909 \nL 391.768553 17.324414 \nL 391.771795 17.329775 \nL 392.992384 17.444805 \nL 393.04778 17.017782 \nL 393.072788 17.033371 \nL 394.208817 17.150578 \nL 394.355806 16.716307 \nL 395.030375 16.797991 \nL 395.233506 16.583856 \nL 397.066862 16.830072 \nL 397.079604 16.593845 \nL 397.122921 16.604378 \nL 397.485081 16.620265 \nL 397.521107 16.382257 \nL 397.547382 16.387321 \nL 399.042951 16.533752 \nL 399.163347 16.055426 \nL 399.173771 16.060314 \nL 400.215254 16.140059 \nL 401.347025 16.222817 \nL 401.525016 15.970187 \nL 402.777953 16.119847 \nL 404.433684 16.374367 \nL 404.571757 16.09153 \nL 406.087352 16.242933 \nL 406.323598 16.267171 \nL 406.516578 15.983757 \nL 406.960906 16.024268 \nL 407.170077 16.053683 \nL 407.325381 15.769049 \nL 411.382971 16.113279 \nL 411.72234 16.152983 \nL 414.333941 16.43738 \nL 415.313321 16.56172 \nL 415.529732 16.199662 \nL 417.430886 16.40854 \nL 417.640961 16.449396 \nL 417.854325 16.081324 \nL 419.530407 16.264403 \nL 419.924539 16.323242 \nL 419.968635 15.916072 \nL 420.748713 16.06914 \nL 420.888951 16.102812 \nL 421.935443 16.261087 \nL 423.333887 16.460965 \nL 423.345359 16.480931 \nL 424.188759 16.625583 \nL 425.872116 16.85998 \nL 425.875283 16.360442 \nL 425.983433 16.371044 \nL 426.155319 16.413946 \nL 426.303562 16.435698 \nL 426.349044 15.925807 \nL 426.434193 15.965209 \nL 426.87522 16.005363 \nL 426.896094 15.483464 \nL 426.919108 15.492396 \nL 427.964903 15.603013 \nL 428.047715 15.062033 \nL 428.08714 15.078465 \nL 430.283932 15.216057 \nL 432.738749 15.486437 \nL 432.771889 14.873908 \nL 434.408046 15.068586 \nL 437.346842 15.554284 \nL 437.446903 14.805638 \nL 437.456172 14.816107 \nL 439.656767 15.017671 \nL 441.314842 15.207125 \nL 445.31779 15.577088 \nL 445.331706 15.593545 \nL 445.686731 15.626889 \nL 445.745756 14.6726 \nL 446.908176 14.833717 \nL 446.931716 14.847951 \nL 447.141512 13.8279 \nL 462.943399 15.053877 \nL 465.16281 15.234062 \nL 465.69365 15.261425 \nL 466.17842 13.524142 \nL 470.497383 13.727204 \nL 474.549358 14.005527 \nL 479.018235 14.286335 \nL 479.943756 14.471258 \nL 481.391511 14.764468 \nL 483.31635 14.891457 \nL 483.322451 14.936205 \nL 486.387222 15.180601 \nL 486.488713 15.234062 \nL 491.953745 15.730491 \nL 492.937916 15.955289 \nL 492.943676 16.035986 \nL 495.206596 16.207062 \nL 495.249278 16.297838 \nL 496.111472 16.593845 \nL 497.494019 16.813608 \nL 498.448098 17.319062 \nL 499.378067 17.461627 \nL 499.40817 17.611694 \nL 499.714571 17.769873 \nL 500.431745 17.93684 \nL 500.468676 18.113348 \nL 501.499086 18.498456 \nL 501.526173 18.709062 \nL 501.82721 18.933256 \nL 502.73802 19.172396 \nL 503.061138 19.428028 \nL 503.935658 11.759062 \nL 569.88375 11.759062 \nL 569.88375 11.759062 \n\" style=\"fill:none;stroke:#0000ff;stroke-dasharray:7.4,3.2;stroke-dashoffset:0;stroke-width:2;\"/>\n   </g>\n   <g id=\"line2d_24\">\n    <path clip-path=\"url(#pee4f0e0098)\" d=\"M 33.266383 12.169319 \nL 67.730461 12.25137 \nL 67.905478 12.292396 \nL 91.995094 12.374447 \nL 92.142726 12.415473 \nL 110.480893 12.497524 \nL 110.645527 12.53855 \nL 113.985662 12.620601 \nL 114.098677 12.661627 \nL 119.7823 12.743678 \nL 119.911043 12.784704 \nL 124.821019 12.866755 \nL 124.920487 12.90778 \nL 131.368411 12.989832 \nL 131.479491 13.030857 \nL 137.898816 13.112909 \nL 138.003258 13.153934 \nL 140.625224 13.235986 \nL 140.733946 13.277011 \nL 145.103684 13.359062 \nL 145.22359 13.400088 \nL 148.040879 13.482139 \nL 148.161193 13.523165 \nL 156.605583 13.605216 \nL 156.714022 13.646242 \nL 159.417042 13.728293 \nL 159.531724 13.769319 \nL 169.507099 13.85137 \nL 169.619579 13.892396 \nL 172.251002 13.974447 \nL 172.337018 14.015473 \nL 176.138016 14.097524 \nL 176.252363 14.13855 \nL 177.68588 14.220601 \nL 177.796769 14.261627 \nL 182.409171 14.343678 \nL 182.542431 14.384704 \nL 185.248136 14.466755 \nL 185.358615 14.50778 \nL 186.967577 14.589832 \nL 187.08624 14.630857 \nL 191.730241 14.712909 \nL 191.841075 14.79496 \nL 193.362362 14.877011 \nL 193.475884 14.918037 \nL 199.305011 15.000088 \nL 199.408611 15.041114 \nL 203.850894 15.123165 \nL 203.955422 15.164191 \nL 206.512945 15.246242 \nL 206.631561 15.287268 \nL 208.925614 15.369319 \nL 209.034183 15.45137 \nL 209.694725 15.533421 \nL 209.807916 15.615473 \nL 210.36994 15.697524 \nL 210.484094 15.779575 \nL 213.408712 15.861627 \nL 213.51781 15.902652 \nL 218.515552 15.984704 \nL 218.626201 16.025729 \nL 219.645297 16.10778 \nL 219.766319 16.148806 \nL 222.214364 16.230857 \nL 222.324049 16.271883 \nL 222.642285 16.353934 \nL 222.764816 16.435986 \nL 225.078927 16.518037 \nL 225.191004 16.559062 \nL 230.526993 16.641114 \nL 230.639842 16.682139 \nL 231.116403 16.764191 \nL 231.227073 16.805216 \nL 232.119199 16.887268 \nL 232.230481 16.928293 \nL 233.850692 17.010345 \nL 233.960713 17.092396 \nL 235.138411 17.174447 \nL 235.250517 17.215473 \nL 236.353934 17.297524 \nL 236.46461 17.379575 \nL 237.147993 17.461627 \nL 237.25658 17.502652 \nL 238.610746 17.584704 \nL 238.726272 17.666755 \nL 238.88425 17.748806 \nL 238.994729 17.789832 \nL 239.905477 17.871883 \nL 240.011838 17.912909 \nL 240.178731 17.99496 \nL 240.310152 18.077011 \nL 241.425505 18.159062 \nL 241.534856 18.200088 \nL 241.875562 18.282139 \nL 241.992775 18.364191 \nL 242.086057 18.446242 \nL 242.195641 18.487268 \nL 242.653792 18.569319 \nL 242.76708 18.65137 \nL 243.490025 18.733421 \nL 243.603067 18.774447 \nL 243.904027 18.856498 \nL 244.020404 18.897524 \nL 244.303588 18.979575 \nL 244.432913 19.061627 \nL 245.034504 19.143678 \nL 245.144276 19.184704 \nL 245.679964 19.266755 \nL 245.791803 19.30778 \nL 246.619736 19.389832 \nL 246.731105 19.512909 \nL 248.012754 19.59496 \nL 248.129047 19.718037 \nL 248.790331 19.800088 \nL 248.90033 19.882139 \nL 248.9749 19.964191 \nL 249.090162 20.046242 \nL 249.405578 20.128293 \nL 249.517462 20.169319 \nL 250.101556 20.25137 \nL 250.213229 20.292396 \nL 250.826411 20.374447 \nL 250.938412 20.497524 \nL 251.169611 20.579575 \nL 251.284093 20.661627 \nL 251.400081 20.743678 \nL 251.502081 20.784704 \nL 252.450315 20.866755 \nL 252.566417 20.90778 \nL 253.377463 20.989832 \nL 253.490472 21.112909 \nL 253.843223 21.19496 \nL 253.950526 21.235986 \nL 254.348901 21.318037 \nL 254.459241 21.359062 \nL 254.718905 21.441114 \nL 254.826643 21.482139 \nL 255.283645 21.564191 \nL 255.392032 21.687268 \nL 255.725264 21.769319 \nL 255.862941 21.85137 \nL 256.402689 21.933421 \nL 256.514931 22.015473 \nL 256.824347 22.097524 \nL 256.944032 22.13855 \nL 257.301149 22.220601 \nL 257.413338 22.261627 \nL 257.673231 22.343678 \nL 257.782815 22.384704 \nL 258.111423 22.466755 \nL 258.21899 22.589832 \nL 258.430713 22.671883 \nL 258.543564 22.753934 \nL 258.800182 22.835986 \nL 258.920756 22.959062 \nL 259.052082 23.041114 \nL 259.159709 23.123165 \nL 259.414664 23.205216 \nL 259.529809 23.287268 \nL 259.899705 23.369319 \nL 260.019943 23.533421 \nL 260.210507 23.615473 \nL 260.32282 23.697524 \nL 260.510378 23.779575 \nL 260.618429 23.820601 \nL 260.782626 23.902652 \nL 260.903471 24.025729 \nL 261.237034 24.10778 \nL 261.355829 24.189832 \nL 261.620455 24.271883 \nL 261.733057 24.312909 \nL 262.085449 24.39496 \nL 262.207227 24.477011 \nL 262.814799 24.559062 \nL 262.926653 24.641114 \nL 263.310604 24.723165 \nL 263.42256 24.764191 \nL 263.551774 24.846242 \nL 263.668367 24.928293 \nL 263.988539 25.010345 \nL 264.101294 25.05137 \nL 264.242491 25.133421 \nL 264.363702 25.215473 \nL 264.505017 25.297524 \nL 264.635481 25.379575 \nL 264.997332 25.461627 \nL 265.10806 25.502652 \nL 265.243443 25.584704 \nL 265.360846 25.70778 \nL 265.582985 25.789832 \nL 265.692589 25.871883 \nL 266.120166 25.953934 \nL 266.268999 26.035986 \nL 266.44757 26.118037 \nL 266.560298 26.282139 \nL 266.725553 26.364191 \nL 266.81892 26.405216 \nL 267.068803 26.487268 \nL 267.174611 26.569319 \nL 267.375281 26.65137 \nL 267.48431 26.733421 \nL 267.822479 26.815473 \nL 267.935862 26.979575 \nL 268.174886 27.061627 \nL 268.284949 27.102652 \nL 268.40269 27.184704 \nL 268.510309 27.225729 \nL 268.600658 27.30778 \nL 268.752345 27.512909 \nL 268.793041 27.59496 \nL 268.893733 27.677011 \nL 268.922982 27.759062 \nL 269.036562 28.005216 \nL 269.293316 28.087268 \nL 269.40346 28.128293 \nL 269.604697 28.210345 \nL 269.724425 28.292396 \nL 269.822795 28.374447 \nL 269.940109 28.497524 \nL 270.427495 28.579575 \nL 270.551879 28.784704 \nL 270.85991 28.866755 \nL 270.971736 28.90778 \nL 271.081146 28.989832 \nL 271.169951 29.071883 \nL 271.279272 29.153934 \nL 271.427754 29.235986 \nL 271.557027 29.359062 \nL 271.83121 29.441114 \nL 271.945597 29.523165 \nL 272.210201 29.605216 \nL 272.322048 29.687268 \nL 272.614846 29.769319 \nL 272.738479 29.892396 \nL 272.890949 29.974447 \nL 273.010387 30.056498 \nL 273.201508 30.13855 \nL 273.314297 30.220601 \nL 273.735612 30.302652 \nL 273.84246 30.425729 \nL 274.077541 30.50778 \nL 274.186828 30.589832 \nL 274.323551 30.671883 \nL 274.443536 30.79496 \nL 274.620377 30.877011 \nL 274.753863 30.959062 \nL 274.958734 31.041114 \nL 275.066036 31.164191 \nL 275.181641 31.246242 \nL 275.300445 31.328293 \nL 275.383303 31.410345 \nL 275.508322 31.533421 \nL 275.606407 31.615473 \nL 275.823858 31.779575 \nL 275.919273 31.861627 \nL 276.039953 31.984704 \nL 276.196623 32.066755 \nL 276.330838 32.148806 \nL 276.55693 32.230857 \nL 276.671927 32.312909 \nL 276.721243 32.39496 \nL 276.826901 32.435986 \nL 277.008572 32.518037 \nL 277.116481 32.641114 \nL 277.264643 32.723165 \nL 277.398403 32.928293 \nL 277.573961 33.010345 \nL 277.823518 33.379575 \nL 277.974998 33.461627 \nL 278.094829 33.543678 \nL 278.295886 33.625729 \nL 278.421248 33.871883 \nL 278.600692 33.953934 \nL 278.712045 34.200088 \nL 278.802939 34.282139 \nL 278.913522 34.364191 \nL 279.048286 34.446242 \nL 279.182605 34.692396 \nL 279.327954 34.774447 \nL 279.448027 34.979575 \nL 279.480756 35.061627 \nL 279.659326 35.30778 \nL 279.758623 35.389832 \nL 279.897189 35.59496 \nL 279.94496 35.677011 \nL 280.088251 35.923165 \nL 280.119389 36.005216 \nL 280.222541 36.128293 \nL 280.326078 36.210345 \nL 280.544201 36.497524 \nL 280.646054 36.579575 \nL 280.751811 36.825729 \nL 280.971231 36.90778 \nL 281.103481 37.112909 \nL 281.165917 37.19496 \nL 281.2757 37.318037 \nL 281.362136 37.400088 \nL 281.545443 37.769319 \nL 281.614358 37.85137 \nL 281.73862 38.015473 \nL 281.883768 38.13855 \nL 282.107502 38.220601 \nL 282.22025 38.425729 \nL 282.330492 38.712909 \nL 282.412156 38.79496 \nL 282.610734 39.041114 \nL 282.737521 39.123165 \nL 282.931065 39.287268 \nL 283.051269 39.369319 \nL 283.171212 39.533421 \nL 283.203086 39.615473 \nL 283.331774 39.697524 \nL 283.4596 39.779575 \nL 283.580073 39.902652 \nL 283.612345 39.984704 \nL 283.740821 40.312909 \nL 283.89683 40.39496 \nL 283.990205 40.518037 \nL 284.119453 40.600088 \nL 284.303365 40.928293 \nL 284.405108 41.010345 \nL 284.696993 41.502652 \nL 284.7725 41.584704 \nL 284.903702 41.830857 \nL 285.039 41.912909 \nL 285.156825 41.99496 \nL 285.214984 42.077011 \nL 285.351703 42.282139 \nL 285.420194 42.364191 \nL 285.516827 42.528293 \nL 285.590038 42.610345 \nL 285.717633 42.774447 \nL 285.835967 42.856498 \nL 285.965875 43.102652 \nL 286.082364 43.184704 \nL 286.206339 43.759062 \nL 286.249027 43.841114 \nL 286.508729 44.25137 \nL 286.654971 44.333421 \nL 286.872485 44.948806 \nL 286.923887 45.030857 \nL 287.053565 45.359062 \nL 287.142315 45.441114 \nL 287.506023 45.933421 \nL 287.596623 46.015473 \nL 287.813686 46.425729 \nL 287.878543 46.50778 \nL 287.972325 46.589832 \nL 288.496257 47.369319 \nL 288.516115 47.45137 \nL 288.672291 47.615473 \nL 288.825246 47.697524 \nL 289.097816 48.230857 \nL 289.130635 48.312909 \nL 289.342564 48.846242 \nL 289.620702 49.625729 \nL 289.684515 49.70778 \nL 289.989933 50.323165 \nL 290.047017 50.405216 \nL 290.217302 50.65137 \nL 290.277161 50.733421 \nL 290.43447 51.061627 \nL 290.518175 51.143678 \nL 290.63641 51.348806 \nL 290.752093 51.430857 \nL 290.861087 51.759062 \nL 290.944575 51.841114 \nL 291.42805 52.661627 \nL 291.67377 53.359062 \nL 291.696222 53.441114 \nL 291.803362 53.769319 \nL 291.914632 53.85137 \nL 292.037035 54.220601 \nL 292.137405 54.302652 \nL 294.29327 59.471883 \nL 294.403243 59.553934 \nL 294.531811 59.800088 \nL 294.562658 59.882139 \nL 295.00318 60.90778 \nL 295.097652 60.989832 \nL 295.227717 61.277011 \nL 296.207678 62.877011 \nL 296.33433 63.164191 \nL 296.389796 63.246242 \nL 296.515265 63.533421 \nL 296.765794 64.312909 \nL 296.853142 64.39496 \nL 296.949395 64.723165 \nL 297.014926 64.805216 \nL 297.144955 65.256498 \nL 297.185315 65.33855 \nL 297.36534 65.871883 \nL 297.412575 65.953934 \nL 297.815709 66.692396 \nL 297.897619 66.774447 \nL 297.992597 66.897524 \nL 298.078813 66.979575 \nL 298.249204 67.471883 \nL 299.020878 69.235986 \nL 299.137854 69.523165 \nL 299.256234 69.605216 \nL 300.09483 71.615473 \nL 300.206491 72.066755 \nL 300.511188 72.723165 \nL 300.601274 72.846242 \nL 300.647466 72.928293 \nL 301.021872 73.70778 \nL 301.151853 73.99496 \nL 301.27857 74.241114 \nL 301.376268 74.323165 \nL 301.644501 74.856498 \nL 301.682617 74.93855 \nL 301.805283 75.348806 \nL 302.106915 76.005216 \nL 302.267147 76.415473 \nL 302.364726 76.784704 \nL 302.449121 76.866755 \nL 302.566838 77.112909 \nL 303.002203 78.056498 \nL 303.122917 78.220601 \nL 303.257201 78.589832 \nL 303.402761 79.041114 \nL 303.437379 79.123165 \nL 303.570601 79.410345 \nL 303.652158 79.492396 \nL 303.936089 80.271883 \nL 304.006326 80.353934 \nL 304.807002 82.159063 \nL 304.886142 82.241114 \nL 305.755407 84.046242 \nL 305.890925 84.128293 \nL 306.003331 84.333421 \nL 306.176269 84.702652 \nL 306.23082 84.784704 \nL 306.318304 84.866755 \nL 306.383097 84.948806 \nL 306.582284 85.400088 \nL 306.633435 85.482139 \nL 306.734223 85.769319 \nL 307.708416 87.45137 \nL 307.828567 87.697524 \nL 308.63605 89.830857 \nL 308.705985 89.912909 \nL 308.962711 90.65137 \nL 309.06971 90.733421 \nL 309.275706 91.266755 \nL 309.314373 91.348806 \nL 309.426229 91.59496 \nL 309.562472 91.677011 \nL 309.833198 92.374447 \nL 309.968589 92.456498 \nL 310.097031 92.825729 \nL 310.30831 93.235986 \nL 310.370289 93.318037 \nL 310.472172 93.646242 \nL 310.528814 93.728293 \nL 310.67082 94.056498 \nL 310.776718 94.097524 \nL 310.954779 94.425729 \nL 311.182276 94.79496 \nL 311.225079 94.877011 \nL 311.311435 95.123165 \nL 311.472919 95.205216 \nL 312.241644 96.559062 \nL 313.169231 98.118037 \nL 313.266852 98.200088 \nL 313.44756 98.692396 \nL 313.487335 98.774447 \nL 313.721473 99.348806 \nL 313.875099 99.430857 \nL 314.531313 100.374447 \nL 314.763974 100.456498 \nL 315.109667 101.153934 \nL 315.187817 101.235986 \nL 315.385657 101.523165 \nL 315.479627 101.810345 \nL 315.54154 101.892396 \nL 315.776067 102.261627 \nL 315.86983 102.343678 \nL 315.959387 102.466755 \nL 316.500664 103.082139 \nL 317.530427 105.297524 \nL 317.621044 105.379575 \nL 318.181419 106.364191 \nL 318.296208 106.446242 \nL 318.574028 107.225729 \nL 318.768337 107.512909 \nL 318.850751 107.635986 \nL 318.993364 107.841114 \nL 319.679136 109.112909 \nL 319.800562 109.235986 \nL 320.031202 109.687268 \nL 320.160737 109.974447 \nL 320.221346 110.056498 \nL 320.705389 110.753934 \nL 320.897174 111.205216 \nL 321.236582 111.902652 \nL 321.349557 112.189832 \nL 321.812868 113.092396 \nL 322.003827 113.256498 \nL 322.16999 113.625729 \nL 322.6816 114.241114 \nL 322.773368 114.487268 \nL 323.073103 114.897524 \nL 323.19211 115.020601 \nL 323.407513 115.30778 \nL 323.542497 115.635986 \nL 323.655466 115.718037 \nL 323.759642 116.046242 \nL 323.868709 116.128293 \nL 323.970301 116.374447 \nL 324.078162 116.53855 \nL 324.208947 116.743678 \nL 324.303425 116.825729 \nL 325.862928 119.410345 \nL 326.022099 119.656498 \nL 326.155051 119.943678 \nL 326.278311 120.10778 \nL 326.470031 120.353934 \nL 326.617661 120.518037 \nL 326.692652 120.600088 \nL 326.791186 120.764191 \nL 327.007107 121.092396 \nL 327.173796 121.461627 \nL 327.321968 121.748806 \nL 327.430061 121.953934 \nL 327.568843 122.241114 \nL 327.738206 122.323165 \nL 327.863578 122.487268 \nL 327.958714 122.569319 \nL 328.091904 122.774447 \nL 328.499284 123.430857 \nL 328.577841 123.512909 \nL 329.339664 124.53855 \nL 329.447278 124.620601 \nL 329.599533 124.866755 \nL 329.909658 125.19496 \nL 330.350654 125.769319 \nL 330.51725 125.85137 \nL 331.011269 126.671883 \nL 331.378586 127.000088 \nL 331.506223 127.246242 \nL 331.834783 127.45137 \nL 332.179755 128.025729 \nL 332.533616 128.600088 \nL 332.631126 128.846242 \nL 332.790845 129.010345 \nL 333.31642 129.748806 \nL 333.401918 129.830857 \nL 333.523982 130.077011 \nL 333.844964 130.364191 \nL 334.143082 130.692396 \nL 334.330053 130.93855 \nL 334.499432 131.348806 \nL 334.579375 131.430857 \nL 334.696375 131.718037 \nL 335.75913 133.277011 \nL 335.815213 133.441114 \nL 335.969292 133.605216 \nL 336.090001 133.810345 \nL 336.160683 133.892396 \nL 336.227207 134.220601 \nL 336.496331 134.50778 \nL 337.248968 135.246242 \nL 337.412152 135.410345 \nL 337.51124 135.656498 \nL 337.632327 135.73855 \nL 337.876834 136.066755 \nL 337.981618 136.353934 \nL 338.162085 136.435986 \nL 338.336534 136.682139 \nL 339.512469 137.666755 \nL 339.849762 137.99496 \nL 340.018236 138.077011 \nL 340.110135 138.323165 \nL 340.414994 138.610345 \nL 340.694444 138.774447 \nL 340.806324 138.897524 \nL 341.374858 139.471883 \nL 341.97312 140.497524 \nL 342.913529 141.441114 \nL 343.113112 141.687268 \nL 343.185752 141.769319 \nL 343.329768 141.933421 \nL 343.459692 142.015473 \nL 343.575844 142.220601 \nL 344.625589 143.615473 \nL 344.781553 143.697524 \nL 345.319823 144.435986 \nL 345.4139 144.764191 \nL 345.447137 144.805216 \nL 345.654728 144.887268 \nL 345.766352 145.174447 \nL 346.205828 145.584704 \nL 346.593705 145.871883 \nL 346.709547 145.99496 \nL 346.843157 146.077011 \nL 347.08597 146.282139 \nL 347.758277 147.102652 \nL 347.917734 147.30778 \nL 348.274855 147.635986 \nL 348.403424 147.759062 \nL 349.479276 148.989832 \nL 349.550814 149.19496 \nL 349.727466 149.359062 \nL 350.310805 150.13855 \nL 350.851356 150.548806 \nL 351.002076 150.79496 \nL 351.889637 151.697524 \nL 352.095172 151.984704 \nL 352.839189 152.723165 \nL 353.017685 152.887268 \nL 353.312629 153.256498 \nL 353.75094 153.789832 \nL 353.902345 154.035986 \nL 354.589101 154.610345 \nL 354.723216 154.774447 \nL 354.864774 154.856498 \nL 354.949397 155.102652 \nL 355.410002 155.348806 \nL 355.566505 155.512909 \nL 355.950093 155.923165 \nL 356.13435 156.128293 \nL 356.257529 156.292396 \nL 356.406735 156.497524 \nL 357.03342 156.989832 \nL 357.241631 157.318037 \nL 357.685176 157.687268 \nL 358.58223 158.425729 \nL 358.640648 158.548806 \nL 358.867844 158.712909 \nL 359.348619 159.533421 \nL 359.679208 159.820601 \nL 359.857099 160.025729 \nL 360.107162 160.271883 \nL 360.620916 161.05137 \nL 360.711845 161.133421 \nL 360.899322 161.297524 \nL 361.556706 161.99496 \nL 361.760661 162.077011 \nL 361.937706 162.282139 \nL 362.243874 162.528293 \nL 362.480463 162.815473 \nL 362.691615 163.061627 \nL 362.843752 163.225729 \nL 363.22017 163.718037 \nL 363.529322 163.923165 \nL 363.762857 164.333421 \nL 364.12937 164.53855 \nL 364.146174 164.620601 \nL 364.381113 164.784704 \nL 364.607807 165.071883 \nL 364.706811 165.153934 \nL 364.709245 165.19496 \nL 364.972516 165.277011 \nL 365.478415 166.015473 \nL 365.657663 166.261627 \nL 365.906968 166.548806 \nL 366.214176 166.79496 \nL 366.217217 166.835986 \nL 366.611306 167.082139 \nL 366.758989 167.287268 \nL 366.937452 167.533421 \nL 366.941164 167.574447 \nL 367.15577 167.73855 \nL 367.609197 168.189832 \nL 367.834067 168.271883 \nL 367.963649 168.477011 \nL 368.093023 168.641114 \nL 369.311348 169.830857 \nL 369.559521 169.912909 \nL 369.772543 170.159063 \nL 369.889388 170.364191 \nL 370.305437 171.020601 \nL 372.153682 173.235986 \nL 372.256249 173.359063 \nL 372.673615 173.441114 \nL 372.957521 173.769319 \nL 373.431503 174.13855 \nL 373.570005 174.302652 \nL 373.856743 174.384704 \nL 374.017097 174.589832 \nL 374.109482 174.79496 \nL 374.269508 175.123165 \nL 374.554473 175.656498 \nL 375.037468 175.984704 \nL 375.135434 176.230857 \nL 375.344636 176.39496 \nL 375.489855 176.682139 \nL 375.627691 176.846242 \nL 375.861492 177.215473 \nL 376.010074 177.297524 \nL 376.320192 177.584704 \nL 376.328484 177.625729 \nL 376.641537 177.789832 \nL 376.685316 177.871883 \nL 376.909944 178.035986 \nL 376.994101 178.118037 \nL 377.064725 178.323165 \nL 377.13714 178.528293 \nL 377.512682 178.897524 \nL 377.582507 179.020601 \nL 378.624903 179.882139 \nL 378.794684 180.087268 \nL 378.932196 180.169319 \nL 379.00029 180.292396 \nL 379.416806 180.53855 \nL 379.764919 180.989832 \nL 380.324881 181.318037 \nL 380.459482 181.400088 \nL 380.853558 181.810345 \nL 381.087252 182.13855 \nL 381.471424 182.343678 \nL 381.56885 182.548806 \nL 381.638043 182.630857 \nL 381.982997 182.79496 \nL 382.098736 182.959063 \nL 382.484417 183.246242 \nL 382.573364 183.369319 \nL 382.726613 183.574447 \nL 382.829957 183.861627 \nL 383.240615 184.148806 \nL 383.336107 184.312909 \nL 383.711777 184.559063 \nL 383.951167 184.846242 \nL 384.087772 185.092396 \nL 384.171746 185.174447 \nL 384.611635 185.912909 \nL 384.675125 185.99496 \nL 384.898513 186.200088 \nL 385.267827 186.569319 \nL 386.255055 187.635986 \nL 386.450813 187.841114 \nL 386.791344 188.169319 \nL 386.794719 188.210345 \nL 387.020277 188.374447 \nL 387.871209 189.19496 \nL 388.260164 189.359063 \nL 388.405741 189.564191 \nL 389.389432 190.261627 \nL 389.442861 190.343678 \nL 389.603538 190.50778 \nL 389.664857 190.630857 \nL 390.119274 190.918037 \nL 390.223539 191.041114 \nL 391.503857 192.230857 \nL 391.694973 192.435986 \nL 391.771795 192.641114 \nL 391.968907 192.805216 \nL 393.053386 193.543678 \nL 393.072788 193.625729 \nL 393.346391 193.830857 \nL 394.947632 195.102652 \nL 395.15148 195.225729 \nL 395.860145 195.841114 \nL 395.973314 196.005216 \nL 396.100602 196.169319 \nL 397.361389 197.400088 \nL 397.779814 197.646242 \nL 397.82802 197.728293 \nL 398.102691 197.933421 \nL 398.173946 198.015473 \nL 398.47186 198.220601 \nL 398.531928 198.343678 \nL 399.090378 198.671883 \nL 399.266001 198.877011 \nL 399.636349 199.041114 \nL 399.738007 199.123165 \nL 400.314462 199.492396 \nL 400.401762 199.574447 \nL 402.233492 200.723165 \nL 404.433684 203.184704 \nL 404.847966 203.266755 \nL 405.040787 203.471883 \nL 405.375559 203.635986 \nL 405.597034 203.841114 \nL 407.254345 205.030857 \nL 407.420233 205.153934 \nL 407.566322 205.277011 \nL 408.309598 205.605216 \nL 408.496825 205.728293 \nL 409.064169 205.974447 \nL 409.188404 206.179575 \nL 409.455735 206.302652 \nL 409.683946 206.50778 \nL 410.207614 206.79496 \nL 411.130498 207.164191 \nL 411.276129 207.410345 \nL 411.72234 207.697524 \nL 412.035238 207.943678 \nL 412.141759 208.148806 \nL 412.146662 208.189832 \nL 413.148982 208.518037 \nL 413.876173 209.133421 \nL 414.30469 209.297524 \nL 414.451492 209.420601 \nL 415.106067 209.748806 \nL 415.237088 209.871883 \nL 415.669654 210.035986 \nL 416.097752 210.241114 \nL 418.395189 211.59496 \nL 418.859052 211.841114 \nL 420.733852 213.359063 \nL 420.888951 213.564191 \nL 421.228232 213.728293 \nL 421.250413 213.769319 \nL 421.779922 214.015473 \nL 421.935443 214.302652 \nL 422.21834 214.466755 \nL 422.300077 214.589832 \nL 423.079238 215.000088 \nL 423.095793 215.041114 \nL 423.337079 215.205216 \nL 423.345359 215.246242 \nL 423.594984 215.369319 \nL 423.595208 215.410345 \nL 424.100743 215.697524 \nL 424.434234 216.025729 \nL 426.371534 217.05137 \nL 426.735739 217.256498 \nL 427.378698 217.543678 \nL 427.553837 217.70778 \nL 428.624088 217.953934 \nL 429.681145 218.323165 \nL 431.277645 219.143678 \nL 432.153987 219.30778 \nL 432.565383 219.59496 \nL 432.574102 219.635986 \nL 433.14271 219.882139 \nL 433.743969 220.169319 \nL 434.13827 220.374447 \nL 434.256569 220.456498 \nL 434.986314 221.071883 \nL 435.072612 221.19496 \nL 435.752231 221.523165 \nL 436.158254 221.687268 \nL 436.85138 221.974447 \nL 437.041157 222.13855 \nL 437.337007 222.302652 \nL 437.456172 222.384704 \nL 438.385341 222.630857 \nL 438.517216 222.753934 \nL 439.549389 223.000088 \nL 439.911992 223.287268 \nL 442.657434 224.066755 \nL 443.748817 224.312909 \nL 444.369923 224.518037 \nL 445.034599 224.641114 \nL 445.04863 224.723165 \nL 446.385125 225.010345 \nL 447.633518 225.748806 \nL 449.614733 226.200088 \nL 451.495107 226.65137 \nL 452.695386 226.856498 \nL 452.99081 227.020601 \nL 453.867991 227.143678 \nL 454.018379 227.30778 \nL 456.391264 227.677011 \nL 458.58945 228.087268 \nL 458.606754 228.128293 \nL 459.233361 228.292396 \nL 459.247303 228.333421 \nL 460.95276 228.53855 \nL 460.97564 228.579575 \nL 461.229201 228.620601 \nL 463.775512 228.784704 \nL 463.902617 228.825729 \nL 466.919719 229.112909 \nL 467.011514 229.153934 \nL 468.2799 229.359063 \nL 468.435681 229.400088 \nL 470.684873 229.605216 \nL 473.053844 229.892396 \nL 473.172095 229.933421 \nL 475.13532 230.179575 \nL 475.963823 230.343678 \nL 479.018235 230.589832 \nL 479.365193 230.753934 \nL 480.185925 230.918037 \nL 481.391511 231.164191 \nL 483.31635 231.287268 \nL 483.322451 231.328293 \nL 491.699068 231.861627 \nL 492.943676 232.066755 \nL 495.639568 232.230857 \nL 504.124754 233.05137 \nL 511.608245 233.256498 \nL 513.181559 233.379575 \nL 521.404045 233.584704 \nL 535.117404 233.871883 \nL 569.88375 234.093426 \nL 569.88375 234.093426 \n\" style=\"fill:none;stroke:#008000;stroke-linecap:square;stroke-width:2;\"/>\n   </g>\n   <g id=\"line2d_25\">\n    <path clip-path=\"url(#pee4f0e0098)\" d=\"M 338.767642 234.159063 \nL 338.767642 33.999062 \n\" style=\"fill:none;stroke:#ff0000;stroke-dasharray:1.5,2.475;stroke-dashoffset:0;stroke-width:1.5;\"/>\n   </g>\n   <g id=\"line2d_26\">\n    <path clip-path=\"url(#pee4f0e0098)\" d=\"M 33.28375 33.999062 \nL 338.767642 33.999062 \n\" style=\"fill:none;stroke:#ff0000;stroke-dasharray:1.5,2.475;stroke-dashoffset:0;stroke-width:1.5;\"/>\n   </g>\n   <g id=\"line2d_27\">\n    <path clip-path=\"url(#pee4f0e0098)\" d=\"M 33.28375 137.014743 \nL 338.767642 137.014743 \n\" style=\"fill:none;stroke:#ff0000;stroke-dasharray:1.5,2.475;stroke-dashoffset:0;stroke-width:1.5;\"/>\n   </g>\n   <g id=\"line2d_28\">\n    <defs>\n     <path d=\"M 0 3 \nC 0.795609 3 1.55874 2.683901 2.12132 2.12132 \nC 2.683901 1.55874 3 0.795609 3 0 \nC 3 -0.795609 2.683901 -1.55874 2.12132 -2.12132 \nC 1.55874 -2.683901 0.795609 -3 0 -3 \nC -0.795609 -3 -1.55874 -2.683901 -2.12132 -2.12132 \nC -2.683901 -1.55874 -3 -0.795609 -3 0 \nC -3 0.795609 -2.683901 1.55874 -2.12132 2.12132 \nC -1.55874 2.683901 -0.795609 3 0 3 \nz\n\" id=\"mb5adbc3833\" style=\"stroke:#ff0000;\"/>\n    </defs>\n    <g clip-path=\"url(#pee4f0e0098)\">\n     <use style=\"fill:#ff0000;stroke:#ff0000;\" x=\"338.767642\" xlink:href=\"#mb5adbc3833\" y=\"33.999062\"/>\n    </g>\n   </g>\n   <g id=\"line2d_29\">\n    <g clip-path=\"url(#pee4f0e0098)\">\n     <use style=\"fill:#ff0000;stroke:#ff0000;\" x=\"338.767642\" xlink:href=\"#mb5adbc3833\" y=\"137.014743\"/>\n    </g>\n   </g>\n   <g id=\"patch_3\">\n    <path d=\"M 33.28375 234.159063 \nL 33.28375 11.759062 \n\" style=\"fill:none;stroke:#000000;stroke-linecap:square;stroke-linejoin:miter;stroke-width:0.8;\"/>\n   </g>\n   <g id=\"patch_4\">\n    <path d=\"M 561.68375 234.159063 \nL 561.68375 11.759062 \n\" style=\"fill:none;stroke:#000000;stroke-linecap:square;stroke-linejoin:miter;stroke-width:0.8;\"/>\n   </g>\n   <g id=\"patch_5\">\n    <path d=\"M 33.28375 234.159063 \nL 561.68375 234.159063 \n\" style=\"fill:none;stroke:#000000;stroke-linecap:square;stroke-linejoin:miter;stroke-width:0.8;\"/>\n   </g>\n   <g id=\"patch_6\">\n    <path d=\"M 33.28375 11.759062 \nL 561.68375 11.759062 \n\" style=\"fill:none;stroke:#000000;stroke-linecap:square;stroke-linejoin:miter;stroke-width:0.8;\"/>\n   </g>\n   <g id=\"legend_1\">\n    <g id=\"patch_7\">\n     <path d=\"M 427.26875 148.844063 \nL 550.48375 148.844063 \nQ 553.68375 148.844063 553.68375 145.644063 \nL 553.68375 100.274063 \nQ 553.68375 97.074063 550.48375 97.074063 \nL 427.26875 97.074063 \nQ 424.06875 97.074063 424.06875 100.274063 \nL 424.06875 145.644063 \nQ 424.06875 148.844063 427.26875 148.844063 \nz\n\" style=\"fill:#ffffff;opacity:0.8;stroke:#cccccc;stroke-linejoin:miter;\"/>\n    </g>\n    <g id=\"line2d_30\">\n     <path d=\"M 430.46875 110.031563 \nL 462.46875 110.031563 \n\" style=\"fill:none;stroke:#0000ff;stroke-dasharray:7.4,3.2;stroke-dashoffset:0;stroke-width:2;\"/>\n    </g>\n    <g id=\"line2d_31\"/>\n    <g id=\"text_13\">\n     <!-- Precision -->\n     <defs>\n      <path d=\"M 19.671875 64.796875 \nL 19.671875 37.40625 \nL 32.078125 37.40625 \nQ 38.96875 37.40625 42.71875 40.96875 \nQ 46.484375 44.53125 46.484375 51.125 \nQ 46.484375 57.671875 42.71875 61.234375 \nQ 38.96875 64.796875 32.078125 64.796875 \nz\nM 9.8125 72.90625 \nL 32.078125 72.90625 \nQ 44.34375 72.90625 50.609375 67.359375 \nQ 56.890625 61.8125 56.890625 51.125 \nQ 56.890625 40.328125 50.609375 34.8125 \nQ 44.34375 29.296875 32.078125 29.296875 \nL 19.671875 29.296875 \nL 19.671875 0 \nL 9.8125 0 \nz\n\" id=\"DejaVuSans-80\"/>\n      <path d=\"M 48.78125 52.59375 \nL 48.78125 44.1875 \nQ 44.96875 46.296875 41.140625 47.34375 \nQ 37.3125 48.390625 33.40625 48.390625 \nQ 24.65625 48.390625 19.8125 42.84375 \nQ 14.984375 37.3125 14.984375 27.296875 \nQ 14.984375 17.28125 19.8125 11.734375 \nQ 24.65625 6.203125 33.40625 6.203125 \nQ 37.3125 6.203125 41.140625 7.25 \nQ 44.96875 8.296875 48.78125 10.40625 \nL 48.78125 2.09375 \nQ 45.015625 0.34375 40.984375 -0.53125 \nQ 36.96875 -1.421875 32.421875 -1.421875 \nQ 20.0625 -1.421875 12.78125 6.34375 \nQ 5.515625 14.109375 5.515625 27.296875 \nQ 5.515625 40.671875 12.859375 48.328125 \nQ 20.21875 56 33.015625 56 \nQ 37.15625 56 41.109375 55.140625 \nQ 45.0625 54.296875 48.78125 52.59375 \nz\n\" id=\"DejaVuSans-99\"/>\n      <path d=\"M 9.421875 54.6875 \nL 18.40625 54.6875 \nL 18.40625 0 \nL 9.421875 0 \nz\nM 9.421875 75.984375 \nL 18.40625 75.984375 \nL 18.40625 64.59375 \nL 9.421875 64.59375 \nz\n\" id=\"DejaVuSans-105\"/>\n      <path d=\"M 54.890625 33.015625 \nL 54.890625 0 \nL 45.90625 0 \nL 45.90625 32.71875 \nQ 45.90625 40.484375 42.875 44.328125 \nQ 39.84375 48.1875 33.796875 48.1875 \nQ 26.515625 48.1875 22.3125 43.546875 \nQ 18.109375 38.921875 18.109375 30.90625 \nL 18.109375 0 \nL 9.078125 0 \nL 9.078125 54.6875 \nL 18.109375 54.6875 \nL 18.109375 46.1875 \nQ 21.34375 51.125 25.703125 53.5625 \nQ 30.078125 56 35.796875 56 \nQ 45.21875 56 50.046875 50.171875 \nQ 54.890625 44.34375 54.890625 33.015625 \nz\n\" id=\"DejaVuSans-110\"/>\n     </defs>\n     <g transform=\"translate(475.26875 115.631563)scale(0.16 -0.16)\">\n      <use xlink:href=\"#DejaVuSans-80\"/>\n      <use x=\"60.287109\" xlink:href=\"#DejaVuSans-114\"/>\n      <use x=\"101.369141\" xlink:href=\"#DejaVuSans-101\"/>\n      <use x=\"162.892578\" xlink:href=\"#DejaVuSans-99\"/>\n      <use x=\"217.873047\" xlink:href=\"#DejaVuSans-105\"/>\n      <use x=\"245.65625\" xlink:href=\"#DejaVuSans-115\"/>\n      <use x=\"297.755859\" xlink:href=\"#DejaVuSans-105\"/>\n      <use x=\"325.539062\" xlink:href=\"#DejaVuSans-111\"/>\n      <use x=\"386.720703\" xlink:href=\"#DejaVuSans-110\"/>\n     </g>\n    </g>\n    <g id=\"line2d_32\">\n     <path d=\"M 430.46875 133.516562 \nL 462.46875 133.516562 \n\" style=\"fill:none;stroke:#008000;stroke-linecap:square;stroke-width:2;\"/>\n    </g>\n    <g id=\"line2d_33\"/>\n    <g id=\"text_14\">\n     <!-- Recall -->\n     <defs>\n      <path d=\"M 44.390625 34.1875 \nQ 47.5625 33.109375 50.5625 29.59375 \nQ 53.5625 26.078125 56.59375 19.921875 \nL 66.609375 0 \nL 56 0 \nL 46.6875 18.703125 \nQ 43.0625 26.03125 39.671875 28.421875 \nQ 36.28125 30.8125 30.421875 30.8125 \nL 19.671875 30.8125 \nL 19.671875 0 \nL 9.8125 0 \nL 9.8125 72.90625 \nL 32.078125 72.90625 \nQ 44.578125 72.90625 50.734375 67.671875 \nQ 56.890625 62.453125 56.890625 51.90625 \nQ 56.890625 45.015625 53.6875 40.46875 \nQ 50.484375 35.9375 44.390625 34.1875 \nz\nM 19.671875 64.796875 \nL 19.671875 38.921875 \nL 32.078125 38.921875 \nQ 39.203125 38.921875 42.84375 42.21875 \nQ 46.484375 45.515625 46.484375 51.90625 \nQ 46.484375 58.296875 42.84375 61.546875 \nQ 39.203125 64.796875 32.078125 64.796875 \nz\n\" id=\"DejaVuSans-82\"/>\n      <path d=\"M 34.28125 27.484375 \nQ 23.390625 27.484375 19.1875 25 \nQ 14.984375 22.515625 14.984375 16.5 \nQ 14.984375 11.71875 18.140625 8.90625 \nQ 21.296875 6.109375 26.703125 6.109375 \nQ 34.1875 6.109375 38.703125 11.40625 \nQ 43.21875 16.703125 43.21875 25.484375 \nL 43.21875 27.484375 \nz\nM 52.203125 31.203125 \nL 52.203125 0 \nL 43.21875 0 \nL 43.21875 8.296875 \nQ 40.140625 3.328125 35.546875 0.953125 \nQ 30.953125 -1.421875 24.3125 -1.421875 \nQ 15.921875 -1.421875 10.953125 3.296875 \nQ 6 8.015625 6 15.921875 \nQ 6 25.140625 12.171875 29.828125 \nQ 18.359375 34.515625 30.609375 34.515625 \nL 43.21875 34.515625 \nL 43.21875 35.40625 \nQ 43.21875 41.609375 39.140625 45 \nQ 35.0625 48.390625 27.6875 48.390625 \nQ 23 48.390625 18.546875 47.265625 \nQ 14.109375 46.140625 10.015625 43.890625 \nL 10.015625 52.203125 \nQ 14.9375 54.109375 19.578125 55.046875 \nQ 24.21875 56 28.609375 56 \nQ 40.484375 56 46.34375 49.84375 \nQ 52.203125 43.703125 52.203125 31.203125 \nz\n\" id=\"DejaVuSans-97\"/>\n     </defs>\n     <g transform=\"translate(475.26875 139.116562)scale(0.16 -0.16)\">\n      <use xlink:href=\"#DejaVuSans-82\"/>\n      <use x=\"69.419922\" xlink:href=\"#DejaVuSans-101\"/>\n      <use x=\"130.943359\" xlink:href=\"#DejaVuSans-99\"/>\n      <use x=\"185.923828\" xlink:href=\"#DejaVuSans-97\"/>\n      <use x=\"247.203125\" xlink:href=\"#DejaVuSans-108\"/>\n      <use x=\"274.986328\" xlink:href=\"#DejaVuSans-108\"/>\n     </g>\n    </g>\n   </g>\n  </g>\n </g>\n <defs>\n  <clipPath id=\"pee4f0e0098\">\n   <rect height=\"222.4\" width=\"528.4\" x=\"33.28375\" y=\"11.759062\"/>\n  </clipPath>\n </defs>\n</svg>\n",
      "image/png": "[encoded data removed]"
     },
     "metadata": {
      "needs_background": "light"
     }
    }
   ],
   "source": [
    "def plot_precision_recall_vs_threshold(precisions, recalls, thresholds):\n",
    "    plt.plot(thresholds, precisions[:-1], \"b--\", label=\"Precision\", linewidth=2)\n",
    "    plt.plot(thresholds, recalls[:-1], \"g-\", label=\"Recall\", linewidth=2)\n",
    "    plt.legend(loc=\"center right\", fontsize=16) # Not shown in the book\n",
    "    plt.xlabel(\"Threshold\", fontsize=16)        # Not shown\n",
    "    plt.grid(True)                              # Not shown\n",
    "    plt.axis([-50000, 50000, 0, 1])             # Not shown\n",
    "\n",
    "plt.figure(figsize=(8, 4))                      # Not shown\n",
    "plot_precision_recall_vs_threshold(precisions, recalls, thresholds)\n",
    "plt.plot([7813, 7813], [0., 0.9], \"r:\")         # Not shown\n",
    "plt.plot([-50000, 7813], [0.9, 0.9], \"r:\")      # Not shown\n",
    "plt.plot([-50000, 7813], [0.4368, 0.4368], \"r:\")# Not shown\n",
    "plt.plot([7813], [0.9], \"ro\")                   # Not shown\n",
    "plt.plot([7813], [0.4368], \"ro\")                # Not shown\n",
    "save_fig(\"precision_recall_vs_threshold_plot\")  # Not shown\n",
    "plt.show()"
   ]
  },
  {
   "cell_type": "code",
   "execution_count": 46,
   "metadata": {},
   "outputs": [
    {
     "output_type": "execute_result",
     "data": {
      "text/plain": "True"
     },
     "metadata": {},
     "execution_count": 46
    }
   ],
   "source": [
    "(y_train_pred == (y_scores > 0)).all()"
   ]
  },
  {
   "cell_type": "code",
   "execution_count": 47,
   "metadata": {},
   "outputs": [
    {
     "output_type": "stream",
     "name": "stdout",
     "text": "Saving figure precision_vs_recall_plot\n"
    },
    {
     "output_type": "display_data",
     "data": {
      "text/plain": "<Figure size 576x432 with 1 Axes>",
      "image/svg+xml": "<?xml version=\"1.0\" encoding=\"utf-8\" standalone=\"no\"?>\n<!DOCTYPE svg PUBLIC \"-//W3C//DTD SVG 1.1//EN\"\n  \"http://www.w3.org/Graphics/SVG/1.1/DTD/svg11.dtd\">\n<!-- Created with matplotlib (https://matplotlib.org/) -->\n<svg height=\"423.457812pt\" version=\"1.1\" viewBox=\"0 0 569.410625 423.457812\" width=\"569.410625pt\" xmlns=\"http://www.w3.org/2000/svg\" xmlns:xlink=\"http://www.w3.org/1999/xlink\">\n <defs>\n  <style type=\"text/css\">\n*{stroke-linecap:butt;stroke-linejoin:round;}\n  </style>\n </defs>\n <g id=\"figure_1\">\n  <g id=\"patch_1\">\n   <path d=\"M 0 423.457812 \nL 569.410625 423.457812 \nL 569.410625 0 \nL 0 0 \nz\n\" style=\"fill:none;\"/>\n  </g>\n  <g id=\"axes_1\">\n   <g id=\"patch_2\">\n    <path d=\"M 52.76875 378.159062 \nL 552.66875 378.159062 \nL 552.66875 11.759062 \nL 52.76875 11.759062 \nz\n\" style=\"fill:#ffffff;\"/>\n   </g>\n   <g id=\"matplotlib.axis_1\">\n    <g id=\"xtick_1\">\n     <g id=\"line2d_1\">\n      <path clip-path=\"url(#pcca4ed7bdf)\" d=\"M 52.76875 378.159062 \nL 52.76875 11.759062 \n\" style=\"fill:none;stroke:#b0b0b0;stroke-linecap:square;stroke-width:0.8;\"/>\n     </g>\n     <g id=\"line2d_2\">\n      <defs>\n       <path d=\"M 0 0 \nL 0 3.5 \n\" id=\"m0559c1210a\" style=\"stroke:#000000;stroke-width:0.8;\"/>\n      </defs>\n      <g>\n       <use style=\"stroke:#000000;stroke-width:0.8;\" x=\"52.76875\" xlink:href=\"#m0559c1210a\" y=\"378.159062\"/>\n      </g>\n     </g>\n     <g id=\"text_1\">\n      <!-- 0.0 -->\n      <defs>\n       <path d=\"M 31.78125 66.40625 \nQ 24.171875 66.40625 20.328125 58.90625 \nQ 16.5 51.421875 16.5 36.375 \nQ 16.5 21.390625 20.328125 13.890625 \nQ 24.171875 6.390625 31.78125 6.390625 \nQ 39.453125 6.390625 43.28125 13.890625 \nQ 47.125 21.390625 47.125 36.375 \nQ 47.125 51.421875 43.28125 58.90625 \nQ 39.453125 66.40625 31.78125 66.40625 \nz\nM 31.78125 74.21875 \nQ 44.046875 74.21875 50.515625 64.515625 \nQ 56.984375 54.828125 56.984375 36.375 \nQ 56.984375 17.96875 50.515625 8.265625 \nQ 44.046875 -1.421875 31.78125 -1.421875 \nQ 19.53125 -1.421875 13.0625 8.265625 \nQ 6.59375 17.96875 6.59375 36.375 \nQ 6.59375 54.828125 13.0625 64.515625 \nQ 19.53125 74.21875 31.78125 74.21875 \nz\n\" id=\"DejaVuSans-48\"/>\n       <path d=\"M 10.6875 12.40625 \nL 21 12.40625 \nL 21 0 \nL 10.6875 0 \nz\n\" id=\"DejaVuSans-46\"/>\n      </defs>\n      <g transform=\"translate(43.226875 394.277187)scale(0.12 -0.12)\">\n       <use xlink:href=\"#DejaVuSans-48\"/>\n       <use x=\"63.623047\" xlink:href=\"#DejaVuSans-46\"/>\n       <use x=\"95.410156\" xlink:href=\"#DejaVuSans-48\"/>\n      </g>\n     </g>\n    </g>\n    <g id=\"xtick_2\">\n     <g id=\"line2d_3\">\n      <path clip-path=\"url(#pcca4ed7bdf)\" d=\"M 152.74875 378.159062 \nL 152.74875 11.759062 \n\" style=\"fill:none;stroke:#b0b0b0;stroke-linecap:square;stroke-width:0.8;\"/>\n     </g>\n     <g id=\"line2d_4\">\n      <g>\n       <use style=\"stroke:#000000;stroke-width:0.8;\" x=\"152.74875\" xlink:href=\"#m0559c1210a\" y=\"378.159062\"/>\n      </g>\n     </g>\n     <g id=\"text_2\">\n      <!-- 0.2 -->\n      <defs>\n       <path d=\"M 19.1875 8.296875 \nL 53.609375 8.296875 \nL 53.609375 0 \nL 7.328125 0 \nL 7.328125 8.296875 \nQ 12.9375 14.109375 22.625 23.890625 \nQ 32.328125 33.6875 34.8125 36.53125 \nQ 39.546875 41.84375 41.421875 45.53125 \nQ 43.3125 49.21875 43.3125 52.78125 \nQ 43.3125 58.59375 39.234375 62.25 \nQ 35.15625 65.921875 28.609375 65.921875 \nQ 23.96875 65.921875 18.8125 64.3125 \nQ 13.671875 62.703125 7.8125 59.421875 \nL 7.8125 69.390625 \nQ 13.765625 71.78125 18.9375 73 \nQ 24.125 74.21875 28.421875 74.21875 \nQ 39.75 74.21875 46.484375 68.546875 \nQ 53.21875 62.890625 53.21875 53.421875 \nQ 53.21875 48.921875 51.53125 44.890625 \nQ 49.859375 40.875 45.40625 35.40625 \nQ 44.1875 33.984375 37.640625 27.21875 \nQ 31.109375 20.453125 19.1875 8.296875 \nz\n\" id=\"DejaVuSans-50\"/>\n      </defs>\n      <g transform=\"translate(143.206875 394.277187)scale(0.12 -0.12)\">\n       <use xlink:href=\"#DejaVuSans-48\"/>\n       <use x=\"63.623047\" xlink:href=\"#DejaVuSans-46\"/>\n       <use x=\"95.410156\" xlink:href=\"#DejaVuSans-50\"/>\n      </g>\n     </g>\n    </g>\n    <g id=\"xtick_3\">\n     <g id=\"line2d_5\">\n      <path clip-path=\"url(#pcca4ed7bdf)\" d=\"M 252.72875 378.159062 \nL 252.72875 11.759062 \n\" style=\"fill:none;stroke:#b0b0b0;stroke-linecap:square;stroke-width:0.8;\"/>\n     </g>\n     <g id=\"line2d_6\">\n      <g>\n       <use style=\"stroke:#000000;stroke-width:0.8;\" x=\"252.72875\" xlink:href=\"#m0559c1210a\" y=\"378.159062\"/>\n      </g>\n     </g>\n     <g id=\"text_3\">\n      <!-- 0.4 -->\n      <defs>\n       <path d=\"M 37.796875 64.3125 \nL 12.890625 25.390625 \nL 37.796875 25.390625 \nz\nM 35.203125 72.90625 \nL 47.609375 72.90625 \nL 47.609375 25.390625 \nL 58.015625 25.390625 \nL 58.015625 17.1875 \nL 47.609375 17.1875 \nL 47.609375 0 \nL 37.796875 0 \nL 37.796875 17.1875 \nL 4.890625 17.1875 \nL 4.890625 26.703125 \nz\n\" id=\"DejaVuSans-52\"/>\n      </defs>\n      <g transform=\"translate(243.186875 394.277187)scale(0.12 -0.12)\">\n       <use xlink:href=\"#DejaVuSans-48\"/>\n       <use x=\"63.623047\" xlink:href=\"#DejaVuSans-46\"/>\n       <use x=\"95.410156\" xlink:href=\"#DejaVuSans-52\"/>\n      </g>\n     </g>\n    </g>\n    <g id=\"xtick_4\">\n     <g id=\"line2d_7\">\n      <path clip-path=\"url(#pcca4ed7bdf)\" d=\"M 352.70875 378.159062 \nL 352.70875 11.759062 \n\" style=\"fill:none;stroke:#b0b0b0;stroke-linecap:square;stroke-width:0.8;\"/>\n     </g>\n     <g id=\"line2d_8\">\n      <g>\n       <use style=\"stroke:#000000;stroke-width:0.8;\" x=\"352.70875\" xlink:href=\"#m0559c1210a\" y=\"378.159062\"/>\n      </g>\n     </g>\n     <g id=\"text_4\">\n      <!-- 0.6 -->\n      <defs>\n       <path d=\"M 33.015625 40.375 \nQ 26.375 40.375 22.484375 35.828125 \nQ 18.609375 31.296875 18.609375 23.390625 \nQ 18.609375 15.53125 22.484375 10.953125 \nQ 26.375 6.390625 33.015625 6.390625 \nQ 39.65625 6.390625 43.53125 10.953125 \nQ 47.40625 15.53125 47.40625 23.390625 \nQ 47.40625 31.296875 43.53125 35.828125 \nQ 39.65625 40.375 33.015625 40.375 \nz\nM 52.59375 71.296875 \nL 52.59375 62.3125 \nQ 48.875 64.0625 45.09375 64.984375 \nQ 41.3125 65.921875 37.59375 65.921875 \nQ 27.828125 65.921875 22.671875 59.328125 \nQ 17.53125 52.734375 16.796875 39.40625 \nQ 19.671875 43.65625 24.015625 45.921875 \nQ 28.375 48.1875 33.59375 48.1875 \nQ 44.578125 48.1875 50.953125 41.515625 \nQ 57.328125 34.859375 57.328125 23.390625 \nQ 57.328125 12.15625 50.6875 5.359375 \nQ 44.046875 -1.421875 33.015625 -1.421875 \nQ 20.359375 -1.421875 13.671875 8.265625 \nQ 6.984375 17.96875 6.984375 36.375 \nQ 6.984375 53.65625 15.1875 63.9375 \nQ 23.390625 74.21875 37.203125 74.21875 \nQ 40.921875 74.21875 44.703125 73.484375 \nQ 48.484375 72.75 52.59375 71.296875 \nz\n\" id=\"DejaVuSans-54\"/>\n      </defs>\n      <g transform=\"translate(343.166875 394.277187)scale(0.12 -0.12)\">\n       <use xlink:href=\"#DejaVuSans-48\"/>\n       <use x=\"63.623047\" xlink:href=\"#DejaVuSans-46\"/>\n       <use x=\"95.410156\" xlink:href=\"#DejaVuSans-54\"/>\n      </g>\n     </g>\n    </g>\n    <g id=\"xtick_5\">\n     <g id=\"line2d_9\">\n      <path clip-path=\"url(#pcca4ed7bdf)\" d=\"M 452.68875 378.159062 \nL 452.68875 11.759062 \n\" style=\"fill:none;stroke:#b0b0b0;stroke-linecap:square;stroke-width:0.8;\"/>\n     </g>\n     <g id=\"line2d_10\">\n      <g>\n       <use style=\"stroke:#000000;stroke-width:0.8;\" x=\"452.68875\" xlink:href=\"#m0559c1210a\" y=\"378.159062\"/>\n      </g>\n     </g>\n     <g id=\"text_5\">\n      <!-- 0.8 -->\n      <defs>\n       <path d=\"M 31.78125 34.625 \nQ 24.75 34.625 20.71875 30.859375 \nQ 16.703125 27.09375 16.703125 20.515625 \nQ 16.703125 13.921875 20.71875 10.15625 \nQ 24.75 6.390625 31.78125 6.390625 \nQ 38.8125 6.390625 42.859375 10.171875 \nQ 46.921875 13.96875 46.921875 20.515625 \nQ 46.921875 27.09375 42.890625 30.859375 \nQ 38.875 34.625 31.78125 34.625 \nz\nM 21.921875 38.8125 \nQ 15.578125 40.375 12.03125 44.71875 \nQ 8.5 49.078125 8.5 55.328125 \nQ 8.5 64.0625 14.71875 69.140625 \nQ 20.953125 74.21875 31.78125 74.21875 \nQ 42.671875 74.21875 48.875 69.140625 \nQ 55.078125 64.0625 55.078125 55.328125 \nQ 55.078125 49.078125 51.53125 44.71875 \nQ 48 40.375 41.703125 38.8125 \nQ 48.828125 37.15625 52.796875 32.3125 \nQ 56.78125 27.484375 56.78125 20.515625 \nQ 56.78125 9.90625 50.3125 4.234375 \nQ 43.84375 -1.421875 31.78125 -1.421875 \nQ 19.734375 -1.421875 13.25 4.234375 \nQ 6.78125 9.90625 6.78125 20.515625 \nQ 6.78125 27.484375 10.78125 32.3125 \nQ 14.796875 37.15625 21.921875 38.8125 \nz\nM 18.3125 54.390625 \nQ 18.3125 48.734375 21.84375 45.5625 \nQ 25.390625 42.390625 31.78125 42.390625 \nQ 38.140625 42.390625 41.71875 45.5625 \nQ 45.3125 48.734375 45.3125 54.390625 \nQ 45.3125 60.0625 41.71875 63.234375 \nQ 38.140625 66.40625 31.78125 66.40625 \nQ 25.390625 66.40625 21.84375 63.234375 \nQ 18.3125 60.0625 18.3125 54.390625 \nz\n\" id=\"DejaVuSans-56\"/>\n      </defs>\n      <g transform=\"translate(443.146875 394.277187)scale(0.12 -0.12)\">\n       <use xlink:href=\"#DejaVuSans-48\"/>\n       <use x=\"63.623047\" xlink:href=\"#DejaVuSans-46\"/>\n       <use x=\"95.410156\" xlink:href=\"#DejaVuSans-56\"/>\n      </g>\n     </g>\n    </g>\n    <g id=\"xtick_6\">\n     <g id=\"line2d_11\">\n      <path clip-path=\"url(#pcca4ed7bdf)\" d=\"M 552.66875 378.159062 \nL 552.66875 11.759062 \n\" style=\"fill:none;stroke:#b0b0b0;stroke-linecap:square;stroke-width:0.8;\"/>\n     </g>\n     <g id=\"line2d_12\">\n      <g>\n       <use style=\"stroke:#000000;stroke-width:0.8;\" x=\"552.66875\" xlink:href=\"#m0559c1210a\" y=\"378.159062\"/>\n      </g>\n     </g>\n     <g id=\"text_6\">\n      <!-- 1.0 -->\n      <defs>\n       <path d=\"M 12.40625 8.296875 \nL 28.515625 8.296875 \nL 28.515625 63.921875 \nL 10.984375 60.40625 \nL 10.984375 69.390625 \nL 28.421875 72.90625 \nL 38.28125 72.90625 \nL 38.28125 8.296875 \nL 54.390625 8.296875 \nL 54.390625 0 \nL 12.40625 0 \nz\n\" id=\"DejaVuSans-49\"/>\n      </defs>\n      <g transform=\"translate(543.126875 394.277187)scale(0.12 -0.12)\">\n       <use xlink:href=\"#DejaVuSans-49\"/>\n       <use x=\"63.623047\" xlink:href=\"#DejaVuSans-46\"/>\n       <use x=\"95.410156\" xlink:href=\"#DejaVuSans-48\"/>\n      </g>\n     </g>\n    </g>\n    <g id=\"text_7\">\n     <!-- Recall -->\n     <defs>\n      <path d=\"M 44.390625 34.1875 \nQ 47.5625 33.109375 50.5625 29.59375 \nQ 53.5625 26.078125 56.59375 19.921875 \nL 66.609375 0 \nL 56 0 \nL 46.6875 18.703125 \nQ 43.0625 26.03125 39.671875 28.421875 \nQ 36.28125 30.8125 30.421875 30.8125 \nL 19.671875 30.8125 \nL 19.671875 0 \nL 9.8125 0 \nL 9.8125 72.90625 \nL 32.078125 72.90625 \nQ 44.578125 72.90625 50.734375 67.671875 \nQ 56.890625 62.453125 56.890625 51.90625 \nQ 56.890625 45.015625 53.6875 40.46875 \nQ 50.484375 35.9375 44.390625 34.1875 \nz\nM 19.671875 64.796875 \nL 19.671875 38.921875 \nL 32.078125 38.921875 \nQ 39.203125 38.921875 42.84375 42.21875 \nQ 46.484375 45.515625 46.484375 51.90625 \nQ 46.484375 58.296875 42.84375 61.546875 \nQ 39.203125 64.796875 32.078125 64.796875 \nz\n\" id=\"DejaVuSans-82\"/>\n      <path d=\"M 56.203125 29.59375 \nL 56.203125 25.203125 \nL 14.890625 25.203125 \nQ 15.484375 15.921875 20.484375 11.0625 \nQ 25.484375 6.203125 34.421875 6.203125 \nQ 39.59375 6.203125 44.453125 7.46875 \nQ 49.3125 8.734375 54.109375 11.28125 \nL 54.109375 2.78125 \nQ 49.265625 0.734375 44.1875 -0.34375 \nQ 39.109375 -1.421875 33.890625 -1.421875 \nQ 20.796875 -1.421875 13.15625 6.1875 \nQ 5.515625 13.8125 5.515625 26.8125 \nQ 5.515625 40.234375 12.765625 48.109375 \nQ 20.015625 56 32.328125 56 \nQ 43.359375 56 49.78125 48.890625 \nQ 56.203125 41.796875 56.203125 29.59375 \nz\nM 47.21875 32.234375 \nQ 47.125 39.59375 43.09375 43.984375 \nQ 39.0625 48.390625 32.421875 48.390625 \nQ 24.90625 48.390625 20.390625 44.140625 \nQ 15.875 39.890625 15.1875 32.171875 \nz\n\" id=\"DejaVuSans-101\"/>\n      <path d=\"M 48.78125 52.59375 \nL 48.78125 44.1875 \nQ 44.96875 46.296875 41.140625 47.34375 \nQ 37.3125 48.390625 33.40625 48.390625 \nQ 24.65625 48.390625 19.8125 42.84375 \nQ 14.984375 37.3125 14.984375 27.296875 \nQ 14.984375 17.28125 19.8125 11.734375 \nQ 24.65625 6.203125 33.40625 6.203125 \nQ 37.3125 6.203125 41.140625 7.25 \nQ 44.96875 8.296875 48.78125 10.40625 \nL 48.78125 2.09375 \nQ 45.015625 0.34375 40.984375 -0.53125 \nQ 36.96875 -1.421875 32.421875 -1.421875 \nQ 20.0625 -1.421875 12.78125 6.34375 \nQ 5.515625 14.109375 5.515625 27.296875 \nQ 5.515625 40.671875 12.859375 48.328125 \nQ 20.21875 56 33.015625 56 \nQ 37.15625 56 41.109375 55.140625 \nQ 45.0625 54.296875 48.78125 52.59375 \nz\n\" id=\"DejaVuSans-99\"/>\n      <path d=\"M 34.28125 27.484375 \nQ 23.390625 27.484375 19.1875 25 \nQ 14.984375 22.515625 14.984375 16.5 \nQ 14.984375 11.71875 18.140625 8.90625 \nQ 21.296875 6.109375 26.703125 6.109375 \nQ 34.1875 6.109375 38.703125 11.40625 \nQ 43.21875 16.703125 43.21875 25.484375 \nL 43.21875 27.484375 \nz\nM 52.203125 31.203125 \nL 52.203125 0 \nL 43.21875 0 \nL 43.21875 8.296875 \nQ 40.140625 3.328125 35.546875 0.953125 \nQ 30.953125 -1.421875 24.3125 -1.421875 \nQ 15.921875 -1.421875 10.953125 3.296875 \nQ 6 8.015625 6 15.921875 \nQ 6 25.140625 12.171875 29.828125 \nQ 18.359375 34.515625 30.609375 34.515625 \nL 43.21875 34.515625 \nL 43.21875 35.40625 \nQ 43.21875 41.609375 39.140625 45 \nQ 35.0625 48.390625 27.6875 48.390625 \nQ 23 48.390625 18.546875 47.265625 \nQ 14.109375 46.140625 10.015625 43.890625 \nL 10.015625 52.203125 \nQ 14.9375 54.109375 19.578125 55.046875 \nQ 24.21875 56 28.609375 56 \nQ 40.484375 56 46.34375 49.84375 \nQ 52.203125 43.703125 52.203125 31.203125 \nz\n\" id=\"DejaVuSans-97\"/>\n      <path d=\"M 9.421875 75.984375 \nL 18.40625 75.984375 \nL 18.40625 0 \nL 9.421875 0 \nz\n\" id=\"DejaVuSans-108\"/>\n     </defs>\n     <g transform=\"translate(278.49625 412.930312)scale(0.16 -0.16)\">\n      <use xlink:href=\"#DejaVuSans-82\"/>\n      <use x=\"69.419922\" xlink:href=\"#DejaVuSans-101\"/>\n      <use x=\"130.943359\" xlink:href=\"#DejaVuSans-99\"/>\n      <use x=\"185.923828\" xlink:href=\"#DejaVuSans-97\"/>\n      <use x=\"247.203125\" xlink:href=\"#DejaVuSans-108\"/>\n      <use x=\"274.986328\" xlink:href=\"#DejaVuSans-108\"/>\n     </g>\n    </g>\n   </g>\n   <g id=\"matplotlib.axis_2\">\n    <g id=\"ytick_1\">\n     <g id=\"line2d_13\">\n      <path clip-path=\"url(#pcca4ed7bdf)\" d=\"M 52.76875 378.159062 \nL 552.66875 378.159062 \n\" style=\"fill:none;stroke:#b0b0b0;stroke-linecap:square;stroke-width:0.8;\"/>\n     </g>\n     <g id=\"line2d_14\">\n      <defs>\n       <path d=\"M 0 0 \nL -3.5 0 \n\" id=\"m5195b4ac15\" style=\"stroke:#000000;stroke-width:0.8;\"/>\n      </defs>\n      <g>\n       <use style=\"stroke:#000000;stroke-width:0.8;\" x=\"52.76875\" xlink:href=\"#m5195b4ac15\" y=\"378.159062\"/>\n      </g>\n     </g>\n     <g id=\"text_8\">\n      <!-- 0.0 -->\n      <g transform=\"translate(26.685 382.718125)scale(0.12 -0.12)\">\n       <use xlink:href=\"#DejaVuSans-48\"/>\n       <use x=\"63.623047\" xlink:href=\"#DejaVuSans-46\"/>\n       <use x=\"95.410156\" xlink:href=\"#DejaVuSans-48\"/>\n      </g>\n     </g>\n    </g>\n    <g id=\"ytick_2\">\n     <g id=\"line2d_15\">\n      <path clip-path=\"url(#pcca4ed7bdf)\" d=\"M 52.76875 304.879062 \nL 552.66875 304.879062 \n\" style=\"fill:none;stroke:#b0b0b0;stroke-linecap:square;stroke-width:0.8;\"/>\n     </g>\n     <g id=\"line2d_16\">\n      <g>\n       <use style=\"stroke:#000000;stroke-width:0.8;\" x=\"52.76875\" xlink:href=\"#m5195b4ac15\" y=\"304.879062\"/>\n      </g>\n     </g>\n     <g id=\"text_9\">\n      <!-- 0.2 -->\n      <g transform=\"translate(26.685 309.438125)scale(0.12 -0.12)\">\n       <use xlink:href=\"#DejaVuSans-48\"/>\n       <use x=\"63.623047\" xlink:href=\"#DejaVuSans-46\"/>\n       <use x=\"95.410156\" xlink:href=\"#DejaVuSans-50\"/>\n      </g>\n     </g>\n    </g>\n    <g id=\"ytick_3\">\n     <g id=\"line2d_17\">\n      <path clip-path=\"url(#pcca4ed7bdf)\" d=\"M 52.76875 231.599062 \nL 552.66875 231.599062 \n\" style=\"fill:none;stroke:#b0b0b0;stroke-linecap:square;stroke-width:0.8;\"/>\n     </g>\n     <g id=\"line2d_18\">\n      <g>\n       <use style=\"stroke:#000000;stroke-width:0.8;\" x=\"52.76875\" xlink:href=\"#m5195b4ac15\" y=\"231.599062\"/>\n      </g>\n     </g>\n     <g id=\"text_10\">\n      <!-- 0.4 -->\n      <g transform=\"translate(26.685 236.158125)scale(0.12 -0.12)\">\n       <use xlink:href=\"#DejaVuSans-48\"/>\n       <use x=\"63.623047\" xlink:href=\"#DejaVuSans-46\"/>\n       <use x=\"95.410156\" xlink:href=\"#DejaVuSans-52\"/>\n      </g>\n     </g>\n    </g>\n    <g id=\"ytick_4\">\n     <g id=\"line2d_19\">\n      <path clip-path=\"url(#pcca4ed7bdf)\" d=\"M 52.76875 158.319062 \nL 552.66875 158.319062 \n\" style=\"fill:none;stroke:#b0b0b0;stroke-linecap:square;stroke-width:0.8;\"/>\n     </g>\n     <g id=\"line2d_20\">\n      <g>\n       <use style=\"stroke:#000000;stroke-width:0.8;\" x=\"52.76875\" xlink:href=\"#m5195b4ac15\" y=\"158.319062\"/>\n      </g>\n     </g>\n     <g id=\"text_11\">\n      <!-- 0.6 -->\n      <g transform=\"translate(26.685 162.878125)scale(0.12 -0.12)\">\n       <use xlink:href=\"#DejaVuSans-48\"/>\n       <use x=\"63.623047\" xlink:href=\"#DejaVuSans-46\"/>\n       <use x=\"95.410156\" xlink:href=\"#DejaVuSans-54\"/>\n      </g>\n     </g>\n    </g>\n    <g id=\"ytick_5\">\n     <g id=\"line2d_21\">\n      <path clip-path=\"url(#pcca4ed7bdf)\" d=\"M 52.76875 85.039062 \nL 552.66875 85.039062 \n\" style=\"fill:none;stroke:#b0b0b0;stroke-linecap:square;stroke-width:0.8;\"/>\n     </g>\n     <g id=\"line2d_22\">\n      <g>\n       <use style=\"stroke:#000000;stroke-width:0.8;\" x=\"52.76875\" xlink:href=\"#m5195b4ac15\" y=\"85.039062\"/>\n      </g>\n     </g>\n     <g id=\"text_12\">\n      <!-- 0.8 -->\n      <g transform=\"translate(26.685 89.598125)scale(0.12 -0.12)\">\n       <use xlink:href=\"#DejaVuSans-48\"/>\n       <use x=\"63.623047\" xlink:href=\"#DejaVuSans-46\"/>\n       <use x=\"95.410156\" xlink:href=\"#DejaVuSans-56\"/>\n      </g>\n     </g>\n    </g>\n    <g id=\"ytick_6\">\n     <g id=\"line2d_23\">\n      <path clip-path=\"url(#pcca4ed7bdf)\" d=\"M 52.76875 11.759062 \nL 552.66875 11.759062 \n\" style=\"fill:none;stroke:#b0b0b0;stroke-linecap:square;stroke-width:0.8;\"/>\n     </g>\n     <g id=\"line2d_24\">\n      <g>\n       <use style=\"stroke:#000000;stroke-width:0.8;\" x=\"52.76875\" xlink:href=\"#m5195b4ac15\" y=\"11.759062\"/>\n      </g>\n     </g>\n     <g id=\"text_13\">\n      <!-- 1.0 -->\n      <g transform=\"translate(26.685 16.318125)scale(0.12 -0.12)\">\n       <use xlink:href=\"#DejaVuSans-49\"/>\n       <use x=\"63.623047\" xlink:href=\"#DejaVuSans-46\"/>\n       <use x=\"95.410156\" xlink:href=\"#DejaVuSans-48\"/>\n      </g>\n     </g>\n    </g>\n    <g id=\"text_14\">\n     <!-- Precision -->\n     <defs>\n      <path d=\"M 19.671875 64.796875 \nL 19.671875 37.40625 \nL 32.078125 37.40625 \nQ 38.96875 37.40625 42.71875 40.96875 \nQ 46.484375 44.53125 46.484375 51.125 \nQ 46.484375 57.671875 42.71875 61.234375 \nQ 38.96875 64.796875 32.078125 64.796875 \nz\nM 9.8125 72.90625 \nL 32.078125 72.90625 \nQ 44.34375 72.90625 50.609375 67.359375 \nQ 56.890625 61.8125 56.890625 51.125 \nQ 56.890625 40.328125 50.609375 34.8125 \nQ 44.34375 29.296875 32.078125 29.296875 \nL 19.671875 29.296875 \nL 19.671875 0 \nL 9.8125 0 \nz\n\" id=\"DejaVuSans-80\"/>\n      <path d=\"M 41.109375 46.296875 \nQ 39.59375 47.171875 37.8125 47.578125 \nQ 36.03125 48 33.890625 48 \nQ 26.265625 48 22.1875 43.046875 \nQ 18.109375 38.09375 18.109375 28.8125 \nL 18.109375 0 \nL 9.078125 0 \nL 9.078125 54.6875 \nL 18.109375 54.6875 \nL 18.109375 46.1875 \nQ 20.953125 51.171875 25.484375 53.578125 \nQ 30.03125 56 36.53125 56 \nQ 37.453125 56 38.578125 55.875 \nQ 39.703125 55.765625 41.0625 55.515625 \nz\n\" id=\"DejaVuSans-114\"/>\n      <path d=\"M 9.421875 54.6875 \nL 18.40625 54.6875 \nL 18.40625 0 \nL 9.421875 0 \nz\nM 9.421875 75.984375 \nL 18.40625 75.984375 \nL 18.40625 64.59375 \nL 9.421875 64.59375 \nz\n\" id=\"DejaVuSans-105\"/>\n      <path d=\"M 44.28125 53.078125 \nL 44.28125 44.578125 \nQ 40.484375 46.53125 36.375 47.5 \nQ 32.28125 48.484375 27.875 48.484375 \nQ 21.1875 48.484375 17.84375 46.4375 \nQ 14.5 44.390625 14.5 40.28125 \nQ 14.5 37.15625 16.890625 35.375 \nQ 19.28125 33.59375 26.515625 31.984375 \nL 29.59375 31.296875 \nQ 39.15625 29.25 43.1875 25.515625 \nQ 47.21875 21.78125 47.21875 15.09375 \nQ 47.21875 7.46875 41.1875 3.015625 \nQ 35.15625 -1.421875 24.609375 -1.421875 \nQ 20.21875 -1.421875 15.453125 -0.5625 \nQ 10.6875 0.296875 5.421875 2 \nL 5.421875 11.28125 \nQ 10.40625 8.6875 15.234375 7.390625 \nQ 20.0625 6.109375 24.8125 6.109375 \nQ 31.15625 6.109375 34.5625 8.28125 \nQ 37.984375 10.453125 37.984375 14.40625 \nQ 37.984375 18.0625 35.515625 20.015625 \nQ 33.0625 21.96875 24.703125 23.78125 \nL 21.578125 24.515625 \nQ 13.234375 26.265625 9.515625 29.90625 \nQ 5.8125 33.546875 5.8125 39.890625 \nQ 5.8125 47.609375 11.28125 51.796875 \nQ 16.75 56 26.8125 56 \nQ 31.78125 56 36.171875 55.265625 \nQ 40.578125 54.546875 44.28125 53.078125 \nz\n\" id=\"DejaVuSans-115\"/>\n      <path d=\"M 30.609375 48.390625 \nQ 23.390625 48.390625 19.1875 42.75 \nQ 14.984375 37.109375 14.984375 27.296875 \nQ 14.984375 17.484375 19.15625 11.84375 \nQ 23.34375 6.203125 30.609375 6.203125 \nQ 37.796875 6.203125 41.984375 11.859375 \nQ 46.1875 17.53125 46.1875 27.296875 \nQ 46.1875 37.015625 41.984375 42.703125 \nQ 37.796875 48.390625 30.609375 48.390625 \nz\nM 30.609375 56 \nQ 42.328125 56 49.015625 48.375 \nQ 55.71875 40.765625 55.71875 27.296875 \nQ 55.71875 13.875 49.015625 6.21875 \nQ 42.328125 -1.421875 30.609375 -1.421875 \nQ 18.84375 -1.421875 12.171875 6.21875 \nQ 5.515625 13.875 5.515625 27.296875 \nQ 5.515625 40.765625 12.171875 48.375 \nQ 18.84375 56 30.609375 56 \nz\n\" id=\"DejaVuSans-111\"/>\n      <path d=\"M 54.890625 33.015625 \nL 54.890625 0 \nL 45.90625 0 \nL 45.90625 32.71875 \nQ 45.90625 40.484375 42.875 44.328125 \nQ 39.84375 48.1875 33.796875 48.1875 \nQ 26.515625 48.1875 22.3125 43.546875 \nQ 18.109375 38.921875 18.109375 30.90625 \nL 18.109375 0 \nL 9.078125 0 \nL 9.078125 54.6875 \nL 18.109375 54.6875 \nL 18.109375 46.1875 \nQ 21.34375 51.125 25.703125 53.5625 \nQ 30.078125 56 35.796875 56 \nQ 45.21875 56 50.046875 50.171875 \nQ 54.890625 44.34375 54.890625 33.015625 \nz\n\" id=\"DejaVuSans-110\"/>\n     </defs>\n     <g transform=\"translate(19.3575 230.966562)rotate(-90)scale(0.16 -0.16)\">\n      <use xlink:href=\"#DejaVuSans-80\"/>\n      <use x=\"60.287109\" xlink:href=\"#DejaVuSans-114\"/>\n      <use x=\"101.369141\" xlink:href=\"#DejaVuSans-101\"/>\n      <use x=\"162.892578\" xlink:href=\"#DejaVuSans-99\"/>\n      <use x=\"217.873047\" xlink:href=\"#DejaVuSans-105\"/>\n      <use x=\"245.65625\" xlink:href=\"#DejaVuSans-115\"/>\n      <use x=\"297.755859\" xlink:href=\"#DejaVuSans-105\"/>\n      <use x=\"325.539062\" xlink:href=\"#DejaVuSans-111\"/>\n      <use x=\"386.720703\" xlink:href=\"#DejaVuSans-110\"/>\n     </g>\n    </g>\n   </g>\n   <g id=\"line2d_25\">\n    <path clip-path=\"url(#pcca4ed7bdf)\" d=\"M 552.66875 344.731129 \nL 552.576535 344.736733 \nL 552.576535 344.625552 \nL 552.484319 344.528954 \nL 552.299888 344.487185 \nL 552.299888 344.429391 \nL 552.207673 344.180391 \nL 551.931026 344.112933 \nL 551.931026 344.086613 \nL 551.838811 343.956589 \nL 551.746595 343.962319 \nL 551.746595 343.851068 \nL 551.65438 343.621933 \nL 551.562164 343.627715 \nL 551.562164 343.516653 \nL 551.469949 342.593653 \nL 551.377734 342.599592 \nL 551.377734 342.488828 \nL 551.285518 342.254293 \nL 551.101087 342.242185 \nL 551.101087 342.155324 \nL 551.008872 341.352161 \nL 550.732225 341.278657 \nL 550.732225 341.259398 \nL 550.64001 341.023834 \nL 550.547794 341.030016 \nL 550.547794 340.918859 \nL 550.455579 340.845665 \nL 550.271148 340.771307 \nL 550.271148 340.747249 \nL 550.178933 340.513363 \nL 549.994502 340.490728 \nL 549.994502 340.415166 \nL 549.902286 340.007434 \nL 549.717855 339.968478 \nL 549.717855 339.909293 \nL 549.62564 339.418836 \nL 549.533424 339.425266 \nL 549.533424 339.313971 \nL 549.441209 339.201577 \nL 549.256778 339.170632 \nL 549.256778 339.103477 \nL 549.164563 338.963291 \nL 549.072347 338.969794 \nL 549.072347 338.858889 \nL 548.980132 338.601301 \nL 548.887916 338.607859 \nL 548.887916 338.497245 \nL 548.795701 338.363695 \nL 548.703485 338.370289 \nL 548.703485 338.259107 \nL 548.61127 337.639693 \nL 548.519054 337.646395 \nL 548.519054 337.535271 \nL 548.426839 337.181971 \nL 548.334623 337.188742 \nL 548.334623 337.077619 \nL 548.242408 336.875962 \nL 548.150193 336.88278 \nL 548.150193 336.771687 \nL 548.057977 335.558469 \nL 547.965762 335.565479 \nL 547.965762 335.454544 \nL 547.873546 334.958044 \nL 547.781331 334.965141 \nL 547.781331 334.853871 \nL 547.689115 334.643488 \nL 547.504684 334.565166 \nL 547.504684 334.546789 \nL 547.412469 333.831084 \nL 547.135822 333.751711 \nL 547.135822 333.741669 \nL 547.043607 332.919285 \nL 546.951392 332.926683 \nL 546.951392 332.815963 \nL 546.859176 332.338752 \nL 546.674745 332.250849 \nL 546.674745 332.242256 \nL 546.58253 331.593845 \nL 546.490314 331.601436 \nL 546.490314 331.490677 \nL 546.398099 331.22809 \nL 546.213668 331.147759 \nL 546.213668 331.131973 \nL 546.121452 330.108076 \nL 546.029237 330.11588 \nL 546.029237 330.00492 \nL 545.937022 329.620365 \nL 545.752591 329.53252 \nL 545.752591 329.525276 \nL 545.660375 329.115488 \nL 545.56816 329.123436 \nL 545.56816 329.012666 \nL 545.475944 327.019458 \nL 545.383729 327.027694 \nL 545.383729 326.916588 \nL 545.291513 326.919473 \nL 545.291513 326.008699 \nL 545.199298 326.017073 \nL 545.199298 325.905671 \nL 545.107082 324.879577 \nL 545.014867 324.888105 \nL 545.014867 324.777606 \nL 544.922651 324.002731 \nL 544.830436 324.011379 \nL 544.830436 323.900178 \nL 544.738221 323.548122 \nL 544.55379 323.551813 \nL 544.55379 323.45397 \nL 544.461574 322.382074 \nL 544.277143 322.312112 \nL 544.277143 322.289745 \nL 544.184928 322.065937 \nL 544.000497 322.045076 \nL 544.000497 321.972385 \nL 543.908281 321.854888 \nL 543.816066 321.863835 \nL 543.816066 321.753165 \nL 543.723851 321.721335 \nL 543.631635 321.730303 \nL 543.631635 321.619065 \nL 543.53942 320.902675 \nL 543.447204 320.911752 \nL 543.447204 320.800592 \nL 543.354989 318.752504 \nL 543.262773 318.76186 \nL 543.262773 318.651227 \nL 543.170558 316.623765 \nL 543.078342 316.633393 \nL 543.078342 316.522438 \nL 542.986127 315.981242 \nL 542.893911 315.990954 \nL 542.893911 315.879616 \nL 542.801696 315.324661 \nL 542.70948 315.334458 \nL 542.70948 315.222746 \nL 542.617265 313.773314 \nL 542.52505 313.783305 \nL 542.52505 313.672371 \nL 542.432834 313.528162 \nL 542.248403 313.468695 \nL 542.248403 313.438557 \nL 542.156188 312.362534 \nL 542.063972 312.372706 \nL 542.063972 312.261212 \nL 541.971757 311.243888 \nL 541.879541 311.254198 \nL 541.879541 311.143455 \nL 541.787326 308.444334 \nL 541.69511 308.454979 \nL 541.69511 308.344759 \nL 541.602895 305.299643 \nL 541.418464 305.247815 \nL 541.418464 305.212203 \nL 541.326249 304.386129 \nL 541.234033 304.39725 \nL 541.234033 304.287757 \nL 541.141818 303.678028 \nL 541.049602 303.689233 \nL 541.049602 303.577584 \nL 540.957387 301.68971 \nL 540.865171 301.70114 \nL 540.865171 301.589448 \nL 540.772956 301.440348 \nL 540.68074 301.45181 \nL 540.68074 301.342389 \nL 540.588525 300.022483 \nL 540.496309 300.034104 \nL 540.496309 299.923713 \nL 540.404094 299.218254 \nL 540.219663 299.24168 \nL 540.219663 299.132198 \nL 540.127448 298.078669 \nL 540.035232 298.09051 \nL 540.035232 297.981086 \nL 539.943017 297.726452 \nL 539.850801 297.738335 \nL 539.850801 297.627904 \nL 539.758586 295.102944 \nL 539.574155 295.041637 \nL 539.574155 295.016628 \nL 539.481939 294.532719 \nL 539.297509 294.481182 \nL 539.297509 294.44857 \nL 539.205293 294.228196 \nL 539.113078 294.240463 \nL 539.113078 294.130989 \nL 539.020862 293.56943 \nL 538.928647 293.581769 \nL 538.928647 293.470527 \nL 538.836431 292.396178 \nL 538.652 292.352511 \nL 538.652 292.310539 \nL 538.559785 291.993481 \nL 538.467569 292.005991 \nL 538.467569 291.894309 \nL 538.375354 290.963546 \nL 538.283138 290.976164 \nL 538.283138 290.865701 \nL 538.190923 289.538882 \nL 538.098708 289.551646 \nL 538.098708 289.44158 \nL 538.006492 289.184177 \nL 537.914277 289.19698 \nL 537.914277 289.085988 \nL 537.822061 289.094688 \nL 537.822061 288.871872 \nL 537.545415 288.860741 \nL 537.545415 288.798599 \nL 537.453199 287.843516 \nL 537.268768 287.822807 \nL 537.268768 287.759175 \nL 537.176553 287.225528 \nL 537.084338 287.238543 \nL 537.084338 287.126715 \nL 536.992122 286.178071 \nL 536.899907 286.191191 \nL 536.899907 286.081134 \nL 536.807691 285.517752 \nL 536.62326 285.432453 \nL 536.531045 284.642745 \nL 536.346614 284.637447 \nL 536.346614 284.559998 \nL 536.254398 284.280589 \nL 536.162183 284.293908 \nL 536.162183 284.183683 \nL 536.069967 283.207401 \nL 535.977752 283.220824 \nL 535.977752 283.112726 \nL 535.885537 282.026771 \nL 535.793321 282.040307 \nL 535.793321 281.92946 \nL 535.701106 280.224249 \nL 535.60889 280.237952 \nL 535.60889 280.127872 \nL 535.516675 280.136577 \nL 535.516675 279.663427 \nL 535.332244 279.579566 \nL 535.240028 276.981842 \nL 535.055597 276.983139 \nL 535.055597 276.897596 \nL 535.055597 276.586286 \nL 534.963382 276.589556 \nL 534.778951 276.601485 \nL 534.778951 276.509851 \nL 534.686736 276.003365 \nL 534.59452 276.017463 \nL 534.59452 275.908355 \nL 534.502305 274.796194 \nL 534.410089 274.810399 \nL 534.410089 274.698653 \nL 534.317874 274.432466 \nL 534.041227 274.390797 \nL 534.041227 274.368268 \nL 533.949012 273.410257 \nL 533.764581 273.421714 \nL 533.764581 273.329794 \nL 533.672366 271.792106 \nL 533.58015 271.806582 \nL 533.58015 271.699904 \nL 533.487935 270.774838 \nL 533.303504 270.695203 \nL 533.211288 269.319106 \nL 532.934642 269.276241 \nL 532.934642 269.251379 \nL 532.842426 268.76021 \nL 532.657996 268.752039 \nL 532.657996 268.682941 \nL 532.56578 268.148144 \nL 532.381349 268.158693 \nL 532.381349 268.069727 \nL 532.289134 265.666886 \nL 532.196918 265.681878 \nL 532.196918 265.575516 \nL 532.104703 264.934688 \nL 532.012487 264.94974 \nL 532.012487 264.841948 \nL 531.920272 262.643354 \nL 531.828056 262.658577 \nL 531.828056 262.546332 \nL 531.735841 262.512393 \nL 531.643625 262.527631 \nL 531.643625 262.415088 \nL 531.55141 262.162184 \nL 531.459195 262.177454 \nL 531.459195 262.07127 \nL 531.366979 260.956227 \nL 531.274764 260.971587 \nL 531.274764 260.86314 \nL 531.182548 259.930228 \nL 531.090333 259.945664 \nL 531.090333 259.835267 \nL 530.998117 259.317959 \nL 530.905902 259.333443 \nL 530.905902 259.221856 \nL 530.813686 258.299304 \nL 530.721471 258.314862 \nL 530.721471 258.208886 \nL 530.629255 257.054024 \nL 530.352609 257.015957 \nL 530.352609 256.992751 \nL 530.260394 256.315944 \nL 530.168178 256.331651 \nL 530.168178 256.222009 \nL 530.075963 255.599517 \nL 529.983747 255.615277 \nL 529.983747 255.504298 \nL 529.891532 254.318352 \nL 529.799316 254.334198 \nL 529.799316 254.228946 \nL 529.707101 253.503044 \nL 529.614885 253.518947 \nL 529.614885 253.412262 \nL 529.52267 252.434764 \nL 529.430454 252.450739 \nL 529.430454 252.342176 \nL 529.338239 251.73663 \nL 529.246024 251.752653 \nL 529.246024 251.642837 \nL 529.153808 250.910498 \nL 529.061593 250.926576 \nL 529.061593 250.815277 \nL 528.969377 249.629099 \nL 528.784946 249.635225 \nL 528.784946 249.556574 \nL 528.692731 248.211949 \nL 528.600515 248.228199 \nL 528.600515 248.120958 \nL 528.5083 247.976032 \nL 528.323869 247.94579 \nL 528.323869 247.900907 \nL 528.231654 247.430504 \nL 528.139438 247.446813 \nL 528.139438 247.338173 \nL 528.047223 247.082114 \nL 527.955007 247.098449 \nL 527.955007 246.989186 \nL 527.862792 246.207937 \nL 527.770576 246.224326 \nL 527.770576 246.113558 \nL 527.770576 245.937793 \nL 527.678361 245.9542 \nL 527.586145 245.97061 \nL 527.586145 245.859371 \nL 527.49393 245.344867 \nL 527.401714 245.361316 \nL 527.401714 245.249005 \nL 527.309499 245.1342 \nL 527.217283 245.150666 \nL 527.217283 245.037955 \nL 527.125068 244.488027 \nL 527.032853 244.504534 \nL 527.032853 244.400176 \nL 526.940637 243.787135 \nL 526.848422 243.803684 \nL 526.848422 243.698187 \nL 526.756206 243.194465 \nL 526.663991 243.211051 \nL 526.663991 243.10458 \nL 526.571775 242.106219 \nL 526.387344 242.139518 \nL 526.387344 242.031285 \nL 526.295129 241.860598 \nL 526.110698 241.805028 \nL 526.110698 241.785253 \nL 526.018483 241.216028 \nL 525.926267 241.232741 \nL 525.926267 241.122952 \nL 525.834052 240.366232 \nL 525.741836 240.382992 \nL 525.741836 240.271793 \nL 525.649621 240.136643 \nL 525.557405 240.15342 \nL 525.557405 240.041806 \nL 525.46519 239.415885 \nL 525.372974 239.432703 \nL 525.372974 239.319876 \nL 525.280759 238.976499 \nL 525.188543 238.993345 \nL 525.188543 238.890091 \nL 525.096328 238.461221 \nL 525.004112 238.478098 \nL 525.004112 238.374037 \nL 524.911897 237.805329 \nL 524.819682 237.822242 \nL 524.819682 237.717161 \nL 524.727466 237.25928 \nL 524.635251 237.276225 \nL 524.635251 237.170282 \nL 524.543035 236.355416 \nL 524.45082 236.372408 \nL 524.45082 236.265059 \nL 524.358604 235.612878 \nL 524.266389 235.629909 \nL 524.266389 235.521389 \nL 524.174173 234.333769 \nL 524.081958 234.350861 \nL 524.081958 234.240341 \nL 523.989742 231.851022 \nL 523.897527 231.868222 \nL 523.897527 231.765256 \nL 523.805312 230.941946 \nL 523.713096 230.959188 \nL 523.713096 230.854898 \nL 523.620881 229.538281 \nL 523.528665 229.555583 \nL 523.528665 229.449252 \nL 523.43645 228.753806 \nL 523.344234 228.771143 \nL 523.344234 228.663644 \nL 523.252019 228.489503 \nL 523.159803 228.506857 \nL 523.159803 228.398934 \nL 523.067588 227.97099 \nL 522.975372 227.988369 \nL 522.975372 227.879655 \nL 522.883157 226.82574 \nL 522.790941 226.843166 \nL 522.790941 226.732743 \nL 522.698726 225.960301 \nL 522.606511 225.977763 \nL 522.606511 225.866029 \nL 522.514295 225.72182 \nL 522.42208 225.739296 \nL 522.42208 225.627168 \nL 522.329864 224.892916 \nL 522.237649 224.910426 \nL 522.237649 224.809638 \nL 522.145433 224.814547 \nL 522.145433 224.751478 \nL 522.053218 224.769 \nL 522.053218 224.667986 \nL 521.961002 223.655234 \nL 521.868787 223.672796 \nL 521.868787 223.570292 \nL 521.776571 222.347156 \nL 521.592141 222.330252 \nL 521.592141 222.278092 \nL 521.499925 221.982023 \nL 521.315494 221.925561 \nL 521.315494 221.912449 \nL 521.223279 220.82077 \nL 521.131063 220.838444 \nL 521.131063 220.731975 \nL 521.038848 220.161508 \nL 520.946632 220.179207 \nL 520.946632 220.071802 \nL 520.854417 218.460763 \nL 520.762201 218.478513 \nL 520.762201 218.368739 \nL 520.669986 217.932087 \nL 520.57777 217.949857 \nL 520.57777 217.839311 \nL 520.485555 217.274221 \nL 520.39334 217.292015 \nL 520.39334 217.180515 \nL 520.39334 217.054892 \nL 520.301124 217.058724 \nL 520.208909 217.07653 \nL 520.208909 216.964687 \nL 520.116693 216.968507 \nL 520.116693 216.828463 \nL 520.024478 216.846281 \nL 520.024478 216.734073 \nL 519.932262 216.174387 \nL 519.747831 216.195934 \nL 519.747831 216.096909 \nL 519.655616 214.816349 \nL 519.5634 214.83423 \nL 519.5634 214.733492 \nL 519.5634 214.63263 \nL 519.471185 214.6361 \nL 519.37897 214.653992 \nL 519.37897 214.552991 \nL 519.286754 213.480882 \nL 519.194539 213.498805 \nL 519.194539 213.396331 \nL 519.102323 212.663814 \nL 519.010108 212.68176 \nL 519.010108 212.578226 \nL 518.917892 211.35863 \nL 518.825677 211.376607 \nL 518.825677 211.271391 \nL 518.825677 211.105783 \nL 518.733461 211.123768 \nL 518.641246 211.141757 \nL 518.641246 211.036202 \nL 518.54903 210.615481 \nL 518.456815 210.633485 \nL 518.456815 210.527245 \nL 518.364599 210.042596 \nL 518.272384 210.060617 \nL 518.272384 209.953606 \nL 518.180169 208.676815 \nL 518.087953 208.694865 \nL 518.087953 208.586064 \nL 517.995738 208.510751 \nL 517.903522 208.52881 \nL 517.903522 208.419753 \nL 517.811307 207.717664 \nL 517.626876 207.706645 \nL 517.626876 207.643701 \nL 517.53466 207.646043 \nL 517.53466 207.614548 \nL 517.258014 207.590042 \nL 517.258014 207.558508 \nL 517.165799 207.118054 \nL 516.981368 207.106702 \nL 516.981368 207.043226 \nL 516.889152 206.679501 \nL 516.612506 206.686044 \nL 516.612506 206.622205 \nL 516.612506 206.574294 \nL 516.52029 206.592433 \nL 516.335859 206.612746 \nL 516.335859 206.51683 \nL 516.243644 206.358857 \nL 516.151428 206.377014 \nL 516.151428 206.264748 \nL 516.059213 205.800111 \nL 515.966998 205.818282 \nL 515.966998 205.705239 \nL 515.874782 204.190943 \nL 515.690351 204.194436 \nL 515.690351 204.128596 \nL 515.598136 203.336209 \nL 515.50592 203.354423 \nL 515.50592 203.254648 \nL 515.413705 202.722071 \nL 515.229274 202.741783 \nL 515.229274 202.658012 \nL 515.137058 202.441262 \nL 515.044843 202.459503 \nL 515.044843 202.358603 \nL 514.952628 200.161893 \nL 514.860412 200.180156 \nL 514.860412 200.076579 \nL 514.860412 199.93829 \nL 514.768197 199.939257 \nL 514.583766 199.975804 \nL 514.583766 199.871927 \nL 514.49155 199.71681 \nL 514.399335 199.735094 \nL 514.399335 199.630894 \nL 514.307119 198.265792 \nL 514.214904 198.284089 \nL 514.214904 198.178146 \nL 514.122688 197.522563 \nL 513.938257 197.470136 \nL 513.938257 197.452317 \nL 513.938257 196.700714 \nL 513.846042 196.719031 \nL 513.661611 196.70175 \nL 513.661611 196.647793 \nL 513.569396 195.979878 \nL 513.384965 195.980285 \nL 513.384965 195.907718 \nL 513.292749 195.343437 \nL 513.108318 195.380128 \nL 513.108318 195.270471 \nL 513.016103 194.940708 \nL 512.923887 194.959062 \nL 512.923887 194.848856 \nL 512.831672 193.347658 \nL 512.739457 193.366019 \nL 512.739457 193.253842 \nL 512.647241 192.445392 \nL 512.555026 192.463759 \nL 512.555026 192.369334 \nL 512.46281 191.781103 \nL 512.370595 191.799475 \nL 512.370595 191.704335 \nL 512.278379 190.688973 \nL 512.093948 190.667959 \nL 512.093948 190.629428 \nL 512.001733 190.261627 \nL 511.909517 190.28001 \nL 511.909517 190.183215 \nL 511.817302 189.716124 \nL 511.725086 189.734512 \nL 511.725086 189.637115 \nL 511.632871 188.951258 \nL 511.540656 188.969649 \nL 511.540656 188.87142 \nL 511.44844 188.060638 \nL 511.356225 188.079029 \nL 511.356225 187.979833 \nL 511.264009 187.340921 \nL 511.171794 187.359314 \nL 511.171794 187.259325 \nL 511.079578 185.968245 \nL 510.987363 185.986633 \nL 510.987363 185.885158 \nL 510.895147 185.210663 \nL 510.710716 185.226987 \nL 510.710716 185.145124 \nL 510.618501 183.989354 \nL 510.526286 184.007739 \nL 510.526286 183.904059 \nL 510.43407 183.46493 \nL 510.341855 183.483316 \nL 510.341855 183.379033 \nL 510.249639 182.91627 \nL 510.157424 182.934656 \nL 510.157424 182.829742 \nL 510.065208 182.680031 \nL 509.972993 182.698421 \nL 509.972993 182.59321 \nL 509.880777 182.062669 \nL 509.696346 182.057097 \nL 509.696346 181.99353 \nL 509.604131 180.903509 \nL 509.511915 180.921893 \nL 509.511915 180.814652 \nL 509.4197 180.273492 \nL 509.327485 180.291872 \nL 509.327485 180.183902 \nL 509.235269 179.595454 \nL 509.050838 179.523454 \nL 509.050838 178.977872 \nL 508.958623 178.996245 \nL 508.866407 179.014623 \nL 508.866407 178.905143 \nL 508.774192 178.330233 \nL 508.681976 178.348606 \nL 508.681976 178.238347 \nL 508.589761 177.9916 \nL 508.313115 177.9582 \nL 508.313115 177.936054 \nL 508.220899 177.465972 \nL 508.128684 177.484351 \nL 508.128684 177.373001 \nL 508.128684 177.239218 \nL 508.036468 177.257596 \nL 507.852037 177.205073 \nL 507.852037 177.182737 \nL 507.759822 176.820651 \nL 507.667606 176.839036 \nL 507.667606 176.726855 \nL 507.575391 176.137285 \nL 507.39096 176.174046 \nL 507.39096 176.061054 \nL 507.298744 175.966317 \nL 507.206529 175.984704 \nL 507.206529 175.871453 \nL 507.114314 175.047811 \nL 507.022098 175.066185 \nL 507.022098 174.974733 \nL 506.929883 174.718251 \nL 506.837667 174.736625 \nL 506.837667 174.644838 \nL 506.745452 173.439144 \nL 506.653236 173.457496 \nL 506.653236 173.364513 \nL 506.561021 173.010081 \nL 506.468805 173.02843 \nL 506.468805 172.935019 \nL 506.37659 172.531955 \nL 506.192159 172.498241 \nL 506.192159 172.474761 \nL 506.099944 171.383445 \nL 505.915513 171.325105 \nL 505.823297 171.153175 \nL 505.731082 171.171506 \nL 505.731082 171.076241 \nL 505.638866 170.760446 \nL 505.546651 170.778774 \nL 505.546651 170.683108 \nL 505.454435 170.197726 \nL 505.177789 170.156471 \nL 505.085573 169.619726 \nL 504.901143 169.632168 \nL 504.901143 169.559527 \nL 504.901143 169.025279 \nL 504.808927 169.043589 \nL 504.624496 168.982784 \nL 504.532281 168.830363 \nL 504.34785 168.867006 \nL 504.34785 168.769309 \nL 504.255634 168.346852 \nL 504.071203 168.383489 \nL 504.071203 168.28528 \nL 503.978988 167.737091 \nL 503.794557 167.724304 \nL 503.794557 167.674872 \nL 503.702342 167.048423 \nL 503.610126 167.066722 \nL 503.610126 166.967174 \nL 503.517911 166.160578 \nL 503.241264 166.14011 \nL 503.241264 166.114992 \nL 503.241264 165.863487 \nL 503.149049 165.881767 \nL 502.872402 165.835852 \nL 502.780187 165.044402 \nL 502.411325 165.041277 \nL 502.411325 165.015851 \nL 502.31911 164.855982 \nL 502.226894 164.874266 \nL 502.226894 164.772326 \nL 502.134679 164.535325 \nL 502.042463 164.553606 \nL 502.042463 164.451317 \nL 501.950248 164.110802 \nL 501.858032 164.129076 \nL 501.858032 164.026337 \nL 501.765817 163.374377 \nL 501.673602 163.392633 \nL 501.673602 163.289143 \nL 501.581386 162.710373 \nL 501.212524 162.705229 \nL 501.212524 162.679174 \nL 501.120309 162.514855 \nL 500.935878 162.551362 \nL 500.935878 162.446888 \nL 500.843662 161.914972 \nL 500.751447 161.933212 \nL 500.751447 161.828095 \nL 500.659231 161.60944 \nL 500.474801 161.645917 \nL 500.474801 161.540456 \nL 500.382585 161.42672 \nL 500.105939 161.375747 \nL 500.013723 160.996653 \nL 499.829292 160.926924 \nL 499.737077 160.599244 \nL 499.552646 160.582399 \nL 499.552646 160.529051 \nL 499.460431 160.146337 \nL 499.276 160.129223 \nL 499.276 160.075621 \nL 499.183784 159.932881 \nL 498.999353 159.861894 \nL 498.907138 159.799467 \nL 498.630491 159.773461 \nL 498.630491 159.746536 \nL 498.538276 159.468162 \nL 498.353845 159.504647 \nL 498.353845 159.396576 \nL 498.26163 159.333695 \nL 498.077199 159.316069 \nL 498.077199 159.26192 \nL 497.984983 158.737182 \nL 497.708337 158.682961 \nL 497.616121 158.373735 \nL 497.43169 158.355529 \nL 497.43169 158.300825 \nL 497.43169 158.273462 \nL 497.339475 158.291699 \nL 497.062829 158.2369 \nL 496.970613 157.623163 \nL 496.693967 157.595151 \nL 496.693967 157.567567 \nL 496.601751 157.530613 \nL 496.509536 157.548852 \nL 496.509536 157.438381 \nL 496.41732 157.207646 \nL 496.325105 157.22588 \nL 496.325105 157.115039 \nL 496.232889 156.410057 \nL 496.048459 156.446474 \nL 496.048459 156.33478 \nL 496.048459 156.111054 \nL 495.956243 156.129255 \nL 495.864028 156.147461 \nL 495.864028 156.035419 \nL 495.771812 155.969514 \nL 495.587381 155.92175 \nL 495.587381 155.893676 \nL 495.495166 155.799513 \nL 495.218519 155.826041 \nL 495.218519 155.741654 \nL 495.126304 155.252176 \nL 494.757442 155.240149 \nL 494.757442 155.211849 \nL 494.665227 155.003394 \nL 494.296365 155.047884 \nL 494.296365 154.991119 \nL 494.204149 154.781987 \nL 494.019718 154.761509 \nL 494.019718 154.73304 \nL 494.019718 154.619091 \nL 493.927503 154.637308 \nL 493.743072 154.673756 \nL 493.743072 154.588206 \nL 493.650857 154.206314 \nL 493.558641 154.224527 \nL 493.558641 154.138597 \nL 493.466426 153.697378 \nL 493.37421 153.715575 \nL 493.37421 153.629218 \nL 493.281995 153.330186 \nL 493.189779 153.348374 \nL 493.189779 153.261697 \nL 493.097564 152.72935 \nL 492.913133 152.765687 \nL 492.913133 152.678506 \nL 492.820917 152.580324 \nL 492.544271 152.547494 \nL 492.452056 152.419923 \nL 492.267625 152.368734 \nL 492.175409 152.18236 \nL 492.083194 152.200538 \nL 492.083194 152.112753 \nL 492.083194 151.9956 \nL 491.990978 152.013773 \nL 491.898763 152.03195 \nL 491.898763 151.943997 \nL 491.806547 151.727287 \nL 491.714332 151.745457 \nL 491.714332 151.657244 \nL 491.622117 151.41035 \nL 491.529901 151.428512 \nL 491.529901 151.340015 \nL 491.437686 151.003478 \nL 491.161039 150.969079 \nL 491.068824 150.512108 \nL 490.976608 150.530248 \nL 490.976608 150.440935 \nL 490.884393 150.101104 \nL 490.792177 150.11923 \nL 490.792177 150.029557 \nL 490.699962 149.628251 \nL 490.607746 149.646361 \nL 490.607746 149.556277 \nL 490.515531 149.273578 \nL 490.3311 149.249517 \nL 490.3311 149.219373 \nL 490.238885 148.965814 \nL 489.962238 148.98988 \nL 489.962238 148.929398 \nL 489.870023 148.492837 \nL 489.777807 148.510921 \nL 489.777807 148.419766 \nL 489.685592 148.346619 \nL 489.593376 148.364703 \nL 489.593376 148.273394 \nL 489.501161 147.925495 \nL 489.31673 147.90052 \nL 489.31673 147.869949 \nL 489.224515 147.826854 \nL 488.671222 147.843531 \nL 488.579006 147.493497 \nL 488.486791 147.51158 \nL 488.486791 147.419358 \nL 488.394575 147.314357 \nL 488.30236 147.332439 \nL 488.30236 147.240034 \nL 488.210145 146.949548 \nL 488.117929 146.967616 \nL 488.117929 146.87488 \nL 488.025714 146.676262 \nL 487.933498 146.694324 \nL 487.933498 146.601328 \nL 487.841283 146.433164 \nL 487.656852 146.43821 \nL 487.656852 146.376044 \nL 487.564636 146.269667 \nL 487.472421 146.287724 \nL 487.472421 146.194303 \nL 487.380205 146.056482 \nL 487.28799 146.074535 \nL 487.28799 145.980902 \nL 487.28799 145.855941 \nL 487.195775 145.873986 \nL 487.103559 145.892037 \nL 487.103559 145.798217 \nL 487.011344 145.188822 \nL 486.734697 145.148468 \nL 486.642482 144.977404 \nL 486.458051 144.918781 \nL 486.458051 144.69758 \nL 486.365835 144.715594 \nL 485.904758 144.710772 \nL 485.812543 144.093711 \nL 485.351465 144.088192 \nL 485.25925 143.723046 \nL 485.167034 143.741052 \nL 485.167034 143.645058 \nL 485.074819 143.406678 \nL 484.890388 143.346371 \nL 484.798173 142.623387 \nL 484.705957 142.641346 \nL 484.705957 142.544345 \nL 484.705957 142.155542 \nL 484.613742 142.173476 \nL 484.337095 142.129881 \nL 484.337095 141.934789 \nL 484.24488 141.952725 \nL 484.060449 141.98861 \nL 484.060449 141.890925 \nL 483.968233 141.647964 \nL 483.876018 141.665897 \nL 483.876018 141.567902 \nL 483.783803 141.35685 \nL 483.599372 141.294416 \nL 483.507156 141.148344 \nL 483.322725 141.08567 \nL 483.23051 140.939201 \nL 483.138294 140.95712 \nL 483.138294 140.858369 \nL 483.046079 140.546498 \nL 482.861648 140.549274 \nL 482.861648 140.483179 \nL 482.769433 140.103719 \nL 482.585002 140.073129 \nL 482.585002 140.039933 \nL 482.585002 139.873811 \nL 482.492786 139.891689 \nL 482.308355 139.827656 \nL 482.21614 139.311806 \nL 482.123924 139.329663 \nL 482.123924 139.229315 \nL 482.031709 138.912043 \nL 481.847278 138.880578 \nL 481.847278 138.846991 \nL 481.755062 138.764006 \nL 481.293985 138.752313 \nL 481.20177 138.601731 \nL 480.648477 138.607703 \nL 480.648477 138.472611 \nL 480.556262 138.490478 \nL 480.464046 138.50835 \nL 480.464046 138.406918 \nL 480.464046 138.3054 \nL 480.371831 138.323264 \nL 480.279615 138.341132 \nL 480.279615 138.239514 \nL 480.1874 137.95199 \nL 480.095184 137.969842 \nL 480.095184 137.867865 \nL 480.095184 137.799833 \nL 480.002969 137.817678 \nL 479.726322 137.769095 \nL 479.634107 137.309077 \nL 479.541891 137.326908 \nL 479.541891 137.224251 \nL 479.449676 137.07078 \nL 478.896383 137.109176 \nL 478.896383 137.074853 \nL 478.896383 137.040521 \nL 478.804168 137.058365 \nL 478.619737 137.059718 \nL 478.619737 136.99099 \nL 478.619737 136.956611 \nL 478.527521 136.97446 \nL 478.250875 136.959234 \nL 478.250875 136.924816 \nL 478.15866 136.770431 \nL 478.066444 136.788287 \nL 478.066444 136.684813 \nL 477.974229 136.495438 \nL 477.420936 136.5334 \nL 477.420936 136.498793 \nL 477.32872 136.378125 \nL 477.14429 136.309837 \nL 477.052074 136.015081 \nL 476.867643 136.050787 \nL 476.867643 135.946385 \nL 476.775428 135.755149 \nL 476.31435 135.739702 \nL 476.31435 135.704776 \nL 476.222135 135.722636 \nL 476.12992 135.740501 \nL 476.12992 135.635648 \nL 476.12992 135.39064 \nL 476.037704 135.408485 \nL 475.853273 135.444191 \nL 475.853273 135.339013 \nL 475.853273 135.093244 \nL 475.761058 135.11108 \nL 475.668842 135.128921 \nL 475.668842 135.023424 \nL 475.576627 134.829978 \nL 475.29998 134.812954 \nL 475.29998 134.777677 \nL 475.29998 134.70709 \nL 475.207765 134.724922 \nL 474.746688 134.743499 \nL 474.746688 134.708155 \nL 474.654472 134.123541 \nL 474.562257 134.141357 \nL 474.562257 134.034722 \nL 474.562257 133.999156 \nL 474.470041 134.016967 \nL 474.377826 134.034784 \nL 474.377826 133.928008 \nL 474.28561 133.874582 \nL 474.008964 133.892396 \nL 474.008964 133.821077 \nL 473.916749 133.588937 \nL 473.732318 133.553037 \nL 473.732318 133.517261 \nL 473.640102 133.320175 \nL 473.455671 133.319924 \nL 473.455671 133.248176 \nL 473.363456 133.194184 \nL 472.994594 133.157624 \nL 472.902378 132.959533 \nL 472.717948 132.923084 \nL 472.717948 132.887035 \nL 472.625732 132.579907 \nL 472.349086 132.560948 \nL 472.349086 132.524762 \nL 472.25687 132.216374 \nL 472.072439 132.215632 \nL 472.072439 132.142996 \nL 471.980224 131.468541 \nL 471.888008 131.486273 \nL 471.888008 131.376608 \nL 471.795793 131.284567 \nL 471.2425 131.281082 \nL 471.2425 131.24442 \nL 471.150285 131.262167 \nL 470.965854 131.260994 \nL 470.965854 131.1876 \nL 470.873638 130.727189 \nL 470.689207 130.725774 \nL 470.689207 130.652012 \nL 470.596992 130.44817 \nL 470.320346 130.390365 \nL 470.22813 130.334051 \nL 470.135915 130.35177 \nL 470.135915 130.240629 \nL 470.043699 130.147095 \nL 469.398191 130.159782 \nL 469.398191 130.011079 \nL 469.305976 130.028808 \nL 468.752683 130.023587 \nL 468.752683 129.949061 \nL 468.660467 129.966813 \nL 468.476036 129.965043 \nL 468.476036 129.890432 \nL 468.383821 129.68407 \nL 468.107175 129.699924 \nL 468.107175 129.625087 \nL 468.014959 129.530491 \nL 467.830528 129.453528 \nL 467.830528 129.303411 \nL 467.738313 129.321151 \nL 467.553882 129.281503 \nL 467.553882 129.243914 \nL 467.553882 129.206313 \nL 467.461666 129.224057 \nL 467.369451 129.241807 \nL 467.369451 129.128919 \nL 467.369451 128.940545 \nL 467.277236 128.958276 \nL 467.18502 128.976012 \nL 467.18502 128.90057 \nL 467.18502 128.74955 \nL 467.092805 128.767273 \nL 467.000589 128.785002 \nL 467.000589 128.709411 \nL 467.000589 128.633774 \nL 466.908374 128.651496 \nL 466.631727 128.704694 \nL 466.631727 128.628987 \nL 466.539512 128.570965 \nL 466.17065 128.641943 \nL 466.17065 128.566113 \nL 466.078435 128.507983 \nL 465.986219 128.525734 \nL 465.986219 128.4498 \nL 465.986219 128.37382 \nL 465.894004 128.391564 \nL 465.709573 128.389052 \nL 465.709573 128.351024 \nL 465.709573 128.312984 \nL 465.617357 128.330735 \nL 465.525142 128.348491 \nL 465.525142 128.272364 \nL 465.432926 128.137715 \nL 465.248495 128.096933 \nL 465.15628 127.73253 \nL 464.787418 127.726876 \nL 464.787418 127.573543 \nL 464.695203 127.591273 \nL 464.326341 127.662249 \nL 464.326341 127.58548 \nL 464.234125 127.103043 \nL 463.957479 127.079056 \nL 463.957479 127.00186 \nL 463.865264 127.019579 \nL 463.680833 126.97777 \nL 463.588617 126.840818 \nL 463.496402 126.858539 \nL 463.496402 126.78112 \nL 463.496402 126.664903 \nL 463.404186 126.682614 \nL 463.035324 126.714731 \nL 463.035324 126.67594 \nL 463.035324 126.598322 \nL 462.943109 126.616047 \nL 462.758678 126.612676 \nL 462.758678 126.573827 \nL 462.666463 126.241352 \nL 462.482032 126.276779 \nL 462.482032 126.198809 \nL 462.389816 125.982304 \nL 462.205385 125.939528 \nL 462.205385 125.861296 \nL 462.11317 125.878994 \nL 461.928739 125.836107 \nL 461.928739 125.796939 \nL 461.836523 125.814644 \nL 461.467662 125.807112 \nL 461.375446 125.31396 \nL 461.006584 125.305937 \nL 460.914369 124.889283 \nL 460.176645 124.951617 \nL 460.176645 124.83274 \nL 460.08443 124.850438 \nL 459.438922 124.895113 \nL 459.346706 124.59485 \nL 459.162275 124.59047 \nL 459.162275 124.550644 \nL 459.162275 124.391217 \nL 459.07006 124.408921 \nL 458.793413 124.38225 \nL 458.701198 124.320095 \nL 458.516767 124.355536 \nL 458.516767 124.275598 \nL 458.516767 124.23561 \nL 458.424552 124.253328 \nL 458.240121 124.208747 \nL 458.147905 123.905803 \nL 457.963474 123.860911 \nL 457.871259 123.758051 \nL 457.686828 123.793466 \nL 457.686828 123.713008 \nL 457.686828 123.672761 \nL 457.594612 123.690466 \nL 457.225751 123.680773 \nL 457.133535 123.416079 \nL 457.04132 123.433785 \nL 457.04132 123.352971 \nL 457.04132 123.150712 \nL 456.949104 123.168399 \nL 456.488027 123.216405 \nL 456.488027 123.17588 \nL 456.395811 122.990757 \nL 456.303596 123.008458 \nL 456.303596 122.927226 \nL 456.211381 122.741599 \nL 456.119165 122.759286 \nL 456.119165 122.677857 \nL 456.119165 122.474059 \nL 456.02695 122.491726 \nL 455.934734 122.509398 \nL 455.934734 122.427773 \nL 455.842519 122.363758 \nL 455.473657 122.3527 \nL 455.473657 122.311797 \nL 455.381441 122.329477 \nL 454.828149 122.394733 \nL 454.828149 122.353778 \nL 454.735933 122.248535 \nL 454.551502 122.201904 \nL 454.551502 122.1198 \nL 454.459287 122.137503 \nL 454.090425 122.167282 \nL 454.090425 122.126179 \nL 453.99821 122.061649 \nL 453.537132 122.067972 \nL 453.444917 121.714475 \nL 452.983839 121.761771 \nL 452.983839 121.720424 \nL 452.983839 121.679062 \nL 452.891624 121.696794 \nL 452.430547 121.744142 \nL 452.430547 121.702732 \nL 452.430547 121.453987 \nL 452.338331 121.471722 \nL 451.969469 121.459661 \nL 451.877254 121.269511 \nL 451.692823 121.221731 \nL 451.692823 121.180074 \nL 451.600608 121.197817 \nL 451.416177 121.23332 \nL 451.416177 121.149944 \nL 451.323961 120.917217 \nL 450.955099 120.946382 \nL 450.955099 120.904558 \nL 450.955099 120.862722 \nL 450.862884 120.880468 \nL 450.678453 120.83224 \nL 450.586238 120.68234 \nL 450.494022 120.700086 \nL 450.494022 120.616168 \nL 450.401807 120.507921 \nL 449.848514 120.572385 \nL 449.848514 120.530323 \nL 449.756298 120.295404 \nL 449.479652 120.306486 \nL 449.479652 120.264298 \nL 449.479652 120.137651 \nL 449.387437 120.155395 \nL 449.295221 120.173145 \nL 449.295221 120.088628 \nL 449.203006 119.979485 \nL 449.11079 119.997226 \nL 449.11079 119.912555 \nL 449.11079 119.785445 \nL 449.018575 119.803171 \nL 448.649713 119.789286 \nL 448.557497 119.594643 \nL 448.004205 119.616027 \nL 448.004205 119.488267 \nL 447.911989 119.506015 \nL 447.450912 119.509549 \nL 447.450912 119.296071 \nL 447.358697 119.313826 \nL 446.436542 119.40611 \nL 446.344326 118.909195 \nL 446.06768 118.876501 \nL 445.975465 118.635873 \nL 445.791034 118.585126 \nL 445.791034 118.412422 \nL 445.698818 118.430165 \nL 445.514387 118.465669 \nL 445.514387 118.379206 \nL 445.422172 117.963732 \nL 445.05331 117.947777 \nL 444.961095 117.7481 \nL 444.776664 117.696454 \nL 444.684448 117.583427 \nL 444.131155 117.602494 \nL 444.131155 117.515147 \nL 444.03894 117.532876 \nL 443.670078 117.516404 \nL 443.577863 117.402858 \nL 443.485647 117.420601 \nL 443.485647 117.332987 \nL 443.393432 117.087507 \nL 443.209001 117.079022 \nL 443.209001 117.035077 \nL 443.209001 116.859147 \nL 443.116785 116.876852 \nL 442.655708 116.877362 \nL 442.563493 116.806919 \nL 442.286846 116.816003 \nL 442.286846 116.771864 \nL 442.194631 116.568665 \nL 442.0102 116.559874 \nL 442.0102 116.515618 \nL 441.917984 116.178717 \nL 441.825769 116.196412 \nL 441.825769 116.107596 \nL 441.825769 115.974259 \nL 441.733554 115.991938 \nL 441.549123 115.938319 \nL 441.456907 115.822388 \nL 441.180261 115.786264 \nL 441.088045 115.714701 \nL 440.99583 115.732387 \nL 440.99583 115.643065 \nL 440.903614 115.571356 \nL 440.626968 115.534932 \nL 440.626968 115.44539 \nL 440.534753 115.463069 \nL 440.442537 115.480754 \nL 440.442537 115.391133 \nL 440.442537 115.121904 \nL 440.350322 115.139558 \nL 440.073675 115.147611 \nL 440.073675 115.102652 \nL 439.98146 114.714953 \nL 439.797029 114.750224 \nL 439.797029 114.659954 \nL 439.797029 114.388771 \nL 439.704813 114.406378 \nL 439.335952 114.386299 \nL 439.243736 114.177216 \nL 439.151521 114.194826 \nL 439.151521 114.104023 \nL 439.059305 113.985293 \nL 438.413797 114.01757 \nL 438.321582 113.670388 \nL 438.229366 113.687987 \nL 438.229366 113.596616 \nL 438.229366 113.550908 \nL 438.137151 113.568497 \nL 437.676073 113.656537 \nL 437.676073 113.565014 \nL 437.583858 113.307651 \nL 437.399427 113.342843 \nL 437.399427 113.251037 \nL 437.399427 113.159167 \nL 437.307212 113.176752 \nL 437.214996 113.194344 \nL 437.214996 113.102391 \nL 437.122781 112.93586 \nL 436.753919 112.914 \nL 436.661703 112.654589 \nL 436.016195 112.685143 \nL 435.92398 112.610135 \nL 435.739549 112.598993 \nL 435.739549 112.552639 \nL 435.647333 112.47747 \nL 434.817394 112.543104 \nL 434.817394 112.450118 \nL 434.725179 112.467746 \nL 434.540748 112.50302 \nL 434.540748 112.409938 \nL 434.448532 112.334417 \nL 433.89524 112.347021 \nL 433.803024 112.177896 \nL 433.526378 112.137329 \nL 433.434162 111.967721 \nL 433.249731 111.956139 \nL 433.249731 111.909256 \nL 433.249731 111.81544 \nL 433.157516 111.833071 \nL 432.973085 111.868352 \nL 432.973085 111.774439 \nL 432.973085 111.633445 \nL 432.88087 111.651069 \nL 432.419792 111.692219 \nL 432.419792 111.64514 \nL 432.327577 111.521439 \nL 431.774284 111.533 \nL 431.774284 111.438552 \nL 431.682069 111.45621 \nL 431.313207 111.432338 \nL 431.220991 111.213279 \nL 431.03656 111.248603 \nL 431.03656 111.153768 \nL 430.944345 111.076517 \nL 430.575483 111.099678 \nL 430.575483 111.052159 \nL 430.575483 111.004622 \nL 430.483268 111.022288 \nL 430.02219 111.015523 \nL 430.02219 110.872615 \nL 429.929975 110.890291 \nL 429.561113 110.865651 \nL 429.561113 110.81792 \nL 429.468898 110.835612 \nL 429.192251 110.840957 \nL 429.192251 110.79317 \nL 429.192251 110.410262 \nL 429.100036 110.427926 \nL 429.00782 110.445595 \nL 429.00782 110.349675 \nL 429.00782 110.205666 \nL 428.915605 110.223315 \nL 428.823389 110.24097 \nL 428.823389 110.144856 \nL 428.731174 109.825526 \nL 428.546743 109.812549 \nL 428.546743 109.764311 \nL 428.454528 109.540455 \nL 428.270097 109.57566 \nL 428.270097 109.478926 \nL 428.177881 109.399711 \nL 427.716804 109.390814 \nL 427.624588 109.214317 \nL 427.532373 109.231918 \nL 427.532373 109.134745 \nL 427.440157 109.055086 \nL 427.163511 109.107878 \nL 427.163511 109.010519 \nL 427.071296 108.686767 \nL 426.702434 108.659335 \nL 426.702434 108.56153 \nL 426.610218 108.579099 \nL 426.333572 108.631843 \nL 426.333572 108.533922 \nL 426.333572 108.43593 \nL 426.241357 108.453501 \nL 425.503633 108.496135 \nL 425.411417 108.218789 \nL 425.319202 108.236378 \nL 425.319202 108.137902 \nL 425.226986 107.908953 \nL 424.765909 107.898028 \nL 424.673694 107.618748 \nL 424.120401 107.67459 \nL 424.120401 107.624996 \nL 424.120401 107.575384 \nL 424.028186 107.592958 \nL 423.382677 107.616788 \nL 423.382677 107.218566 \nL 423.290462 107.236133 \nL 422.9216 107.206668 \nL 422.829385 106.824277 \nL 422.368307 106.811834 \nL 422.276092 106.729075 \nL 422.183876 106.746636 \nL 422.183876 106.646225 \nL 422.091661 106.46271 \nL 421.538368 106.467314 \nL 421.446153 106.232721 \nL 421.353937 106.250262 \nL 421.353937 106.149256 \nL 421.261722 106.065697 \nL 420.985075 106.118304 \nL 420.985075 106.017098 \nL 420.89286 105.831973 \nL 420.800644 105.849491 \nL 420.800644 105.748034 \nL 420.708429 105.511543 \nL 419.786274 105.686716 \nL 419.786274 105.584857 \nL 419.694059 105.347386 \nL 418.956335 105.385459 \nL 418.86412 105.198282 \nL 418.310827 105.252336 \nL 418.310827 105.201047 \nL 418.310827 105.149739 \nL 418.218612 105.167297 \nL 417.84975 105.134858 \nL 417.757534 105.049609 \nL 417.480888 105.050883 \nL 417.480888 104.999402 \nL 417.388673 104.913947 \nL 417.112026 104.966687 \nL 417.112026 104.863537 \nL 417.019811 104.777876 \nL 416.466518 104.780024 \nL 416.466518 104.728296 \nL 416.374302 104.745891 \nL 416.282087 104.763492 \nL 416.282087 104.659952 \nL 416.189872 104.522072 \nL 415.913225 104.47105 \nL 415.913225 104.263239 \nL 415.82101 104.280802 \nL 415.544363 104.333531 \nL 415.544363 104.229454 \nL 415.452148 103.98646 \nL 415.359932 104.00401 \nL 415.359932 103.89963 \nL 415.267717 103.812701 \nL 414.714424 103.813393 \nL 414.622209 103.201403 \nL 414.253347 103.271407 \nL 414.253347 103.166147 \nL 414.253347 103.060805 \nL 414.161131 103.078296 \nL 413.976701 103.113298 \nL 413.976701 103.007836 \nL 413.976701 102.955074 \nL 413.884485 102.972565 \nL 413.700054 102.954764 \nL 413.700054 102.901942 \nL 413.700054 102.849099 \nL 413.607839 102.866589 \nL 413.515623 102.884087 \nL 413.515623 102.778313 \nL 413.515623 102.672459 \nL 413.423408 102.689935 \nL 413.054546 102.759909 \nL 413.054546 102.653905 \nL 412.962331 102.352857 \nL 412.501253 102.333821 \nL 412.501253 102.227325 \nL 412.409038 102.244793 \nL 412.224607 102.17313 \nL 412.132391 101.97709 \nL 411.76353 101.993487 \nL 411.76353 101.940008 \nL 411.671314 101.796892 \nL 411.118021 101.794466 \nL 411.118021 101.740814 \nL 411.025806 101.758286 \nL 410.841375 101.739556 \nL 410.841375 101.685841 \nL 410.841375 101.524569 \nL 410.74916 101.542026 \nL 409.827005 101.663097 \nL 409.827005 101.609199 \nL 409.734789 101.302845 \nL 409.550359 101.229662 \nL 409.458143 101.084732 \nL 409.273712 101.011264 \nL 409.273712 100.90277 \nL 409.181497 100.920221 \nL 408.720419 100.898917 \nL 408.628204 100.753216 \nL 408.167127 100.731636 \nL 408.074911 100.640053 \nL 407.706049 100.600787 \nL 407.706049 100.49149 \nL 407.613834 100.508964 \nL 407.429403 100.48923 \nL 407.429403 100.434506 \nL 407.429403 100.37976 \nL 407.337188 100.397233 \nL 406.968326 100.357562 \nL 406.968326 100.192955 \nL 406.87611 100.210426 \nL 406.507248 100.170455 \nL 406.507248 100.005411 \nL 406.415033 100.022879 \nL 406.322818 100.040353 \nL 406.322818 99.930185 \nL 406.230602 99.837382 \nL 405.585094 99.849275 \nL 405.492878 99.645549 \nL 405.124017 99.660077 \nL 405.124017 99.604665 \nL 405.031801 99.177998 \nL 404.570724 99.153873 \nL 404.478508 99.059881 \nL 404.294077 99.094767 \nL 404.294077 98.983208 \nL 404.294077 98.927395 \nL 404.201862 98.944825 \nL 403.648569 98.937753 \nL 403.556354 98.731316 \nL 403.464138 98.748756 \nL 403.464138 98.636655 \nL 403.371923 98.317198 \nL 403.095276 98.256871 \nL 403.095276 98.200575 \nL 403.003061 98.217964 \nL 402.81863 98.252763 \nL 402.81863 98.140057 \nL 402.726415 97.81874 \nL 402.265337 97.905581 \nL 402.265337 97.84901 \nL 402.265337 97.735799 \nL 402.173122 97.753165 \nL 401.712045 97.78341 \nL 401.712045 97.556431 \nL 401.619829 97.573799 \nL 401.435398 97.55173 \nL 401.343183 97.455374 \nL 401.066536 97.450584 \nL 400.974321 97.354029 \nL 400.697675 97.406179 \nL 400.697675 97.34915 \nL 400.605459 96.909408 \nL 399.77552 97.008328 \nL 399.77552 96.83623 \nL 399.683305 96.853593 \nL 399.314443 96.865661 \nL 399.222227 96.768057 \nL 399.130012 96.785437 \nL 399.130012 96.727897 \nL 399.130012 96.670333 \nL 399.037796 96.687704 \nL 398.945581 96.705083 \nL 398.945581 96.647478 \nL 398.945581 96.589851 \nL 398.853365 96.60722 \nL 398.668934 96.641979 \nL 398.668934 96.584303 \nL 398.668934 96.526603 \nL 398.576719 96.543977 \nL 398.300073 96.596142 \nL 398.300073 96.538386 \nL 398.300073 96.480605 \nL 398.207857 96.497991 \nL 397.838995 96.509761 \nL 397.74678 96.35347 \nL 396.086902 96.609589 \nL 395.994686 96.452638 \nL 395.71804 96.446927 \nL 395.71804 96.388674 \nL 395.625824 96.406177 \nL 395.349178 96.40042 \nL 395.349178 96.342085 \nL 395.256963 96.359601 \nL 395.072532 96.336269 \nL 395.072532 96.16097 \nL 394.980316 96.178474 \nL 394.70367 96.231028 \nL 394.70367 96.172512 \nL 394.611454 95.897051 \nL 394.427023 95.932035 \nL 394.427023 95.873348 \nL 394.427023 95.69714 \nL 394.334808 95.714609 \nL 393.873731 95.743226 \nL 393.873731 95.684365 \nL 393.781515 95.70186 \nL 393.6893 95.719363 \nL 393.6893 95.66046 \nL 393.6893 95.601532 \nL 393.597084 95.619025 \nL 393.504869 95.636525 \nL 393.504869 95.577556 \nL 393.504869 95.518561 \nL 393.412653 95.536051 \nL 393.228222 95.512009 \nL 393.228222 95.334726 \nL 393.136007 95.352203 \nL 392.582714 95.45722 \nL 392.582714 95.398015 \nL 392.490499 95.237746 \nL 392.398283 95.255247 \nL 392.398283 95.195926 \nL 392.398283 94.958391 \nL 392.306068 94.975855 \nL 392.029421 94.96881 \nL 392.029421 94.909304 \nL 391.937206 94.92678 \nL 391.107267 95.024774 \nL 391.015051 94.922982 \nL 390.738405 94.975596 \nL 390.738405 94.915865 \nL 390.738405 94.796328 \nL 390.64619 94.813854 \nL 390.553974 94.831387 \nL 390.553974 94.771562 \nL 390.553974 94.532013 \nL 390.461759 94.549508 \nL 390.185112 94.602041 \nL 390.185112 94.542054 \nL 390.092897 94.319334 \nL 389.908466 94.294176 \nL 389.81625 94.191293 \nL 389.724035 94.208776 \nL 389.724035 94.148541 \nL 389.724035 94.08828 \nL 389.63182 94.105752 \nL 389.170742 94.132883 \nL 389.078527 93.908733 \nL 388.80188 93.900685 \nL 388.709665 93.433124 \nL 388.340803 93.442086 \nL 388.248588 93.155171 \nL 387.879726 93.163857 \nL 387.78751 92.998137 \nL 387.234218 93.041534 \nL 387.142002 92.936564 \nL 386.957571 92.971434 \nL 386.957571 92.910169 \nL 386.865356 92.743625 \nL 386.588709 92.734488 \nL 386.588709 92.611592 \nL 386.496494 92.629002 \nL 386.127632 92.637183 \nL 386.035417 92.408178 \nL 385.666555 92.477853 \nL 385.666555 92.416137 \nL 385.574339 92.310035 \nL 385.482124 92.327452 \nL 385.482124 92.265637 \nL 385.389908 91.973528 \nL 385.205478 92.008283 \nL 385.205478 91.946278 \nL 385.113262 91.591007 \nL 385.021047 91.608335 \nL 385.021047 91.546123 \nL 384.928831 91.37662 \nL 384.836616 91.393924 \nL 384.836616 91.331584 \nL 384.836616 91.206822 \nL 384.7444 91.224105 \nL 384.191107 91.265468 \nL 384.098892 90.907219 \nL 384.006677 90.924492 \nL 384.006677 90.861791 \nL 384.006677 90.547874 \nL 383.914461 90.565095 \nL 383.176737 90.640184 \nL 383.176737 90.577201 \nL 383.084522 90.59447 \nL 382.992307 90.611747 \nL 382.992307 90.548716 \nL 382.900091 90.31355 \nL 382.71566 90.284842 \nL 382.623445 90.112293 \nL 382.346798 90.100638 \nL 382.254583 89.927623 \nL 382.070152 89.898565 \nL 381.977936 89.725104 \nL 381.70129 89.713068 \nL 381.609075 89.475368 \nL 381.332428 89.463087 \nL 381.332428 89.399231 \nL 381.240213 89.416408 \nL 380.68692 89.455672 \nL 380.68692 89.391687 \nL 380.594705 89.408896 \nL 380.502489 89.426113 \nL 380.502489 89.362079 \nL 380.502489 89.233924 \nL 380.410274 89.251118 \nL 379.67255 89.388942 \nL 379.67255 89.324728 \nL 379.67255 89.260486 \nL 379.580335 89.277728 \nL 379.395904 89.312234 \nL 379.395904 89.247932 \nL 379.395904 89.1836 \nL 379.303688 89.200844 \nL 378.842611 89.287178 \nL 378.842611 89.222756 \nL 378.842611 89.158304 \nL 378.750395 89.175573 \nL 378.104887 89.296671 \nL 378.104887 89.232107 \nL 378.012672 89.12019 \nL 377.551594 89.142086 \nL 377.551594 89.077342 \nL 377.459379 89.094666 \nL 377.182733 89.146686 \nL 377.182733 89.08187 \nL 377.182733 88.952152 \nL 377.090517 88.969475 \nL 376.998302 88.986807 \nL 376.998302 88.921882 \nL 376.998302 88.791947 \nL 376.906086 88.809253 \nL 376.537224 88.813493 \nL 376.445009 88.700588 \nL 376.168363 88.752576 \nL 376.168363 88.68738 \nL 376.076147 88.378237 \nL 375.707285 88.447435 \nL 375.707285 88.382007 \nL 375.61507 88.268351 \nL 375.430639 88.302947 \nL 375.430639 88.237398 \nL 375.338423 88.123489 \nL 375.061777 88.175367 \nL 375.061777 88.109685 \nL 374.969562 87.995509 \nL 374.508484 88.016166 \nL 374.508484 87.9503 \nL 374.416269 87.9676 \nL 374.047407 87.970929 \nL 373.955192 87.724106 \nL 373.217468 87.796463 \nL 373.125252 87.016885 \nL 372.57196 87.053633 \nL 372.57196 86.986927 \nL 372.479744 87.004169 \nL 372.018667 87.023694 \nL 372.018667 86.956859 \nL 371.926452 86.974126 \nL 371.742021 86.941783 \nL 371.742021 86.874852 \nL 371.649805 86.89212 \nL 371.465374 86.859684 \nL 371.373159 86.675756 \nL 370.912081 86.694917 \nL 370.912081 86.560447 \nL 370.819866 86.577706 \nL 369.713281 86.718007 \nL 369.621065 86.465272 \nL 369.436634 86.432283 \nL 369.344419 86.246507 \nL 369.067772 86.230607 \nL 369.067772 86.16278 \nL 368.975557 86.180071 \nL 368.791126 86.214677 \nL 368.791126 86.146783 \nL 368.791126 86.078858 \nL 368.69891 86.09615 \nL 368.606695 86.113449 \nL 368.606695 86.045468 \nL 368.606695 85.909412 \nL 368.51448 85.926684 \nL 368.145618 85.995854 \nL 368.145618 85.927719 \nL 368.145618 85.859552 \nL 368.053402 85.876841 \nL 367.592325 85.895137 \nL 367.592325 85.621738 \nL 367.50011 85.639016 \nL 367.223463 85.690898 \nL 367.223463 85.62242 \nL 367.131248 85.434057 \nL 366.854601 85.417237 \nL 366.762386 85.159532 \nL 366.485739 85.142419 \nL 366.393524 84.883845 \nL 366.209093 84.849218 \nL 366.116878 84.451301 \nL 366.024662 84.468454 \nL 366.024662 84.399138 \nL 366.024662 84.32979 \nL 365.932447 84.346926 \nL 365.840231 84.36407 \nL 365.840231 84.294664 \nL 365.748016 84.103352 \nL 365.286939 84.119375 \nL 365.286939 84.04973 \nL 365.194723 84.066857 \nL 365.102508 84.083991 \nL 365.102508 84.014289 \nL 365.010292 83.89189 \nL 364.918077 83.909003 \nL 364.918077 83.839176 \nL 364.918077 83.699423 \nL 364.825861 83.716507 \nL 364.456999 83.784924 \nL 364.456999 83.714935 \nL 364.456999 83.224078 \nL 364.364784 83.241102 \nL 363.719276 83.290136 \nL 363.719276 83.00837 \nL 363.62706 83.025395 \nL 363.350414 83.076518 \nL 363.350414 83.005941 \nL 363.350414 82.864686 \nL 363.258198 82.881705 \nL 362.61269 82.930286 \nL 362.520475 82.592876 \nL 362.151613 82.660986 \nL 362.151613 82.589935 \nL 362.151613 82.518851 \nL 362.059397 82.535873 \nL 361.967182 82.552903 \nL 361.967182 82.481758 \nL 361.967182 82.339366 \nL 361.874967 82.356365 \nL 361.690536 82.319101 \nL 361.690536 82.105035 \nL 361.59832 82.122006 \nL 361.321674 82.101492 \nL 361.229458 81.903805 \nL 361.137243 81.920765 \nL 361.137243 81.849123 \nL 361.137243 81.562209 \nL 361.045027 81.579111 \nL 360.860597 81.612938 \nL 360.860597 81.541083 \nL 360.860597 81.325309 \nL 360.768381 81.342182 \nL 360.58395 81.303917 \nL 360.58395 81.231847 \nL 360.491735 81.248718 \nL 360.215088 81.299378 \nL 360.215088 81.22722 \nL 360.215088 81.082798 \nL 360.122873 81.099661 \nL 359.56958 81.201011 \nL 359.56958 81.128653 \nL 359.477365 80.783172 \nL 359.200718 80.833739 \nL 359.200718 80.761114 \nL 359.200718 80.688454 \nL 359.108503 80.705299 \nL 359.016287 80.722152 \nL 359.016287 80.649429 \nL 359.016287 80.431047 \nL 358.924072 80.447853 \nL 358.739641 80.408585 \nL 358.647426 79.913958 \nL 358.55521 79.930687 \nL 358.55521 79.857467 \nL 358.462995 79.727613 \nL 357.633055 79.804777 \nL 357.633055 79.657732 \nL 357.54084 79.674468 \nL 357.356409 79.707965 \nL 357.356409 79.634346 \nL 357.264194 79.503718 \nL 357.171978 79.520445 \nL 357.171978 79.446689 \nL 357.079763 79.241881 \nL 356.895332 79.275263 \nL 356.895332 79.201319 \nL 356.803116 79.069981 \nL 356.065393 79.129385 \nL 356.065393 78.98091 \nL 355.973177 78.997602 \nL 355.696531 78.97338 \nL 355.604315 78.468502 \nL 355.051023 78.493593 \nL 354.958807 77.985862 \nL 354.49773 77.993614 \nL 354.49773 77.767983 \nL 354.405514 77.784526 \nL 353.852222 77.808573 \nL 353.852222 77.733146 \nL 353.760006 77.749718 \nL 353.575575 77.707378 \nL 353.48336 76.586523 \nL 353.114498 76.575843 \nL 353.114498 76.499609 \nL 353.022283 76.515978 \nL 352.653421 76.505189 \nL 352.653421 76.428802 \nL 352.561205 76.445182 \nL 352.376774 76.477968 \nL 352.376774 76.401496 \nL 352.284559 76.264796 \nL 351.731266 76.363128 \nL 351.731266 76.286432 \nL 351.639051 76.072469 \nL 351.177973 76.154376 \nL 351.177973 76.077432 \nL 351.177973 75.923427 \nL 351.085758 75.939787 \nL 350.532465 75.960953 \nL 350.532465 75.883743 \nL 350.44025 75.900131 \nL 350.163603 75.872033 \nL 350.071388 75.733666 \nL 349.794742 75.705346 \nL 349.702526 75.566603 \nL 349.610311 75.582972 \nL 349.610311 75.505329 \nL 349.610311 75.427646 \nL 349.518095 75.443992 \nL 349.241449 75.415295 \nL 349.241449 75.337469 \nL 349.149233 75.353817 \nL 348.780371 75.341349 \nL 348.780371 75.107272 \nL 348.688156 75.123599 \nL 348.319294 75.110804 \nL 348.319294 75.032578 \nL 348.227079 75.048915 \nL 348.042648 75.0033 \nL 347.950432 74.705919 \nL 347.858217 74.722209 \nL 347.858217 74.64366 \nL 347.858217 74.486439 \nL 347.766001 74.502689 \nL 347.489355 74.472755 \nL 347.489355 74.31516 \nL 347.39714 74.331396 \nL 347.212709 74.284985 \nL 347.212709 74.206036 \nL 347.120493 74.222264 \nL 346.751631 74.208191 \nL 346.751631 74.129078 \nL 346.659416 74.145316 \nL 345.737261 74.228828 \nL 345.737261 74.149452 \nL 345.645046 74.16575 \nL 345.276184 74.151529 \nL 345.276184 73.992405 \nL 345.183969 74.008696 \nL 344.999538 73.96163 \nL 344.999538 73.881914 \nL 344.907322 73.898197 \nL 344.722891 73.930791 \nL 344.722891 73.850983 \nL 344.722891 73.691241 \nL 344.630676 73.7075 \nL 344.169599 73.708892 \nL 344.077383 73.564957 \nL 343.616306 73.566126 \nL 343.616306 73.485822 \nL 343.52409 73.5021 \nL 342.970798 73.519485 \nL 342.970798 73.277836 \nL 342.878582 73.294106 \nL 342.417505 73.375588 \nL 342.417505 73.294851 \nL 342.325289 73.068636 \nL 341.771997 73.085311 \nL 341.771997 73.004239 \nL 341.679781 73.020519 \nL 341.403135 72.988227 \nL 341.310919 72.760661 \nL 340.48098 72.825729 \nL 340.388765 72.678817 \nL 340.204334 72.711403 \nL 340.204334 72.629689 \nL 340.204334 72.466129 \nL 340.112118 72.482382 \nL 340.019903 72.498645 \nL 340.019903 72.416764 \nL 340.019903 72.33484 \nL 339.927687 72.351075 \nL 339.835472 72.36732 \nL 339.835472 72.285316 \nL 339.743257 72.137377 \nL 339.097748 72.168745 \nL 339.097748 72.086423 \nL 339.005533 72.102658 \nL 337.991163 72.199235 \nL 337.898947 72.050227 \nL 337.530086 72.11546 \nL 337.530086 72.032656 \nL 337.530086 71.700991 \nL 337.43787 71.717231 \nL 337.253439 71.666655 \nL 337.253439 71.583527 \nL 337.161224 71.599757 \nL 336.976793 71.549016 \nL 336.976793 71.465744 \nL 336.884577 71.481964 \nL 336.515716 71.463524 \nL 336.4235 71.061951 \nL 336.054638 71.042882 \nL 335.962423 70.80741 \nL 335.777992 70.755673 \nL 335.777992 70.503358 \nL 335.685776 70.519435 \nL 335.040268 70.632219 \nL 335.040268 70.547872 \nL 334.948053 70.310628 \nL 333.657036 70.451756 \nL 333.657036 70.366895 \nL 333.564821 70.383062 \nL 333.38039 70.33046 \nL 333.38039 70.160388 \nL 333.288174 70.176526 \nL 333.195959 70.192672 \nL 333.195959 70.107528 \nL 333.195959 70.022337 \nL 333.103744 70.038454 \nL 332.089374 70.130864 \nL 331.997158 69.890321 \nL 331.812727 69.836927 \nL 331.720512 69.681467 \nL 330.798357 69.757052 \nL 330.798357 69.670931 \nL 330.706142 69.687107 \nL 329.783987 69.762985 \nL 329.691772 69.433137 \nL 329.507341 69.378832 \nL 329.507341 69.292096 \nL 329.415125 69.308262 \nL 328.769617 69.334731 \nL 328.769617 69.247739 \nL 328.677402 69.263937 \nL 328.216324 69.345067 \nL 328.216324 69.257905 \nL 328.216324 69.170694 \nL 328.124109 69.186908 \nL 327.755247 69.164492 \nL 327.755247 69.077082 \nL 327.663031 69.093301 \nL 327.386385 69.142014 \nL 327.386385 69.054473 \nL 327.386385 68.966883 \nL 327.29417 68.983099 \nL 326.833092 68.976553 \nL 326.833092 68.800881 \nL 326.740877 68.81709 \nL 326.556446 68.849537 \nL 326.556446 68.761565 \nL 326.556446 68.673543 \nL 326.464231 68.68974 \nL 326.2798 68.72216 \nL 326.2798 68.634027 \nL 326.187584 68.297112 \nL 325.818722 68.273201 \nL 325.818722 68.184663 \nL 325.726507 68.200789 \nL 325.357645 68.176693 \nL 325.26543 68.015264 \nL 324.988783 68.06365 \nL 324.988783 67.974721 \nL 324.988783 67.79671 \nL 324.896568 67.812794 \nL 324.712137 67.84499 \nL 324.712137 67.755845 \nL 324.712137 67.666649 \nL 324.619921 67.682719 \nL 324.43549 67.714886 \nL 324.43549 67.625576 \nL 324.343275 67.373348 \nL 323.605551 67.41208 \nL 323.605551 67.322321 \nL 323.513336 67.338375 \nL 323.328905 67.370511 \nL 323.328905 67.280636 \nL 323.236689 66.846432 \nL 323.052259 66.788114 \nL 323.052259 66.69781 \nL 322.960043 66.713748 \nL 322.867828 66.729695 \nL 322.867828 66.639295 \nL 322.867828 66.458336 \nL 322.775612 66.474228 \nL 322.683397 66.490129 \nL 322.683397 66.399528 \nL 322.683397 66.308873 \nL 322.591181 66.32474 \nL 322.314535 66.281602 \nL 322.314535 66.190755 \nL 322.222319 66.206615 \nL 321.484596 66.333829 \nL 321.484596 66.242732 \nL 321.484596 66.151581 \nL 321.39238 66.167481 \nL 320.654657 66.203611 \nL 320.562441 65.944978 \nL 320.37801 65.976796 \nL 320.37801 65.885112 \nL 320.37801 65.793375 \nL 320.285795 65.809254 \nL 319.548071 65.844625 \nL 319.548071 65.752579 \nL 319.455856 65.768496 \nL 319.179209 65.724116 \nL 319.086994 65.555458 \nL 318.994778 65.571356 \nL 318.994778 65.478956 \nL 318.902563 65.124604 \nL 318.257055 65.142564 \nL 318.257055 65.049653 \nL 318.164839 65.065476 \nL 317.888193 65.019942 \nL 317.888193 64.926829 \nL 317.795977 64.942644 \nL 316.966038 64.991998 \nL 316.873823 64.727282 \nL 316.689392 64.758943 \nL 316.689392 64.665251 \nL 316.597176 64.399589 \nL 315.859453 64.431812 \nL 315.859453 64.337627 \nL 315.767237 64.353417 \nL 315.582806 64.290713 \nL 315.490591 64.117667 \nL 315.398376 64.133423 \nL 315.398376 64.038894 \nL 315.398376 63.944308 \nL 315.30616 63.960026 \nL 314.937298 63.928233 \nL 314.845083 63.659274 \nL 314.752867 63.674954 \nL 314.752867 63.579915 \nL 314.752867 63.294453 \nL 314.660652 63.310046 \nL 314.384005 63.261516 \nL 314.384005 63.166093 \nL 314.29179 63.181675 \nL 313.646282 63.195343 \nL 313.554066 63.019403 \nL 313.461851 63.034998 \nL 313.461851 62.939099 \nL 313.461851 62.843142 \nL 313.369635 62.858697 \nL 313.000774 62.921014 \nL 313.000774 62.824875 \nL 312.908558 62.551612 \nL 312.26305 62.563838 \nL 312.26305 62.467207 \nL 312.170834 62.482738 \nL 311.709757 62.463696 \nL 311.709757 62.269839 \nL 311.617542 62.285352 \nL 311.525326 62.300875 \nL 311.525326 62.203807 \nL 311.433111 62.02495 \nL 310.972034 62.102377 \nL 310.972034 62.004979 \nL 310.972034 61.907521 \nL 310.879818 61.922985 \nL 310.603172 61.969433 \nL 310.603172 61.871813 \nL 310.603172 61.774134 \nL 310.510956 61.789585 \nL 310.23431 61.738153 \nL 310.23431 61.640251 \nL 310.142094 61.655689 \nL 309.865448 61.702061 \nL 309.865448 61.603996 \nL 309.865448 61.50587 \nL 309.773233 61.521295 \nL 309.588802 61.45391 \nL 309.588802 61.355585 \nL 309.496586 61.370988 \nL 309.21994 61.318764 \nL 309.127724 61.038265 \nL 308.851078 60.985496 \nL 308.851078 60.886596 \nL 308.758863 60.90192 \nL 308.482216 60.947948 \nL 308.482216 60.848881 \nL 308.482216 60.650562 \nL 308.390001 60.665846 \nL 308.113354 60.612396 \nL 308.021139 60.329166 \nL 307.928923 60.344392 \nL 307.928923 60.244732 \nL 307.928923 60.14501 \nL 307.836708 60.160192 \nL 307.652277 60.190585 \nL 307.652277 60.090721 \nL 307.652277 59.990794 \nL 307.560062 60.005951 \nL 307.1912 60.066677 \nL 307.1912 59.966554 \nL 307.1912 59.866367 \nL 307.098984 59.881519 \nL 306.269045 59.917799 \nL 306.269045 59.817217 \nL 306.17683 59.832411 \nL 305.807968 59.792501 \nL 305.807968 59.691657 \nL 305.715752 59.706845 \nL 305.623537 59.722042 \nL 305.623537 59.621079 \nL 305.623537 59.520052 \nL 305.531321 59.535205 \nL 304.701382 59.672012 \nL 304.701382 59.570647 \nL 304.701382 59.367725 \nL 304.609167 59.382892 \nL 304.14809 59.357147 \nL 304.055874 59.066701 \nL 303.779228 59.010006 \nL 303.687012 58.513535 \nL 303.225935 58.48595 \nL 303.225935 58.383227 \nL 303.13372 58.398214 \nL 302.857073 58.443232 \nL 302.857073 58.340331 \nL 302.857073 58.237363 \nL 302.764858 58.252331 \nL 302.30378 58.224116 \nL 302.30378 58.120844 \nL 302.211565 58.135814 \nL 302.027134 58.062359 \nL 302.027134 57.958869 \nL 301.934919 57.97381 \nL 301.658272 57.915021 \nL 301.658272 57.811281 \nL 301.566057 57.826204 \nL 301.28941 57.767109 \nL 301.28941 57.66312 \nL 301.197195 57.678024 \nL 300.182825 57.738202 \nL 300.182825 57.633728 \nL 300.090609 57.648691 \nL 299.813963 57.588978 \nL 299.813963 57.48425 \nL 299.721748 57.499193 \nL 299.445101 57.439167 \nL 299.445101 57.229135 \nL 299.352886 57.244028 \nL 299.168455 57.273845 \nL 299.168455 57.168636 \nL 299.168455 57.063359 \nL 299.076239 57.078223 \nL 298.338516 57.091869 \nL 298.338516 56.986186 \nL 298.2463 57.001078 \nL 297.600792 56.999604 \nL 297.600792 56.893541 \nL 297.508577 56.908451 \nL 297.139715 56.861908 \nL 297.139715 56.755554 \nL 297.047499 56.770453 \nL 296.955284 56.785363 \nL 296.955284 56.678877 \nL 296.863068 56.480522 \nL 295.479837 56.596942 \nL 295.387621 56.289814 \nL 295.018759 56.349367 \nL 295.018759 56.241738 \nL 294.926544 56.041085 \nL 294.18882 56.051876 \nL 294.18882 55.943678 \nL 294.096605 55.958525 \nL 293.912174 55.988249 \nL 293.912174 55.879883 \nL 293.819958 55.5691 \nL 293.17445 55.563723 \nL 293.17445 55.454738 \nL 293.082235 55.469505 \nL 292.713373 55.419455 \nL 292.713373 55.200797 \nL 292.621157 55.215518 \nL 292.16008 55.17964 \nL 292.16008 55.069932 \nL 292.067865 55.084649 \nL 291.699003 55.033671 \nL 291.699003 54.923652 \nL 291.606787 54.938354 \nL 291.237925 54.887005 \nL 291.237925 54.776673 \nL 291.14571 54.79136 \nL 289.854694 54.887134 \nL 289.854694 54.776158 \nL 289.762478 54.790931 \nL 288.840324 54.827797 \nL 288.748108 54.396079 \nL 288.1026 54.499388 \nL 288.1026 54.387317 \nL 288.1026 54.162943 \nL 288.010384 54.177641 \nL 287.457092 54.153503 \nL 287.457092 54.040884 \nL 287.364876 54.055585 \nL 287.272661 54.070297 \nL 287.180445 53.746384 \nL 286.996014 53.775654 \nL 286.996014 53.549366 \nL 286.903799 53.563947 \nL 286.350506 53.65165 \nL 286.350506 53.424563 \nL 286.258291 53.439147 \nL 285.981644 53.482959 \nL 285.889429 53.269831 \nL 285.704998 53.298971 \nL 285.704998 53.070759 \nL 285.612782 53.085275 \nL 285.05949 53.172584 \nL 285.05949 53.058111 \nL 284.967274 53.072664 \nL 284.875059 53.087226 \nL 284.875059 52.972603 \nL 284.782843 52.98714 \nL 284.506197 53.030814 \nL 284.506197 52.801041 \nL 284.413982 52.815549 \nL 283.952904 52.888241 \nL 283.860689 52.672214 \nL 282.846319 52.832372 \nL 282.846319 52.716556 \nL 282.754103 52.731142 \nL 282.108595 52.833536 \nL 282.01638 52.499284 \nL 281.739733 52.543028 \nL 281.647518 52.324308 \nL 281.370871 52.367958 \nL 281.370871 52.13408 \nL 281.278656 52.148578 \nL 281.18644 52.163085 \nL 281.18644 51.928725 \nL 281.094225 51.943169 \nL 280.909794 51.972089 \nL 280.909794 51.854671 \nL 280.817579 51.869109 \nL 280.540932 51.912487 \nL 280.448717 51.573647 \nL 279.710993 51.688968 \nL 279.710993 51.452396 \nL 279.618778 51.466783 \nL 279.1577 51.538874 \nL 279.1577 51.301504 \nL 279.065485 51.315878 \nL 278.696623 51.373478 \nL 278.696623 51.254474 \nL 278.604408 51.268862 \nL 278.512192 51.283261 \nL 278.512192 51.044839 \nL 278.419977 51.059172 \nL 278.327761 51.073515 \nL 278.327761 50.834592 \nL 278.235546 50.848869 \nL 278.14333 50.863156 \nL 278.14333 50.743487 \nL 278.051115 50.757746 \nL 277.036745 50.915287 \nL 277.036745 50.795065 \nL 276.944529 50.809412 \nL 276.760098 50.838136 \nL 276.760098 50.717709 \nL 276.667883 50.732047 \nL 276.483452 50.760757 \nL 276.391237 50.412843 \nL 276.11459 50.455665 \nL 276.022375 49.985034 \nL 275.930159 49.999181 \nL 275.930159 49.877685 \nL 275.837944 49.891803 \nL 275.653513 49.920071 \nL 275.653513 49.798365 \nL 275.561298 49.812475 \nL 275.284651 49.854866 \nL 275.284651 49.732911 \nL 275.192436 49.747022 \nL 274.454712 49.860292 \nL 274.454712 49.737884 \nL 274.362497 49.75205 \nL 274.178066 49.780414 \nL 274.178066 49.657793 \nL 274.08585 49.67195 \nL 273.163696 49.814106 \nL 273.163696 49.690945 \nL 273.07148 49.705179 \nL 272.610403 49.776506 \nL 272.518187 49.296087 \nL 272.425972 49.310231 \nL 272.425972 49.186277 \nL 272.333756 49.20039 \nL 271.872679 49.271114 \nL 271.780464 48.787374 \nL 271.411602 48.84352 \nL 271.319386 48.482525 \nL 271.134955 48.51043 \nL 271.134955 48.134262 \nL 271.04274 48.148104 \nL 270.766094 48.189691 \nL 270.766094 48.063941 \nL 270.673878 48.077782 \nL 270.581663 48.091633 \nL 270.581663 47.713549 \nL 270.489447 47.727283 \nL 270.212801 47.768546 \nL 270.212801 47.642154 \nL 270.120585 47.655886 \nL 270.02837 47.669629 \nL 270.02837 47.416381 \nL 269.936155 47.430048 \nL 269.475077 47.49854 \nL 269.475077 47.37151 \nL 269.382862 47.385196 \nL 268.921784 47.453787 \nL 268.829569 47.212571 \nL 268.552923 47.253621 \nL 268.552923 47.125858 \nL 268.460707 47.139518 \nL 267.99963 47.207979 \nL 267.907414 46.836892 \nL 267.446337 46.905004 \nL 267.446337 46.776312 \nL 267.354122 46.789921 \nL 266.98526 46.844465 \nL 266.893044 46.599904 \nL 266.155321 46.708867 \nL 266.155321 46.449516 \nL 266.063105 46.463094 \nL 265.97089 46.476682 \nL 265.97089 46.346763 \nL 265.878674 46.360316 \nL 265.140951 46.469125 \nL 265.140951 46.338693 \nL 265.048735 46.352296 \nL 264.772089 46.39317 \nL 264.772089 46.262451 \nL 264.679873 46.276051 \nL 264.495442 46.303283 \nL 264.495442 46.172322 \nL 264.403227 46.185908 \nL 263.665503 46.294983 \nL 263.665503 46.1635 \nL 263.573288 46.177136 \nL 263.019995 46.259182 \nL 263.019995 46.127266 \nL 262.92778 46.140931 \nL 262.835564 46.154607 \nL 262.835564 45.890273 \nL 262.743349 45.903865 \nL 262.651133 45.917469 \nL 262.651133 45.652523 \nL 262.558918 45.666043 \nL 262.374487 45.693114 \nL 262.374487 45.56034 \nL 262.282271 45.573845 \nL 261.91341 45.62797 \nL 261.91341 45.494851 \nL 261.821194 45.508362 \nL 260.89904 45.644065 \nL 260.89904 45.376447 \nL 260.806824 45.38998 \nL 260.622393 45.41708 \nL 260.622393 45.282964 \nL 260.530178 45.296482 \nL 260.437962 45.31001 \nL 260.437962 45.175689 \nL 260.345747 45.18918 \nL 259.976885 45.243252 \nL 259.88467 44.852299 \nL 258.962515 44.986879 \nL 258.962515 44.715676 \nL 258.8703 44.729095 \nL 258.685869 44.755966 \nL 258.593653 44.497373 \nL 258.409222 44.524109 \nL 258.409222 44.387821 \nL 258.317007 44.401155 \nL 258.132576 44.427856 \nL 258.132576 44.154642 \nL 258.04036 44.167908 \nL 257.487068 44.247732 \nL 257.487068 44.110603 \nL 257.394852 44.123894 \nL 257.02599 44.177169 \nL 257.02599 44.039672 \nL 256.933775 44.052967 \nL 256.841559 44.066273 \nL 256.841559 43.92856 \nL 256.749344 43.941825 \nL 256.380482 43.994998 \nL 256.288267 43.455089 \nL 255.734974 43.534 \nL 255.642758 43.269158 \nL 255.366112 43.30848 \nL 255.366112 43.02967 \nL 255.273897 43.042694 \nL 254.720604 43.121067 \nL 254.720604 42.981118 \nL 254.628388 42.994165 \nL 254.075096 43.072678 \nL 254.075096 42.932239 \nL 253.98288 42.94531 \nL 253.614018 42.997702 \nL 253.614018 42.856878 \nL 253.521803 42.869949 \nL 253.060726 42.935474 \nL 253.060726 42.794208 \nL 252.96851 42.807292 \nL 251.677494 42.991632 \nL 251.585278 42.720251 \nL 251.124201 42.786126 \nL 251.124201 42.643354 \nL 251.031986 42.656507 \nL 250.93977 42.669672 \nL 250.93977 42.526667 \nL 250.847555 42.539787 \nL 250.755339 42.552919 \nL 250.755339 42.409681 \nL 250.663124 42.422769 \nL 250.294262 42.47523 \nL 250.294262 42.18783 \nL 250.202046 42.200861 \nL 250.017616 42.226958 \nL 249.9254 41.807324 \nL 249.740969 41.833149 \nL 249.740969 41.398994 \nL 249.648754 41.411753 \nL 249.279892 41.4629 \nL 249.279892 41.317647 \nL 249.187676 41.330405 \nL 249.095461 41.343173 \nL 249.095461 41.19768 \nL 249.003245 41.210402 \nL 248.634384 41.2614 \nL 248.634384 41.115494 \nL 248.542168 41.128213 \nL 248.357737 41.153685 \nL 248.265522 40.873782 \nL 248.173306 40.88643 \nL 248.081091 40.605691 \nL 247.804445 40.643383 \nL 247.804445 40.496317 \nL 247.712229 40.508845 \nL 247.158936 40.584237 \nL 247.158936 40.436631 \nL 247.066721 40.449176 \nL 246.605644 40.512066 \nL 246.605644 40.363975 \nL 246.513428 40.376526 \nL 246.328997 40.401662 \nL 246.328997 40.253263 \nL 246.236782 40.265788 \nL 246.144566 40.278324 \nL 246.144566 39.980893 \nL 246.052351 39.993321 \nL 245.775704 40.030667 \nL 245.775704 39.881515 \nL 245.683489 39.893926 \nL 245.499058 39.91878 \nL 245.499058 39.769314 \nL 245.406843 39.781697 \nL 245.222412 39.806496 \nL 245.130196 39.519098 \nL 244.85355 39.556046 \nL 244.85355 39.405756 \nL 244.761334 39.418032 \nL 244.669119 39.43032 \nL 244.669119 39.279774 \nL 244.576903 39.29201 \nL 244.392473 39.316517 \nL 244.392473 39.165652 \nL 244.300257 39.17786 \nL 243.83918 39.239062 \nL 243.83918 39.087691 \nL 243.746964 39.099903 \nL 242.917025 39.210296 \nL 242.917025 38.905897 \nL 242.82481 38.918092 \nL 242.732594 38.930298 \nL 242.732594 38.625099 \nL 242.640379 38.63719 \nL 241.718224 38.758701 \nL 241.718224 38.605195 \nL 241.626009 38.617343 \nL 240.703854 38.739426 \nL 240.703854 38.585074 \nL 240.611639 38.597279 \nL 240.334992 38.63396 \nL 240.334992 38.479208 \nL 240.242777 38.491393 \nL 240.150561 38.503588 \nL 240.150561 38.348565 \nL 240.058346 38.360706 \nL 239.966131 38.372859 \nL 239.966131 38.217563 \nL 239.873915 38.229661 \nL 239.7817 38.241771 \nL 239.689484 37.94248 \nL 239.597269 37.95448 \nL 239.505053 37.497905 \nL 239.412838 37.509729 \nL 239.412838 37.35318 \nL 239.320622 37.364948 \nL 237.75296 37.566662 \nL 237.75296 37.408761 \nL 237.660744 37.420658 \nL 237.107451 37.492272 \nL 237.107451 37.333748 \nL 237.015236 37.345655 \nL 236.830805 37.369501 \nL 236.73859 37.063402 \nL 236.277512 37.12258 \nL 236.277512 36.803257 \nL 236.185297 36.814988 \nL 235.170927 36.94475 \nL 235.170927 36.784027 \nL 235.078711 36.79582 \nL 234.433203 36.878684 \nL 234.433203 36.555655 \nL 234.340988 36.567396 \nL 232.588894 36.792603 \nL 232.588894 36.302603 \nL 232.496678 36.314352 \nL 232.127817 36.361461 \nL 232.035601 36.044941 \nL 231.758955 36.079986 \nL 231.758955 35.915367 \nL 231.666739 35.926997 \nL 231.574524 35.938639 \nL 231.574524 35.773713 \nL 231.482308 35.785292 \nL 231.205662 35.820096 \nL 231.205662 35.654715 \nL 231.113447 35.666264 \nL 230.099077 35.794048 \nL 230.099077 35.461008 \nL 230.006861 35.472542 \nL 229.730215 35.507211 \nL 229.730215 35.340145 \nL 229.637999 35.351648 \nL 229.269137 35.397772 \nL 229.269137 35.230163 \nL 229.176922 35.241646 \nL 228.439198 35.333915 \nL 228.439198 35.165451 \nL 228.346983 35.176958 \nL 228.162552 35.200007 \nL 228.162552 34.692922 \nL 228.070336 34.70423 \nL 227.332613 34.795102 \nL 227.332613 34.625036 \nL 227.240397 34.636367 \nL 227.148182 34.647709 \nL 227.148182 34.477316 \nL 227.055966 34.488591 \nL 226.871535 34.511174 \nL 226.871535 34.340375 \nL 226.77932 34.351604 \nL 225.488304 34.509989 \nL 225.488304 34.165479 \nL 225.396088 34.176715 \nL 225.303873 34.187964 \nL 225.303873 34.015287 \nL 225.211657 34.026466 \nL 224.566149 34.10503 \nL 224.566149 33.757852 \nL 224.473934 33.768956 \nL 224.105072 33.813488 \nL 224.105072 33.464784 \nL 224.012856 33.47578 \nL 221.799685 33.743063 \nL 221.799685 33.566348 \nL 221.70747 33.577543 \nL 220.508669 33.724127 \nL 220.508669 33.546033 \nL 220.416453 33.557304 \nL 220.047592 33.602505 \nL 219.955376 33.256051 \nL 219.67873 33.289588 \nL 219.67873 33.110155 \nL 219.586514 33.12127 \nL 219.402083 33.143534 \nL 219.402083 32.963651 \nL 219.309868 32.974712 \nL 217.004481 33.255046 \nL 217.004481 33.072653 \nL 216.912266 33.08393 \nL 216.82005 33.095219 \nL 216.82005 32.912452 \nL 216.727835 32.923662 \nL 216.543404 32.946118 \nL 216.543404 32.762884 \nL 216.451189 32.774039 \nL 215.990111 32.829989 \nL 215.990111 32.461834 \nL 215.897896 32.472876 \nL 214.975741 32.583942 \nL 214.975741 32.027161 \nL 214.883526 32.038052 \nL 214.699095 32.059869 \nL 214.699095 31.873594 \nL 214.606879 31.884426 \nL 214.514664 31.895269 \nL 214.514664 31.708604 \nL 214.422449 31.719365 \nL 213.77694 31.795013 \nL 213.77694 31.607383 \nL 213.684725 31.618141 \nL 213.592509 31.628911 \nL 213.592509 31.440886 \nL 213.500294 31.451571 \nL 212.854786 31.526692 \nL 212.854786 31.337688 \nL 212.76257 31.34837 \nL 212.578139 31.369767 \nL 212.578139 31.180265 \nL 212.485924 31.190883 \nL 212.393708 31.201513 \nL 212.393708 31.011608 \nL 212.301493 31.022151 \nL 210.457184 31.235474 \nL 210.457184 31.043273 \nL 210.364968 31.053963 \nL 209.442814 31.161515 \nL 209.442814 30.967986 \nL 209.350598 30.978705 \nL 208.981737 31.021702 \nL 208.981737 30.827445 \nL 208.889521 30.838122 \nL 208.059582 30.934752 \nL 208.059582 30.739243 \nL 207.967366 30.749936 \nL 207.782936 30.771358 \nL 207.782936 30.575315 \nL 207.69072 30.58594 \nL 207.598505 30.596577 \nL 207.598505 30.400103 \nL 207.506289 30.410646 \nL 207.229643 30.442349 \nL 207.229643 30.24523 \nL 207.137427 30.255716 \nL 206.67635 30.308323 \nL 206.67635 29.912138 \nL 206.584135 29.922481 \nL 204.64761 30.142454 \nL 204.64761 29.941636 \nL 204.555395 29.952134 \nL 203.909886 30.025961 \nL 203.909886 29.62186 \nL 203.817671 29.632233 \nL 203.725455 29.642619 \nL 203.725455 29.237131 \nL 203.63324 29.247305 \nL 202.065577 29.422084 \nL 201.973362 29.021724 \nL 201.327853 29.093184 \nL 201.235638 28.689868 \nL 201.051207 28.709952 \nL 201.051207 28.502564 \nL 200.958992 28.512507 \nL 199.760191 28.642845 \nL 199.760191 28.433554 \nL 199.667975 28.443544 \nL 198.930252 28.523903 \nL 198.930252 28.313279 \nL 198.838036 28.323258 \nL 198.56139 28.353265 \nL 198.56139 28.141902 \nL 198.469174 28.151807 \nL 197.915882 28.21149 \nL 197.915882 27.999014 \nL 197.823666 28.00888 \nL 197.362589 28.058392 \nL 197.362589 27.844916 \nL 197.270373 27.854731 \nL 194.596125 28.144653 \nL 194.596125 27.927117 \nL 194.50391 27.937172 \nL 193.950617 27.997764 \nL 193.950617 27.77905 \nL 193.858401 27.789062 \nL 193.48954 27.829238 \nL 193.48954 27.609595 \nL 193.397324 27.619539 \nL 193.120678 27.649446 \nL 193.120678 27.429 \nL 193.028462 27.438861 \nL 189.432059 27.833385 \nL 189.432059 27.607223 \nL 189.339844 27.61746 \nL 187.403319 27.835552 \nL 187.311104 27.386359 \nL 186.850027 27.437799 \nL 186.850027 27.206757 \nL 186.757811 27.21694 \nL 186.388949 27.257807 \nL 186.388949 27.025729 \nL 186.296734 27.035833 \nL 184.452425 27.240753 \nL 184.452425 26.769405 \nL 184.360209 26.779493 \nL 183.899132 26.830135 \nL 183.899132 26.355686 \nL 183.806916 26.365549 \nL 182.608115 26.494986 \nL 182.608115 26.255106 \nL 182.5159 26.265001 \nL 181.50153 26.374743 \nL 181.50153 26.132634 \nL 181.409314 26.142534 \nL 180.763806 26.212211 \nL 180.671591 25.734097 \nL 180.579375 25.743795 \nL 180.579375 25.499062 \nL 180.48716 25.508611 \nL 177.351834 25.84134 \nL 177.351834 25.590402 \nL 177.259619 25.60026 \nL 176.337464 25.699622 \nL 176.337464 25.192851 \nL 176.245249 25.202516 \nL 175.41531 25.290127 \nL 175.41531 25.034425 \nL 175.323094 25.044052 \nL 174.308724 25.150875 \nL 174.308724 24.89264 \nL 174.216509 24.902254 \nL 172.464415 25.087645 \nL 172.464415 24.825333 \nL 172.3722 24.835048 \nL 171.634476 24.913288 \nL 171.634476 24.648883 \nL 171.54226 24.658538 \nL 170.804537 24.736304 \nL 170.804537 24.469771 \nL 170.712321 24.479364 \nL 170.620106 24.488972 \nL 170.620106 24.221648 \nL 170.52789 24.231075 \nL 167.669211 24.530557 \nL 167.576996 23.716172 \nL 166.285979 23.847672 \nL 166.285979 23.569125 \nL 166.193764 23.578417 \nL 166.101548 23.587724 \nL 166.101548 23.308314 \nL 166.009333 23.317422 \nL 165.179394 23.400047 \nL 165.179394 23.118045 \nL 165.087178 23.127082 \nL 164.994963 23.136133 \nL 164.994963 22.853246 \nL 164.902747 22.862093 \nL 164.626101 22.888719 \nL 164.533886 22.328293 \nL 163.058438 22.465556 \nL 163.058438 22.176609 \nL 162.966223 22.185079 \nL 159.462035 22.517452 \nL 159.462035 22.218844 \nL 159.36982 22.227634 \nL 158.539881 22.307411 \nL 158.539881 22.005842 \nL 158.447665 22.014533 \nL 154.482401 22.402724 \nL 154.482401 22.089283 \nL 154.390185 22.098392 \nL 152.453661 22.293474 \nL 152.453661 21.652852 \nL 152.361445 21.661765 \nL 151.900368 21.706574 \nL 151.900368 21.3837 \nL 151.808152 21.392426 \nL 151.623721 21.409925 \nL 151.623721 21.085608 \nL 151.531506 21.094094 \nL 149.41055 21.293635 \nL 149.41055 20.961667 \nL 149.318335 20.970236 \nL 146.183009 21.27137 \nL 146.183009 20.927879 \nL 146.090794 20.936712 \nL 144.154269 21.126221 \nL 144.154269 20.422708 \nL 144.062054 20.431252 \nL 141.848883 20.641487 \nL 141.848883 19.917767 \nL 141.756667 19.926033 \nL 140.28122 20.060607 \nL 140.28122 19.691434 \nL 140.189005 19.69962 \nL 135.762663 20.11346 \nL 135.762663 19.72428 \nL 135.670447 19.732947 \nL 135.301585 19.767806 \nL 135.301585 19.375693 \nL 135.20937 19.384035 \nL 132.627337 19.625277 \nL 132.627337 19.219696 \nL 132.535122 19.228145 \nL 132.350691 19.245101 \nL 132.350691 18.837244 \nL 132.258475 18.845297 \nL 129.30758 19.113018 \nL 129.30758 18.688613 \nL 129.215365 18.696814 \nL 122.391421 19.362694 \nL 122.391421 18.896725 \nL 122.299206 18.906007 \nL 119.624957 19.18609 \nL 119.624957 18.700334 \nL 119.532742 18.70974 \nL 118.333941 18.834373 \nL 118.333941 18.338068 \nL 118.241725 18.347168 \nL 110.126765 19.260165 \nL 107.083655 19.671355 \nL 107.083655 19.074869 \nL 106.99144 19.087063 \nL 104.13276 19.486303 \nL 104.13276 18.854837 \nL 104.040545 18.867352 \nL 101.181866 19.278465 \nL 101.181866 18.607661 \nL 101.08965 18.620486 \nL 95.187861 19.554807 \nL 92.052535 20.162732 \nL 92.052535 19.339752 \nL 91.96032 19.357219 \nL 91.407027 19.463735 \nL 91.407027 18.6237 \nL 91.314812 18.639814 \nL 90.669303 18.754767 \nL 90.669303 17.894948 \nL 90.577088 17.909662 \nL 89.470502 18.091902 \nL 89.470502 17.200647 \nL 89.378287 17.214149 \nL 85.228591 17.899845 \nL 85.228591 16.890715 \nL 85.136376 16.90513 \nL 80.617818 17.726489 \nL 79.326802 18.011622 \nL 79.326802 16.778241 \nL 79.234587 16.795489 \nL 75.545968 17.598106 \nL 73.609444 18.131236 \nL 73.609444 16.559062 \nL 73.517228 16.580115 \nL 72.410643 16.847951 \nL 72.410643 15.167435 \nL 72.318427 15.183362 \nL 69.090886 15.852917 \nL 66.601069 16.580115 \nL 64.572329 17.395986 \nL 64.295682 17.529141 \nL 64.295682 14.666999 \nL 64.203467 14.690262 \nL 62.174727 15.316344 \nL 60.607064 16.019528 \nL 59.408263 16.778241 \nL 58.393893 17.66874 \nL 57.563954 18.67227 \nL 56.82623 19.901285 \nL 56.180722 21.401168 \nL 55.627429 23.209062 \nL 55.350783 24.393545 \nL 55.350783 11.759062 \nL 55.258567 11.759062 \nL 52.76875 11.759062 \nL 52.76875 11.759062 \n\" style=\"fill:none;stroke:#0000ff;stroke-linecap:square;stroke-width:2;\"/>\n   </g>\n   <g id=\"line2d_26\">\n    <path clip-path=\"url(#pcca4ed7bdf)\" d=\"M 271.12507 378.159062 \nL 271.12507 48.399062 \n\" style=\"fill:none;stroke:#ff0000;stroke-dasharray:1.5,2.475;stroke-dashoffset:0;stroke-width:1.5;\"/>\n   </g>\n   <g id=\"line2d_27\">\n    <path clip-path=\"url(#pcca4ed7bdf)\" d=\"M 52.76875 48.399062 \nL 271.12507 48.399062 \n\" style=\"fill:none;stroke:#ff0000;stroke-dasharray:1.5,2.475;stroke-dashoffset:0;stroke-width:1.5;\"/>\n   </g>\n   <g id=\"line2d_28\">\n    <defs>\n     <path d=\"M 0 3 \nC 0.795609 3 1.55874 2.683901 2.12132 2.12132 \nC 2.683901 1.55874 3 0.795609 3 0 \nC 3 -0.795609 2.683901 -1.55874 2.12132 -2.12132 \nC 1.55874 -2.683901 0.795609 -3 0 -3 \nC -0.795609 -3 -1.55874 -2.683901 -2.12132 -2.12132 \nC -2.683901 -1.55874 -3 -0.795609 -3 0 \nC -3 0.795609 -2.683901 1.55874 -2.12132 2.12132 \nC -1.55874 2.683901 -0.795609 3 0 3 \nz\n\" id=\"m1df691a51c\" style=\"stroke:#ff0000;\"/>\n    </defs>\n    <g clip-path=\"url(#pcca4ed7bdf)\">\n     <use style=\"fill:#ff0000;stroke:#ff0000;\" x=\"271.12507\" xlink:href=\"#m1df691a51c\" y=\"48.399062\"/>\n    </g>\n   </g>\n   <g id=\"patch_3\">\n    <path d=\"M 52.76875 378.159062 \nL 52.76875 11.759062 \n\" style=\"fill:none;stroke:#000000;stroke-linecap:square;stroke-linejoin:miter;stroke-width:0.8;\"/>\n   </g>\n   <g id=\"patch_4\">\n    <path d=\"M 552.66875 378.159062 \nL 552.66875 11.759062 \n\" style=\"fill:none;stroke:#000000;stroke-linecap:square;stroke-linejoin:miter;stroke-width:0.8;\"/>\n   </g>\n   <g id=\"patch_5\">\n    <path d=\"M 52.76875 378.159062 \nL 552.66875 378.159062 \n\" style=\"fill:none;stroke:#000000;stroke-linecap:square;stroke-linejoin:miter;stroke-width:0.8;\"/>\n   </g>\n   <g id=\"patch_6\">\n    <path d=\"M 52.76875 11.759062 \nL 552.66875 11.759062 \n\" style=\"fill:none;stroke:#000000;stroke-linecap:square;stroke-linejoin:miter;stroke-width:0.8;\"/>\n   </g>\n  </g>\n </g>\n <defs>\n  <clipPath id=\"pcca4ed7bdf\">\n   <rect height=\"366.4\" width=\"499.9\" x=\"52.76875\" y=\"11.759062\"/>\n  </clipPath>\n </defs>\n</svg>\n",
      "image/png": "[encoded data removed]"
     },
     "metadata": {
      "needs_background": "light"
     }
    }
   ],
   "source": [
    "def plot_precision_vs_recall(precisions, recalls):\n",
    "    plt.plot(recalls, precisions, \"b-\", linewidth=2)\n",
    "    plt.xlabel(\"Recall\", fontsize=16)\n",
    "    plt.ylabel(\"Precision\", fontsize=16)\n",
    "    plt.axis([0, 1, 0, 1])\n",
    "    plt.grid(True)\n",
    "\n",
    "plt.figure(figsize=(8, 6))\n",
    "plot_precision_vs_recall(precisions, recalls)\n",
    "plt.plot([0.4368, 0.4368], [0., 0.9], \"r:\")\n",
    "plt.plot([0.0, 0.4368], [0.9, 0.9], \"r:\")\n",
    "plt.plot([0.4368], [0.9], \"ro\")\n",
    "save_fig(\"precision_vs_recall_plot\")\n",
    "plt.show()"
   ]
  },
  {
   "cell_type": "code",
   "execution_count": 48,
   "metadata": {},
   "outputs": [],
   "source": [
    "threshold_90_precision = thresholds[np.argmax(precisions >= 0.90)]"
   ]
  },
  {
   "cell_type": "code",
   "execution_count": 49,
   "metadata": {},
   "outputs": [
    {
     "output_type": "execute_result",
     "data": {
      "text/plain": "7816.1555236825225"
     },
     "metadata": {},
     "execution_count": 49
    }
   ],
   "source": [
    "threshold_90_precision"
   ]
  },
  {
   "cell_type": "code",
   "execution_count": 50,
   "metadata": {},
   "outputs": [],
   "source": [
    "y_train_pred_90 = (y_scores >= threshold_90_precision)"
   ]
  },
  {
   "cell_type": "code",
   "execution_count": 51,
   "metadata": {},
   "outputs": [
    {
     "output_type": "execute_result",
     "data": {
      "text/plain": "0.9000380083618396"
     },
     "metadata": {},
     "execution_count": 51
    }
   ],
   "source": [
    "precision_score(y_train_5, y_train_pred_90)"
   ]
  },
  {
   "cell_type": "code",
   "execution_count": 52,
   "metadata": {},
   "outputs": [
    {
     "output_type": "execute_result",
     "data": {
      "text/plain": "0.4368197749492714"
     },
     "metadata": {},
     "execution_count": 52
    }
   ],
   "source": [
    "recall_score(y_train_5, y_train_pred_90)"
   ]
  },
  {
   "cell_type": "markdown",
   "metadata": {},
   "source": [
    "# ROC curves"
   ]
  },
  {
   "cell_type": "code",
   "execution_count": 53,
   "metadata": {},
   "outputs": [],
   "source": [
    "from sklearn.metrics import roc_curve\n",
    "\n",
    "fpr, tpr, thresholds = roc_curve(y_train_5, y_scores)"
   ]
  },
  {
   "cell_type": "code",
   "execution_count": 54,
   "metadata": {},
   "outputs": [
    {
     "output_type": "stream",
     "name": "stdout",
     "text": "Saving figure roc_curve_plot\n"
    },
    {
     "output_type": "display_data",
     "data": {
      "text/plain": "<Figure size 576x432 with 1 Axes>",
      "image/svg+xml": "<?xml version=\"1.0\" encoding=\"utf-8\" standalone=\"no\"?>\n<!DOCTYPE svg PUBLIC \"-//W3C//DTD SVG 1.1//EN\"\n  \"http://www.w3.org/Graphics/SVG/1.1/DTD/svg11.dtd\">\n<!-- Created with matplotlib (https://matplotlib.org/) -->\n<svg height=\"423.457812pt\" version=\"1.1\" viewBox=\"0 0 569.410625 423.457812\" width=\"569.410625pt\" xmlns=\"http://www.w3.org/2000/svg\" xmlns:xlink=\"http://www.w3.org/1999/xlink\">\n <defs>\n  <style type=\"text/css\">\n*{stroke-linecap:butt;stroke-linejoin:round;}\n  </style>\n </defs>\n <g id=\"figure_1\">\n  <g id=\"patch_1\">\n   <path d=\"M 0 423.457812 \nL 569.410625 423.457812 \nL 569.410625 0 \nL 0 0 \nz\n\" style=\"fill:none;\"/>\n  </g>\n  <g id=\"axes_1\">\n   <g id=\"patch_2\">\n    <path d=\"M 52.76875 378.159062 \nL 552.66875 378.159062 \nL 552.66875 11.759062 \nL 52.76875 11.759062 \nz\n\" style=\"fill:#ffffff;\"/>\n   </g>\n   <g id=\"matplotlib.axis_1\">\n    <g id=\"xtick_1\">\n     <g id=\"line2d_1\">\n      <path clip-path=\"url(#p271fa486ad)\" d=\"M 52.76875 378.159062 \nL 52.76875 11.759062 \n\" style=\"fill:none;stroke:#b0b0b0;stroke-linecap:square;stroke-width:0.8;\"/>\n     </g>\n     <g id=\"line2d_2\">\n      <defs>\n       <path d=\"M 0 0 \nL 0 3.5 \n\" id=\"mcf1ccb8f37\" style=\"stroke:#000000;stroke-width:0.8;\"/>\n      </defs>\n      <g>\n       <use style=\"stroke:#000000;stroke-width:0.8;\" x=\"52.76875\" xlink:href=\"#mcf1ccb8f37\" y=\"378.159062\"/>\n      </g>\n     </g>\n     <g id=\"text_1\">\n      <!-- 0.0 -->\n      <defs>\n       <path d=\"M 31.78125 66.40625 \nQ 24.171875 66.40625 20.328125 58.90625 \nQ 16.5 51.421875 16.5 36.375 \nQ 16.5 21.390625 20.328125 13.890625 \nQ 24.171875 6.390625 31.78125 6.390625 \nQ 39.453125 6.390625 43.28125 13.890625 \nQ 47.125 21.390625 47.125 36.375 \nQ 47.125 51.421875 43.28125 58.90625 \nQ 39.453125 66.40625 31.78125 66.40625 \nz\nM 31.78125 74.21875 \nQ 44.046875 74.21875 50.515625 64.515625 \nQ 56.984375 54.828125 56.984375 36.375 \nQ 56.984375 17.96875 50.515625 8.265625 \nQ 44.046875 -1.421875 31.78125 -1.421875 \nQ 19.53125 -1.421875 13.0625 8.265625 \nQ 6.59375 17.96875 6.59375 36.375 \nQ 6.59375 54.828125 13.0625 64.515625 \nQ 19.53125 74.21875 31.78125 74.21875 \nz\n\" id=\"DejaVuSans-48\"/>\n       <path d=\"M 10.6875 12.40625 \nL 21 12.40625 \nL 21 0 \nL 10.6875 0 \nz\n\" id=\"DejaVuSans-46\"/>\n      </defs>\n      <g transform=\"translate(43.226875 394.277187)scale(0.12 -0.12)\">\n       <use xlink:href=\"#DejaVuSans-48\"/>\n       <use x=\"63.623047\" xlink:href=\"#DejaVuSans-46\"/>\n       <use x=\"95.410156\" xlink:href=\"#DejaVuSans-48\"/>\n      </g>\n     </g>\n    </g>\n    <g id=\"xtick_2\">\n     <g id=\"line2d_3\">\n      <path clip-path=\"url(#p271fa486ad)\" d=\"M 152.74875 378.159062 \nL 152.74875 11.759062 \n\" style=\"fill:none;stroke:#b0b0b0;stroke-linecap:square;stroke-width:0.8;\"/>\n     </g>\n     <g id=\"line2d_4\">\n      <g>\n       <use style=\"stroke:#000000;stroke-width:0.8;\" x=\"152.74875\" xlink:href=\"#mcf1ccb8f37\" y=\"378.159062\"/>\n      </g>\n     </g>\n     <g id=\"text_2\">\n      <!-- 0.2 -->\n      <defs>\n       <path d=\"M 19.1875 8.296875 \nL 53.609375 8.296875 \nL 53.609375 0 \nL 7.328125 0 \nL 7.328125 8.296875 \nQ 12.9375 14.109375 22.625 23.890625 \nQ 32.328125 33.6875 34.8125 36.53125 \nQ 39.546875 41.84375 41.421875 45.53125 \nQ 43.3125 49.21875 43.3125 52.78125 \nQ 43.3125 58.59375 39.234375 62.25 \nQ 35.15625 65.921875 28.609375 65.921875 \nQ 23.96875 65.921875 18.8125 64.3125 \nQ 13.671875 62.703125 7.8125 59.421875 \nL 7.8125 69.390625 \nQ 13.765625 71.78125 18.9375 73 \nQ 24.125 74.21875 28.421875 74.21875 \nQ 39.75 74.21875 46.484375 68.546875 \nQ 53.21875 62.890625 53.21875 53.421875 \nQ 53.21875 48.921875 51.53125 44.890625 \nQ 49.859375 40.875 45.40625 35.40625 \nQ 44.1875 33.984375 37.640625 27.21875 \nQ 31.109375 20.453125 19.1875 8.296875 \nz\n\" id=\"DejaVuSans-50\"/>\n      </defs>\n      <g transform=\"translate(143.206875 394.277187)scale(0.12 -0.12)\">\n       <use xlink:href=\"#DejaVuSans-48\"/>\n       <use x=\"63.623047\" xlink:href=\"#DejaVuSans-46\"/>\n       <use x=\"95.410156\" xlink:href=\"#DejaVuSans-50\"/>\n      </g>\n     </g>\n    </g>\n    <g id=\"xtick_3\">\n     <g id=\"line2d_5\">\n      <path clip-path=\"url(#p271fa486ad)\" d=\"M 252.72875 378.159062 \nL 252.72875 11.759062 \n\" style=\"fill:none;stroke:#b0b0b0;stroke-linecap:square;stroke-width:0.8;\"/>\n     </g>\n     <g id=\"line2d_6\">\n      <g>\n       <use style=\"stroke:#000000;stroke-width:0.8;\" x=\"252.72875\" xlink:href=\"#mcf1ccb8f37\" y=\"378.159062\"/>\n      </g>\n     </g>\n     <g id=\"text_3\">\n      <!-- 0.4 -->\n      <defs>\n       <path d=\"M 37.796875 64.3125 \nL 12.890625 25.390625 \nL 37.796875 25.390625 \nz\nM 35.203125 72.90625 \nL 47.609375 72.90625 \nL 47.609375 25.390625 \nL 58.015625 25.390625 \nL 58.015625 17.1875 \nL 47.609375 17.1875 \nL 47.609375 0 \nL 37.796875 0 \nL 37.796875 17.1875 \nL 4.890625 17.1875 \nL 4.890625 26.703125 \nz\n\" id=\"DejaVuSans-52\"/>\n      </defs>\n      <g transform=\"translate(243.186875 394.277187)scale(0.12 -0.12)\">\n       <use xlink:href=\"#DejaVuSans-48\"/>\n       <use x=\"63.623047\" xlink:href=\"#DejaVuSans-46\"/>\n       <use x=\"95.410156\" xlink:href=\"#DejaVuSans-52\"/>\n      </g>\n     </g>\n    </g>\n    <g id=\"xtick_4\">\n     <g id=\"line2d_7\">\n      <path clip-path=\"url(#p271fa486ad)\" d=\"M 352.70875 378.159062 \nL 352.70875 11.759062 \n\" style=\"fill:none;stroke:#b0b0b0;stroke-linecap:square;stroke-width:0.8;\"/>\n     </g>\n     <g id=\"line2d_8\">\n      <g>\n       <use style=\"stroke:#000000;stroke-width:0.8;\" x=\"352.70875\" xlink:href=\"#mcf1ccb8f37\" y=\"378.159062\"/>\n      </g>\n     </g>\n     <g id=\"text_4\">\n      <!-- 0.6 -->\n      <defs>\n       <path d=\"M 33.015625 40.375 \nQ 26.375 40.375 22.484375 35.828125 \nQ 18.609375 31.296875 18.609375 23.390625 \nQ 18.609375 15.53125 22.484375 10.953125 \nQ 26.375 6.390625 33.015625 6.390625 \nQ 39.65625 6.390625 43.53125 10.953125 \nQ 47.40625 15.53125 47.40625 23.390625 \nQ 47.40625 31.296875 43.53125 35.828125 \nQ 39.65625 40.375 33.015625 40.375 \nz\nM 52.59375 71.296875 \nL 52.59375 62.3125 \nQ 48.875 64.0625 45.09375 64.984375 \nQ 41.3125 65.921875 37.59375 65.921875 \nQ 27.828125 65.921875 22.671875 59.328125 \nQ 17.53125 52.734375 16.796875 39.40625 \nQ 19.671875 43.65625 24.015625 45.921875 \nQ 28.375 48.1875 33.59375 48.1875 \nQ 44.578125 48.1875 50.953125 41.515625 \nQ 57.328125 34.859375 57.328125 23.390625 \nQ 57.328125 12.15625 50.6875 5.359375 \nQ 44.046875 -1.421875 33.015625 -1.421875 \nQ 20.359375 -1.421875 13.671875 8.265625 \nQ 6.984375 17.96875 6.984375 36.375 \nQ 6.984375 53.65625 15.1875 63.9375 \nQ 23.390625 74.21875 37.203125 74.21875 \nQ 40.921875 74.21875 44.703125 73.484375 \nQ 48.484375 72.75 52.59375 71.296875 \nz\n\" id=\"DejaVuSans-54\"/>\n      </defs>\n      <g transform=\"translate(343.166875 394.277187)scale(0.12 -0.12)\">\n       <use xlink:href=\"#DejaVuSans-48\"/>\n       <use x=\"63.623047\" xlink:href=\"#DejaVuSans-46\"/>\n       <use x=\"95.410156\" xlink:href=\"#DejaVuSans-54\"/>\n      </g>\n     </g>\n    </g>\n    <g id=\"xtick_5\">\n     <g id=\"line2d_9\">\n      <path clip-path=\"url(#p271fa486ad)\" d=\"M 452.68875 378.159062 \nL 452.68875 11.759062 \n\" style=\"fill:none;stroke:#b0b0b0;stroke-linecap:square;stroke-width:0.8;\"/>\n     </g>\n     <g id=\"line2d_10\">\n      <g>\n       <use style=\"stroke:#000000;stroke-width:0.8;\" x=\"452.68875\" xlink:href=\"#mcf1ccb8f37\" y=\"378.159062\"/>\n      </g>\n     </g>\n     <g id=\"text_5\">\n      <!-- 0.8 -->\n      <defs>\n       <path d=\"M 31.78125 34.625 \nQ 24.75 34.625 20.71875 30.859375 \nQ 16.703125 27.09375 16.703125 20.515625 \nQ 16.703125 13.921875 20.71875 10.15625 \nQ 24.75 6.390625 31.78125 6.390625 \nQ 38.8125 6.390625 42.859375 10.171875 \nQ 46.921875 13.96875 46.921875 20.515625 \nQ 46.921875 27.09375 42.890625 30.859375 \nQ 38.875 34.625 31.78125 34.625 \nz\nM 21.921875 38.8125 \nQ 15.578125 40.375 12.03125 44.71875 \nQ 8.5 49.078125 8.5 55.328125 \nQ 8.5 64.0625 14.71875 69.140625 \nQ 20.953125 74.21875 31.78125 74.21875 \nQ 42.671875 74.21875 48.875 69.140625 \nQ 55.078125 64.0625 55.078125 55.328125 \nQ 55.078125 49.078125 51.53125 44.71875 \nQ 48 40.375 41.703125 38.8125 \nQ 48.828125 37.15625 52.796875 32.3125 \nQ 56.78125 27.484375 56.78125 20.515625 \nQ 56.78125 9.90625 50.3125 4.234375 \nQ 43.84375 -1.421875 31.78125 -1.421875 \nQ 19.734375 -1.421875 13.25 4.234375 \nQ 6.78125 9.90625 6.78125 20.515625 \nQ 6.78125 27.484375 10.78125 32.3125 \nQ 14.796875 37.15625 21.921875 38.8125 \nz\nM 18.3125 54.390625 \nQ 18.3125 48.734375 21.84375 45.5625 \nQ 25.390625 42.390625 31.78125 42.390625 \nQ 38.140625 42.390625 41.71875 45.5625 \nQ 45.3125 48.734375 45.3125 54.390625 \nQ 45.3125 60.0625 41.71875 63.234375 \nQ 38.140625 66.40625 31.78125 66.40625 \nQ 25.390625 66.40625 21.84375 63.234375 \nQ 18.3125 60.0625 18.3125 54.390625 \nz\n\" id=\"DejaVuSans-56\"/>\n      </defs>\n      <g transform=\"translate(443.146875 394.277187)scale(0.12 -0.12)\">\n       <use xlink:href=\"#DejaVuSans-48\"/>\n       <use x=\"63.623047\" xlink:href=\"#DejaVuSans-46\"/>\n       <use x=\"95.410156\" xlink:href=\"#DejaVuSans-56\"/>\n      </g>\n     </g>\n    </g>\n    <g id=\"xtick_6\">\n     <g id=\"line2d_11\">\n      <path clip-path=\"url(#p271fa486ad)\" d=\"M 552.66875 378.159062 \nL 552.66875 11.759062 \n\" style=\"fill:none;stroke:#b0b0b0;stroke-linecap:square;stroke-width:0.8;\"/>\n     </g>\n     <g id=\"line2d_12\">\n      <g>\n       <use style=\"stroke:#000000;stroke-width:0.8;\" x=\"552.66875\" xlink:href=\"#mcf1ccb8f37\" y=\"378.159062\"/>\n      </g>\n     </g>\n     <g id=\"text_6\">\n      <!-- 1.0 -->\n      <defs>\n       <path d=\"M 12.40625 8.296875 \nL 28.515625 8.296875 \nL 28.515625 63.921875 \nL 10.984375 60.40625 \nL 10.984375 69.390625 \nL 28.421875 72.90625 \nL 38.28125 72.90625 \nL 38.28125 8.296875 \nL 54.390625 8.296875 \nL 54.390625 0 \nL 12.40625 0 \nz\n\" id=\"DejaVuSans-49\"/>\n      </defs>\n      <g transform=\"translate(543.126875 394.277187)scale(0.12 -0.12)\">\n       <use xlink:href=\"#DejaVuSans-49\"/>\n       <use x=\"63.623047\" xlink:href=\"#DejaVuSans-46\"/>\n       <use x=\"95.410156\" xlink:href=\"#DejaVuSans-48\"/>\n      </g>\n     </g>\n    </g>\n    <g id=\"text_7\">\n     <!-- False Positive Rate (Fall-Out) -->\n     <defs>\n      <path d=\"M 9.8125 72.90625 \nL 51.703125 72.90625 \nL 51.703125 64.59375 \nL 19.671875 64.59375 \nL 19.671875 43.109375 \nL 48.578125 43.109375 \nL 48.578125 34.8125 \nL 19.671875 34.8125 \nL 19.671875 0 \nL 9.8125 0 \nz\n\" id=\"DejaVuSans-70\"/>\n      <path d=\"M 34.28125 27.484375 \nQ 23.390625 27.484375 19.1875 25 \nQ 14.984375 22.515625 14.984375 16.5 \nQ 14.984375 11.71875 18.140625 8.90625 \nQ 21.296875 6.109375 26.703125 6.109375 \nQ 34.1875 6.109375 38.703125 11.40625 \nQ 43.21875 16.703125 43.21875 25.484375 \nL 43.21875 27.484375 \nz\nM 52.203125 31.203125 \nL 52.203125 0 \nL 43.21875 0 \nL 43.21875 8.296875 \nQ 40.140625 3.328125 35.546875 0.953125 \nQ 30.953125 -1.421875 24.3125 -1.421875 \nQ 15.921875 -1.421875 10.953125 3.296875 \nQ 6 8.015625 6 15.921875 \nQ 6 25.140625 12.171875 29.828125 \nQ 18.359375 34.515625 30.609375 34.515625 \nL 43.21875 34.515625 \nL 43.21875 35.40625 \nQ 43.21875 41.609375 39.140625 45 \nQ 35.0625 48.390625 27.6875 48.390625 \nQ 23 48.390625 18.546875 47.265625 \nQ 14.109375 46.140625 10.015625 43.890625 \nL 10.015625 52.203125 \nQ 14.9375 54.109375 19.578125 55.046875 \nQ 24.21875 56 28.609375 56 \nQ 40.484375 56 46.34375 49.84375 \nQ 52.203125 43.703125 52.203125 31.203125 \nz\n\" id=\"DejaVuSans-97\"/>\n      <path d=\"M 9.421875 75.984375 \nL 18.40625 75.984375 \nL 18.40625 0 \nL 9.421875 0 \nz\n\" id=\"DejaVuSans-108\"/>\n      <path d=\"M 44.28125 53.078125 \nL 44.28125 44.578125 \nQ 40.484375 46.53125 36.375 47.5 \nQ 32.28125 48.484375 27.875 48.484375 \nQ 21.1875 48.484375 17.84375 46.4375 \nQ 14.5 44.390625 14.5 40.28125 \nQ 14.5 37.15625 16.890625 35.375 \nQ 19.28125 33.59375 26.515625 31.984375 \nL 29.59375 31.296875 \nQ 39.15625 29.25 43.1875 25.515625 \nQ 47.21875 21.78125 47.21875 15.09375 \nQ 47.21875 7.46875 41.1875 3.015625 \nQ 35.15625 -1.421875 24.609375 -1.421875 \nQ 20.21875 -1.421875 15.453125 -0.5625 \nQ 10.6875 0.296875 5.421875 2 \nL 5.421875 11.28125 \nQ 10.40625 8.6875 15.234375 7.390625 \nQ 20.0625 6.109375 24.8125 6.109375 \nQ 31.15625 6.109375 34.5625 8.28125 \nQ 37.984375 10.453125 37.984375 14.40625 \nQ 37.984375 18.0625 35.515625 20.015625 \nQ 33.0625 21.96875 24.703125 23.78125 \nL 21.578125 24.515625 \nQ 13.234375 26.265625 9.515625 29.90625 \nQ 5.8125 33.546875 5.8125 39.890625 \nQ 5.8125 47.609375 11.28125 51.796875 \nQ 16.75 56 26.8125 56 \nQ 31.78125 56 36.171875 55.265625 \nQ 40.578125 54.546875 44.28125 53.078125 \nz\n\" id=\"DejaVuSans-115\"/>\n      <path d=\"M 56.203125 29.59375 \nL 56.203125 25.203125 \nL 14.890625 25.203125 \nQ 15.484375 15.921875 20.484375 11.0625 \nQ 25.484375 6.203125 34.421875 6.203125 \nQ 39.59375 6.203125 44.453125 7.46875 \nQ 49.3125 8.734375 54.109375 11.28125 \nL 54.109375 2.78125 \nQ 49.265625 0.734375 44.1875 -0.34375 \nQ 39.109375 -1.421875 33.890625 -1.421875 \nQ 20.796875 -1.421875 13.15625 6.1875 \nQ 5.515625 13.8125 5.515625 26.8125 \nQ 5.515625 40.234375 12.765625 48.109375 \nQ 20.015625 56 32.328125 56 \nQ 43.359375 56 49.78125 48.890625 \nQ 56.203125 41.796875 56.203125 29.59375 \nz\nM 47.21875 32.234375 \nQ 47.125 39.59375 43.09375 43.984375 \nQ 39.0625 48.390625 32.421875 48.390625 \nQ 24.90625 48.390625 20.390625 44.140625 \nQ 15.875 39.890625 15.1875 32.171875 \nz\n\" id=\"DejaVuSans-101\"/>\n      <path id=\"DejaVuSans-32\"/>\n      <path d=\"M 19.671875 64.796875 \nL 19.671875 37.40625 \nL 32.078125 37.40625 \nQ 38.96875 37.40625 42.71875 40.96875 \nQ 46.484375 44.53125 46.484375 51.125 \nQ 46.484375 57.671875 42.71875 61.234375 \nQ 38.96875 64.796875 32.078125 64.796875 \nz\nM 9.8125 72.90625 \nL 32.078125 72.90625 \nQ 44.34375 72.90625 50.609375 67.359375 \nQ 56.890625 61.8125 56.890625 51.125 \nQ 56.890625 40.328125 50.609375 34.8125 \nQ 44.34375 29.296875 32.078125 29.296875 \nL 19.671875 29.296875 \nL 19.671875 0 \nL 9.8125 0 \nz\n\" id=\"DejaVuSans-80\"/>\n      <path d=\"M 30.609375 48.390625 \nQ 23.390625 48.390625 19.1875 42.75 \nQ 14.984375 37.109375 14.984375 27.296875 \nQ 14.984375 17.484375 19.15625 11.84375 \nQ 23.34375 6.203125 30.609375 6.203125 \nQ 37.796875 6.203125 41.984375 11.859375 \nQ 46.1875 17.53125 46.1875 27.296875 \nQ 46.1875 37.015625 41.984375 42.703125 \nQ 37.796875 48.390625 30.609375 48.390625 \nz\nM 30.609375 56 \nQ 42.328125 56 49.015625 48.375 \nQ 55.71875 40.765625 55.71875 27.296875 \nQ 55.71875 13.875 49.015625 6.21875 \nQ 42.328125 -1.421875 30.609375 -1.421875 \nQ 18.84375 -1.421875 12.171875 6.21875 \nQ 5.515625 13.875 5.515625 27.296875 \nQ 5.515625 40.765625 12.171875 48.375 \nQ 18.84375 56 30.609375 56 \nz\n\" id=\"DejaVuSans-111\"/>\n      <path d=\"M 9.421875 54.6875 \nL 18.40625 54.6875 \nL 18.40625 0 \nL 9.421875 0 \nz\nM 9.421875 75.984375 \nL 18.40625 75.984375 \nL 18.40625 64.59375 \nL 9.421875 64.59375 \nz\n\" id=\"DejaVuSans-105\"/>\n      <path d=\"M 18.3125 70.21875 \nL 18.3125 54.6875 \nL 36.8125 54.6875 \nL 36.8125 47.703125 \nL 18.3125 47.703125 \nL 18.3125 18.015625 \nQ 18.3125 11.328125 20.140625 9.421875 \nQ 21.96875 7.515625 27.59375 7.515625 \nL 36.8125 7.515625 \nL 36.8125 0 \nL 27.59375 0 \nQ 17.1875 0 13.234375 3.875 \nQ 9.28125 7.765625 9.28125 18.015625 \nL 9.28125 47.703125 \nL 2.6875 47.703125 \nL 2.6875 54.6875 \nL 9.28125 54.6875 \nL 9.28125 70.21875 \nz\n\" id=\"DejaVuSans-116\"/>\n      <path d=\"M 2.984375 54.6875 \nL 12.5 54.6875 \nL 29.59375 8.796875 \nL 46.6875 54.6875 \nL 56.203125 54.6875 \nL 35.6875 0 \nL 23.484375 0 \nz\n\" id=\"DejaVuSans-118\"/>\n      <path d=\"M 44.390625 34.1875 \nQ 47.5625 33.109375 50.5625 29.59375 \nQ 53.5625 26.078125 56.59375 19.921875 \nL 66.609375 0 \nL 56 0 \nL 46.6875 18.703125 \nQ 43.0625 26.03125 39.671875 28.421875 \nQ 36.28125 30.8125 30.421875 30.8125 \nL 19.671875 30.8125 \nL 19.671875 0 \nL 9.8125 0 \nL 9.8125 72.90625 \nL 32.078125 72.90625 \nQ 44.578125 72.90625 50.734375 67.671875 \nQ 56.890625 62.453125 56.890625 51.90625 \nQ 56.890625 45.015625 53.6875 40.46875 \nQ 50.484375 35.9375 44.390625 34.1875 \nz\nM 19.671875 64.796875 \nL 19.671875 38.921875 \nL 32.078125 38.921875 \nQ 39.203125 38.921875 42.84375 42.21875 \nQ 46.484375 45.515625 46.484375 51.90625 \nQ 46.484375 58.296875 42.84375 61.546875 \nQ 39.203125 64.796875 32.078125 64.796875 \nz\n\" id=\"DejaVuSans-82\"/>\n      <path d=\"M 31 75.875 \nQ 24.46875 64.65625 21.28125 53.65625 \nQ 18.109375 42.671875 18.109375 31.390625 \nQ 18.109375 20.125 21.3125 9.0625 \nQ 24.515625 -2 31 -13.1875 \nL 23.1875 -13.1875 \nQ 15.875 -1.703125 12.234375 9.375 \nQ 8.59375 20.453125 8.59375 31.390625 \nQ 8.59375 42.28125 12.203125 53.3125 \nQ 15.828125 64.359375 23.1875 75.875 \nz\n\" id=\"DejaVuSans-40\"/>\n      <path d=\"M 4.890625 31.390625 \nL 31.203125 31.390625 \nL 31.203125 23.390625 \nL 4.890625 23.390625 \nz\n\" id=\"DejaVuSans-45\"/>\n      <path d=\"M 39.40625 66.21875 \nQ 28.65625 66.21875 22.328125 58.203125 \nQ 16.015625 50.203125 16.015625 36.375 \nQ 16.015625 22.609375 22.328125 14.59375 \nQ 28.65625 6.59375 39.40625 6.59375 \nQ 50.140625 6.59375 56.421875 14.59375 \nQ 62.703125 22.609375 62.703125 36.375 \nQ 62.703125 50.203125 56.421875 58.203125 \nQ 50.140625 66.21875 39.40625 66.21875 \nz\nM 39.40625 74.21875 \nQ 54.734375 74.21875 63.90625 63.9375 \nQ 73.09375 53.65625 73.09375 36.375 \nQ 73.09375 19.140625 63.90625 8.859375 \nQ 54.734375 -1.421875 39.40625 -1.421875 \nQ 24.03125 -1.421875 14.8125 8.828125 \nQ 5.609375 19.09375 5.609375 36.375 \nQ 5.609375 53.65625 14.8125 63.9375 \nQ 24.03125 74.21875 39.40625 74.21875 \nz\n\" id=\"DejaVuSans-79\"/>\n      <path d=\"M 8.5 21.578125 \nL 8.5 54.6875 \nL 17.484375 54.6875 \nL 17.484375 21.921875 \nQ 17.484375 14.15625 20.5 10.265625 \nQ 23.53125 6.390625 29.59375 6.390625 \nQ 36.859375 6.390625 41.078125 11.03125 \nQ 45.3125 15.671875 45.3125 23.6875 \nL 45.3125 54.6875 \nL 54.296875 54.6875 \nL 54.296875 0 \nL 45.3125 0 \nL 45.3125 8.40625 \nQ 42.046875 3.421875 37.71875 1 \nQ 33.40625 -1.421875 27.6875 -1.421875 \nQ 18.265625 -1.421875 13.375 4.4375 \nQ 8.5 10.296875 8.5 21.578125 \nz\nM 31.109375 56 \nz\n\" id=\"DejaVuSans-117\"/>\n      <path d=\"M 8.015625 75.875 \nL 15.828125 75.875 \nQ 23.140625 64.359375 26.78125 53.3125 \nQ 30.421875 42.28125 30.421875 31.390625 \nQ 30.421875 20.453125 26.78125 9.375 \nQ 23.140625 -1.703125 15.828125 -13.1875 \nL 8.015625 -13.1875 \nQ 14.5 -2 17.703125 9.0625 \nQ 20.90625 20.125 20.90625 31.390625 \nQ 20.90625 42.671875 17.703125 53.65625 \nQ 14.5 64.65625 8.015625 75.875 \nz\n\" id=\"DejaVuSans-41\"/>\n     </defs>\n     <g transform=\"translate(187.075 412.930312)scale(0.16 -0.16)\">\n      <use xlink:href=\"#DejaVuSans-70\"/>\n      <use x=\"57.378906\" xlink:href=\"#DejaVuSans-97\"/>\n      <use x=\"118.658203\" xlink:href=\"#DejaVuSans-108\"/>\n      <use x=\"146.441406\" xlink:href=\"#DejaVuSans-115\"/>\n      <use x=\"198.541016\" xlink:href=\"#DejaVuSans-101\"/>\n      <use x=\"260.064453\" xlink:href=\"#DejaVuSans-32\"/>\n      <use x=\"291.851562\" xlink:href=\"#DejaVuSans-80\"/>\n      <use x=\"352.107422\" xlink:href=\"#DejaVuSans-111\"/>\n      <use x=\"413.289062\" xlink:href=\"#DejaVuSans-115\"/>\n      <use x=\"465.388672\" xlink:href=\"#DejaVuSans-105\"/>\n      <use x=\"493.171875\" xlink:href=\"#DejaVuSans-116\"/>\n      <use x=\"532.380859\" xlink:href=\"#DejaVuSans-105\"/>\n      <use x=\"560.164062\" xlink:href=\"#DejaVuSans-118\"/>\n      <use x=\"619.34375\" xlink:href=\"#DejaVuSans-101\"/>\n      <use x=\"680.867188\" xlink:href=\"#DejaVuSans-32\"/>\n      <use x=\"712.654297\" xlink:href=\"#DejaVuSans-82\"/>\n      <use x=\"782.105469\" xlink:href=\"#DejaVuSans-97\"/>\n      <use x=\"843.384766\" xlink:href=\"#DejaVuSans-116\"/>\n      <use x=\"882.59375\" xlink:href=\"#DejaVuSans-101\"/>\n      <use x=\"944.117188\" xlink:href=\"#DejaVuSans-32\"/>\n      <use x=\"975.904297\" xlink:href=\"#DejaVuSans-40\"/>\n      <use x=\"1014.917969\" xlink:href=\"#DejaVuSans-70\"/>\n      <use x=\"1072.296875\" xlink:href=\"#DejaVuSans-97\"/>\n      <use x=\"1133.576172\" xlink:href=\"#DejaVuSans-108\"/>\n      <use x=\"1161.359375\" xlink:href=\"#DejaVuSans-108\"/>\n      <use x=\"1189.142578\" xlink:href=\"#DejaVuSans-45\"/>\n      <use x=\"1225.257812\" xlink:href=\"#DejaVuSans-79\"/>\n      <use x=\"1303.96875\" xlink:href=\"#DejaVuSans-117\"/>\n      <use x=\"1367.347656\" xlink:href=\"#DejaVuSans-116\"/>\n      <use x=\"1406.556641\" xlink:href=\"#DejaVuSans-41\"/>\n     </g>\n    </g>\n   </g>\n   <g id=\"matplotlib.axis_2\">\n    <g id=\"ytick_1\">\n     <g id=\"line2d_13\">\n      <path clip-path=\"url(#p271fa486ad)\" d=\"M 52.76875 378.159062 \nL 552.66875 378.159062 \n\" style=\"fill:none;stroke:#b0b0b0;stroke-linecap:square;stroke-width:0.8;\"/>\n     </g>\n     <g id=\"line2d_14\">\n      <defs>\n       <path d=\"M 0 0 \nL -3.5 0 \n\" id=\"m9f6946f8b4\" style=\"stroke:#000000;stroke-width:0.8;\"/>\n      </defs>\n      <g>\n       <use style=\"stroke:#000000;stroke-width:0.8;\" x=\"52.76875\" xlink:href=\"#m9f6946f8b4\" y=\"378.159062\"/>\n      </g>\n     </g>\n     <g id=\"text_8\">\n      <!-- 0.0 -->\n      <g transform=\"translate(26.685 382.718125)scale(0.12 -0.12)\">\n       <use xlink:href=\"#DejaVuSans-48\"/>\n       <use x=\"63.623047\" xlink:href=\"#DejaVuSans-46\"/>\n       <use x=\"95.410156\" xlink:href=\"#DejaVuSans-48\"/>\n      </g>\n     </g>\n    </g>\n    <g id=\"ytick_2\">\n     <g id=\"line2d_15\">\n      <path clip-path=\"url(#p271fa486ad)\" d=\"M 52.76875 304.879062 \nL 552.66875 304.879062 \n\" style=\"fill:none;stroke:#b0b0b0;stroke-linecap:square;stroke-width:0.8;\"/>\n     </g>\n     <g id=\"line2d_16\">\n      <g>\n       <use style=\"stroke:#000000;stroke-width:0.8;\" x=\"52.76875\" xlink:href=\"#m9f6946f8b4\" y=\"304.879062\"/>\n      </g>\n     </g>\n     <g id=\"text_9\">\n      <!-- 0.2 -->\n      <g transform=\"translate(26.685 309.438125)scale(0.12 -0.12)\">\n       <use xlink:href=\"#DejaVuSans-48\"/>\n       <use x=\"63.623047\" xlink:href=\"#DejaVuSans-46\"/>\n       <use x=\"95.410156\" xlink:href=\"#DejaVuSans-50\"/>\n      </g>\n     </g>\n    </g>\n    <g id=\"ytick_3\">\n     <g id=\"line2d_17\">\n      <path clip-path=\"url(#p271fa486ad)\" d=\"M 52.76875 231.599062 \nL 552.66875 231.599062 \n\" style=\"fill:none;stroke:#b0b0b0;stroke-linecap:square;stroke-width:0.8;\"/>\n     </g>\n     <g id=\"line2d_18\">\n      <g>\n       <use style=\"stroke:#000000;stroke-width:0.8;\" x=\"52.76875\" xlink:href=\"#m9f6946f8b4\" y=\"231.599062\"/>\n      </g>\n     </g>\n     <g id=\"text_10\">\n      <!-- 0.4 -->\n      <g transform=\"translate(26.685 236.158125)scale(0.12 -0.12)\">\n       <use xlink:href=\"#DejaVuSans-48\"/>\n       <use x=\"63.623047\" xlink:href=\"#DejaVuSans-46\"/>\n       <use x=\"95.410156\" xlink:href=\"#DejaVuSans-52\"/>\n      </g>\n     </g>\n    </g>\n    <g id=\"ytick_4\">\n     <g id=\"line2d_19\">\n      <path clip-path=\"url(#p271fa486ad)\" d=\"M 52.76875 158.319062 \nL 552.66875 158.319062 \n\" style=\"fill:none;stroke:#b0b0b0;stroke-linecap:square;stroke-width:0.8;\"/>\n     </g>\n     <g id=\"line2d_20\">\n      <g>\n       <use style=\"stroke:#000000;stroke-width:0.8;\" x=\"52.76875\" xlink:href=\"#m9f6946f8b4\" y=\"158.319062\"/>\n      </g>\n     </g>\n     <g id=\"text_11\">\n      <!-- 0.6 -->\n      <g transform=\"translate(26.685 162.878125)scale(0.12 -0.12)\">\n       <use xlink:href=\"#DejaVuSans-48\"/>\n       <use x=\"63.623047\" xlink:href=\"#DejaVuSans-46\"/>\n       <use x=\"95.410156\" xlink:href=\"#DejaVuSans-54\"/>\n      </g>\n     </g>\n    </g>\n    <g id=\"ytick_5\">\n     <g id=\"line2d_21\">\n      <path clip-path=\"url(#p271fa486ad)\" d=\"M 52.76875 85.039062 \nL 552.66875 85.039062 \n\" style=\"fill:none;stroke:#b0b0b0;stroke-linecap:square;stroke-width:0.8;\"/>\n     </g>\n     <g id=\"line2d_22\">\n      <g>\n       <use style=\"stroke:#000000;stroke-width:0.8;\" x=\"52.76875\" xlink:href=\"#m9f6946f8b4\" y=\"85.039062\"/>\n      </g>\n     </g>\n     <g id=\"text_12\">\n      <!-- 0.8 -->\n      <g transform=\"translate(26.685 89.598125)scale(0.12 -0.12)\">\n       <use xlink:href=\"#DejaVuSans-48\"/>\n       <use x=\"63.623047\" xlink:href=\"#DejaVuSans-46\"/>\n       <use x=\"95.410156\" xlink:href=\"#DejaVuSans-56\"/>\n      </g>\n     </g>\n    </g>\n    <g id=\"ytick_6\">\n     <g id=\"line2d_23\">\n      <path clip-path=\"url(#p271fa486ad)\" d=\"M 52.76875 11.759062 \nL 552.66875 11.759062 \n\" style=\"fill:none;stroke:#b0b0b0;stroke-linecap:square;stroke-width:0.8;\"/>\n     </g>\n     <g id=\"line2d_24\">\n      <g>\n       <use style=\"stroke:#000000;stroke-width:0.8;\" x=\"52.76875\" xlink:href=\"#m9f6946f8b4\" y=\"11.759062\"/>\n      </g>\n     </g>\n     <g id=\"text_13\">\n      <!-- 1.0 -->\n      <g transform=\"translate(26.685 16.318125)scale(0.12 -0.12)\">\n       <use xlink:href=\"#DejaVuSans-49\"/>\n       <use x=\"63.623047\" xlink:href=\"#DejaVuSans-46\"/>\n       <use x=\"95.410156\" xlink:href=\"#DejaVuSans-48\"/>\n      </g>\n     </g>\n    </g>\n    <g id=\"text_14\">\n     <!-- True Positive Rate (Recall) -->\n     <defs>\n      <path d=\"M -0.296875 72.90625 \nL 61.375 72.90625 \nL 61.375 64.59375 \nL 35.5 64.59375 \nL 35.5 0 \nL 25.59375 0 \nL 25.59375 64.59375 \nL -0.296875 64.59375 \nz\n\" id=\"DejaVuSans-84\"/>\n      <path d=\"M 41.109375 46.296875 \nQ 39.59375 47.171875 37.8125 47.578125 \nQ 36.03125 48 33.890625 48 \nQ 26.265625 48 22.1875 43.046875 \nQ 18.109375 38.09375 18.109375 28.8125 \nL 18.109375 0 \nL 9.078125 0 \nL 9.078125 54.6875 \nL 18.109375 54.6875 \nL 18.109375 46.1875 \nQ 20.953125 51.171875 25.484375 53.578125 \nQ 30.03125 56 36.53125 56 \nQ 37.453125 56 38.578125 55.875 \nQ 39.703125 55.765625 41.0625 55.515625 \nz\n\" id=\"DejaVuSans-114\"/>\n      <path d=\"M 48.78125 52.59375 \nL 48.78125 44.1875 \nQ 44.96875 46.296875 41.140625 47.34375 \nQ 37.3125 48.390625 33.40625 48.390625 \nQ 24.65625 48.390625 19.8125 42.84375 \nQ 14.984375 37.3125 14.984375 27.296875 \nQ 14.984375 17.28125 19.8125 11.734375 \nQ 24.65625 6.203125 33.40625 6.203125 \nQ 37.3125 6.203125 41.140625 7.25 \nQ 44.96875 8.296875 48.78125 10.40625 \nL 48.78125 2.09375 \nQ 45.015625 0.34375 40.984375 -0.53125 \nQ 36.96875 -1.421875 32.421875 -1.421875 \nQ 20.0625 -1.421875 12.78125 6.34375 \nQ 5.515625 14.109375 5.515625 27.296875 \nQ 5.515625 40.671875 12.859375 48.328125 \nQ 20.21875 56 33.015625 56 \nQ 37.15625 56 41.109375 55.140625 \nQ 45.0625 54.296875 48.78125 52.59375 \nz\n\" id=\"DejaVuSans-99\"/>\n     </defs>\n     <g transform=\"translate(19.3575 300.840312)rotate(-90)scale(0.16 -0.16)\">\n      <use xlink:href=\"#DejaVuSans-84\"/>\n      <use x=\"60.865234\" xlink:href=\"#DejaVuSans-114\"/>\n      <use x=\"101.978516\" xlink:href=\"#DejaVuSans-117\"/>\n      <use x=\"165.357422\" xlink:href=\"#DejaVuSans-101\"/>\n      <use x=\"226.880859\" xlink:href=\"#DejaVuSans-32\"/>\n      <use x=\"258.667969\" xlink:href=\"#DejaVuSans-80\"/>\n      <use x=\"318.923828\" xlink:href=\"#DejaVuSans-111\"/>\n      <use x=\"380.105469\" xlink:href=\"#DejaVuSans-115\"/>\n      <use x=\"432.205078\" xlink:href=\"#DejaVuSans-105\"/>\n      <use x=\"459.988281\" xlink:href=\"#DejaVuSans-116\"/>\n      <use x=\"499.197266\" xlink:href=\"#DejaVuSans-105\"/>\n      <use x=\"526.980469\" xlink:href=\"#DejaVuSans-118\"/>\n      <use x=\"586.160156\" xlink:href=\"#DejaVuSans-101\"/>\n      <use x=\"647.683594\" xlink:href=\"#DejaVuSans-32\"/>\n      <use x=\"679.470703\" xlink:href=\"#DejaVuSans-82\"/>\n      <use x=\"748.921875\" xlink:href=\"#DejaVuSans-97\"/>\n      <use x=\"810.201172\" xlink:href=\"#DejaVuSans-116\"/>\n      <use x=\"849.410156\" xlink:href=\"#DejaVuSans-101\"/>\n      <use x=\"910.933594\" xlink:href=\"#DejaVuSans-32\"/>\n      <use x=\"942.720703\" xlink:href=\"#DejaVuSans-40\"/>\n      <use x=\"981.734375\" xlink:href=\"#DejaVuSans-82\"/>\n      <use x=\"1051.154297\" xlink:href=\"#DejaVuSans-101\"/>\n      <use x=\"1112.677734\" xlink:href=\"#DejaVuSans-99\"/>\n      <use x=\"1167.658203\" xlink:href=\"#DejaVuSans-97\"/>\n      <use x=\"1228.9375\" xlink:href=\"#DejaVuSans-108\"/>\n      <use x=\"1256.720703\" xlink:href=\"#DejaVuSans-108\"/>\n      <use x=\"1284.503906\" xlink:href=\"#DejaVuSans-41\"/>\n     </g>\n    </g>\n   </g>\n   <g id=\"line2d_25\">\n    <path clip-path=\"url(#p271fa486ad)\" d=\"M 52.76875 378.159062 \nL 52.87866 338.349138 \nL 52.88782 338.349138 \nL 52.988571 311.178358 \nL 53.006889 311.178358 \nL 53.1168 295.903243 \nL 53.125959 295.903243 \nL 53.235869 287.589795 \nL 53.254188 287.589795 \nL 53.364098 279.546703 \nL 53.382416 279.479114 \nL 53.492327 269.273174 \nL 53.501486 269.273174 \nL 53.611396 264.339177 \nL 53.620556 264.339177 \nL 53.712148 259.270001 \nL 53.739625 259.270001 \nL 53.840376 252.57869 \nL 53.858695 252.57869 \nL 53.968605 248.793706 \nL 53.977764 248.793706 \nL 54.078516 245.008721 \nL 54.096834 245.008721 \nL 54.206744 241.088559 \nL 54.215904 241.088559 \nL 54.325814 237.371164 \nL 54.334973 237.371164 \nL 54.444884 234.87037 \nL 54.463202 234.802781 \nL 54.573112 232.910289 \nL 54.582272 232.910289 \nL 54.683023 228.990127 \nL 54.71966 228.922538 \nL 54.820411 226.286567 \nL 54.838729 226.286567 \nL 54.94864 222.974705 \nL 54.957799 222.974705 \nL 55.067709 219.798022 \nL 55.086028 219.730433 \nL 55.195938 217.90553 \nL 55.214257 217.90553 \nL 55.324167 215.066792 \nL 55.333326 215.066792 \nL 55.443237 212.836355 \nL 55.461555 212.836355 \nL 55.562306 210.741095 \nL 55.580625 210.741095 \nL 55.690535 208.037535 \nL 55.699694 208.037535 \nL 55.809605 206.145043 \nL 55.818764 206.145043 \nL 55.928674 203.171127 \nL 55.937833 203.171127 \nL 56.038585 201.413813 \nL 56.056903 201.413813 \nL 56.166813 199.048197 \nL 56.185132 198.980608 \nL 56.295042 196.682582 \nL 56.304201 196.682582 \nL 56.414112 194.249378 \nL 56.459908 194.181789 \nL 56.569818 192.356886 \nL 56.578977 192.356886 \nL 56.679729 190.73475 \nL 56.707206 190.73475 \nL 56.817117 189.180203 \nL 56.835435 189.180203 \nL 56.936186 187.422888 \nL 56.963664 187.422888 \nL 57.064415 186.071108 \nL 57.091893 186.003519 \nL 57.201803 184.58415 \nL 57.229281 184.516561 \nL 57.339191 182.826836 \nL 57.34835 182.826836 \nL 57.458261 180.326043 \nL 57.476579 180.326043 \nL 57.586489 179.17703 \nL 57.613967 179.109441 \nL 57.723877 177.757661 \nL 57.769673 177.690072 \nL 57.879584 175.527223 \nL 57.888743 175.527223 \nL 57.998653 173.499553 \nL 58.026131 173.431964 \nL 58.136041 170.728404 \nL 58.172678 170.660815 \nL 58.282589 169.64698 \nL 58.300907 169.579391 \nL 58.401658 167.754488 \nL 58.419977 167.754488 \nL 58.529887 166.335119 \nL 58.539046 166.335119 \nL 58.648957 164.577804 \nL 58.658116 164.577804 \nL 58.768026 162.617723 \nL 58.777185 162.617723 \nL 58.887096 161.671477 \nL 58.896255 161.671477 \nL 59.006165 160.387286 \nL 59.015325 160.387286 \nL 59.125235 158.629972 \nL 59.152713 158.562383 \nL 59.189349 157.751315 \nL 59.326738 157.683726 \nL 59.427489 156.602302 \nL 59.454966 156.602302 \nL 59.564877 155.318111 \nL 59.592354 155.250522 \nL 59.693106 154.03392 \nL 59.75722 153.966331 \nL 59.848812 153.29044 \nL 59.894608 153.29044 \nL 59.977041 152.141427 \nL 60.041155 152.073838 \nL 60.141906 151.127592 \nL 60.187702 151.060003 \nL 60.270135 149.708223 \nL 60.343409 149.708223 \nL 60.453319 148.55921 \nL 60.499115 148.491621 \nL 60.609026 147.950909 \nL 60.618185 147.950909 \nL 60.728095 146.666718 \nL 60.755573 146.666718 \nL 60.865483 145.585294 \nL 60.874642 145.585294 \nL 60.984553 143.625213 \nL 60.993712 143.625213 \nL 61.103622 142.949323 \nL 61.112782 142.949323 \nL 61.213533 141.665131 \nL 61.231851 141.665131 \nL 61.341762 140.516118 \nL 61.369239 140.516118 \nL 61.47915 138.556037 \nL 61.497468 138.556037 \nL 61.607378 136.866312 \nL 61.634856 136.798723 \nL 61.744766 136.122833 \nL 61.763085 136.122833 \nL 61.872995 135.244176 \nL 61.900473 135.176587 \nL 61.992065 134.500697 \nL 62.028702 134.500697 \nL 62.120294 133.824807 \nL 62.147771 133.824807 \nL 62.257682 132.540616 \nL 62.285159 132.473027 \nL 62.39507 131.864726 \nL 62.422547 131.797137 \nL 62.523298 130.850891 \nL 62.559935 130.850891 \nL 62.669846 129.431521 \nL 62.679005 129.431521 \nL 62.788915 128.552864 \nL 62.798074 128.552864 \nL 62.907985 127.539029 \nL 62.944622 127.539029 \nL 63.054532 125.308592 \nL 63.08201 125.241003 \nL 63.19192 123.821634 \nL 63.219398 123.821634 \nL 63.329308 122.807799 \nL 63.338467 122.807799 \nL 63.439218 121.658786 \nL 63.512492 121.591197 \nL 63.613243 121.050485 \nL 63.64988 120.982896 \nL 63.732313 119.969061 \nL 63.814746 119.901472 \nL 63.915497 118.887637 \nL 63.952134 118.820048 \nL 64.052885 117.94139 \nL 64.071203 117.94139 \nL 64.171955 116.792377 \nL 64.199432 116.724788 \nL 64.309343 115.710953 \nL 64.355139 115.643364 \nL 64.465049 114.629529 \nL 64.483367 114.629529 \nL 64.593278 113.750872 \nL 64.629915 113.750872 \nL 64.739825 112.872215 \nL 64.831417 112.872215 \nL 64.91385 112.263914 \nL 64.950487 112.263914 \nL 65.060397 111.385257 \nL 65.069556 111.385257 \nL 65.179467 110.371422 \nL 65.188626 110.371422 \nL 65.271059 109.222409 \nL 65.335173 109.15482 \nL 65.426765 108.276163 \nL 65.454243 108.276163 \nL 65.554994 107.465095 \nL 65.609949 107.397506 \nL 65.719859 106.789205 \nL 65.729019 106.789205 \nL 65.82977 105.978136 \nL 65.857247 105.910547 \nL 65.967158 105.099479 \nL 66.012954 105.03189 \nL 66.122864 104.018055 \nL 66.141183 103.950466 \nL 66.232775 103.477343 \nL 66.28773 103.409754 \nL 66.379322 102.733864 \nL 66.415959 102.666275 \nL 66.498391 102.395919 \nL 66.544187 102.395919 \nL 66.644939 101.787618 \nL 66.663257 101.787618 \nL 66.773167 100.773783 \nL 66.818963 100.706194 \nL 66.919715 99.489592 \nL 66.965511 99.489592 \nL 67.066262 98.813702 \nL 67.112058 98.746113 \nL 67.221968 97.326744 \nL 67.240287 97.259155 \nL 67.331879 96.448087 \nL 67.386834 96.380498 \nL 67.496744 95.637019 \nL 67.570018 95.56943 \nL 67.679928 94.825951 \nL 67.707406 94.825951 \nL 67.817316 94.285238 \nL 67.89059 94.285238 \nL 67.991341 93.744526 \nL 68.018819 93.676937 \nL 68.128729 93.001047 \nL 68.192844 92.933458 \nL 68.284436 92.663102 \nL 68.321072 92.663102 \nL 68.421824 91.852034 \nL 68.495097 91.784445 \nL 68.605008 90.77061 \nL 68.632485 90.703021 \nL 68.68744 90.365076 \nL 68.797351 90.297487 \nL 68.907261 89.824364 \nL 68.92558 89.756775 \nL 69.03549 89.486419 \nL 69.044649 89.486419 \nL 69.1454 88.134639 \nL 69.182037 88.06705 \nL 69.291948 87.526338 \nL 69.319425 87.526338 \nL 69.429336 87.053215 \nL 69.438495 87.053215 \nL 69.539246 86.309736 \nL 69.557564 86.309736 \nL 69.667475 85.633846 \nL 69.713271 85.566257 \nL 69.823181 84.620011 \nL 69.83234 84.620011 \nL 69.942251 84.01171 \nL 69.960569 84.01171 \nL 70.06132 82.862697 \nL 70.079639 82.862697 \nL 70.189549 82.389573 \nL 70.271982 82.321984 \nL 70.372733 81.781272 \nL 70.436848 81.713683 \nL 70.52844 81.037793 \nL 70.601713 80.970204 \nL 70.684146 80.294314 \nL 70.739101 80.226725 \nL 70.830693 79.550835 \nL 70.858171 79.550835 \nL 70.931444 78.942534 \nL 70.97724 78.942534 \nL 71.032196 78.604589 \nL 71.123788 78.537 \nL 71.197061 77.928699 \nL 71.270335 77.86111 \nL 71.371086 77.455576 \nL 71.407723 77.387987 \nL 71.508474 76.779686 \nL 71.535952 76.712097 \nL 71.600066 76.50933 \nL 71.682499 76.50933 \nL 71.755772 75.83344 \nL 71.847364 75.765851 \nL 71.929797 75.292728 \nL 71.975593 75.225139 \nL 72.076344 74.414071 \nL 72.1313 74.414071 \nL 72.24121 73.940948 \nL 72.305325 73.873359 \nL 72.406076 73.467825 \nL 72.442713 73.400236 \nL 72.552623 72.318812 \nL 72.607578 72.251223 \nL 72.671693 71.845689 \nL 72.735807 71.7781 \nL 72.809081 71.642922 \nL 72.882354 71.575333 \nL 72.973946 70.899443 \nL 73.166289 70.831853 \nL 73.267041 70.561497 \nL 73.285359 70.561497 \nL 73.395269 70.223552 \nL 73.450225 70.155963 \nL 73.532657 69.615251 \nL 73.605931 69.547662 \nL 73.706682 69.142128 \nL 73.743319 69.142128 \nL 73.798274 68.871772 \nL 73.944821 68.871772 \nL 74.018095 68.195882 \nL 74.091369 68.195882 \nL 74.182961 67.857937 \nL 74.274553 67.857937 \nL 74.329508 67.317225 \nL 74.393622 67.317225 \nL 74.503533 66.97928 \nL 74.549329 66.911691 \nL 74.65008 66.370979 \nL 74.705035 66.30339 \nL 74.805786 65.357144 \nL 74.952333 65.289555 \nL 75.025607 64.95161 \nL 75.098881 64.884021 \nL 75.181313 64.681254 \nL 75.236269 64.681254 \nL 75.346179 64.005364 \nL 75.364497 63.937775 \nL 75.474408 63.464652 \nL 75.685069 63.397063 \nL 75.79498 62.991529 \nL 75.923209 62.92394 \nL 75.950686 62.721173 \nL 76.078915 62.653584 \nL 76.170507 62.315639 \nL 76.225462 62.24805 \nL 76.289577 62.112872 \nL 76.390328 62.045283 \nL 76.472761 61.57216 \nL 76.665104 61.504571 \nL 76.665104 61.436982 \nL 76.848288 61.369393 \nL 76.949039 61.166626 \nL 77.05895 61.099037 \nL 77.086427 60.761092 \nL 77.269611 60.693503 \nL 77.361203 60.22038 \nL 77.425318 60.152791 \nL 77.489432 59.814846 \nL 77.681775 59.814846 \nL 77.755049 59.54449 \nL 77.837482 59.476901 \nL 77.892437 59.206545 \nL 78.011506 59.138956 \nL 78.112258 58.936188 \nL 78.20385 58.868599 \nL 78.295442 58.665832 \nL 78.350397 58.665832 \nL 78.460307 57.989942 \nL 78.570218 57.922353 \nL 78.616014 57.787175 \nL 78.77172 57.719586 \nL 78.872471 57.381641 \nL 78.945745 57.314052 \nL 79.046496 57.111285 \nL 79.202202 57.043696 \nL 79.302954 56.908518 \nL 79.449501 56.840929 \nL 79.504456 56.570573 \nL 79.68764 56.502984 \nL 79.770073 56.300217 \nL 79.825028 56.300217 \nL 79.925779 56.029861 \nL 79.980734 55.962272 \nL 80.081486 55.556738 \nL 80.118122 55.556738 \nL 80.200555 55.353971 \nL 80.356262 55.286382 \nL 80.447854 55.151204 \nL 80.621878 55.083615 \nL 80.695152 54.948437 \nL 80.777585 54.948437 \nL 80.841699 54.610492 \nL 80.933291 54.542903 \nL 81.024883 54.002191 \nL 81.098157 53.934602 \nL 81.098157 53.867013 \nL 81.253863 53.799424 \nL 81.336296 53.39389 \nL 81.391251 53.39389 \nL 81.501162 53.123534 \nL 81.775938 53.055945 \nL 81.849211 52.920767 \nL 81.904167 52.853178 \nL 81.986599 52.515233 \nL 82.169783 52.447644 \nL 82.243057 52.109699 \nL 82.352967 52.04211 \nL 82.389604 51.839343 \nL 82.591107 51.771754 \nL 82.673539 51.433809 \nL 82.78345 51.36622 \nL 82.89336 50.893097 \nL 82.966634 50.825508 \nL 82.966634 50.757919 \nL 83.12234 50.69033 \nL 83.140659 50.555152 \nL 83.259728 50.487563 \nL 83.323843 50.284796 \nL 83.47039 50.217207 \nL 83.552823 49.879262 \nL 83.671892 49.811673 \nL 83.717688 49.676495 \nL 83.900872 49.676495 \nL 84.001623 49.203372 \nL 84.248922 49.135783 \nL 84.258081 49.000605 \nL 84.532857 48.933016 \nL 84.532857 48.865427 \nL 84.706882 48.797838 \nL 84.816792 48.66266 \nL 84.890066 48.595071 \nL 84.999976 48.257126 \nL 85.247275 48.189537 \nL 85.348026 47.919181 \nL 85.375504 47.851592 \nL 85.375504 47.784003 \nL 85.714394 47.716414 \nL 85.714394 47.648825 \nL 85.970852 47.581236 \nL 86.025807 47.378469 \nL 86.236468 47.378469 \nL 86.273105 47.175701 \nL 86.437971 47.175701 \nL 86.538722 46.770167 \nL 86.776861 46.702578 \nL 86.868453 46.5674 \nL 87.015 46.499811 \nL 87.097433 46.297044 \nL 87.262299 46.229455 \nL 87.262299 46.161866 \nL 87.427164 46.094277 \nL 87.527916 45.89151 \nL 87.967557 45.823921 \nL 88.022512 45.621154 \nL 88.324766 45.553565 \nL 88.379721 45.418387 \nL 88.901796 45.350798 \nL 88.993388 45.21562 \nL 89.103298 45.148031 \nL 89.103298 45.080442 \nL 89.460507 45.012853 \nL 89.524621 44.810086 \nL 89.817716 44.742497 \nL 89.854353 44.607319 \nL 90.019218 44.53973 \nL 90.119969 44.336963 \nL 90.330631 44.269374 \nL 90.403905 43.999018 \nL 90.724477 43.931429 \nL 90.816069 43.728662 \nL 91.090845 43.661073 \nL 91.164118 43.525895 \nL 91.503009 43.458306 \nL 91.503009 43.390717 \nL 91.887695 43.323128 \nL 91.887695 43.255539 \nL 92.199108 43.18795 \nL 92.199108 43.120361 \nL 92.483043 43.052772 \nL 92.528839 42.917594 \nL 92.693705 42.850005 \nL 92.693705 42.782416 \nL 92.968481 42.714827 \nL 92.968481 42.647238 \nL 93.389804 42.579649 \nL 93.389804 42.51206 \nL 93.673739 42.444471 \nL 93.737854 42.309293 \nL 94.195814 42.241704 \nL 94.195814 42.174115 \nL 94.956027 42.106526 \nL 95.020142 41.971348 \nL 95.450624 41.903759 \nL 95.450624 41.83617 \nL 95.826151 41.768581 \nL 95.826151 41.700992 \nL 96.100927 41.633403 \nL 96.100927 41.565814 \nL 96.30243 41.498225 \nL 96.329907 41.363047 \nL 96.8703 41.295458 \nL 96.8703 41.227869 \nL 97.20919 41.16028 \nL 97.245827 41.025102 \nL 97.941926 40.957513 \nL 97.941926 40.889924 \nL 98.482319 40.822335 \nL 98.482319 40.754746 \nL 98.70214 40.754746 \nL 98.802891 40.551979 \nL 99.05019 40.48439 \nL 99.05019 40.416801 \nL 99.425717 40.349212 \nL 99.453195 40.146445 \nL 99.892836 40.078856 \nL 99.892836 40.011267 \nL 100.295841 39.943678 \nL 100.295841 39.876089 \nL 101.074373 39.8085 \nL 101.138487 39.673322 \nL 101.22092 39.673322 \nL 101.230079 39.470555 \nL 102.155159 39.402966 \nL 102.155159 39.335377 \nL 102.695552 39.267788 \nL 102.787144 39.065021 \nL 103.144352 38.997432 \nL 103.144352 38.929843 \nL 103.62979 38.862254 \nL 103.648108 38.727076 \nL 104.573188 38.659487 \nL 104.573188 38.591898 \nL 104.912078 38.524309 \nL 104.967033 38.389131 \nL 105.076944 38.321542 \nL 105.168536 37.983597 \nL 105.424993 37.916008 \nL 105.525744 37.713241 \nL 105.782202 37.645652 \nL 105.873794 37.307707 \nL 106.359232 37.240118 \nL 106.395868 37.10494 \nL 106.972898 37.037351 \nL 106.972898 36.969762 \nL 107.549928 36.902173 \nL 107.549928 36.834584 \nL 107.778908 36.766995 \nL 107.778908 36.699406 \nL 108.007888 36.699406 \nL 108.007888 36.564228 \nL 108.300982 36.496639 \nL 108.300982 36.42905 \nL 109.317653 36.361461 \nL 109.317653 36.293872 \nL 109.729817 36.226283 \nL 109.729817 36.158694 \nL 110.288529 36.091105 \nL 110.288529 36.023516 \nL 110.490031 35.955927 \nL 110.490031 35.888338 \nL 111.323518 35.820749 \nL 111.323518 35.75316 \nL 111.772319 35.685571 \nL 111.863911 35.550393 \nL 111.955503 35.482804 \nL 111.955503 35.415215 \nL 112.266916 35.347625 \nL 112.266916 35.280036 \nL 112.816468 35.212447 \nL 112.816468 35.144858 \nL 113.072926 35.077269 \nL 113.072926 35.00968 \nL 114.40101 34.942091 \nL 114.40101 34.874502 \nL 114.84981 34.806913 \nL 114.84981 34.739324 \nL 115.435999 34.671735 \nL 115.500114 34.536557 \nL 115.729094 34.468968 \nL 115.729094 34.401379 \nL 116.681651 34.33379 \nL 116.791561 34.198612 \nL 117.542615 34.131023 \nL 117.625048 33.995845 \nL 118.257033 33.928256 \nL 118.321147 33.793078 \nL 118.504331 33.725489 \nL 118.504331 33.6579 \nL 119.246227 33.590311 \nL 119.246227 33.522722 \nL 120.299535 33.455133 \nL 120.299535 33.387544 \nL 120.528515 33.319955 \nL 120.528515 33.252366 \nL 121.04143 33.184777 \nL 121.04143 33.117188 \nL 121.398639 33.049599 \nL 121.398639 32.98201 \nL 122.726723 32.914421 \nL 122.726723 32.846832 \nL 124.237991 32.779243 \nL 124.237991 32.711654 \nL 125.373732 32.644065 \nL 125.373732 32.576476 \nL 126.491154 32.508887 \nL 126.491154 32.441298 \nL 127.297164 32.373709 \nL 127.297164 32.30612 \nL 127.855875 32.238531 \nL 127.855875 32.170942 \nL 128.442064 32.103353 \nL 128.442064 32.035764 \nL 129.266392 31.968175 \nL 129.266392 31.900586 \nL 129.623601 31.832997 \nL 129.623601 31.765408 \nL 129.999128 31.697819 \nL 129.999128 31.63023 \nL 130.585317 31.562641 \nL 130.585317 31.495052 \nL 131.382167 31.427463 \nL 131.382167 31.359874 \nL 131.950038 31.292285 \nL 131.950038 31.224696 \nL 132.169858 31.157107 \nL 132.169858 31.089518 \nL 132.444634 31.021929 \nL 132.444634 30.886751 \nL 133.497943 30.819162 \nL 133.497943 30.751573 \nL 134.093291 30.683984 \nL 134.093291 30.616395 \nL 134.798549 30.548806 \nL 134.798549 30.481217 \nL 135.458011 30.413628 \nL 135.512967 30.27845 \nL 136.117474 30.210861 \nL 136.117474 30.143272 \nL 136.328135 30.143272 \nL 136.328135 30.008094 \nL 136.721981 29.940505 \nL 136.721981 29.872916 \nL 137.637901 29.805327 \nL 137.637901 29.737738 \nL 138.242408 29.670149 \nL 138.242408 29.60256 \nL 138.508025 29.534971 \nL 138.56298 29.399793 \nL 139.643766 29.332204 \nL 139.643766 29.264615 \nL 140.303228 29.197026 \nL 140.303228 29.129437 \nL 141.695427 29.061848 \nL 141.695427 28.994259 \nL 142.620506 28.92667 \nL 142.620506 28.859081 \nL 143.417357 28.791492 \nL 143.417357 28.723903 \nL 144.63553 28.656314 \nL 144.63553 28.588725 \nL 145.588087 28.521136 \nL 145.588087 28.453547 \nL 147.090196 28.385958 \nL 147.090196 28.318369 \nL 147.96032 28.25078 \nL 148.024434 28.115602 \nL 148.894558 28.048013 \nL 148.903718 27.912835 \nL 150.433304 27.845246 \nL 150.433304 27.777657 \nL 151.715592 27.710068 \nL 151.715592 27.642479 \nL 152.512443 27.57489 \nL 152.512443 27.507301 \nL 153.840527 27.439712 \nL 153.840527 27.372123 \nL 155.425068 27.304534 \nL 155.425068 27.236945 \nL 155.919665 27.169356 \nL 155.956302 27.034178 \nL 157.980485 26.966589 \nL 157.980485 26.899 \nL 160.041305 26.831411 \nL 160.041305 26.763822 \nL 160.755723 26.696233 \nL 160.755723 26.628644 \nL 163.833214 26.561055 \nL 163.897329 26.425877 \nL 164.785771 26.358288 \nL 164.859045 26.22311 \nL 165.655895 26.155521 \nL 165.692532 26.020343 \nL 167.771671 25.952754 \nL 167.771671 25.885165 \nL 169.127232 25.817576 \nL 169.127232 25.749987 \nL 170.858321 25.682398 \nL 170.858321 25.614809 \nL 172.149768 25.54722 \nL 172.186405 25.412042 \nL 173.880857 25.344453 \nL 173.890016 25.209275 \nL 174.53116 25.141686 \nL 174.641071 25.006508 \nL 177.022463 24.938919 \nL 177.022463 24.87133 \nL 177.645289 24.803741 \nL 177.663607 24.668563 \nL 178.387184 24.600974 \nL 178.387184 24.533385 \nL 182.985102 24.465796 \nL 182.985102 24.398207 \nL 184.04757 24.330618 \nL 184.04757 24.263029 \nL 187.308245 24.19544 \nL 187.308245 24.127851 \nL 189.222518 24.060262 \nL 189.222518 23.992673 \nL 191.402408 23.925084 \nL 191.402408 23.857495 \nL 192.492352 23.789906 \nL 192.492352 23.722317 \nL 192.97779 23.654728 \nL 192.97779 23.587139 \nL 194.608128 23.519549 \nL 194.608128 23.45196 \nL 195.285909 23.384371 \nL 195.285909 23.316782 \nL 196.311739 23.249193 \nL 196.311739 23.181604 \nL 199.581574 23.114015 \nL 199.581574 23.046426 \nL 199.929623 22.978837 \nL 199.929623 22.911248 \nL 202.182787 22.843659 \nL 202.292697 22.640892 \nL 203.043751 22.573303 \nL 203.043751 22.505714 \nL 203.895557 22.438125 \nL 203.895557 22.370536 \nL 207.211188 22.302947 \nL 207.211188 22.235358 \nL 209.693331 22.167769 \nL 209.693331 22.10018 \nL 210.581773 22.032591 \nL 210.581773 21.965002 \nL 211.232077 21.897413 \nL 211.232077 21.829824 \nL 214.51107 21.762235 \nL 214.51107 21.694646 \nL 215.784199 21.627057 \nL 215.784199 21.559468 \nL 216.233 21.491879 \nL 216.233 21.42429 \nL 217.561084 21.356701 \nL 217.561084 21.289112 \nL 222.891739 21.221523 \nL 222.891739 21.153934 \nL 225.437996 21.086345 \nL 225.437996 21.018756 \nL 226.225688 20.951167 \nL 226.225688 20.883578 \nL 229.138313 20.883578 \nL 229.138313 20.7484 \nL 231.519705 20.680811 \nL 231.519705 20.613222 \nL 235.787893 20.545633 \nL 235.842848 20.410455 \nL 240.266742 20.342866 \nL 240.266742 20.275277 \nL 243.83883 20.207688 \nL 243.83883 20.140099 \nL 246.632386 20.07251 \nL 246.632386 20.004921 \nL 248.381793 19.937332 \nL 248.381793 19.869743 \nL 259.473585 19.802154 \nL 259.473585 19.734565 \nL 270.235646 19.666976 \nL 270.235646 19.599387 \nL 274.842724 19.531798 \nL 274.842724 19.464209 \nL 279.513916 19.39662 \nL 279.513916 19.329031 \nL 280.329085 19.261442 \nL 280.329085 19.193853 \nL 282.261676 19.126264 \nL 282.261676 19.058675 \nL 290.248499 18.991086 \nL 290.248499 18.923497 \nL 293.44506 18.855908 \nL 293.44506 18.788319 \nL 295.487561 18.72073 \nL 295.487561 18.653141 \nL 310.96661 18.585552 \nL 310.96661 18.517963 \nL 316.975045 18.450374 \nL 316.975045 18.382785 \nL 320.647885 18.315196 \nL 320.647885 18.247607 \nL 321.774466 18.180018 \nL 321.774466 18.112429 \nL 322.781979 18.04484 \nL 322.781979 17.977251 \nL 324.238291 17.909662 \nL 324.238291 17.842073 \nL 324.925231 17.774484 \nL 324.925231 17.706895 \nL 331.748836 17.639306 \nL 331.748836 17.571717 \nL 334.606506 17.504128 \nL 334.606506 17.436539 \nL 340.156982 17.36895 \nL 340.156982 17.301361 \nL 347.548456 17.233772 \nL 347.548456 17.166183 \nL 354.454494 17.098594 \nL 354.454494 17.031005 \nL 369.558015 16.963416 \nL 369.558015 16.895827 \nL 372.754576 16.828238 \nL 372.754576 16.760649 \nL 373.826203 16.69306 \nL 373.826203 16.625471 \nL 379.211812 16.557882 \nL 379.211812 16.490293 \nL 386.520854 16.422704 \nL 386.520854 16.355115 \nL 389.653301 16.287526 \nL 389.653301 16.219937 \nL 395.240413 16.152348 \nL 395.240413 16.084759 \nL 396.733363 16.01717 \nL 396.733363 15.949581 \nL 406.652777 15.881992 \nL 406.652777 15.814403 \nL 408.878463 15.746814 \nL 408.878463 15.679225 \nL 414.886898 15.611636 \nL 414.886898 15.544047 \nL 417.515589 15.476458 \nL 417.515589 15.408869 \nL 420.666353 15.34128 \nL 420.666353 15.273691 \nL 426.683948 15.206102 \nL 426.683948 15.138513 \nL 440.331157 15.070924 \nL 440.331157 15.003335 \nL 443.738379 14.935746 \nL 443.738379 14.868157 \nL 448.858372 14.800568 \nL 448.858372 14.732979 \nL 457.110812 14.66539 \nL 457.110812 14.597801 \nL 459.986801 14.530212 \nL 459.986801 14.462623 \nL 464.35574 14.395034 \nL 464.35574 14.327445 \nL 466.883679 14.259856 \nL 466.883679 14.192267 \nL 467.5523 14.124678 \nL 467.5523 14.057089 \nL 474.934616 13.9895 \nL 474.934616 13.921911 \nL 477.599943 13.854322 \nL 477.599943 13.786733 \nL 483.764085 13.719144 \nL 483.764085 13.651555 \nL 484.670846 13.583966 \nL 484.670846 13.516377 \nL 488.737531 13.448788 \nL 488.737531 13.381199 \nL 491.228834 13.31361 \nL 491.228834 13.246021 \nL 494.681852 13.178432 \nL 494.681852 13.110843 \nL 495.909185 13.043254 \nL 495.909185 12.975665 \nL 508.200832 12.908076 \nL 508.200832 12.840487 \nL 509.208344 12.772898 \nL 509.208344 12.705309 \nL 521.133623 12.63772 \nL 521.133623 12.570131 \nL 530.860694 12.502542 \nL 530.860694 12.434953 \nL 536.118075 12.367364 \nL 536.118075 12.299775 \nL 536.768378 12.232186 \nL 536.768378 12.164597 \nL 538.35292 12.097008 \nL 538.35292 12.029419 \nL 543.894236 11.96183 \nL 543.894236 11.894241 \nL 547.347255 11.826652 \nL 547.347255 11.759062 \nL 552.66875 11.759062 \nL 552.66875 11.759062 \n\" style=\"fill:none;stroke:#1f77b4;stroke-linecap:square;stroke-width:2;\"/>\n   </g>\n   <g id=\"line2d_26\">\n    <path clip-path=\"url(#p271fa486ad)\" d=\"M 52.76875 378.159062 \nL 552.66875 11.759062 \n\" style=\"fill:none;stroke:#000000;stroke-dasharray:5.55,2.4;stroke-dashoffset:0;stroke-width:1.5;\"/>\n   </g>\n   <g id=\"line2d_27\">\n    <path clip-path=\"url(#p271fa486ad)\" d=\"M 55.186766 378.159062 \nL 55.186766 218.115542 \n\" style=\"fill:none;stroke:#ff0000;stroke-dasharray:1.5,2.475;stroke-dashoffset:0;stroke-width:1.5;\"/>\n   </g>\n   <g id=\"line2d_28\">\n    <path clip-path=\"url(#p271fa486ad)\" d=\"M 52.76875 218.115542 \nL 55.186766 218.115542 \n\" style=\"fill:none;stroke:#ff0000;stroke-dasharray:1.5,2.475;stroke-dashoffset:0;stroke-width:1.5;\"/>\n   </g>\n   <g id=\"line2d_29\">\n    <defs>\n     <path d=\"M 0 3 \nC 0.795609 3 1.55874 2.683901 2.12132 2.12132 \nC 2.683901 1.55874 3 0.795609 3 0 \nC 3 -0.795609 2.683901 -1.55874 2.12132 -2.12132 \nC 1.55874 -2.683901 0.795609 -3 0 -3 \nC -0.795609 -3 -1.55874 -2.683901 -2.12132 -2.12132 \nC -2.683901 -1.55874 -3 -0.795609 -3 0 \nC -3 0.795609 -2.683901 1.55874 -2.12132 2.12132 \nC -1.55874 2.683901 -0.795609 3 0 3 \nz\n\" id=\"mda7acfb577\" style=\"stroke:#ff0000;\"/>\n    </defs>\n    <g clip-path=\"url(#p271fa486ad)\">\n     <use style=\"fill:#ff0000;stroke:#ff0000;\" x=\"55.186766\" xlink:href=\"#mda7acfb577\" y=\"218.115542\"/>\n    </g>\n   </g>\n   <g id=\"patch_3\">\n    <path d=\"M 52.76875 378.159062 \nL 52.76875 11.759062 \n\" style=\"fill:none;stroke:#000000;stroke-linecap:square;stroke-linejoin:miter;stroke-width:0.8;\"/>\n   </g>\n   <g id=\"patch_4\">\n    <path d=\"M 552.66875 378.159062 \nL 552.66875 11.759062 \n\" style=\"fill:none;stroke:#000000;stroke-linecap:square;stroke-linejoin:miter;stroke-width:0.8;\"/>\n   </g>\n   <g id=\"patch_5\">\n    <path d=\"M 52.76875 378.159062 \nL 552.66875 378.159062 \n\" style=\"fill:none;stroke:#000000;stroke-linecap:square;stroke-linejoin:miter;stroke-width:0.8;\"/>\n   </g>\n   <g id=\"patch_6\">\n    <path d=\"M 52.76875 11.759062 \nL 552.66875 11.759062 \n\" style=\"fill:none;stroke:#000000;stroke-linecap:square;stroke-linejoin:miter;stroke-width:0.8;\"/>\n   </g>\n  </g>\n </g>\n <defs>\n  <clipPath id=\"p271fa486ad\">\n   <rect height=\"366.4\" width=\"499.9\" x=\"52.76875\" y=\"11.759062\"/>\n  </clipPath>\n </defs>\n</svg>\n",
      "image/png": "[encoded data removed]"
     },
     "metadata": {
      "needs_background": "light"
     }
    }
   ],
   "source": [
    "def plot_roc_curve(fpr, tpr, label=None):\n",
    "    plt.plot(fpr, tpr, linewidth=2, label=label)\n",
    "    plt.plot([0, 1], [0, 1], 'k--') # dashed diagonal\n",
    "    plt.axis([0, 1, 0, 1])                                    # Not shown in the book\n",
    "    plt.xlabel('False Positive Rate (Fall-Out)', fontsize=16) # Not shown\n",
    "    plt.ylabel('True Positive Rate (Recall)', fontsize=16)    # Not shown\n",
    "    plt.grid(True)                                            # Not shown\n",
    "\n",
    "plt.figure(figsize=(8, 6))                         # Not shown\n",
    "plot_roc_curve(fpr, tpr)\n",
    "plt.plot([4.837e-3, 4.837e-3], [0., 0.4368], \"r:\") # Not shown\n",
    "plt.plot([0.0, 4.837e-3], [0.4368, 0.4368], \"r:\")  # Not shown\n",
    "plt.plot([4.837e-3], [0.4368], \"ro\")               # Not shown\n",
    "save_fig(\"roc_curve_plot\")                         # Not shown\n",
    "plt.show()"
   ]
  },
  {
   "cell_type": "code",
   "execution_count": 55,
   "metadata": {},
   "outputs": [
    {
     "output_type": "execute_result",
     "data": {
      "text/plain": "0.9611778893101814"
     },
     "metadata": {},
     "execution_count": 55
    }
   ],
   "source": [
    "from sklearn.metrics import roc_auc_score\n",
    "\n",
    "roc_auc_score(y_train_5, y_scores)"
   ]
  },
  {
   "cell_type": "markdown",
   "metadata": {},
   "source": [
    "**Note**: we set `n_estimators=100` to be future-proof since this will be the default value in Scikit-Learn 0.22."
   ]
  },
  {
   "cell_type": "code",
   "execution_count": 56,
   "metadata": {},
   "outputs": [],
   "source": [
    "from sklearn.ensemble import RandomForestClassifier\n",
    "forest_clf = RandomForestClassifier(n_estimators=100, random_state=42)\n",
    "y_probas_forest = cross_val_predict(forest_clf, X_train, y_train_5, cv=3,\n",
    "                                    method=\"predict_proba\")"
   ]
  },
  {
   "cell_type": "code",
   "execution_count": 57,
   "metadata": {},
   "outputs": [],
   "source": [
    "y_scores_forest = y_probas_forest[:, 1] # score = proba of positive class\n",
    "fpr_forest, tpr_forest, thresholds_forest = roc_curve(y_train_5,y_scores_forest)"
   ]
  },
  {
   "cell_type": "code",
   "execution_count": 58,
   "metadata": {},
   "outputs": [
    {
     "output_type": "stream",
     "name": "stdout",
     "text": "Saving figure roc_curve_comparison_plot\n"
    },
    {
     "output_type": "display_data",
     "data": {
      "text/plain": "<Figure size 576x432 with 1 Axes>",
      "image/svg+xml": "<?xml version=\"1.0\" encoding=\"utf-8\" standalone=\"no\"?>\n<!DOCTYPE svg PUBLIC \"-//W3C//DTD SVG 1.1//EN\"\n  \"http://www.w3.org/Graphics/SVG/1.1/DTD/svg11.dtd\">\n<!-- Created with matplotlib (https://matplotlib.org/) -->\n<svg height=\"423.457812pt\" version=\"1.1\" viewBox=\"0 0 569.410625 423.457812\" width=\"569.410625pt\" xmlns=\"http://www.w3.org/2000/svg\" xmlns:xlink=\"http://www.w3.org/1999/xlink\">\n <defs>\n  <style type=\"text/css\">\n*{stroke-linecap:butt;stroke-linejoin:round;}\n  </style>\n </defs>\n <g id=\"figure_1\">\n  <g id=\"patch_1\">\n   <path d=\"M 0 423.457812 \nL 569.410625 423.457812 \nL 569.410625 0 \nL 0 0 \nz\n\" style=\"fill:none;\"/>\n  </g>\n  <g id=\"axes_1\">\n   <g id=\"patch_2\">\n    <path d=\"M 52.76875 378.159062 \nL 552.66875 378.159062 \nL 552.66875 11.759062 \nL 52.76875 11.759062 \nz\n\" style=\"fill:#ffffff;\"/>\n   </g>\n   <g id=\"matplotlib.axis_1\">\n    <g id=\"xtick_1\">\n     <g id=\"line2d_1\">\n      <path clip-path=\"url(#pdec6c2fd4b)\" d=\"M 52.76875 378.159062 \nL 52.76875 11.759062 \n\" style=\"fill:none;stroke:#b0b0b0;stroke-linecap:square;stroke-width:0.8;\"/>\n     </g>\n     <g id=\"line2d_2\">\n      <defs>\n       <path d=\"M 0 0 \nL 0 3.5 \n\" id=\"m44e6f2cd7f\" style=\"stroke:#000000;stroke-width:0.8;\"/>\n      </defs>\n      <g>\n       <use style=\"stroke:#000000;stroke-width:0.8;\" x=\"52.76875\" xlink:href=\"#m44e6f2cd7f\" y=\"378.159062\"/>\n      </g>\n     </g>\n     <g id=\"text_1\">\n      <!-- 0.0 -->\n      <defs>\n       <path d=\"M 31.78125 66.40625 \nQ 24.171875 66.40625 20.328125 58.90625 \nQ 16.5 51.421875 16.5 36.375 \nQ 16.5 21.390625 20.328125 13.890625 \nQ 24.171875 6.390625 31.78125 6.390625 \nQ 39.453125 6.390625 43.28125 13.890625 \nQ 47.125 21.390625 47.125 36.375 \nQ 47.125 51.421875 43.28125 58.90625 \nQ 39.453125 66.40625 31.78125 66.40625 \nz\nM 31.78125 74.21875 \nQ 44.046875 74.21875 50.515625 64.515625 \nQ 56.984375 54.828125 56.984375 36.375 \nQ 56.984375 17.96875 50.515625 8.265625 \nQ 44.046875 -1.421875 31.78125 -1.421875 \nQ 19.53125 -1.421875 13.0625 8.265625 \nQ 6.59375 17.96875 6.59375 36.375 \nQ 6.59375 54.828125 13.0625 64.515625 \nQ 19.53125 74.21875 31.78125 74.21875 \nz\n\" id=\"DejaVuSans-48\"/>\n       <path d=\"M 10.6875 12.40625 \nL 21 12.40625 \nL 21 0 \nL 10.6875 0 \nz\n\" id=\"DejaVuSans-46\"/>\n      </defs>\n      <g transform=\"translate(43.226875 394.277187)scale(0.12 -0.12)\">\n       <use xlink:href=\"#DejaVuSans-48\"/>\n       <use x=\"63.623047\" xlink:href=\"#DejaVuSans-46\"/>\n       <use x=\"95.410156\" xlink:href=\"#DejaVuSans-48\"/>\n      </g>\n     </g>\n    </g>\n    <g id=\"xtick_2\">\n     <g id=\"line2d_3\">\n      <path clip-path=\"url(#pdec6c2fd4b)\" d=\"M 152.74875 378.159062 \nL 152.74875 11.759062 \n\" style=\"fill:none;stroke:#b0b0b0;stroke-linecap:square;stroke-width:0.8;\"/>\n     </g>\n     <g id=\"line2d_4\">\n      <g>\n       <use style=\"stroke:#000000;stroke-width:0.8;\" x=\"152.74875\" xlink:href=\"#m44e6f2cd7f\" y=\"378.159062\"/>\n      </g>\n     </g>\n     <g id=\"text_2\">\n      <!-- 0.2 -->\n      <defs>\n       <path d=\"M 19.1875 8.296875 \nL 53.609375 8.296875 \nL 53.609375 0 \nL 7.328125 0 \nL 7.328125 8.296875 \nQ 12.9375 14.109375 22.625 23.890625 \nQ 32.328125 33.6875 34.8125 36.53125 \nQ 39.546875 41.84375 41.421875 45.53125 \nQ 43.3125 49.21875 43.3125 52.78125 \nQ 43.3125 58.59375 39.234375 62.25 \nQ 35.15625 65.921875 28.609375 65.921875 \nQ 23.96875 65.921875 18.8125 64.3125 \nQ 13.671875 62.703125 7.8125 59.421875 \nL 7.8125 69.390625 \nQ 13.765625 71.78125 18.9375 73 \nQ 24.125 74.21875 28.421875 74.21875 \nQ 39.75 74.21875 46.484375 68.546875 \nQ 53.21875 62.890625 53.21875 53.421875 \nQ 53.21875 48.921875 51.53125 44.890625 \nQ 49.859375 40.875 45.40625 35.40625 \nQ 44.1875 33.984375 37.640625 27.21875 \nQ 31.109375 20.453125 19.1875 8.296875 \nz\n\" id=\"DejaVuSans-50\"/>\n      </defs>\n      <g transform=\"translate(143.206875 394.277187)scale(0.12 -0.12)\">\n       <use xlink:href=\"#DejaVuSans-48\"/>\n       <use x=\"63.623047\" xlink:href=\"#DejaVuSans-46\"/>\n       <use x=\"95.410156\" xlink:href=\"#DejaVuSans-50\"/>\n      </g>\n     </g>\n    </g>\n    <g id=\"xtick_3\">\n     <g id=\"line2d_5\">\n      <path clip-path=\"url(#pdec6c2fd4b)\" d=\"M 252.72875 378.159062 \nL 252.72875 11.759062 \n\" style=\"fill:none;stroke:#b0b0b0;stroke-linecap:square;stroke-width:0.8;\"/>\n     </g>\n     <g id=\"line2d_6\">\n      <g>\n       <use style=\"stroke:#000000;stroke-width:0.8;\" x=\"252.72875\" xlink:href=\"#m44e6f2cd7f\" y=\"378.159062\"/>\n      </g>\n     </g>\n     <g id=\"text_3\">\n      <!-- 0.4 -->\n      <defs>\n       <path d=\"M 37.796875 64.3125 \nL 12.890625 25.390625 \nL 37.796875 25.390625 \nz\nM 35.203125 72.90625 \nL 47.609375 72.90625 \nL 47.609375 25.390625 \nL 58.015625 25.390625 \nL 58.015625 17.1875 \nL 47.609375 17.1875 \nL 47.609375 0 \nL 37.796875 0 \nL 37.796875 17.1875 \nL 4.890625 17.1875 \nL 4.890625 26.703125 \nz\n\" id=\"DejaVuSans-52\"/>\n      </defs>\n      <g transform=\"translate(243.186875 394.277187)scale(0.12 -0.12)\">\n       <use xlink:href=\"#DejaVuSans-48\"/>\n       <use x=\"63.623047\" xlink:href=\"#DejaVuSans-46\"/>\n       <use x=\"95.410156\" xlink:href=\"#DejaVuSans-52\"/>\n      </g>\n     </g>\n    </g>\n    <g id=\"xtick_4\">\n     <g id=\"line2d_7\">\n      <path clip-path=\"url(#pdec6c2fd4b)\" d=\"M 352.70875 378.159062 \nL 352.70875 11.759062 \n\" style=\"fill:none;stroke:#b0b0b0;stroke-linecap:square;stroke-width:0.8;\"/>\n     </g>\n     <g id=\"line2d_8\">\n      <g>\n       <use style=\"stroke:#000000;stroke-width:0.8;\" x=\"352.70875\" xlink:href=\"#m44e6f2cd7f\" y=\"378.159062\"/>\n      </g>\n     </g>\n     <g id=\"text_4\">\n      <!-- 0.6 -->\n      <defs>\n       <path d=\"M 33.015625 40.375 \nQ 26.375 40.375 22.484375 35.828125 \nQ 18.609375 31.296875 18.609375 23.390625 \nQ 18.609375 15.53125 22.484375 10.953125 \nQ 26.375 6.390625 33.015625 6.390625 \nQ 39.65625 6.390625 43.53125 10.953125 \nQ 47.40625 15.53125 47.40625 23.390625 \nQ 47.40625 31.296875 43.53125 35.828125 \nQ 39.65625 40.375 33.015625 40.375 \nz\nM 52.59375 71.296875 \nL 52.59375 62.3125 \nQ 48.875 64.0625 45.09375 64.984375 \nQ 41.3125 65.921875 37.59375 65.921875 \nQ 27.828125 65.921875 22.671875 59.328125 \nQ 17.53125 52.734375 16.796875 39.40625 \nQ 19.671875 43.65625 24.015625 45.921875 \nQ 28.375 48.1875 33.59375 48.1875 \nQ 44.578125 48.1875 50.953125 41.515625 \nQ 57.328125 34.859375 57.328125 23.390625 \nQ 57.328125 12.15625 50.6875 5.359375 \nQ 44.046875 -1.421875 33.015625 -1.421875 \nQ 20.359375 -1.421875 13.671875 8.265625 \nQ 6.984375 17.96875 6.984375 36.375 \nQ 6.984375 53.65625 15.1875 63.9375 \nQ 23.390625 74.21875 37.203125 74.21875 \nQ 40.921875 74.21875 44.703125 73.484375 \nQ 48.484375 72.75 52.59375 71.296875 \nz\n\" id=\"DejaVuSans-54\"/>\n      </defs>\n      <g transform=\"translate(343.166875 394.277187)scale(0.12 -0.12)\">\n       <use xlink:href=\"#DejaVuSans-48\"/>\n       <use x=\"63.623047\" xlink:href=\"#DejaVuSans-46\"/>\n       <use x=\"95.410156\" xlink:href=\"#DejaVuSans-54\"/>\n      </g>\n     </g>\n    </g>\n    <g id=\"xtick_5\">\n     <g id=\"line2d_9\">\n      <path clip-path=\"url(#pdec6c2fd4b)\" d=\"M 452.68875 378.159062 \nL 452.68875 11.759062 \n\" style=\"fill:none;stroke:#b0b0b0;stroke-linecap:square;stroke-width:0.8;\"/>\n     </g>\n     <g id=\"line2d_10\">\n      <g>\n       <use style=\"stroke:#000000;stroke-width:0.8;\" x=\"452.68875\" xlink:href=\"#m44e6f2cd7f\" y=\"378.159062\"/>\n      </g>\n     </g>\n     <g id=\"text_5\">\n      <!-- 0.8 -->\n      <defs>\n       <path d=\"M 31.78125 34.625 \nQ 24.75 34.625 20.71875 30.859375 \nQ 16.703125 27.09375 16.703125 20.515625 \nQ 16.703125 13.921875 20.71875 10.15625 \nQ 24.75 6.390625 31.78125 6.390625 \nQ 38.8125 6.390625 42.859375 10.171875 \nQ 46.921875 13.96875 46.921875 20.515625 \nQ 46.921875 27.09375 42.890625 30.859375 \nQ 38.875 34.625 31.78125 34.625 \nz\nM 21.921875 38.8125 \nQ 15.578125 40.375 12.03125 44.71875 \nQ 8.5 49.078125 8.5 55.328125 \nQ 8.5 64.0625 14.71875 69.140625 \nQ 20.953125 74.21875 31.78125 74.21875 \nQ 42.671875 74.21875 48.875 69.140625 \nQ 55.078125 64.0625 55.078125 55.328125 \nQ 55.078125 49.078125 51.53125 44.71875 \nQ 48 40.375 41.703125 38.8125 \nQ 48.828125 37.15625 52.796875 32.3125 \nQ 56.78125 27.484375 56.78125 20.515625 \nQ 56.78125 9.90625 50.3125 4.234375 \nQ 43.84375 -1.421875 31.78125 -1.421875 \nQ 19.734375 -1.421875 13.25 4.234375 \nQ 6.78125 9.90625 6.78125 20.515625 \nQ 6.78125 27.484375 10.78125 32.3125 \nQ 14.796875 37.15625 21.921875 38.8125 \nz\nM 18.3125 54.390625 \nQ 18.3125 48.734375 21.84375 45.5625 \nQ 25.390625 42.390625 31.78125 42.390625 \nQ 38.140625 42.390625 41.71875 45.5625 \nQ 45.3125 48.734375 45.3125 54.390625 \nQ 45.3125 60.0625 41.71875 63.234375 \nQ 38.140625 66.40625 31.78125 66.40625 \nQ 25.390625 66.40625 21.84375 63.234375 \nQ 18.3125 60.0625 18.3125 54.390625 \nz\n\" id=\"DejaVuSans-56\"/>\n      </defs>\n      <g transform=\"translate(443.146875 394.277187)scale(0.12 -0.12)\">\n       <use xlink:href=\"#DejaVuSans-48\"/>\n       <use x=\"63.623047\" xlink:href=\"#DejaVuSans-46\"/>\n       <use x=\"95.410156\" xlink:href=\"#DejaVuSans-56\"/>\n      </g>\n     </g>\n    </g>\n    <g id=\"xtick_6\">\n     <g id=\"line2d_11\">\n      <path clip-path=\"url(#pdec6c2fd4b)\" d=\"M 552.66875 378.159062 \nL 552.66875 11.759062 \n\" style=\"fill:none;stroke:#b0b0b0;stroke-linecap:square;stroke-width:0.8;\"/>\n     </g>\n     <g id=\"line2d_12\">\n      <g>\n       <use style=\"stroke:#000000;stroke-width:0.8;\" x=\"552.66875\" xlink:href=\"#m44e6f2cd7f\" y=\"378.159062\"/>\n      </g>\n     </g>\n     <g id=\"text_6\">\n      <!-- 1.0 -->\n      <defs>\n       <path d=\"M 12.40625 8.296875 \nL 28.515625 8.296875 \nL 28.515625 63.921875 \nL 10.984375 60.40625 \nL 10.984375 69.390625 \nL 28.421875 72.90625 \nL 38.28125 72.90625 \nL 38.28125 8.296875 \nL 54.390625 8.296875 \nL 54.390625 0 \nL 12.40625 0 \nz\n\" id=\"DejaVuSans-49\"/>\n      </defs>\n      <g transform=\"translate(543.126875 394.277187)scale(0.12 -0.12)\">\n       <use xlink:href=\"#DejaVuSans-49\"/>\n       <use x=\"63.623047\" xlink:href=\"#DejaVuSans-46\"/>\n       <use x=\"95.410156\" xlink:href=\"#DejaVuSans-48\"/>\n      </g>\n     </g>\n    </g>\n    <g id=\"text_7\">\n     <!-- False Positive Rate (Fall-Out) -->\n     <defs>\n      <path d=\"M 9.8125 72.90625 \nL 51.703125 72.90625 \nL 51.703125 64.59375 \nL 19.671875 64.59375 \nL 19.671875 43.109375 \nL 48.578125 43.109375 \nL 48.578125 34.8125 \nL 19.671875 34.8125 \nL 19.671875 0 \nL 9.8125 0 \nz\n\" id=\"DejaVuSans-70\"/>\n      <path d=\"M 34.28125 27.484375 \nQ 23.390625 27.484375 19.1875 25 \nQ 14.984375 22.515625 14.984375 16.5 \nQ 14.984375 11.71875 18.140625 8.90625 \nQ 21.296875 6.109375 26.703125 6.109375 \nQ 34.1875 6.109375 38.703125 11.40625 \nQ 43.21875 16.703125 43.21875 25.484375 \nL 43.21875 27.484375 \nz\nM 52.203125 31.203125 \nL 52.203125 0 \nL 43.21875 0 \nL 43.21875 8.296875 \nQ 40.140625 3.328125 35.546875 0.953125 \nQ 30.953125 -1.421875 24.3125 -1.421875 \nQ 15.921875 -1.421875 10.953125 3.296875 \nQ 6 8.015625 6 15.921875 \nQ 6 25.140625 12.171875 29.828125 \nQ 18.359375 34.515625 30.609375 34.515625 \nL 43.21875 34.515625 \nL 43.21875 35.40625 \nQ 43.21875 41.609375 39.140625 45 \nQ 35.0625 48.390625 27.6875 48.390625 \nQ 23 48.390625 18.546875 47.265625 \nQ 14.109375 46.140625 10.015625 43.890625 \nL 10.015625 52.203125 \nQ 14.9375 54.109375 19.578125 55.046875 \nQ 24.21875 56 28.609375 56 \nQ 40.484375 56 46.34375 49.84375 \nQ 52.203125 43.703125 52.203125 31.203125 \nz\n\" id=\"DejaVuSans-97\"/>\n      <path d=\"M 9.421875 75.984375 \nL 18.40625 75.984375 \nL 18.40625 0 \nL 9.421875 0 \nz\n\" id=\"DejaVuSans-108\"/>\n      <path d=\"M 44.28125 53.078125 \nL 44.28125 44.578125 \nQ 40.484375 46.53125 36.375 47.5 \nQ 32.28125 48.484375 27.875 48.484375 \nQ 21.1875 48.484375 17.84375 46.4375 \nQ 14.5 44.390625 14.5 40.28125 \nQ 14.5 37.15625 16.890625 35.375 \nQ 19.28125 33.59375 26.515625 31.984375 \nL 29.59375 31.296875 \nQ 39.15625 29.25 43.1875 25.515625 \nQ 47.21875 21.78125 47.21875 15.09375 \nQ 47.21875 7.46875 41.1875 3.015625 \nQ 35.15625 -1.421875 24.609375 -1.421875 \nQ 20.21875 -1.421875 15.453125 -0.5625 \nQ 10.6875 0.296875 5.421875 2 \nL 5.421875 11.28125 \nQ 10.40625 8.6875 15.234375 7.390625 \nQ 20.0625 6.109375 24.8125 6.109375 \nQ 31.15625 6.109375 34.5625 8.28125 \nQ 37.984375 10.453125 37.984375 14.40625 \nQ 37.984375 18.0625 35.515625 20.015625 \nQ 33.0625 21.96875 24.703125 23.78125 \nL 21.578125 24.515625 \nQ 13.234375 26.265625 9.515625 29.90625 \nQ 5.8125 33.546875 5.8125 39.890625 \nQ 5.8125 47.609375 11.28125 51.796875 \nQ 16.75 56 26.8125 56 \nQ 31.78125 56 36.171875 55.265625 \nQ 40.578125 54.546875 44.28125 53.078125 \nz\n\" id=\"DejaVuSans-115\"/>\n      <path d=\"M 56.203125 29.59375 \nL 56.203125 25.203125 \nL 14.890625 25.203125 \nQ 15.484375 15.921875 20.484375 11.0625 \nQ 25.484375 6.203125 34.421875 6.203125 \nQ 39.59375 6.203125 44.453125 7.46875 \nQ 49.3125 8.734375 54.109375 11.28125 \nL 54.109375 2.78125 \nQ 49.265625 0.734375 44.1875 -0.34375 \nQ 39.109375 -1.421875 33.890625 -1.421875 \nQ 20.796875 -1.421875 13.15625 6.1875 \nQ 5.515625 13.8125 5.515625 26.8125 \nQ 5.515625 40.234375 12.765625 48.109375 \nQ 20.015625 56 32.328125 56 \nQ 43.359375 56 49.78125 48.890625 \nQ 56.203125 41.796875 56.203125 29.59375 \nz\nM 47.21875 32.234375 \nQ 47.125 39.59375 43.09375 43.984375 \nQ 39.0625 48.390625 32.421875 48.390625 \nQ 24.90625 48.390625 20.390625 44.140625 \nQ 15.875 39.890625 15.1875 32.171875 \nz\n\" id=\"DejaVuSans-101\"/>\n      <path id=\"DejaVuSans-32\"/>\n      <path d=\"M 19.671875 64.796875 \nL 19.671875 37.40625 \nL 32.078125 37.40625 \nQ 38.96875 37.40625 42.71875 40.96875 \nQ 46.484375 44.53125 46.484375 51.125 \nQ 46.484375 57.671875 42.71875 61.234375 \nQ 38.96875 64.796875 32.078125 64.796875 \nz\nM 9.8125 72.90625 \nL 32.078125 72.90625 \nQ 44.34375 72.90625 50.609375 67.359375 \nQ 56.890625 61.8125 56.890625 51.125 \nQ 56.890625 40.328125 50.609375 34.8125 \nQ 44.34375 29.296875 32.078125 29.296875 \nL 19.671875 29.296875 \nL 19.671875 0 \nL 9.8125 0 \nz\n\" id=\"DejaVuSans-80\"/>\n      <path d=\"M 30.609375 48.390625 \nQ 23.390625 48.390625 19.1875 42.75 \nQ 14.984375 37.109375 14.984375 27.296875 \nQ 14.984375 17.484375 19.15625 11.84375 \nQ 23.34375 6.203125 30.609375 6.203125 \nQ 37.796875 6.203125 41.984375 11.859375 \nQ 46.1875 17.53125 46.1875 27.296875 \nQ 46.1875 37.015625 41.984375 42.703125 \nQ 37.796875 48.390625 30.609375 48.390625 \nz\nM 30.609375 56 \nQ 42.328125 56 49.015625 48.375 \nQ 55.71875 40.765625 55.71875 27.296875 \nQ 55.71875 13.875 49.015625 6.21875 \nQ 42.328125 -1.421875 30.609375 -1.421875 \nQ 18.84375 -1.421875 12.171875 6.21875 \nQ 5.515625 13.875 5.515625 27.296875 \nQ 5.515625 40.765625 12.171875 48.375 \nQ 18.84375 56 30.609375 56 \nz\n\" id=\"DejaVuSans-111\"/>\n      <path d=\"M 9.421875 54.6875 \nL 18.40625 54.6875 \nL 18.40625 0 \nL 9.421875 0 \nz\nM 9.421875 75.984375 \nL 18.40625 75.984375 \nL 18.40625 64.59375 \nL 9.421875 64.59375 \nz\n\" id=\"DejaVuSans-105\"/>\n      <path d=\"M 18.3125 70.21875 \nL 18.3125 54.6875 \nL 36.8125 54.6875 \nL 36.8125 47.703125 \nL 18.3125 47.703125 \nL 18.3125 18.015625 \nQ 18.3125 11.328125 20.140625 9.421875 \nQ 21.96875 7.515625 27.59375 7.515625 \nL 36.8125 7.515625 \nL 36.8125 0 \nL 27.59375 0 \nQ 17.1875 0 13.234375 3.875 \nQ 9.28125 7.765625 9.28125 18.015625 \nL 9.28125 47.703125 \nL 2.6875 47.703125 \nL 2.6875 54.6875 \nL 9.28125 54.6875 \nL 9.28125 70.21875 \nz\n\" id=\"DejaVuSans-116\"/>\n      <path d=\"M 2.984375 54.6875 \nL 12.5 54.6875 \nL 29.59375 8.796875 \nL 46.6875 54.6875 \nL 56.203125 54.6875 \nL 35.6875 0 \nL 23.484375 0 \nz\n\" id=\"DejaVuSans-118\"/>\n      <path d=\"M 44.390625 34.1875 \nQ 47.5625 33.109375 50.5625 29.59375 \nQ 53.5625 26.078125 56.59375 19.921875 \nL 66.609375 0 \nL 56 0 \nL 46.6875 18.703125 \nQ 43.0625 26.03125 39.671875 28.421875 \nQ 36.28125 30.8125 30.421875 30.8125 \nL 19.671875 30.8125 \nL 19.671875 0 \nL 9.8125 0 \nL 9.8125 72.90625 \nL 32.078125 72.90625 \nQ 44.578125 72.90625 50.734375 67.671875 \nQ 56.890625 62.453125 56.890625 51.90625 \nQ 56.890625 45.015625 53.6875 40.46875 \nQ 50.484375 35.9375 44.390625 34.1875 \nz\nM 19.671875 64.796875 \nL 19.671875 38.921875 \nL 32.078125 38.921875 \nQ 39.203125 38.921875 42.84375 42.21875 \nQ 46.484375 45.515625 46.484375 51.90625 \nQ 46.484375 58.296875 42.84375 61.546875 \nQ 39.203125 64.796875 32.078125 64.796875 \nz\n\" id=\"DejaVuSans-82\"/>\n      <path d=\"M 31 75.875 \nQ 24.46875 64.65625 21.28125 53.65625 \nQ 18.109375 42.671875 18.109375 31.390625 \nQ 18.109375 20.125 21.3125 9.0625 \nQ 24.515625 -2 31 -13.1875 \nL 23.1875 -13.1875 \nQ 15.875 -1.703125 12.234375 9.375 \nQ 8.59375 20.453125 8.59375 31.390625 \nQ 8.59375 42.28125 12.203125 53.3125 \nQ 15.828125 64.359375 23.1875 75.875 \nz\n\" id=\"DejaVuSans-40\"/>\n      <path d=\"M 4.890625 31.390625 \nL 31.203125 31.390625 \nL 31.203125 23.390625 \nL 4.890625 23.390625 \nz\n\" id=\"DejaVuSans-45\"/>\n      <path d=\"M 39.40625 66.21875 \nQ 28.65625 66.21875 22.328125 58.203125 \nQ 16.015625 50.203125 16.015625 36.375 \nQ 16.015625 22.609375 22.328125 14.59375 \nQ 28.65625 6.59375 39.40625 6.59375 \nQ 50.140625 6.59375 56.421875 14.59375 \nQ 62.703125 22.609375 62.703125 36.375 \nQ 62.703125 50.203125 56.421875 58.203125 \nQ 50.140625 66.21875 39.40625 66.21875 \nz\nM 39.40625 74.21875 \nQ 54.734375 74.21875 63.90625 63.9375 \nQ 73.09375 53.65625 73.09375 36.375 \nQ 73.09375 19.140625 63.90625 8.859375 \nQ 54.734375 -1.421875 39.40625 -1.421875 \nQ 24.03125 -1.421875 14.8125 8.828125 \nQ 5.609375 19.09375 5.609375 36.375 \nQ 5.609375 53.65625 14.8125 63.9375 \nQ 24.03125 74.21875 39.40625 74.21875 \nz\n\" id=\"DejaVuSans-79\"/>\n      <path d=\"M 8.5 21.578125 \nL 8.5 54.6875 \nL 17.484375 54.6875 \nL 17.484375 21.921875 \nQ 17.484375 14.15625 20.5 10.265625 \nQ 23.53125 6.390625 29.59375 6.390625 \nQ 36.859375 6.390625 41.078125 11.03125 \nQ 45.3125 15.671875 45.3125 23.6875 \nL 45.3125 54.6875 \nL 54.296875 54.6875 \nL 54.296875 0 \nL 45.3125 0 \nL 45.3125 8.40625 \nQ 42.046875 3.421875 37.71875 1 \nQ 33.40625 -1.421875 27.6875 -1.421875 \nQ 18.265625 -1.421875 13.375 4.4375 \nQ 8.5 10.296875 8.5 21.578125 \nz\nM 31.109375 56 \nz\n\" id=\"DejaVuSans-117\"/>\n      <path d=\"M 8.015625 75.875 \nL 15.828125 75.875 \nQ 23.140625 64.359375 26.78125 53.3125 \nQ 30.421875 42.28125 30.421875 31.390625 \nQ 30.421875 20.453125 26.78125 9.375 \nQ 23.140625 -1.703125 15.828125 -13.1875 \nL 8.015625 -13.1875 \nQ 14.5 -2 17.703125 9.0625 \nQ 20.90625 20.125 20.90625 31.390625 \nQ 20.90625 42.671875 17.703125 53.65625 \nQ 14.5 64.65625 8.015625 75.875 \nz\n\" id=\"DejaVuSans-41\"/>\n     </defs>\n     <g transform=\"translate(187.075 412.930312)scale(0.16 -0.16)\">\n      <use xlink:href=\"#DejaVuSans-70\"/>\n      <use x=\"57.378906\" xlink:href=\"#DejaVuSans-97\"/>\n      <use x=\"118.658203\" xlink:href=\"#DejaVuSans-108\"/>\n      <use x=\"146.441406\" xlink:href=\"#DejaVuSans-115\"/>\n      <use x=\"198.541016\" xlink:href=\"#DejaVuSans-101\"/>\n      <use x=\"260.064453\" xlink:href=\"#DejaVuSans-32\"/>\n      <use x=\"291.851562\" xlink:href=\"#DejaVuSans-80\"/>\n      <use x=\"352.107422\" xlink:href=\"#DejaVuSans-111\"/>\n      <use x=\"413.289062\" xlink:href=\"#DejaVuSans-115\"/>\n      <use x=\"465.388672\" xlink:href=\"#DejaVuSans-105\"/>\n      <use x=\"493.171875\" xlink:href=\"#DejaVuSans-116\"/>\n      <use x=\"532.380859\" xlink:href=\"#DejaVuSans-105\"/>\n      <use x=\"560.164062\" xlink:href=\"#DejaVuSans-118\"/>\n      <use x=\"619.34375\" xlink:href=\"#DejaVuSans-101\"/>\n      <use x=\"680.867188\" xlink:href=\"#DejaVuSans-32\"/>\n      <use x=\"712.654297\" xlink:href=\"#DejaVuSans-82\"/>\n      <use x=\"782.105469\" xlink:href=\"#DejaVuSans-97\"/>\n      <use x=\"843.384766\" xlink:href=\"#DejaVuSans-116\"/>\n      <use x=\"882.59375\" xlink:href=\"#DejaVuSans-101\"/>\n      <use x=\"944.117188\" xlink:href=\"#DejaVuSans-32\"/>\n      <use x=\"975.904297\" xlink:href=\"#DejaVuSans-40\"/>\n      <use x=\"1014.917969\" xlink:href=\"#DejaVuSans-70\"/>\n      <use x=\"1072.296875\" xlink:href=\"#DejaVuSans-97\"/>\n      <use x=\"1133.576172\" xlink:href=\"#DejaVuSans-108\"/>\n      <use x=\"1161.359375\" xlink:href=\"#DejaVuSans-108\"/>\n      <use x=\"1189.142578\" xlink:href=\"#DejaVuSans-45\"/>\n      <use x=\"1225.257812\" xlink:href=\"#DejaVuSans-79\"/>\n      <use x=\"1303.96875\" xlink:href=\"#DejaVuSans-117\"/>\n      <use x=\"1367.347656\" xlink:href=\"#DejaVuSans-116\"/>\n      <use x=\"1406.556641\" xlink:href=\"#DejaVuSans-41\"/>\n     </g>\n    </g>\n   </g>\n   <g id=\"matplotlib.axis_2\">\n    <g id=\"ytick_1\">\n     <g id=\"line2d_13\">\n      <path clip-path=\"url(#pdec6c2fd4b)\" d=\"M 52.76875 378.159062 \nL 552.66875 378.159062 \n\" style=\"fill:none;stroke:#b0b0b0;stroke-linecap:square;stroke-width:0.8;\"/>\n     </g>\n     <g id=\"line2d_14\">\n      <defs>\n       <path d=\"M 0 0 \nL -3.5 0 \n\" id=\"m3a01fd6d43\" style=\"stroke:#000000;stroke-width:0.8;\"/>\n      </defs>\n      <g>\n       <use style=\"stroke:#000000;stroke-width:0.8;\" x=\"52.76875\" xlink:href=\"#m3a01fd6d43\" y=\"378.159062\"/>\n      </g>\n     </g>\n     <g id=\"text_8\">\n      <!-- 0.0 -->\n      <g transform=\"translate(26.685 382.718125)scale(0.12 -0.12)\">\n       <use xlink:href=\"#DejaVuSans-48\"/>\n       <use x=\"63.623047\" xlink:href=\"#DejaVuSans-46\"/>\n       <use x=\"95.410156\" xlink:href=\"#DejaVuSans-48\"/>\n      </g>\n     </g>\n    </g>\n    <g id=\"ytick_2\">\n     <g id=\"line2d_15\">\n      <path clip-path=\"url(#pdec6c2fd4b)\" d=\"M 52.76875 304.879062 \nL 552.66875 304.879062 \n\" style=\"fill:none;stroke:#b0b0b0;stroke-linecap:square;stroke-width:0.8;\"/>\n     </g>\n     <g id=\"line2d_16\">\n      <g>\n       <use style=\"stroke:#000000;stroke-width:0.8;\" x=\"52.76875\" xlink:href=\"#m3a01fd6d43\" y=\"304.879062\"/>\n      </g>\n     </g>\n     <g id=\"text_9\">\n      <!-- 0.2 -->\n      <g transform=\"translate(26.685 309.438125)scale(0.12 -0.12)\">\n       <use xlink:href=\"#DejaVuSans-48\"/>\n       <use x=\"63.623047\" xlink:href=\"#DejaVuSans-46\"/>\n       <use x=\"95.410156\" xlink:href=\"#DejaVuSans-50\"/>\n      </g>\n     </g>\n    </g>\n    <g id=\"ytick_3\">\n     <g id=\"line2d_17\">\n      <path clip-path=\"url(#pdec6c2fd4b)\" d=\"M 52.76875 231.599062 \nL 552.66875 231.599062 \n\" style=\"fill:none;stroke:#b0b0b0;stroke-linecap:square;stroke-width:0.8;\"/>\n     </g>\n     <g id=\"line2d_18\">\n      <g>\n       <use style=\"stroke:#000000;stroke-width:0.8;\" x=\"52.76875\" xlink:href=\"#m3a01fd6d43\" y=\"231.599062\"/>\n      </g>\n     </g>\n     <g id=\"text_10\">\n      <!-- 0.4 -->\n      <g transform=\"translate(26.685 236.158125)scale(0.12 -0.12)\">\n       <use xlink:href=\"#DejaVuSans-48\"/>\n       <use x=\"63.623047\" xlink:href=\"#DejaVuSans-46\"/>\n       <use x=\"95.410156\" xlink:href=\"#DejaVuSans-52\"/>\n      </g>\n     </g>\n    </g>\n    <g id=\"ytick_4\">\n     <g id=\"line2d_19\">\n      <path clip-path=\"url(#pdec6c2fd4b)\" d=\"M 52.76875 158.319062 \nL 552.66875 158.319062 \n\" style=\"fill:none;stroke:#b0b0b0;stroke-linecap:square;stroke-width:0.8;\"/>\n     </g>\n     <g id=\"line2d_20\">\n      <g>\n       <use style=\"stroke:#000000;stroke-width:0.8;\" x=\"52.76875\" xlink:href=\"#m3a01fd6d43\" y=\"158.319062\"/>\n      </g>\n     </g>\n     <g id=\"text_11\">\n      <!-- 0.6 -->\n      <g transform=\"translate(26.685 162.878125)scale(0.12 -0.12)\">\n       <use xlink:href=\"#DejaVuSans-48\"/>\n       <use x=\"63.623047\" xlink:href=\"#DejaVuSans-46\"/>\n       <use x=\"95.410156\" xlink:href=\"#DejaVuSans-54\"/>\n      </g>\n     </g>\n    </g>\n    <g id=\"ytick_5\">\n     <g id=\"line2d_21\">\n      <path clip-path=\"url(#pdec6c2fd4b)\" d=\"M 52.76875 85.039062 \nL 552.66875 85.039062 \n\" style=\"fill:none;stroke:#b0b0b0;stroke-linecap:square;stroke-width:0.8;\"/>\n     </g>\n     <g id=\"line2d_22\">\n      <g>\n       <use style=\"stroke:#000000;stroke-width:0.8;\" x=\"52.76875\" xlink:href=\"#m3a01fd6d43\" y=\"85.039062\"/>\n      </g>\n     </g>\n     <g id=\"text_12\">\n      <!-- 0.8 -->\n      <g transform=\"translate(26.685 89.598125)scale(0.12 -0.12)\">\n       <use xlink:href=\"#DejaVuSans-48\"/>\n       <use x=\"63.623047\" xlink:href=\"#DejaVuSans-46\"/>\n       <use x=\"95.410156\" xlink:href=\"#DejaVuSans-56\"/>\n      </g>\n     </g>\n    </g>\n    <g id=\"ytick_6\">\n     <g id=\"line2d_23\">\n      <path clip-path=\"url(#pdec6c2fd4b)\" d=\"M 52.76875 11.759062 \nL 552.66875 11.759062 \n\" style=\"fill:none;stroke:#b0b0b0;stroke-linecap:square;stroke-width:0.8;\"/>\n     </g>\n     <g id=\"line2d_24\">\n      <g>\n       <use style=\"stroke:#000000;stroke-width:0.8;\" x=\"52.76875\" xlink:href=\"#m3a01fd6d43\" y=\"11.759062\"/>\n      </g>\n     </g>\n     <g id=\"text_13\">\n      <!-- 1.0 -->\n      <g transform=\"translate(26.685 16.318125)scale(0.12 -0.12)\">\n       <use xlink:href=\"#DejaVuSans-49\"/>\n       <use x=\"63.623047\" xlink:href=\"#DejaVuSans-46\"/>\n       <use x=\"95.410156\" xlink:href=\"#DejaVuSans-48\"/>\n      </g>\n     </g>\n    </g>\n    <g id=\"text_14\">\n     <!-- True Positive Rate (Recall) -->\n     <defs>\n      <path d=\"M -0.296875 72.90625 \nL 61.375 72.90625 \nL 61.375 64.59375 \nL 35.5 64.59375 \nL 35.5 0 \nL 25.59375 0 \nL 25.59375 64.59375 \nL -0.296875 64.59375 \nz\n\" id=\"DejaVuSans-84\"/>\n      <path d=\"M 41.109375 46.296875 \nQ 39.59375 47.171875 37.8125 47.578125 \nQ 36.03125 48 33.890625 48 \nQ 26.265625 48 22.1875 43.046875 \nQ 18.109375 38.09375 18.109375 28.8125 \nL 18.109375 0 \nL 9.078125 0 \nL 9.078125 54.6875 \nL 18.109375 54.6875 \nL 18.109375 46.1875 \nQ 20.953125 51.171875 25.484375 53.578125 \nQ 30.03125 56 36.53125 56 \nQ 37.453125 56 38.578125 55.875 \nQ 39.703125 55.765625 41.0625 55.515625 \nz\n\" id=\"DejaVuSans-114\"/>\n      <path d=\"M 48.78125 52.59375 \nL 48.78125 44.1875 \nQ 44.96875 46.296875 41.140625 47.34375 \nQ 37.3125 48.390625 33.40625 48.390625 \nQ 24.65625 48.390625 19.8125 42.84375 \nQ 14.984375 37.3125 14.984375 27.296875 \nQ 14.984375 17.28125 19.8125 11.734375 \nQ 24.65625 6.203125 33.40625 6.203125 \nQ 37.3125 6.203125 41.140625 7.25 \nQ 44.96875 8.296875 48.78125 10.40625 \nL 48.78125 2.09375 \nQ 45.015625 0.34375 40.984375 -0.53125 \nQ 36.96875 -1.421875 32.421875 -1.421875 \nQ 20.0625 -1.421875 12.78125 6.34375 \nQ 5.515625 14.109375 5.515625 27.296875 \nQ 5.515625 40.671875 12.859375 48.328125 \nQ 20.21875 56 33.015625 56 \nQ 37.15625 56 41.109375 55.140625 \nQ 45.0625 54.296875 48.78125 52.59375 \nz\n\" id=\"DejaVuSans-99\"/>\n     </defs>\n     <g transform=\"translate(19.3575 300.840312)rotate(-90)scale(0.16 -0.16)\">\n      <use xlink:href=\"#DejaVuSans-84\"/>\n      <use x=\"60.865234\" xlink:href=\"#DejaVuSans-114\"/>\n      <use x=\"101.978516\" xlink:href=\"#DejaVuSans-117\"/>\n      <use x=\"165.357422\" xlink:href=\"#DejaVuSans-101\"/>\n      <use x=\"226.880859\" xlink:href=\"#DejaVuSans-32\"/>\n      <use x=\"258.667969\" xlink:href=\"#DejaVuSans-80\"/>\n      <use x=\"318.923828\" xlink:href=\"#DejaVuSans-111\"/>\n      <use x=\"380.105469\" xlink:href=\"#DejaVuSans-115\"/>\n      <use x=\"432.205078\" xlink:href=\"#DejaVuSans-105\"/>\n      <use x=\"459.988281\" xlink:href=\"#DejaVuSans-116\"/>\n      <use x=\"499.197266\" xlink:href=\"#DejaVuSans-105\"/>\n      <use x=\"526.980469\" xlink:href=\"#DejaVuSans-118\"/>\n      <use x=\"586.160156\" xlink:href=\"#DejaVuSans-101\"/>\n      <use x=\"647.683594\" xlink:href=\"#DejaVuSans-32\"/>\n      <use x=\"679.470703\" xlink:href=\"#DejaVuSans-82\"/>\n      <use x=\"748.921875\" xlink:href=\"#DejaVuSans-97\"/>\n      <use x=\"810.201172\" xlink:href=\"#DejaVuSans-116\"/>\n      <use x=\"849.410156\" xlink:href=\"#DejaVuSans-101\"/>\n      <use x=\"910.933594\" xlink:href=\"#DejaVuSans-32\"/>\n      <use x=\"942.720703\" xlink:href=\"#DejaVuSans-40\"/>\n      <use x=\"981.734375\" xlink:href=\"#DejaVuSans-82\"/>\n      <use x=\"1051.154297\" xlink:href=\"#DejaVuSans-101\"/>\n      <use x=\"1112.677734\" xlink:href=\"#DejaVuSans-99\"/>\n      <use x=\"1167.658203\" xlink:href=\"#DejaVuSans-97\"/>\n      <use x=\"1228.9375\" xlink:href=\"#DejaVuSans-108\"/>\n      <use x=\"1256.720703\" xlink:href=\"#DejaVuSans-108\"/>\n      <use x=\"1284.503906\" xlink:href=\"#DejaVuSans-41\"/>\n     </g>\n    </g>\n   </g>\n   <g id=\"line2d_25\">\n    <path clip-path=\"url(#pdec6c2fd4b)\" d=\"M 52.76875 378.159062 \nL 52.87866 338.349138 \nL 52.88782 338.349138 \nL 52.988571 311.178358 \nL 53.006889 311.178358 \nL 53.1168 295.903243 \nL 53.125959 295.903243 \nL 53.235869 287.589795 \nL 53.254188 287.589795 \nL 53.364098 279.546703 \nL 53.382416 279.479114 \nL 53.492327 269.273174 \nL 53.501486 269.273174 \nL 53.611396 264.339177 \nL 53.620556 264.339177 \nL 53.712148 259.270001 \nL 53.739625 259.270001 \nL 53.840376 252.57869 \nL 53.858695 252.57869 \nL 53.968605 248.793706 \nL 53.977764 248.793706 \nL 54.078516 245.008721 \nL 54.096834 245.008721 \nL 54.206744 241.088559 \nL 54.215904 241.088559 \nL 54.325814 237.371164 \nL 54.334973 237.371164 \nL 54.444884 234.87037 \nL 54.463202 234.802781 \nL 54.573112 232.910289 \nL 54.582272 232.910289 \nL 54.683023 228.990127 \nL 54.71966 228.922538 \nL 54.820411 226.286567 \nL 54.838729 226.286567 \nL 54.94864 222.974705 \nL 54.957799 222.974705 \nL 55.067709 219.798022 \nL 55.086028 219.730433 \nL 55.195938 217.90553 \nL 55.214257 217.90553 \nL 55.324167 215.066792 \nL 55.333326 215.066792 \nL 55.443237 212.836355 \nL 55.461555 212.836355 \nL 55.562306 210.741095 \nL 55.580625 210.741095 \nL 55.690535 208.037535 \nL 55.699694 208.037535 \nL 55.809605 206.145043 \nL 55.818764 206.145043 \nL 55.928674 203.171127 \nL 55.937833 203.171127 \nL 56.038585 201.413813 \nL 56.056903 201.413813 \nL 56.166813 199.048197 \nL 56.185132 198.980608 \nL 56.295042 196.682582 \nL 56.304201 196.682582 \nL 56.414112 194.249378 \nL 56.459908 194.181789 \nL 56.569818 192.356886 \nL 56.578977 192.356886 \nL 56.679729 190.73475 \nL 56.707206 190.73475 \nL 56.817117 189.180203 \nL 56.835435 189.180203 \nL 56.936186 187.422888 \nL 56.963664 187.422888 \nL 57.064415 186.071108 \nL 57.091893 186.003519 \nL 57.201803 184.58415 \nL 57.229281 184.516561 \nL 57.339191 182.826836 \nL 57.34835 182.826836 \nL 57.458261 180.326043 \nL 57.476579 180.326043 \nL 57.586489 179.17703 \nL 57.613967 179.109441 \nL 57.723877 177.757661 \nL 57.769673 177.690072 \nL 57.879584 175.527223 \nL 57.888743 175.527223 \nL 57.998653 173.499553 \nL 58.026131 173.431964 \nL 58.136041 170.728404 \nL 58.172678 170.660815 \nL 58.282589 169.64698 \nL 58.300907 169.579391 \nL 58.401658 167.754488 \nL 58.419977 167.754488 \nL 58.529887 166.335119 \nL 58.539046 166.335119 \nL 58.648957 164.577804 \nL 58.658116 164.577804 \nL 58.768026 162.617723 \nL 58.777185 162.617723 \nL 58.887096 161.671477 \nL 58.896255 161.671477 \nL 59.006165 160.387286 \nL 59.015325 160.387286 \nL 59.125235 158.629972 \nL 59.152713 158.562383 \nL 59.189349 157.751315 \nL 59.326738 157.683726 \nL 59.427489 156.602302 \nL 59.454966 156.602302 \nL 59.564877 155.318111 \nL 59.592354 155.250522 \nL 59.693106 154.03392 \nL 59.75722 153.966331 \nL 59.848812 153.29044 \nL 59.894608 153.29044 \nL 59.977041 152.141427 \nL 60.041155 152.073838 \nL 60.141906 151.127592 \nL 60.187702 151.060003 \nL 60.270135 149.708223 \nL 60.343409 149.708223 \nL 60.453319 148.55921 \nL 60.499115 148.491621 \nL 60.609026 147.950909 \nL 60.618185 147.950909 \nL 60.728095 146.666718 \nL 60.755573 146.666718 \nL 60.865483 145.585294 \nL 60.874642 145.585294 \nL 60.984553 143.625213 \nL 60.993712 143.625213 \nL 61.103622 142.949323 \nL 61.112782 142.949323 \nL 61.213533 141.665131 \nL 61.231851 141.665131 \nL 61.341762 140.516118 \nL 61.369239 140.516118 \nL 61.47915 138.556037 \nL 61.497468 138.556037 \nL 61.607378 136.866312 \nL 61.634856 136.798723 \nL 61.744766 136.122833 \nL 61.763085 136.122833 \nL 61.872995 135.244176 \nL 61.900473 135.176587 \nL 61.992065 134.500697 \nL 62.028702 134.500697 \nL 62.120294 133.824807 \nL 62.147771 133.824807 \nL 62.257682 132.540616 \nL 62.285159 132.473027 \nL 62.39507 131.864726 \nL 62.422547 131.797137 \nL 62.523298 130.850891 \nL 62.559935 130.850891 \nL 62.669846 129.431521 \nL 62.679005 129.431521 \nL 62.788915 128.552864 \nL 62.798074 128.552864 \nL 62.907985 127.539029 \nL 62.944622 127.539029 \nL 63.054532 125.308592 \nL 63.08201 125.241003 \nL 63.19192 123.821634 \nL 63.219398 123.821634 \nL 63.329308 122.807799 \nL 63.338467 122.807799 \nL 63.439218 121.658786 \nL 63.512492 121.591197 \nL 63.613243 121.050485 \nL 63.64988 120.982896 \nL 63.732313 119.969061 \nL 63.814746 119.901472 \nL 63.915497 118.887637 \nL 63.952134 118.820048 \nL 64.052885 117.94139 \nL 64.071203 117.94139 \nL 64.171955 116.792377 \nL 64.199432 116.724788 \nL 64.309343 115.710953 \nL 64.355139 115.643364 \nL 64.465049 114.629529 \nL 64.483367 114.629529 \nL 64.593278 113.750872 \nL 64.629915 113.750872 \nL 64.739825 112.872215 \nL 64.831417 112.872215 \nL 64.91385 112.263914 \nL 64.950487 112.263914 \nL 65.060397 111.385257 \nL 65.069556 111.385257 \nL 65.179467 110.371422 \nL 65.188626 110.371422 \nL 65.271059 109.222409 \nL 65.335173 109.15482 \nL 65.426765 108.276163 \nL 65.454243 108.276163 \nL 65.554994 107.465095 \nL 65.609949 107.397506 \nL 65.719859 106.789205 \nL 65.729019 106.789205 \nL 65.82977 105.978136 \nL 65.857247 105.910547 \nL 65.967158 105.099479 \nL 66.012954 105.03189 \nL 66.122864 104.018055 \nL 66.141183 103.950466 \nL 66.232775 103.477343 \nL 66.28773 103.409754 \nL 66.379322 102.733864 \nL 66.415959 102.666275 \nL 66.498391 102.395919 \nL 66.544187 102.395919 \nL 66.644939 101.787618 \nL 66.663257 101.787618 \nL 66.773167 100.773783 \nL 66.818963 100.706194 \nL 66.919715 99.489592 \nL 66.965511 99.489592 \nL 67.066262 98.813702 \nL 67.112058 98.746113 \nL 67.221968 97.326744 \nL 67.240287 97.259155 \nL 67.331879 96.448087 \nL 67.386834 96.380498 \nL 67.496744 95.637019 \nL 67.570018 95.56943 \nL 67.679928 94.825951 \nL 67.707406 94.825951 \nL 67.817316 94.285238 \nL 67.89059 94.285238 \nL 67.991341 93.744526 \nL 68.018819 93.676937 \nL 68.128729 93.001047 \nL 68.192844 92.933458 \nL 68.284436 92.663102 \nL 68.321072 92.663102 \nL 68.421824 91.852034 \nL 68.495097 91.784445 \nL 68.605008 90.77061 \nL 68.632485 90.703021 \nL 68.68744 90.365076 \nL 68.797351 90.297487 \nL 68.907261 89.824364 \nL 68.92558 89.756775 \nL 69.03549 89.486419 \nL 69.044649 89.486419 \nL 69.1454 88.134639 \nL 69.182037 88.06705 \nL 69.291948 87.526338 \nL 69.319425 87.526338 \nL 69.429336 87.053215 \nL 69.438495 87.053215 \nL 69.539246 86.309736 \nL 69.557564 86.309736 \nL 69.667475 85.633846 \nL 69.713271 85.566257 \nL 69.823181 84.620011 \nL 69.83234 84.620011 \nL 69.942251 84.01171 \nL 69.960569 84.01171 \nL 70.06132 82.862697 \nL 70.079639 82.862697 \nL 70.189549 82.389573 \nL 70.271982 82.321984 \nL 70.372733 81.781272 \nL 70.436848 81.713683 \nL 70.52844 81.037793 \nL 70.601713 80.970204 \nL 70.684146 80.294314 \nL 70.739101 80.226725 \nL 70.830693 79.550835 \nL 70.858171 79.550835 \nL 70.931444 78.942534 \nL 70.97724 78.942534 \nL 71.032196 78.604589 \nL 71.123788 78.537 \nL 71.197061 77.928699 \nL 71.270335 77.86111 \nL 71.371086 77.455576 \nL 71.407723 77.387987 \nL 71.508474 76.779686 \nL 71.535952 76.712097 \nL 71.600066 76.50933 \nL 71.682499 76.50933 \nL 71.755772 75.83344 \nL 71.847364 75.765851 \nL 71.929797 75.292728 \nL 71.975593 75.225139 \nL 72.076344 74.414071 \nL 72.1313 74.414071 \nL 72.24121 73.940948 \nL 72.305325 73.873359 \nL 72.406076 73.467825 \nL 72.442713 73.400236 \nL 72.552623 72.318812 \nL 72.607578 72.251223 \nL 72.671693 71.845689 \nL 72.735807 71.7781 \nL 72.809081 71.642922 \nL 72.882354 71.575333 \nL 72.973946 70.899443 \nL 73.166289 70.831853 \nL 73.267041 70.561497 \nL 73.285359 70.561497 \nL 73.395269 70.223552 \nL 73.450225 70.155963 \nL 73.532657 69.615251 \nL 73.605931 69.547662 \nL 73.706682 69.142128 \nL 73.743319 69.142128 \nL 73.798274 68.871772 \nL 73.944821 68.871772 \nL 74.018095 68.195882 \nL 74.091369 68.195882 \nL 74.182961 67.857937 \nL 74.274553 67.857937 \nL 74.329508 67.317225 \nL 74.393622 67.317225 \nL 74.503533 66.97928 \nL 74.549329 66.911691 \nL 74.65008 66.370979 \nL 74.705035 66.30339 \nL 74.805786 65.357144 \nL 74.952333 65.289555 \nL 75.025607 64.95161 \nL 75.098881 64.884021 \nL 75.181313 64.681254 \nL 75.236269 64.681254 \nL 75.346179 64.005364 \nL 75.364497 63.937775 \nL 75.474408 63.464652 \nL 75.685069 63.397063 \nL 75.79498 62.991529 \nL 75.923209 62.92394 \nL 75.950686 62.721173 \nL 76.078915 62.653584 \nL 76.170507 62.315639 \nL 76.225462 62.24805 \nL 76.289577 62.112872 \nL 76.390328 62.045283 \nL 76.472761 61.57216 \nL 76.665104 61.504571 \nL 76.665104 61.436982 \nL 76.848288 61.369393 \nL 76.949039 61.166626 \nL 77.05895 61.099037 \nL 77.086427 60.761092 \nL 77.269611 60.693503 \nL 77.361203 60.22038 \nL 77.425318 60.152791 \nL 77.489432 59.814846 \nL 77.681775 59.814846 \nL 77.755049 59.54449 \nL 77.837482 59.476901 \nL 77.892437 59.206545 \nL 78.011506 59.138956 \nL 78.112258 58.936188 \nL 78.20385 58.868599 \nL 78.295442 58.665832 \nL 78.350397 58.665832 \nL 78.460307 57.989942 \nL 78.570218 57.922353 \nL 78.616014 57.787175 \nL 78.77172 57.719586 \nL 78.872471 57.381641 \nL 78.945745 57.314052 \nL 79.046496 57.111285 \nL 79.202202 57.043696 \nL 79.302954 56.908518 \nL 79.449501 56.840929 \nL 79.504456 56.570573 \nL 79.68764 56.502984 \nL 79.770073 56.300217 \nL 79.825028 56.300217 \nL 79.925779 56.029861 \nL 79.980734 55.962272 \nL 80.081486 55.556738 \nL 80.118122 55.556738 \nL 80.200555 55.353971 \nL 80.356262 55.286382 \nL 80.447854 55.151204 \nL 80.621878 55.083615 \nL 80.695152 54.948437 \nL 80.777585 54.948437 \nL 80.841699 54.610492 \nL 80.933291 54.542903 \nL 81.024883 54.002191 \nL 81.098157 53.934602 \nL 81.098157 53.867013 \nL 81.253863 53.799424 \nL 81.336296 53.39389 \nL 81.391251 53.39389 \nL 81.501162 53.123534 \nL 81.775938 53.055945 \nL 81.849211 52.920767 \nL 81.904167 52.853178 \nL 81.986599 52.515233 \nL 82.169783 52.447644 \nL 82.243057 52.109699 \nL 82.352967 52.04211 \nL 82.389604 51.839343 \nL 82.591107 51.771754 \nL 82.673539 51.433809 \nL 82.78345 51.36622 \nL 82.89336 50.893097 \nL 82.966634 50.825508 \nL 82.966634 50.757919 \nL 83.12234 50.69033 \nL 83.140659 50.555152 \nL 83.259728 50.487563 \nL 83.323843 50.284796 \nL 83.47039 50.217207 \nL 83.552823 49.879262 \nL 83.671892 49.811673 \nL 83.717688 49.676495 \nL 83.900872 49.676495 \nL 84.001623 49.203372 \nL 84.248922 49.135783 \nL 84.258081 49.000605 \nL 84.532857 48.933016 \nL 84.532857 48.865427 \nL 84.706882 48.797838 \nL 84.816792 48.66266 \nL 84.890066 48.595071 \nL 84.999976 48.257126 \nL 85.247275 48.189537 \nL 85.348026 47.919181 \nL 85.375504 47.851592 \nL 85.375504 47.784003 \nL 85.714394 47.716414 \nL 85.714394 47.648825 \nL 85.970852 47.581236 \nL 86.025807 47.378469 \nL 86.236468 47.378469 \nL 86.273105 47.175701 \nL 86.437971 47.175701 \nL 86.538722 46.770167 \nL 86.776861 46.702578 \nL 86.868453 46.5674 \nL 87.015 46.499811 \nL 87.097433 46.297044 \nL 87.262299 46.229455 \nL 87.262299 46.161866 \nL 87.427164 46.094277 \nL 87.527916 45.89151 \nL 87.967557 45.823921 \nL 88.022512 45.621154 \nL 88.324766 45.553565 \nL 88.379721 45.418387 \nL 88.901796 45.350798 \nL 88.993388 45.21562 \nL 89.103298 45.148031 \nL 89.103298 45.080442 \nL 89.460507 45.012853 \nL 89.524621 44.810086 \nL 89.817716 44.742497 \nL 89.854353 44.607319 \nL 90.019218 44.53973 \nL 90.119969 44.336963 \nL 90.330631 44.269374 \nL 90.403905 43.999018 \nL 90.724477 43.931429 \nL 90.816069 43.728662 \nL 91.090845 43.661073 \nL 91.164118 43.525895 \nL 91.503009 43.458306 \nL 91.503009 43.390717 \nL 91.887695 43.323128 \nL 91.887695 43.255539 \nL 92.199108 43.18795 \nL 92.199108 43.120361 \nL 92.483043 43.052772 \nL 92.528839 42.917594 \nL 92.693705 42.850005 \nL 92.693705 42.782416 \nL 92.968481 42.714827 \nL 92.968481 42.647238 \nL 93.389804 42.579649 \nL 93.389804 42.51206 \nL 93.673739 42.444471 \nL 93.737854 42.309293 \nL 94.195814 42.241704 \nL 94.195814 42.174115 \nL 94.956027 42.106526 \nL 95.020142 41.971348 \nL 95.450624 41.903759 \nL 95.450624 41.83617 \nL 95.826151 41.768581 \nL 95.826151 41.700992 \nL 96.100927 41.633403 \nL 96.100927 41.565814 \nL 96.30243 41.498225 \nL 96.329907 41.363047 \nL 96.8703 41.295458 \nL 96.8703 41.227869 \nL 97.20919 41.16028 \nL 97.245827 41.025102 \nL 97.941926 40.957513 \nL 97.941926 40.889924 \nL 98.482319 40.822335 \nL 98.482319 40.754746 \nL 98.70214 40.754746 \nL 98.802891 40.551979 \nL 99.05019 40.48439 \nL 99.05019 40.416801 \nL 99.425717 40.349212 \nL 99.453195 40.146445 \nL 99.892836 40.078856 \nL 99.892836 40.011267 \nL 100.295841 39.943678 \nL 100.295841 39.876089 \nL 101.074373 39.8085 \nL 101.138487 39.673322 \nL 101.22092 39.673322 \nL 101.230079 39.470555 \nL 102.155159 39.402966 \nL 102.155159 39.335377 \nL 102.695552 39.267788 \nL 102.787144 39.065021 \nL 103.144352 38.997432 \nL 103.144352 38.929843 \nL 103.62979 38.862254 \nL 103.648108 38.727076 \nL 104.573188 38.659487 \nL 104.573188 38.591898 \nL 104.912078 38.524309 \nL 104.967033 38.389131 \nL 105.076944 38.321542 \nL 105.168536 37.983597 \nL 105.424993 37.916008 \nL 105.525744 37.713241 \nL 105.782202 37.645652 \nL 105.873794 37.307707 \nL 106.359232 37.240118 \nL 106.395868 37.10494 \nL 106.972898 37.037351 \nL 106.972898 36.969762 \nL 107.549928 36.902173 \nL 107.549928 36.834584 \nL 107.778908 36.766995 \nL 107.778908 36.699406 \nL 108.007888 36.699406 \nL 108.007888 36.564228 \nL 108.300982 36.496639 \nL 108.300982 36.42905 \nL 109.317653 36.361461 \nL 109.317653 36.293872 \nL 109.729817 36.226283 \nL 109.729817 36.158694 \nL 110.288529 36.091105 \nL 110.288529 36.023516 \nL 110.490031 35.955927 \nL 110.490031 35.888338 \nL 111.323518 35.820749 \nL 111.323518 35.75316 \nL 111.772319 35.685571 \nL 111.863911 35.550393 \nL 111.955503 35.482804 \nL 111.955503 35.415215 \nL 112.266916 35.347625 \nL 112.266916 35.280036 \nL 112.816468 35.212447 \nL 112.816468 35.144858 \nL 113.072926 35.077269 \nL 113.072926 35.00968 \nL 114.40101 34.942091 \nL 114.40101 34.874502 \nL 114.84981 34.806913 \nL 114.84981 34.739324 \nL 115.435999 34.671735 \nL 115.500114 34.536557 \nL 115.729094 34.468968 \nL 115.729094 34.401379 \nL 116.681651 34.33379 \nL 116.791561 34.198612 \nL 117.542615 34.131023 \nL 117.625048 33.995845 \nL 118.257033 33.928256 \nL 118.321147 33.793078 \nL 118.504331 33.725489 \nL 118.504331 33.6579 \nL 119.246227 33.590311 \nL 119.246227 33.522722 \nL 120.299535 33.455133 \nL 120.299535 33.387544 \nL 120.528515 33.319955 \nL 120.528515 33.252366 \nL 121.04143 33.184777 \nL 121.04143 33.117188 \nL 121.398639 33.049599 \nL 121.398639 32.98201 \nL 122.726723 32.914421 \nL 122.726723 32.846832 \nL 124.237991 32.779243 \nL 124.237991 32.711654 \nL 125.373732 32.644065 \nL 125.373732 32.576476 \nL 126.491154 32.508887 \nL 126.491154 32.441298 \nL 127.297164 32.373709 \nL 127.297164 32.30612 \nL 127.855875 32.238531 \nL 127.855875 32.170942 \nL 128.442064 32.103353 \nL 128.442064 32.035764 \nL 129.266392 31.968175 \nL 129.266392 31.900586 \nL 129.623601 31.832997 \nL 129.623601 31.765408 \nL 129.999128 31.697819 \nL 129.999128 31.63023 \nL 130.585317 31.562641 \nL 130.585317 31.495052 \nL 131.382167 31.427463 \nL 131.382167 31.359874 \nL 131.950038 31.292285 \nL 131.950038 31.224696 \nL 132.169858 31.157107 \nL 132.169858 31.089518 \nL 132.444634 31.021929 \nL 132.444634 30.886751 \nL 133.497943 30.819162 \nL 133.497943 30.751573 \nL 134.093291 30.683984 \nL 134.093291 30.616395 \nL 134.798549 30.548806 \nL 134.798549 30.481217 \nL 135.458011 30.413628 \nL 135.512967 30.27845 \nL 136.117474 30.210861 \nL 136.117474 30.143272 \nL 136.328135 30.143272 \nL 136.328135 30.008094 \nL 136.721981 29.940505 \nL 136.721981 29.872916 \nL 137.637901 29.805327 \nL 137.637901 29.737738 \nL 138.242408 29.670149 \nL 138.242408 29.60256 \nL 138.508025 29.534971 \nL 138.56298 29.399793 \nL 139.643766 29.332204 \nL 139.643766 29.264615 \nL 140.303228 29.197026 \nL 140.303228 29.129437 \nL 141.695427 29.061848 \nL 141.695427 28.994259 \nL 142.620506 28.92667 \nL 142.620506 28.859081 \nL 143.417357 28.791492 \nL 143.417357 28.723903 \nL 144.63553 28.656314 \nL 144.63553 28.588725 \nL 145.588087 28.521136 \nL 145.588087 28.453547 \nL 147.090196 28.385958 \nL 147.090196 28.318369 \nL 147.96032 28.25078 \nL 148.024434 28.115602 \nL 148.894558 28.048013 \nL 148.903718 27.912835 \nL 150.433304 27.845246 \nL 150.433304 27.777657 \nL 151.715592 27.710068 \nL 151.715592 27.642479 \nL 152.512443 27.57489 \nL 152.512443 27.507301 \nL 153.840527 27.439712 \nL 153.840527 27.372123 \nL 155.425068 27.304534 \nL 155.425068 27.236945 \nL 155.919665 27.169356 \nL 155.956302 27.034178 \nL 157.980485 26.966589 \nL 157.980485 26.899 \nL 160.041305 26.831411 \nL 160.041305 26.763822 \nL 160.755723 26.696233 \nL 160.755723 26.628644 \nL 163.833214 26.561055 \nL 163.897329 26.425877 \nL 164.785771 26.358288 \nL 164.859045 26.22311 \nL 165.655895 26.155521 \nL 165.692532 26.020343 \nL 167.771671 25.952754 \nL 167.771671 25.885165 \nL 169.127232 25.817576 \nL 169.127232 25.749987 \nL 170.858321 25.682398 \nL 170.858321 25.614809 \nL 172.149768 25.54722 \nL 172.186405 25.412042 \nL 173.880857 25.344453 \nL 173.890016 25.209275 \nL 174.53116 25.141686 \nL 174.641071 25.006508 \nL 177.022463 24.938919 \nL 177.022463 24.87133 \nL 177.645289 24.803741 \nL 177.663607 24.668563 \nL 178.387184 24.600974 \nL 178.387184 24.533385 \nL 182.985102 24.465796 \nL 182.985102 24.398207 \nL 184.04757 24.330618 \nL 184.04757 24.263029 \nL 187.308245 24.19544 \nL 187.308245 24.127851 \nL 189.222518 24.060262 \nL 189.222518 23.992673 \nL 191.402408 23.925084 \nL 191.402408 23.857495 \nL 192.492352 23.789906 \nL 192.492352 23.722317 \nL 192.97779 23.654728 \nL 192.97779 23.587139 \nL 194.608128 23.519549 \nL 194.608128 23.45196 \nL 195.285909 23.384371 \nL 195.285909 23.316782 \nL 196.311739 23.249193 \nL 196.311739 23.181604 \nL 199.581574 23.114015 \nL 199.581574 23.046426 \nL 199.929623 22.978837 \nL 199.929623 22.911248 \nL 202.182787 22.843659 \nL 202.292697 22.640892 \nL 203.043751 22.573303 \nL 203.043751 22.505714 \nL 203.895557 22.438125 \nL 203.895557 22.370536 \nL 207.211188 22.302947 \nL 207.211188 22.235358 \nL 209.693331 22.167769 \nL 209.693331 22.10018 \nL 210.581773 22.032591 \nL 210.581773 21.965002 \nL 211.232077 21.897413 \nL 211.232077 21.829824 \nL 214.51107 21.762235 \nL 214.51107 21.694646 \nL 215.784199 21.627057 \nL 215.784199 21.559468 \nL 216.233 21.491879 \nL 216.233 21.42429 \nL 217.561084 21.356701 \nL 217.561084 21.289112 \nL 222.891739 21.221523 \nL 222.891739 21.153934 \nL 225.437996 21.086345 \nL 225.437996 21.018756 \nL 226.225688 20.951167 \nL 226.225688 20.883578 \nL 229.138313 20.883578 \nL 229.138313 20.7484 \nL 231.519705 20.680811 \nL 231.519705 20.613222 \nL 235.787893 20.545633 \nL 235.842848 20.410455 \nL 240.266742 20.342866 \nL 240.266742 20.275277 \nL 243.83883 20.207688 \nL 243.83883 20.140099 \nL 246.632386 20.07251 \nL 246.632386 20.004921 \nL 248.381793 19.937332 \nL 248.381793 19.869743 \nL 259.473585 19.802154 \nL 259.473585 19.734565 \nL 270.235646 19.666976 \nL 270.235646 19.599387 \nL 274.842724 19.531798 \nL 274.842724 19.464209 \nL 279.513916 19.39662 \nL 279.513916 19.329031 \nL 280.329085 19.261442 \nL 280.329085 19.193853 \nL 282.261676 19.126264 \nL 282.261676 19.058675 \nL 290.248499 18.991086 \nL 290.248499 18.923497 \nL 293.44506 18.855908 \nL 293.44506 18.788319 \nL 295.487561 18.72073 \nL 295.487561 18.653141 \nL 310.96661 18.585552 \nL 310.96661 18.517963 \nL 316.975045 18.450374 \nL 316.975045 18.382785 \nL 320.647885 18.315196 \nL 320.647885 18.247607 \nL 321.774466 18.180018 \nL 321.774466 18.112429 \nL 322.781979 18.04484 \nL 322.781979 17.977251 \nL 324.238291 17.909662 \nL 324.238291 17.842073 \nL 324.925231 17.774484 \nL 324.925231 17.706895 \nL 331.748836 17.639306 \nL 331.748836 17.571717 \nL 334.606506 17.504128 \nL 334.606506 17.436539 \nL 340.156982 17.36895 \nL 340.156982 17.301361 \nL 347.548456 17.233772 \nL 347.548456 17.166183 \nL 354.454494 17.098594 \nL 354.454494 17.031005 \nL 369.558015 16.963416 \nL 369.558015 16.895827 \nL 372.754576 16.828238 \nL 372.754576 16.760649 \nL 373.826203 16.69306 \nL 373.826203 16.625471 \nL 379.211812 16.557882 \nL 379.211812 16.490293 \nL 386.520854 16.422704 \nL 386.520854 16.355115 \nL 389.653301 16.287526 \nL 389.653301 16.219937 \nL 395.240413 16.152348 \nL 395.240413 16.084759 \nL 396.733363 16.01717 \nL 396.733363 15.949581 \nL 406.652777 15.881992 \nL 406.652777 15.814403 \nL 408.878463 15.746814 \nL 408.878463 15.679225 \nL 414.886898 15.611636 \nL 414.886898 15.544047 \nL 417.515589 15.476458 \nL 417.515589 15.408869 \nL 420.666353 15.34128 \nL 420.666353 15.273691 \nL 426.683948 15.206102 \nL 426.683948 15.138513 \nL 440.331157 15.070924 \nL 440.331157 15.003335 \nL 443.738379 14.935746 \nL 443.738379 14.868157 \nL 448.858372 14.800568 \nL 448.858372 14.732979 \nL 457.110812 14.66539 \nL 457.110812 14.597801 \nL 459.986801 14.530212 \nL 459.986801 14.462623 \nL 464.35574 14.395034 \nL 464.35574 14.327445 \nL 466.883679 14.259856 \nL 466.883679 14.192267 \nL 467.5523 14.124678 \nL 467.5523 14.057089 \nL 474.934616 13.9895 \nL 474.934616 13.921911 \nL 477.599943 13.854322 \nL 477.599943 13.786733 \nL 483.764085 13.719144 \nL 483.764085 13.651555 \nL 484.670846 13.583966 \nL 484.670846 13.516377 \nL 488.737531 13.448788 \nL 488.737531 13.381199 \nL 491.228834 13.31361 \nL 491.228834 13.246021 \nL 494.681852 13.178432 \nL 494.681852 13.110843 \nL 495.909185 13.043254 \nL 495.909185 12.975665 \nL 508.200832 12.908076 \nL 508.200832 12.840487 \nL 509.208344 12.772898 \nL 509.208344 12.705309 \nL 521.133623 12.63772 \nL 521.133623 12.570131 \nL 530.860694 12.502542 \nL 530.860694 12.434953 \nL 536.118075 12.367364 \nL 536.118075 12.299775 \nL 536.768378 12.232186 \nL 536.768378 12.164597 \nL 538.35292 12.097008 \nL 538.35292 12.029419 \nL 543.894236 11.96183 \nL 543.894236 11.894241 \nL 547.347255 11.826652 \nL 547.347255 11.759062 \nL 552.66875 11.759062 \nL 552.66875 11.759062 \n\" style=\"fill:none;stroke:#0000ff;stroke-dasharray:2,3.3;stroke-dashoffset:0;stroke-width:2;\"/>\n   </g>\n   <g id=\"line2d_26\">\n    <path clip-path=\"url(#pdec6c2fd4b)\" d=\"M 52.76875 378.159062 \nL 52.76875 370.589094 \nL 52.76875 358.423073 \nL 52.76875 344.296971 \nL 52.76875 329.765334 \nL 52.76875 314.963342 \nL 52.76875 302.324198 \nL 52.76875 290.360944 \nL 52.76875 278.600457 \nL 52.76875 265.758546 \nL 52.76875 253.592525 \nL 52.76875 245.07631 \nL 52.76875 235.951794 \nL 52.76875 227.638347 \nL 52.76875 217.973119 \nL 52.76875 209.930027 \nL 52.777909 201.61658 \nL 52.796228 193.843844 \nL 52.796228 187.625655 \nL 52.796228 181.272289 \nL 52.796228 174.580977 \nL 52.796228 169.241446 \nL 52.814546 162.82049 \nL 52.814546 156.467124 \nL 52.823705 151.127592 \nL 52.823705 146.058417 \nL 52.823705 141.665131 \nL 52.823705 136.460778 \nL 52.832864 130.91848 \nL 52.832864 126.930728 \nL 52.851183 123.145744 \nL 52.87866 118.68487 \nL 52.87866 114.832296 \nL 52.896979 106.721616 \nL 52.896979 103.544932 \nL 52.906138 99.084058 \nL 52.915297 95.704608 \nL 52.915297 92.392746 \nL 52.942775 90.432665 \nL 52.961093 87.255982 \nL 52.979412 83.876532 \nL 52.988571 80.361903 \nL 52.99773 77.658343 \nL 53.025208 75.495495 \nL 53.043526 72.589168 \nL 53.080163 70.088374 \nL 53.1168 67.182047 \nL 53.1168 64.95161 \nL 53.144277 62.653584 \nL 53.180914 60.761092 \nL 53.217551 58.463065 \nL 53.309143 57.043696 \nL 53.33662 55.151204 \nL 53.409894 52.853178 \nL 53.483168 51.36622 \nL 53.528964 49.135783 \nL 53.638874 46.364633 \nL 53.748784 44.945264 \nL 53.867854 43.458306 \nL 53.91365 41.83617 \nL 54.041879 40.619568 \nL 54.133471 39.335377 \nL 54.225063 37.78083 \nL 54.353292 36.631817 \nL 54.49068 34.739324 \nL 54.582272 33.995845 \nL 54.756296 32.644065 \nL 54.921162 31.495052 \nL 55.131824 30.548806 \nL 55.461555 29.670149 \nL 55.727172 28.25078 \nL 55.983629 26.966589 \nL 56.295042 25.952754 \nL 56.670569 24.87133 \nL 57.064415 23.925084 \nL 57.540693 22.708481 \nL 58.007813 21.965002 \nL 58.676434 21.018756 \nL 59.253464 20.140099 \nL 59.885449 19.329031 \nL 60.663981 18.72073 \nL 61.671493 18.180018 \nL 62.752278 17.706895 \nL 63.888019 17.436539 \nL 65.500039 16.69306 \nL 67.157854 16.355115 \nL 69.26447 15.746814 \nL 71.810728 15.206102 \nL 74.521851 14.868157 \nL 78.368715 14.462623 \nL 82.508674 14.192267 \nL 88.379721 13.719144 \nL 95.084256 13.31361 \nL 103.822133 12.975665 \nL 114.996358 12.299775 \nL 129.825103 12.029419 \nL 150.863787 11.96183 \nL 181.556267 11.826652 \nL 231.959347 11.759062 \nL 321.362302 11.759062 \nL 552.66875 11.759062 \n\" style=\"fill:none;stroke:#1f77b4;stroke-linecap:square;stroke-width:2;\"/>\n   </g>\n   <g id=\"line2d_27\">\n    <path clip-path=\"url(#pdec6c2fd4b)\" d=\"M 52.76875 378.159062 \nL 552.66875 11.759062 \n\" style=\"fill:none;stroke:#000000;stroke-dasharray:5.55,2.4;stroke-dashoffset:0;stroke-width:1.5;\"/>\n   </g>\n   <g id=\"line2d_28\">\n    <path clip-path=\"url(#pdec6c2fd4b)\" d=\"M 55.186766 378.159062 \nL 55.186766 218.115542 \n\" style=\"fill:none;stroke:#ff0000;stroke-dasharray:1.5,2.475;stroke-dashoffset:0;stroke-width:1.5;\"/>\n   </g>\n   <g id=\"line2d_29\">\n    <path clip-path=\"url(#pdec6c2fd4b)\" d=\"M 52.76875 218.115542 \nL 55.186766 218.115542 \n\" style=\"fill:none;stroke:#ff0000;stroke-dasharray:1.5,2.475;stroke-dashoffset:0;stroke-width:1.5;\"/>\n   </g>\n   <g id=\"line2d_30\">\n    <defs>\n     <path d=\"M 0 3 \nC 0.795609 3 1.55874 2.683901 2.12132 2.12132 \nC 2.683901 1.55874 3 0.795609 3 0 \nC 3 -0.795609 2.683901 -1.55874 2.12132 -2.12132 \nC 1.55874 -2.683901 0.795609 -3 0 -3 \nC -0.795609 -3 -1.55874 -2.683901 -2.12132 -2.12132 \nC -2.683901 -1.55874 -3 -0.795609 -3 0 \nC -3 0.795609 -2.683901 1.55874 -2.12132 2.12132 \nC -1.55874 2.683901 -0.795609 3 0 3 \nz\n\" id=\"mf74c4c0f02\" style=\"stroke:#ff0000;\"/>\n    </defs>\n    <g clip-path=\"url(#pdec6c2fd4b)\">\n     <use style=\"fill:#ff0000;stroke:#ff0000;\" x=\"55.186766\" xlink:href=\"#mf74c4c0f02\" y=\"218.115542\"/>\n    </g>\n   </g>\n   <g id=\"line2d_31\">\n    <path clip-path=\"url(#pdec6c2fd4b)\" d=\"M 55.186766 378.159062 \nL 55.186766 30.555382 \n\" style=\"fill:none;stroke:#ff0000;stroke-dasharray:1.5,2.475;stroke-dashoffset:0;stroke-width:1.5;\"/>\n   </g>\n   <g id=\"line2d_32\">\n    <g clip-path=\"url(#pdec6c2fd4b)\">\n     <use style=\"fill:#ff0000;stroke:#ff0000;\" x=\"55.186766\" xlink:href=\"#mf74c4c0f02\" y=\"30.555382\"/>\n    </g>\n   </g>\n   <g id=\"patch_3\">\n    <path d=\"M 52.76875 378.159062 \nL 52.76875 11.759062 \n\" style=\"fill:none;stroke:#000000;stroke-linecap:square;stroke-linejoin:miter;stroke-width:0.8;\"/>\n   </g>\n   <g id=\"patch_4\">\n    <path d=\"M 552.66875 378.159062 \nL 552.66875 11.759062 \n\" style=\"fill:none;stroke:#000000;stroke-linecap:square;stroke-linejoin:miter;stroke-width:0.8;\"/>\n   </g>\n   <g id=\"patch_5\">\n    <path d=\"M 52.76875 378.159062 \nL 552.66875 378.159062 \n\" style=\"fill:none;stroke:#000000;stroke-linecap:square;stroke-linejoin:miter;stroke-width:0.8;\"/>\n   </g>\n   <g id=\"patch_6\">\n    <path d=\"M 52.76875 11.759062 \nL 552.66875 11.759062 \n\" style=\"fill:none;stroke:#000000;stroke-linecap:square;stroke-linejoin:miter;stroke-width:0.8;\"/>\n   </g>\n   <g id=\"legend_1\">\n    <g id=\"patch_7\">\n     <path d=\"M 368.58375 370.159062 \nL 541.46875 370.159062 \nQ 544.66875 370.159062 544.66875 366.959062 \nL 544.66875 321.589062 \nQ 544.66875 318.389062 541.46875 318.389062 \nL 368.58375 318.389062 \nQ 365.38375 318.389062 365.38375 321.589062 \nL 365.38375 366.959062 \nQ 365.38375 370.159062 368.58375 370.159062 \nz\n\" style=\"fill:#ffffff;opacity:0.8;stroke:#cccccc;stroke-linejoin:miter;\"/>\n    </g>\n    <g id=\"line2d_33\">\n     <path d=\"M 371.78375 331.346562 \nL 403.78375 331.346562 \n\" style=\"fill:none;stroke:#0000ff;stroke-dasharray:2,3.3;stroke-dashoffset:0;stroke-width:2;\"/>\n    </g>\n    <g id=\"line2d_34\"/>\n    <g id=\"text_15\">\n     <!-- SGD -->\n     <defs>\n      <path d=\"M 53.515625 70.515625 \nL 53.515625 60.890625 \nQ 47.90625 63.578125 42.921875 64.890625 \nQ 37.9375 66.21875 33.296875 66.21875 \nQ 25.25 66.21875 20.875 63.09375 \nQ 16.5 59.96875 16.5 54.203125 \nQ 16.5 49.359375 19.40625 46.890625 \nQ 22.3125 44.4375 30.421875 42.921875 \nL 36.375 41.703125 \nQ 47.40625 39.59375 52.65625 34.296875 \nQ 57.90625 29 57.90625 20.125 \nQ 57.90625 9.515625 50.796875 4.046875 \nQ 43.703125 -1.421875 29.984375 -1.421875 \nQ 24.8125 -1.421875 18.96875 -0.25 \nQ 13.140625 0.921875 6.890625 3.21875 \nL 6.890625 13.375 \nQ 12.890625 10.015625 18.65625 8.296875 \nQ 24.421875 6.59375 29.984375 6.59375 \nQ 38.421875 6.59375 43.015625 9.90625 \nQ 47.609375 13.234375 47.609375 19.390625 \nQ 47.609375 24.75 44.3125 27.78125 \nQ 41.015625 30.8125 33.5 32.328125 \nL 27.484375 33.5 \nQ 16.453125 35.6875 11.515625 40.375 \nQ 6.59375 45.0625 6.59375 53.421875 \nQ 6.59375 63.09375 13.40625 68.65625 \nQ 20.21875 74.21875 32.171875 74.21875 \nQ 37.3125 74.21875 42.625 73.28125 \nQ 47.953125 72.359375 53.515625 70.515625 \nz\n\" id=\"DejaVuSans-83\"/>\n      <path d=\"M 59.515625 10.40625 \nL 59.515625 29.984375 \nL 43.40625 29.984375 \nL 43.40625 38.09375 \nL 69.28125 38.09375 \nL 69.28125 6.78125 \nQ 63.578125 2.734375 56.6875 0.65625 \nQ 49.8125 -1.421875 42 -1.421875 \nQ 24.90625 -1.421875 15.25 8.5625 \nQ 5.609375 18.5625 5.609375 36.375 \nQ 5.609375 54.25 15.25 64.234375 \nQ 24.90625 74.21875 42 74.21875 \nQ 49.125 74.21875 55.546875 72.453125 \nQ 61.96875 70.703125 67.390625 67.28125 \nL 67.390625 56.78125 \nQ 61.921875 61.421875 55.765625 63.765625 \nQ 49.609375 66.109375 42.828125 66.109375 \nQ 29.4375 66.109375 22.71875 58.640625 \nQ 16.015625 51.171875 16.015625 36.375 \nQ 16.015625 21.625 22.71875 14.15625 \nQ 29.4375 6.6875 42.828125 6.6875 \nQ 48.046875 6.6875 52.140625 7.59375 \nQ 56.25 8.5 59.515625 10.40625 \nz\n\" id=\"DejaVuSans-71\"/>\n      <path d=\"M 19.671875 64.796875 \nL 19.671875 8.109375 \nL 31.59375 8.109375 \nQ 46.6875 8.109375 53.6875 14.9375 \nQ 60.6875 21.78125 60.6875 36.53125 \nQ 60.6875 51.171875 53.6875 57.984375 \nQ 46.6875 64.796875 31.59375 64.796875 \nz\nM 9.8125 72.90625 \nL 30.078125 72.90625 \nQ 51.265625 72.90625 61.171875 64.09375 \nQ 71.09375 55.28125 71.09375 36.53125 \nQ 71.09375 17.671875 61.125 8.828125 \nQ 51.171875 0 30.078125 0 \nL 9.8125 0 \nz\n\" id=\"DejaVuSans-68\"/>\n     </defs>\n     <g transform=\"translate(416.58375 336.946562)scale(0.16 -0.16)\">\n      <use xlink:href=\"#DejaVuSans-83\"/>\n      <use x=\"63.476562\" xlink:href=\"#DejaVuSans-71\"/>\n      <use x=\"140.966797\" xlink:href=\"#DejaVuSans-68\"/>\n     </g>\n    </g>\n    <g id=\"line2d_35\">\n     <path d=\"M 371.78375 354.831562 \nL 403.78375 354.831562 \n\" style=\"fill:none;stroke:#1f77b4;stroke-linecap:square;stroke-width:2;\"/>\n    </g>\n    <g id=\"line2d_36\"/>\n    <g id=\"text_16\">\n     <!-- Random Forest -->\n     <defs>\n      <path d=\"M 54.890625 33.015625 \nL 54.890625 0 \nL 45.90625 0 \nL 45.90625 32.71875 \nQ 45.90625 40.484375 42.875 44.328125 \nQ 39.84375 48.1875 33.796875 48.1875 \nQ 26.515625 48.1875 22.3125 43.546875 \nQ 18.109375 38.921875 18.109375 30.90625 \nL 18.109375 0 \nL 9.078125 0 \nL 9.078125 54.6875 \nL 18.109375 54.6875 \nL 18.109375 46.1875 \nQ 21.34375 51.125 25.703125 53.5625 \nQ 30.078125 56 35.796875 56 \nQ 45.21875 56 50.046875 50.171875 \nQ 54.890625 44.34375 54.890625 33.015625 \nz\n\" id=\"DejaVuSans-110\"/>\n      <path d=\"M 45.40625 46.390625 \nL 45.40625 75.984375 \nL 54.390625 75.984375 \nL 54.390625 0 \nL 45.40625 0 \nL 45.40625 8.203125 \nQ 42.578125 3.328125 38.25 0.953125 \nQ 33.9375 -1.421875 27.875 -1.421875 \nQ 17.96875 -1.421875 11.734375 6.484375 \nQ 5.515625 14.40625 5.515625 27.296875 \nQ 5.515625 40.1875 11.734375 48.09375 \nQ 17.96875 56 27.875 56 \nQ 33.9375 56 38.25 53.625 \nQ 42.578125 51.265625 45.40625 46.390625 \nz\nM 14.796875 27.296875 \nQ 14.796875 17.390625 18.875 11.75 \nQ 22.953125 6.109375 30.078125 6.109375 \nQ 37.203125 6.109375 41.296875 11.75 \nQ 45.40625 17.390625 45.40625 27.296875 \nQ 45.40625 37.203125 41.296875 42.84375 \nQ 37.203125 48.484375 30.078125 48.484375 \nQ 22.953125 48.484375 18.875 42.84375 \nQ 14.796875 37.203125 14.796875 27.296875 \nz\n\" id=\"DejaVuSans-100\"/>\n      <path d=\"M 52 44.1875 \nQ 55.375 50.25 60.0625 53.125 \nQ 64.75 56 71.09375 56 \nQ 79.640625 56 84.28125 50.015625 \nQ 88.921875 44.046875 88.921875 33.015625 \nL 88.921875 0 \nL 79.890625 0 \nL 79.890625 32.71875 \nQ 79.890625 40.578125 77.09375 44.375 \nQ 74.3125 48.1875 68.609375 48.1875 \nQ 61.625 48.1875 57.5625 43.546875 \nQ 53.515625 38.921875 53.515625 30.90625 \nL 53.515625 0 \nL 44.484375 0 \nL 44.484375 32.71875 \nQ 44.484375 40.625 41.703125 44.40625 \nQ 38.921875 48.1875 33.109375 48.1875 \nQ 26.21875 48.1875 22.15625 43.53125 \nQ 18.109375 38.875 18.109375 30.90625 \nL 18.109375 0 \nL 9.078125 0 \nL 9.078125 54.6875 \nL 18.109375 54.6875 \nL 18.109375 46.1875 \nQ 21.1875 51.21875 25.484375 53.609375 \nQ 29.78125 56 35.6875 56 \nQ 41.65625 56 45.828125 52.96875 \nQ 50 49.953125 52 44.1875 \nz\n\" id=\"DejaVuSans-109\"/>\n     </defs>\n     <g transform=\"translate(416.58375 360.431562)scale(0.16 -0.16)\">\n      <use xlink:href=\"#DejaVuSans-82\"/>\n      <use x=\"69.451172\" xlink:href=\"#DejaVuSans-97\"/>\n      <use x=\"130.730469\" xlink:href=\"#DejaVuSans-110\"/>\n      <use x=\"194.109375\" xlink:href=\"#DejaVuSans-100\"/>\n      <use x=\"257.585938\" xlink:href=\"#DejaVuSans-111\"/>\n      <use x=\"318.767578\" xlink:href=\"#DejaVuSans-109\"/>\n      <use x=\"416.179688\" xlink:href=\"#DejaVuSans-32\"/>\n      <use x=\"447.966797\" xlink:href=\"#DejaVuSans-70\"/>\n      <use x=\"505.439453\" xlink:href=\"#DejaVuSans-111\"/>\n      <use x=\"566.621094\" xlink:href=\"#DejaVuSans-114\"/>\n      <use x=\"607.703125\" xlink:href=\"#DejaVuSans-101\"/>\n      <use x=\"669.226562\" xlink:href=\"#DejaVuSans-115\"/>\n      <use x=\"721.326172\" xlink:href=\"#DejaVuSans-116\"/>\n     </g>\n    </g>\n   </g>\n  </g>\n </g>\n <defs>\n  <clipPath id=\"pdec6c2fd4b\">\n   <rect height=\"366.4\" width=\"499.9\" x=\"52.76875\" y=\"11.759062\"/>\n  </clipPath>\n </defs>\n</svg>\n",
      "image/png": "[encoded data removed]"
     },
     "metadata": {
      "needs_background": "light"
     }
    }
   ],
   "source": [
    "plt.figure(figsize=(8, 6))\n",
    "plt.plot(fpr, tpr, \"b:\", linewidth=2, label=\"SGD\")\n",
    "plot_roc_curve(fpr_forest, tpr_forest, \"Random Forest\")\n",
    "plt.plot([4.837e-3, 4.837e-3], [0., 0.4368], \"r:\")\n",
    "plt.plot([0.0, 4.837e-3], [0.4368, 0.4368], \"r:\")\n",
    "plt.plot([4.837e-3], [0.4368], \"ro\")\n",
    "plt.plot([4.837e-3, 4.837e-3], [0., 0.9487], \"r:\")\n",
    "plt.plot([4.837e-3], [0.9487], \"ro\")\n",
    "plt.grid(True)\n",
    "plt.legend(loc=\"lower right\", fontsize=16)\n",
    "save_fig(\"roc_curve_comparison_plot\")\n",
    "plt.show()"
   ]
  },
  {
   "cell_type": "code",
   "execution_count": 59,
   "metadata": {},
   "outputs": [
    {
     "output_type": "execute_result",
     "data": {
      "text/plain": "0.9983436731328145"
     },
     "metadata": {},
     "execution_count": 59
    }
   ],
   "source": [
    "roc_auc_score(y_train_5, y_scores_forest)"
   ]
  },
  {
   "cell_type": "code",
   "execution_count": 60,
   "metadata": {},
   "outputs": [
    {
     "output_type": "execute_result",
     "data": {
      "text/plain": "0.9905083315756169"
     },
     "metadata": {},
     "execution_count": 60
    }
   ],
   "source": [
    "y_train_pred_forest = cross_val_predict(forest_clf, X_train, y_train_5, cv=3)\n",
    "precision_score(y_train_5, y_train_pred_forest)"
   ]
  },
  {
   "cell_type": "code",
   "execution_count": 61,
   "metadata": {},
   "outputs": [
    {
     "output_type": "execute_result",
     "data": {
      "text/plain": "0.8662608374838591"
     },
     "metadata": {},
     "execution_count": 61
    }
   ],
   "source": [
    "recall_score(y_train_5, y_train_pred_forest)"
   ]
  },
  {
   "cell_type": "markdown",
   "metadata": {},
   "source": [
    "# Multiclass classification"
   ]
  },
  {
   "cell_type": "code",
   "execution_count": 62,
   "metadata": {},
   "outputs": [
    {
     "output_type": "execute_result",
     "data": {
      "text/plain": "array([5], dtype=uint8)"
     },
     "metadata": {},
     "execution_count": 62
    }
   ],
   "source": [
    "from sklearn.svm import SVC\n",
    "\n",
    "svm_clf = SVC(gamma=\"auto\", random_state=42)\n",
    "svm_clf.fit(X_train[:1000], y_train[:1000]) # y_train, not y_train_5\n",
    "svm_clf.predict([some_digit])"
   ]
  },
  {
   "cell_type": "code",
   "execution_count": 63,
   "metadata": {},
   "outputs": [
    {
     "output_type": "execute_result",
     "data": {
      "text/plain": "array([[ 2.92492871,  7.02307409,  3.93648529,  0.90117363,  5.96945908,\n         9.5       ,  1.90718593,  8.02755089, -0.13202708,  4.94216947]])"
     },
     "metadata": {},
     "execution_count": 63
    }
   ],
   "source": [
    "some_digit_scores = svm_clf.decision_function([some_digit])\n",
    "some_digit_scores"
   ]
  },
  {
   "cell_type": "code",
   "execution_count": 64,
   "metadata": {},
   "outputs": [
    {
     "output_type": "execute_result",
     "data": {
      "text/plain": "5"
     },
     "metadata": {},
     "execution_count": 64
    }
   ],
   "source": [
    "np.argmax(some_digit_scores)"
   ]
  },
  {
   "cell_type": "code",
   "execution_count": 65,
   "metadata": {},
   "outputs": [
    {
     "output_type": "execute_result",
     "data": {
      "text/plain": "array([0, 1, 2, 3, 4, 5, 6, 7, 8, 9], dtype=uint8)"
     },
     "metadata": {},
     "execution_count": 65
    }
   ],
   "source": [
    "svm_clf.classes_"
   ]
  },
  {
   "cell_type": "code",
   "execution_count": 66,
   "metadata": {},
   "outputs": [
    {
     "output_type": "execute_result",
     "data": {
      "text/plain": "5"
     },
     "metadata": {},
     "execution_count": 66
    }
   ],
   "source": [
    "svm_clf.classes_[5]"
   ]
  },
  {
   "cell_type": "code",
   "execution_count": 67,
   "metadata": {},
   "outputs": [
    {
     "output_type": "execute_result",
     "data": {
      "text/plain": "array([5], dtype=uint8)"
     },
     "metadata": {},
     "execution_count": 67
    }
   ],
   "source": [
    "from sklearn.multiclass import OneVsRestClassifier\n",
    "ovr_clf = OneVsRestClassifier(SVC(gamma=\"auto\", random_state=42))\n",
    "ovr_clf.fit(X_train[:1000], y_train[:1000])\n",
    "ovr_clf.predict([some_digit])"
   ]
  },
  {
   "cell_type": "code",
   "execution_count": 68,
   "metadata": {},
   "outputs": [
    {
     "output_type": "execute_result",
     "data": {
      "text/plain": "10"
     },
     "metadata": {},
     "execution_count": 68
    }
   ],
   "source": [
    "len(ovr_clf.estimators_)"
   ]
  },
  {
   "cell_type": "code",
   "execution_count": 69,
   "metadata": {},
   "outputs": [
    {
     "output_type": "execute_result",
     "data": {
      "text/plain": "array([5], dtype=uint8)"
     },
     "metadata": {},
     "execution_count": 69
    }
   ],
   "source": [
    "sgd_clf.fit(X_train, y_train)\n",
    "sgd_clf.predict([some_digit])"
   ]
  },
  {
   "cell_type": "code",
   "execution_count": 71,
   "metadata": {},
   "outputs": [
    {
     "output_type": "execute_result",
     "data": {
      "text/plain": "array([[-15955.22627845, -38080.96296175, -13326.66694897,\n           573.52692379, -17680.6846644 ,   2412.53175101,\n        -25526.86498156, -12290.15704709,  -7946.05205023,\n        -10631.35888549]])"
     },
     "metadata": {},
     "execution_count": 71
    }
   ],
   "source": [
    "sgd_clf.decision_function([some_digit])"
   ]
  },
  {
   "cell_type": "code",
   "execution_count": 72,
   "metadata": {},
   "outputs": [
    {
     "output_type": "execute_result",
     "data": {
      "text/plain": "array([0.8489802 , 0.87129356, 0.86988048])"
     },
     "metadata": {},
     "execution_count": 72
    }
   ],
   "source": [
    "cross_val_score(sgd_clf, X_train, y_train, cv=3, scoring=\"accuracy\")"
   ]
  },
  {
   "cell_type": "code",
   "execution_count": 73,
   "metadata": {},
   "outputs": [
    {
     "output_type": "execute_result",
     "data": {
      "text/plain": "array([0.89707059, 0.8960948 , 0.90693604])"
     },
     "metadata": {},
     "execution_count": 73
    }
   ],
   "source": [
    "from sklearn.preprocessing import StandardScaler\n",
    "scaler = StandardScaler()\n",
    "X_train_scaled = scaler.fit_transform(X_train.astype(np.float64))\n",
    "cross_val_score(sgd_clf, X_train_scaled, y_train, cv=3, scoring=\"accuracy\")"
   ]
  },
  {
   "cell_type": "code",
   "execution_count": 74,
   "metadata": {},
   "outputs": [
    {
     "output_type": "execute_result",
     "data": {
      "text/plain": "array([[5578,    0,   22,    7,    8,   45,   35,    5,  222,    1],\n       [   0, 6410,   35,   26,    4,   44,    4,    8,  198,   13],\n       [  28,   27, 5232,  100,   74,   27,   68,   37,  354,   11],\n       [  23,   18,  115, 5254,    2,  209,   26,   38,  373,   73],\n       [  11,   14,   45,   12, 5219,   11,   33,   26,  299,  172],\n       [  26,   16,   31,  173,   54, 4484,   76,   14,  482,   65],\n       [  31,   17,   45,    2,   42,   98, 5556,    3,  123,    1],\n       [  20,   10,   53,   27,   50,   13,    3, 5696,  173,  220],\n       [  17,   64,   47,   91,    3,  125,   24,   11, 5421,   48],\n       [  24,   18,   29,   67,  116,   39,    1,  174,  329, 5152]])"
     },
     "metadata": {},
     "execution_count": 74
    }
   ],
   "source": [
    "y_train_pred = cross_val_predict(sgd_clf, X_train_scaled, y_train, cv=3)\n",
    "conf_mx = confusion_matrix(y_train, y_train_pred)\n",
    "conf_mx"
   ]
  },
  {
   "cell_type": "code",
   "execution_count": 65,
   "metadata": {},
   "outputs": [],
   "source": [
    "def plot_confusion_matrix(matrix):\n",
    "    \"\"\"If you prefer color and a colorbar\"\"\"\n",
    "    fig = plt.figure(figsize=(8,8))\n",
    "    ax = fig.add_subplot(111)\n",
    "    cax = ax.matshow(matrix)\n",
    "    fig.colorbar(cax)"
   ]
  },
  {
   "cell_type": "code",
   "execution_count": 66,
   "metadata": {},
   "outputs": [
    {
     "name": "stdout",
     "output_type": "stream",
     "text": [
      "Saving figure confusion_matrix_plot\n"
     ]
    },
    {
     "data": {
      "image/png": "[encoded data removed]",
      "text/plain": [
       "<Figure size 288x288 with 1 Axes>"
      ]
     },
     "metadata": {
      "needs_background": "light"
     },
     "output_type": "display_data"
    }
   ],
   "source": [
    "plt.matshow(conf_mx, cmap=plt.cm.gray)\n",
    "save_fig(\"confusion_matrix_plot\", tight_layout=False)\n",
    "plt.show()"
   ]
  },
  {
   "cell_type": "code",
   "execution_count": 67,
   "metadata": {},
   "outputs": [],
   "source": [
    "row_sums = conf_mx.sum(axis=1, keepdims=True)\n",
    "norm_conf_mx = conf_mx / row_sums"
   ]
  },
  {
   "cell_type": "code",
   "execution_count": 68,
   "metadata": {},
   "outputs": [
    {
     "name": "stdout",
     "output_type": "stream",
     "text": [
      "Saving figure confusion_matrix_errors_plot\n"
     ]
    },
    {
     "data": {
      "image/png": "[encoded data removed]",
      "text/plain": [
       "<Figure size 288x288 with 1 Axes>"
      ]
     },
     "metadata": {
      "needs_background": "light"
     },
     "output_type": "display_data"
    }
   ],
   "source": [
    "np.fill_diagonal(norm_conf_mx, 0)\n",
    "plt.matshow(norm_conf_mx, cmap=plt.cm.gray)\n",
    "save_fig(\"confusion_matrix_errors_plot\", tight_layout=False)\n",
    "plt.show()"
   ]
  },
  {
   "cell_type": "code",
   "execution_count": 69,
   "metadata": {},
   "outputs": [
    {
     "name": "stdout",
     "output_type": "stream",
     "text": [
      "Saving figure error_analysis_digits_plot\n"
     ]
    },
    {
     "data": {
      "image/png": "[encoded data removed]",
      "text/plain": [
       "<Figure size 576x576 with 4 Axes>"
      ]
     },
     "metadata": {
      "needs_background": "light"
     },
     "output_type": "display_data"
    }
   ],
   "source": [
    "cl_a, cl_b = 3, 5\n",
    "X_aa = X_train[(y_train == cl_a) & (y_train_pred == cl_a)]\n",
    "X_ab = X_train[(y_train == cl_a) & (y_train_pred == cl_b)]\n",
    "X_ba = X_train[(y_train == cl_b) & (y_train_pred == cl_a)]\n",
    "X_bb = X_train[(y_train == cl_b) & (y_train_pred == cl_b)]\n",
    "\n",
    "plt.figure(figsize=(8,8))\n",
    "plt.subplot(221); plot_digits(X_aa[:25], images_per_row=5)\n",
    "plt.subplot(222); plot_digits(X_ab[:25], images_per_row=5)\n",
    "plt.subplot(223); plot_digits(X_ba[:25], images_per_row=5)\n",
    "plt.subplot(224); plot_digits(X_bb[:25], images_per_row=5)\n",
    "save_fig(\"error_analysis_digits_plot\")\n",
    "plt.show()"
   ]
  },
  {
   "cell_type": "markdown",
   "metadata": {},
   "source": [
    "# Multilabel classification"
   ]
  },
  {
   "cell_type": "code",
   "execution_count": 70,
   "metadata": {},
   "outputs": [
    {
     "data": {
      "text/plain": [
       "KNeighborsClassifier(algorithm='auto', leaf_size=30, metric='minkowski',\n",
       "           metric_params=None, n_jobs=None, n_neighbors=5, p=2,\n",
       "           weights='uniform')"
      ]
     },
     "execution_count": 70,
     "metadata": {},
     "output_type": "execute_result"
    }
   ],
   "source": [
    "from sklearn.neighbors import KNeighborsClassifier\n",
    "\n",
    "y_train_large = (y_train >= 7)\n",
    "y_train_odd = (y_train % 2 == 1)\n",
    "y_multilabel = np.c_[y_train_large, y_train_odd]\n",
    "\n",
    "knn_clf = KNeighborsClassifier()\n",
    "knn_clf.fit(X_train, y_multilabel)"
   ]
  },
  {
   "cell_type": "code",
   "execution_count": 71,
   "metadata": {},
   "outputs": [
    {
     "data": {
      "text/plain": [
       "array([[False,  True]])"
      ]
     },
     "execution_count": 71,
     "metadata": {},
     "output_type": "execute_result"
    }
   ],
   "source": [
    "knn_clf.predict([some_digit])"
   ]
  },
  {
   "cell_type": "markdown",
   "metadata": {},
   "source": [
    "**Warning**: the following cell may take a very long time (possibly hours depending on your hardware)."
   ]
  },
  {
   "cell_type": "code",
   "execution_count": 72,
   "metadata": {},
   "outputs": [
    {
     "data": {
      "text/plain": [
       "0.976410265560605"
      ]
     },
     "execution_count": 72,
     "metadata": {},
     "output_type": "execute_result"
    }
   ],
   "source": [
    "y_train_knn_pred = cross_val_predict(knn_clf, X_train, y_multilabel, cv=3)\n",
    "f1_score(y_multilabel, y_train_knn_pred, average=\"macro\")"
   ]
  },
  {
   "cell_type": "markdown",
   "metadata": {},
   "source": [
    "# Multioutput classification"
   ]
  },
  {
   "cell_type": "code",
   "execution_count": 73,
   "metadata": {},
   "outputs": [],
   "source": [
    "noise = np.random.randint(0, 100, (len(X_train), 784))\n",
    "X_train_mod = X_train + noise\n",
    "noise = np.random.randint(0, 100, (len(X_test), 784))\n",
    "X_test_mod = X_test + noise\n",
    "y_train_mod = X_train\n",
    "y_test_mod = X_test"
   ]
  },
  {
   "cell_type": "code",
   "execution_count": 74,
   "metadata": {},
   "outputs": [
    {
     "name": "stdout",
     "output_type": "stream",
     "text": [
      "Saving figure noisy_digit_example_plot\n"
     ]
    },
    {
     "data": {
      "image/png": "[encoded data removed]",
      "text/plain": [
       "<Figure size 432x288 with 2 Axes>"
      ]
     },
     "metadata": {
      "needs_background": "light"
     },
     "output_type": "display_data"
    }
   ],
   "source": [
    "some_index = 0\n",
    "plt.subplot(121); plot_digit(X_test_mod[some_index])\n",
    "plt.subplot(122); plot_digit(y_test_mod[some_index])\n",
    "save_fig(\"noisy_digit_example_plot\")\n",
    "plt.show()"
   ]
  },
  {
   "cell_type": "code",
   "execution_count": 75,
   "metadata": {},
   "outputs": [
    {
     "name": "stdout",
     "output_type": "stream",
     "text": [
      "Saving figure cleaned_digit_example_plot\n"
     ]
    },
    {
     "data": {
      "image/png": "[encoded data removed]",
      "text/plain": [
       "<Figure size 432x288 with 1 Axes>"
      ]
     },
     "metadata": {
      "needs_background": "light"
     },
     "output_type": "display_data"
    }
   ],
   "source": [
    "knn_clf.fit(X_train_mod, y_train_mod)\n",
    "clean_digit = knn_clf.predict([X_test_mod[some_index]])\n",
    "plot_digit(clean_digit)\n",
    "save_fig(\"cleaned_digit_example_plot\")"
   ]
  },
  {
   "cell_type": "markdown",
   "metadata": {},
   "source": [
    "# Extra material"
   ]
  },
  {
   "cell_type": "markdown",
   "metadata": {},
   "source": [
    "## Dummy (ie. random) classifier"
   ]
  },
  {
   "cell_type": "code",
   "execution_count": 76,
   "metadata": {},
   "outputs": [],
   "source": [
    "from sklearn.dummy import DummyClassifier\n",
    "dmy_clf = DummyClassifier()\n",
    "y_probas_dmy = cross_val_predict(dmy_clf, X_train, y_train_5, cv=3, method=\"predict_proba\")\n",
    "y_scores_dmy = y_probas_dmy[:, 1]"
   ]
  },
  {
   "cell_type": "code",
   "execution_count": 77,
   "metadata": {
    "scrolled": true
   },
   "outputs": [
    {
     "data": {
      "image/png": "[encoded data removed]",
      "text/plain": [
       "<Figure size 432x288 with 1 Axes>"
      ]
     },
     "metadata": {
      "needs_background": "light"
     },
     "output_type": "display_data"
    }
   ],
   "source": [
    "fprr, tprr, thresholdsr = roc_curve(y_train_5, y_scores_dmy)\n",
    "plot_roc_curve(fprr, tprr)"
   ]
  },
  {
   "cell_type": "markdown",
   "metadata": {},
   "source": [
    "## KNN classifier"
   ]
  },
  {
   "cell_type": "code",
   "execution_count": 78,
   "metadata": {},
   "outputs": [
    {
     "data": {
      "text/plain": [
       "KNeighborsClassifier(algorithm='auto', leaf_size=30, metric='minkowski',\n",
       "           metric_params=None, n_jobs=None, n_neighbors=4, p=2,\n",
       "           weights='distance')"
      ]
     },
     "execution_count": 78,
     "metadata": {},
     "output_type": "execute_result"
    }
   ],
   "source": [
    "from sklearn.neighbors import KNeighborsClassifier\n",
    "knn_clf = KNeighborsClassifier(weights='distance', n_neighbors=4)\n",
    "knn_clf.fit(X_train, y_train)"
   ]
  },
  {
   "cell_type": "code",
   "execution_count": 79,
   "metadata": {},
   "outputs": [],
   "source": [
    "y_knn_pred = knn_clf.predict(X_test)"
   ]
  },
  {
   "cell_type": "code",
   "execution_count": 80,
   "metadata": {},
   "outputs": [
    {
     "data": {
      "text/plain": [
       "0.9714"
      ]
     },
     "execution_count": 80,
     "metadata": {},
     "output_type": "execute_result"
    }
   ],
   "source": [
    "from sklearn.metrics import accuracy_score\n",
    "accuracy_score(y_test, y_knn_pred)"
   ]
  },
  {
   "cell_type": "code",
   "execution_count": 81,
   "metadata": {},
   "outputs": [
    {
     "data": {
      "image/png": "[encoded data removed]",
      "text/plain": [
       "<Figure size 432x288 with 1 Axes>"
      ]
     },
     "metadata": {
      "needs_background": "light"
     },
     "output_type": "display_data"
    }
   ],
   "source": [
    "from scipy.ndimage.interpolation import shift\n",
    "def shift_digit(digit_array, dx, dy, new=0):\n",
    "    return shift(digit_array.reshape(28, 28), [dy, dx], cval=new).reshape(784)\n",
    "\n",
    "plot_digit(shift_digit(some_digit, 5, 1, new=100))"
   ]
  },
  {
   "cell_type": "code",
   "execution_count": 82,
   "metadata": {},
   "outputs": [
    {
     "data": {
      "text/plain": [
       "((300000, 784), (300000,))"
      ]
     },
     "execution_count": 82,
     "metadata": {},
     "output_type": "execute_result"
    }
   ],
   "source": [
    "X_train_expanded = [X_train]\n",
    "y_train_expanded = [y_train]\n",
    "for dx, dy in ((1, 0), (-1, 0), (0, 1), (0, -1)):\n",
    "    shifted_images = np.apply_along_axis(shift_digit, axis=1, arr=X_train, dx=dx, dy=dy)\n",
    "    X_train_expanded.append(shifted_images)\n",
    "    y_train_expanded.append(y_train)\n",
    "\n",
    "X_train_expanded = np.concatenate(X_train_expanded)\n",
    "y_train_expanded = np.concatenate(y_train_expanded)\n",
    "X_train_expanded.shape, y_train_expanded.shape"
   ]
  },
  {
   "cell_type": "code",
   "execution_count": 83,
   "metadata": {},
   "outputs": [
    {
     "data": {
      "text/plain": [
       "KNeighborsClassifier(algorithm='auto', leaf_size=30, metric='minkowski',\n",
       "           metric_params=None, n_jobs=None, n_neighbors=4, p=2,\n",
       "           weights='distance')"
      ]
     },
     "execution_count": 83,
     "metadata": {},
     "output_type": "execute_result"
    }
   ],
   "source": [
    "knn_clf.fit(X_train_expanded, y_train_expanded)"
   ]
  },
  {
   "cell_type": "code",
   "execution_count": 84,
   "metadata": {},
   "outputs": [],
   "source": [
    "y_knn_expanded_pred = knn_clf.predict(X_test)"
   ]
  },
  {
   "cell_type": "code",
   "execution_count": 85,
   "metadata": {},
   "outputs": [
    {
     "data": {
      "text/plain": [
       "0.9763"
      ]
     },
     "execution_count": 85,
     "metadata": {},
     "output_type": "execute_result"
    }
   ],
   "source": [
    "accuracy_score(y_test, y_knn_expanded_pred)"
   ]
  },
  {
   "cell_type": "code",
   "execution_count": 86,
   "metadata": {},
   "outputs": [
    {
     "data": {
      "text/plain": [
       "array([[0.24579675, 0.        , 0.        , 0.        , 0.        ,\n",
       "        0.        , 0.        , 0.        , 0.        , 0.75420325]])"
      ]
     },
     "execution_count": 86,
     "metadata": {},
     "output_type": "execute_result"
    }
   ],
   "source": [
    "ambiguous_digit = X_test[2589]\n",
    "knn_clf.predict_proba([ambiguous_digit])"
   ]
  },
  {
   "cell_type": "code",
   "execution_count": 87,
   "metadata": {},
   "outputs": [
    {
     "data": {
      "image/png": "[encoded data removed]",
      "text/plain": [
       "<Figure size 432x288 with 1 Axes>"
      ]
     },
     "metadata": {
      "needs_background": "light"
     },
     "output_type": "display_data"
    }
   ],
   "source": [
    "plot_digit(ambiguous_digit)"
   ]
  },
  {
   "cell_type": "markdown",
   "metadata": {
    "collapsed": true
   },
   "source": [
    "# Exercise solutions"
   ]
  },
  {
   "cell_type": "markdown",
   "metadata": {},
   "source": [
    "## 1. An MNIST Classifier With Over 97% Accuracy"
   ]
  },
  {
   "cell_type": "markdown",
   "metadata": {},
   "source": [
    "**Warning**: the next cell may take hours to run, depending on your hardware."
   ]
  },
  {
   "cell_type": "code",
   "execution_count": 88,
   "metadata": {},
   "outputs": [
    {
     "name": "stdout",
     "output_type": "stream",
     "text": [
      "Fitting 5 folds for each of 6 candidates, totalling 30 fits\n",
      "[CV] n_neighbors=3, weights=uniform ..................................\n"
     ]
    },
    {
     "name": "stderr",
     "output_type": "stream",
     "text": [
      "[Parallel(n_jobs=1)]: Using backend SequentialBackend with 1 concurrent workers.\n"
     ]
    },
    {
     "name": "stdout",
     "output_type": "stream",
     "text": [
      "[CV]  n_neighbors=3, weights=uniform, score=0.9717617659308622, total=10.9min\n",
      "[CV] n_neighbors=3, weights=uniform ..................................\n"
     ]
    },
    {
     "name": "stderr",
     "output_type": "stream",
     "text": [
      "[Parallel(n_jobs=1)]: Done   1 out of   1 | elapsed: 52.2min remaining:    0.0s\n"
     ]
    },
    {
     "name": "stdout",
     "output_type": "stream",
     "text": [
      "[CV]  n_neighbors=3, weights=uniform, score=0.9706715547408765, total=10.7min\n",
      "[CV] n_neighbors=3, weights=uniform ..................................\n"
     ]
    },
    {
     "name": "stderr",
     "output_type": "stream",
     "text": [
      "[Parallel(n_jobs=1)]: Done   2 out of   2 | elapsed: 103.2min remaining:    0.0s\n"
     ]
    },
    {
     "name": "stdout",
     "output_type": "stream",
     "text": [
      "[CV]  n_neighbors=3, weights=uniform, score=0.9689166666666666, total=10.1min\n",
      "[CV] n_neighbors=3, weights=uniform ..................................\n",
      "[CV]  n_neighbors=3, weights=uniform, score=0.968575477202634, total=11.0min\n",
      "[CV] n_neighbors=3, weights=uniform ..................................\n",
      "[CV]  n_neighbors=3, weights=uniform, score=0.9704068022674225, total=11.0min\n",
      "[CV] n_neighbors=3, weights=distance .................................\n",
      "[CV]  n_neighbors=3, weights=distance, score=0.9723448563098709, total=10.9min\n",
      "[CV] n_neighbors=3, weights=distance .................................\n",
      "[CV]  n_neighbors=3, weights=distance, score=0.9716713881019831, total=11.2min\n",
      "[CV] n_neighbors=3, weights=distance .................................\n",
      "[CV]  n_neighbors=3, weights=distance, score=0.9700833333333333, total= 9.9min\n",
      "[CV] n_neighbors=3, weights=distance .................................\n",
      "[CV]  n_neighbors=3, weights=distance, score=0.9700758522964075, total=10.0min\n",
      "[CV] n_neighbors=3, weights=distance .................................\n",
      "[CV]  n_neighbors=3, weights=distance, score=0.971407135711904, total= 9.9min\n",
      "[CV] n_neighbors=4, weights=uniform ..................................\n",
      "[CV]  n_neighbors=4, weights=uniform, score=0.9690129112869638, total= 9.9min\n",
      "[CV] n_neighbors=4, weights=uniform ..................................\n",
      "[CV]  n_neighbors=4, weights=uniform, score=0.9682552907848692, total= 9.9min\n",
      "[CV] n_neighbors=4, weights=uniform ..................................\n",
      "[CV]  n_neighbors=4, weights=uniform, score=0.9675833333333334, total= 9.9min\n",
      "[CV] n_neighbors=4, weights=uniform ..................................\n",
      "[CV]  n_neighbors=4, weights=uniform, score=0.9673251646244895, total= 9.9min\n",
      "[CV] n_neighbors=4, weights=uniform ..................................\n",
      "[CV]  n_neighbors=4, weights=uniform, score=0.970323441147049, total= 9.9min\n",
      "[CV] n_neighbors=4, weights=distance .................................\n",
      "[CV]  n_neighbors=4, weights=distance, score=0.9730112453144523, total= 9.9min\n",
      "[CV] n_neighbors=4, weights=distance .................................\n",
      "[CV]  n_neighbors=4, weights=distance, score=0.9722546242292951, total= 9.9min\n",
      "[CV] n_neighbors=4, weights=distance .................................\n",
      "[CV]  n_neighbors=4, weights=distance, score=0.9699166666666666, total= 9.9min\n",
      "[CV] n_neighbors=4, weights=distance .................................\n",
      "[CV]  n_neighbors=4, weights=distance, score=0.9709093940151705, total=10.5min\n",
      "[CV] n_neighbors=4, weights=distance .................................\n",
      "[CV]  n_neighbors=4, weights=distance, score=0.9719906635545181, total=10.7min\n",
      "[CV] n_neighbors=5, weights=uniform ..................................\n",
      "[CV]  n_neighbors=5, weights=uniform, score=0.9697625989171179, total=10.9min\n",
      "[CV] n_neighbors=5, weights=uniform ..................................\n",
      "[CV]  n_neighbors=5, weights=uniform, score=0.9701716380603232, total=10.5min\n",
      "[CV] n_neighbors=5, weights=uniform ..................................\n",
      "[CV]  n_neighbors=5, weights=uniform, score=0.9694166666666667, total=10.5min\n",
      "[CV] n_neighbors=5, weights=uniform ..................................\n",
      "[CV]  n_neighbors=5, weights=uniform, score=0.9681587063432525, total=10.7min\n",
      "[CV] n_neighbors=5, weights=uniform ..................................\n",
      "[CV]  n_neighbors=5, weights=uniform, score=0.9689896632210737, total=10.6min\n",
      "[CV] n_neighbors=5, weights=distance .................................\n",
      "[CV]  n_neighbors=5, weights=distance, score=0.9703456892961266, total=10.6min\n",
      "[CV] n_neighbors=5, weights=distance .................................\n",
      "[CV]  n_neighbors=5, weights=distance, score=0.9713381103149475, total=11.1min\n",
      "[CV] n_neighbors=5, weights=distance .................................\n",
      "[CV]  n_neighbors=5, weights=distance, score=0.9704166666666667, total=10.4min\n",
      "[CV] n_neighbors=5, weights=distance .................................\n",
      "[CV]  n_neighbors=5, weights=distance, score=0.969409018921397, total=10.6min\n",
      "[CV] n_neighbors=5, weights=distance .................................\n",
      "[CV]  n_neighbors=5, weights=distance, score=0.9706568856285428, total=12.7min\n"
     ]
    },
    {
     "name": "stderr",
     "output_type": "stream",
     "text": [
      "[Parallel(n_jobs=1)]: Done  30 out of  30 | elapsed: 1523.6min finished\n"
     ]
    },
    {
     "data": {
      "text/plain": [
       "GridSearchCV(cv=5, error_score='raise-deprecating',\n",
       "       estimator=KNeighborsClassifier(algorithm='auto', leaf_size=30, metric='minkowski',\n",
       "           metric_params=None, n_jobs=None, n_neighbors=5, p=2,\n",
       "           weights='uniform'),\n",
       "       fit_params=None, iid='warn', n_jobs=None,\n",
       "       param_grid=[{'weights': ['uniform', 'distance'], 'n_neighbors': [3, 4, 5]}],\n",
       "       pre_dispatch='2*n_jobs', refit=True, return_train_score='warn',\n",
       "       scoring=None, verbose=3)"
      ]
     },
     "execution_count": 88,
     "metadata": {},
     "output_type": "execute_result"
    }
   ],
   "source": [
    "from sklearn.model_selection import GridSearchCV\n",
    "\n",
    "param_grid = [{'weights': [\"uniform\", \"distance\"], 'n_neighbors': [3, 4, 5]}]\n",
    "\n",
    "knn_clf = KNeighborsClassifier()\n",
    "grid_search = GridSearchCV(knn_clf, param_grid, cv=5, verbose=3)\n",
    "grid_search.fit(X_train, y_train)"
   ]
  },
  {
   "cell_type": "code",
   "execution_count": 89,
   "metadata": {},
   "outputs": [
    {
     "data": {
      "text/plain": [
       "{'n_neighbors': 4, 'weights': 'distance'}"
      ]
     },
     "execution_count": 89,
     "metadata": {},
     "output_type": "execute_result"
    }
   ],
   "source": [
    "grid_search.best_params_"
   ]
  },
  {
   "cell_type": "code",
   "execution_count": 90,
   "metadata": {},
   "outputs": [
    {
     "data": {
      "text/plain": [
       "0.9716166666666667"
      ]
     },
     "execution_count": 90,
     "metadata": {},
     "output_type": "execute_result"
    }
   ],
   "source": [
    "grid_search.best_score_"
   ]
  },
  {
   "cell_type": "code",
   "execution_count": 91,
   "metadata": {},
   "outputs": [
    {
     "data": {
      "text/plain": [
       "0.9714"
      ]
     },
     "execution_count": 91,
     "metadata": {},
     "output_type": "execute_result"
    }
   ],
   "source": [
    "from sklearn.metrics import accuracy_score\n",
    "\n",
    "y_pred = grid_search.predict(X_test)\n",
    "accuracy_score(y_test, y_pred)"
   ]
  },
  {
   "cell_type": "markdown",
   "metadata": {},
   "source": [
    "## 2. Data Augmentation"
   ]
  },
  {
   "cell_type": "code",
   "execution_count": 92,
   "metadata": {},
   "outputs": [],
   "source": [
    "from scipy.ndimage.interpolation import shift"
   ]
  },
  {
   "cell_type": "code",
   "execution_count": 93,
   "metadata": {},
   "outputs": [],
   "source": [
    "def shift_image(image, dx, dy):\n",
    "    image = image.reshape((28, 28))\n",
    "    shifted_image = shift(image, [dy, dx], cval=0, mode=\"constant\")\n",
    "    return shifted_image.reshape([-1])"
   ]
  },
  {
   "cell_type": "code",
   "execution_count": 94,
   "metadata": {},
   "outputs": [
    {
     "data": {
      "image/png": "[encoded data removed]",
      "text/plain": [
       "<Figure size 864x216 with 3 Axes>"
      ]
     },
     "metadata": {
      "needs_background": "light"
     },
     "output_type": "display_data"
    }
   ],
   "source": [
    "image = X_train[1000]\n",
    "shifted_image_down = shift_image(image, 0, 5)\n",
    "shifted_image_left = shift_image(image, -5, 0)\n",
    "\n",
    "plt.figure(figsize=(12,3))\n",
    "plt.subplot(131)\n",
    "plt.title(\"Original\", fontsize=14)\n",
    "plt.imshow(image.reshape(28, 28), interpolation=\"nearest\", cmap=\"Greys\")\n",
    "plt.subplot(132)\n",
    "plt.title(\"Shifted down\", fontsize=14)\n",
    "plt.imshow(shifted_image_down.reshape(28, 28), interpolation=\"nearest\", cmap=\"Greys\")\n",
    "plt.subplot(133)\n",
    "plt.title(\"Shifted left\", fontsize=14)\n",
    "plt.imshow(shifted_image_left.reshape(28, 28), interpolation=\"nearest\", cmap=\"Greys\")\n",
    "plt.show()"
   ]
  },
  {
   "cell_type": "code",
   "execution_count": 95,
   "metadata": {},
   "outputs": [],
   "source": [
    "X_train_augmented = [image for image in X_train]\n",
    "y_train_augmented = [label for label in y_train]\n",
    "\n",
    "for dx, dy in ((1, 0), (-1, 0), (0, 1), (0, -1)):\n",
    "    for image, label in zip(X_train, y_train):\n",
    "        X_train_augmented.append(shift_image(image, dx, dy))\n",
    "        y_train_augmented.append(label)\n",
    "\n",
    "X_train_augmented = np.array(X_train_augmented)\n",
    "y_train_augmented = np.array(y_train_augmented)"
   ]
  },
  {
   "cell_type": "code",
   "execution_count": 96,
   "metadata": {},
   "outputs": [],
   "source": [
    "shuffle_idx = np.random.permutation(len(X_train_augmented))\n",
    "X_train_augmented = X_train_augmented[shuffle_idx]\n",
    "y_train_augmented = y_train_augmented[shuffle_idx]"
   ]
  },
  {
   "cell_type": "code",
   "execution_count": 97,
   "metadata": {},
   "outputs": [],
   "source": [
    "knn_clf = KNeighborsClassifier(**grid_search.best_params_)"
   ]
  },
  {
   "cell_type": "code",
   "execution_count": 98,
   "metadata": {},
   "outputs": [
    {
     "data": {
      "text/plain": [
       "KNeighborsClassifier(algorithm='auto', leaf_size=30, metric='minkowski',\n",
       "           metric_params=None, n_jobs=None, n_neighbors=4, p=2,\n",
       "           weights='distance')"
      ]
     },
     "execution_count": 98,
     "metadata": {},
     "output_type": "execute_result"
    }
   ],
   "source": [
    "knn_clf.fit(X_train_augmented, y_train_augmented)"
   ]
  },
  {
   "cell_type": "code",
   "execution_count": 99,
   "metadata": {},
   "outputs": [
    {
     "data": {
      "text/plain": [
       "0.9763"
      ]
     },
     "execution_count": 99,
     "metadata": {},
     "output_type": "execute_result"
    }
   ],
   "source": [
    "y_pred = knn_clf.predict(X_test)\n",
    "accuracy_score(y_test, y_pred)"
   ]
  },
  {
   "cell_type": "markdown",
   "metadata": {},
   "source": [
    "By simply augmenting the data, we got a 0.5% accuracy boost. :)"
   ]
  },
  {
   "cell_type": "markdown",
   "metadata": {},
   "source": [
    "## 3. Tackle the Titanic dataset"
   ]
  },
  {
   "cell_type": "markdown",
   "metadata": {},
   "source": [
    "The goal is to predict whether or not a passenger survived based on attributes such as their age, sex, passenger class, where they embarked and so on."
   ]
  },
  {
   "cell_type": "markdown",
   "metadata": {},
   "source": [
    "First, login to [Kaggle](https://www.kaggle.com/) and go to the [Titanic challenge](https://www.kaggle.com/c/titanic) to download `train.csv` and `test.csv`. Save them to the `datasets/titanic` directory."
   ]
  },
  {
   "cell_type": "markdown",
   "metadata": {},
   "source": [
    "Next, let's load the data:"
   ]
  },
  {
   "cell_type": "code",
   "execution_count": 100,
   "metadata": {},
   "outputs": [],
   "source": [
    "import os\n",
    "\n",
    "TITANIC_PATH = os.path.join(\"datasets\", \"titanic\")"
   ]
  },
  {
   "cell_type": "code",
   "execution_count": 101,
   "metadata": {},
   "outputs": [],
   "source": [
    "import pandas as pd\n",
    "\n",
    "def load_titanic_data(filename, titanic_path=TITANIC_PATH):\n",
    "    csv_path = os.path.join(titanic_path, filename)\n",
    "    return pd.read_csv(csv_path)"
   ]
  },
  {
   "cell_type": "code",
   "execution_count": 102,
   "metadata": {},
   "outputs": [],
   "source": [
    "train_data = load_titanic_data(\"train.csv\")\n",
    "test_data = load_titanic_data(\"test.csv\")"
   ]
  },
  {
   "cell_type": "markdown",
   "metadata": {},
   "source": [
    "The data is already split into a training set and a test set. However, the test data does *not* contain the labels: your goal is to train the best model you can using the training data, then make your predictions on the test data and upload them to Kaggle to see your final score."
   ]
  },
  {
   "cell_type": "markdown",
   "metadata": {},
   "source": [
    "Let's take a peek at the top few rows of the training set:"
   ]
  },
  {
   "cell_type": "code",
   "execution_count": 103,
   "metadata": {},
   "outputs": [
    {
     "data": {
      "text/html": [
       "<div>\n",
       "<style scoped>\n",
       "    .dataframe tbody tr th:only-of-type {\n",
       "        vertical-align: middle;\n",
       "    }\n",
       "\n",
       "    .dataframe tbody tr th {\n",
       "        vertical-align: top;\n",
       "    }\n",
       "\n",
       "    .dataframe thead th {\n",
       "        text-align: right;\n",
       "    }\n",
       "</style>\n",
       "<table border=\"1\" class=\"dataframe\">\n",
       "  <thead>\n",
       "    <tr style=\"text-align: right;\">\n",
       "      <th></th>\n",
       "      <th>PassengerId</th>\n",
       "      <th>Survived</th>\n",
       "      <th>Pclass</th>\n",
       "      <th>Name</th>\n",
       "      <th>Sex</th>\n",
       "      <th>Age</th>\n",
       "      <th>SibSp</th>\n",
       "      <th>Parch</th>\n",
       "      <th>Ticket</th>\n",
       "      <th>Fare</th>\n",
       "      <th>Cabin</th>\n",
       "      <th>Embarked</th>\n",
       "    </tr>\n",
       "  </thead>\n",
       "  <tbody>\n",
       "    <tr>\n",
       "      <th>0</th>\n",
       "      <td>1</td>\n",
       "      <td>0</td>\n",
       "      <td>3</td>\n",
       "      <td>Braund, Mr. Owen Harris</td>\n",
       "      <td>male</td>\n",
       "      <td>22.0</td>\n",
       "      <td>1</td>\n",
       "      <td>0</td>\n",
       "      <td>A/5 21171</td>\n",
       "      <td>7.2500</td>\n",
       "      <td>NaN</td>\n",
       "      <td>S</td>\n",
       "    </tr>\n",
       "    <tr>\n",
       "      <th>1</th>\n",
       "      <td>2</td>\n",
       "      <td>1</td>\n",
       "      <td>1</td>\n",
       "      <td>Cumings, Mrs. John Bradley (Florence Briggs Th...</td>\n",
       "      <td>female</td>\n",
       "      <td>38.0</td>\n",
       "      <td>1</td>\n",
       "      <td>0</td>\n",
       "      <td>PC 17599</td>\n",
       "      <td>71.2833</td>\n",
       "      <td>C85</td>\n",
       "      <td>C</td>\n",
       "    </tr>\n",
       "    <tr>\n",
       "      <th>2</th>\n",
       "      <td>3</td>\n",
       "      <td>1</td>\n",
       "      <td>3</td>\n",
       "      <td>Heikkinen, Miss. Laina</td>\n",
       "      <td>female</td>\n",
       "      <td>26.0</td>\n",
       "      <td>0</td>\n",
       "      <td>0</td>\n",
       "      <td>STON/O2. 3101282</td>\n",
       "      <td>7.9250</td>\n",
       "      <td>NaN</td>\n",
       "      <td>S</td>\n",
       "    </tr>\n",
       "    <tr>\n",
       "      <th>3</th>\n",
       "      <td>4</td>\n",
       "      <td>1</td>\n",
       "      <td>1</td>\n",
       "      <td>Futrelle, Mrs. Jacques Heath (Lily May Peel)</td>\n",
       "      <td>female</td>\n",
       "      <td>35.0</td>\n",
       "      <td>1</td>\n",
       "      <td>0</td>\n",
       "      <td>113803</td>\n",
       "      <td>53.1000</td>\n",
       "      <td>C123</td>\n",
       "      <td>S</td>\n",
       "    </tr>\n",
       "    <tr>\n",
       "      <th>4</th>\n",
       "      <td>5</td>\n",
       "      <td>0</td>\n",
       "      <td>3</td>\n",
       "      <td>Allen, Mr. William Henry</td>\n",
       "      <td>male</td>\n",
       "      <td>35.0</td>\n",
       "      <td>0</td>\n",
       "      <td>0</td>\n",
       "      <td>373450</td>\n",
       "      <td>8.0500</td>\n",
       "      <td>NaN</td>\n",
       "      <td>S</td>\n",
       "    </tr>\n",
       "  </tbody>\n",
       "</table>\n",
       "</div>"
      ],
      "text/plain": [
       "   PassengerId  Survived  Pclass  \\\n",
       "0            1         0       3   \n",
       "1            2         1       1   \n",
       "2            3         1       3   \n",
       "3            4         1       1   \n",
       "4            5         0       3   \n",
       "\n",
       "                                                Name     Sex   Age  SibSp  \\\n",
       "0                            Braund, Mr. Owen Harris    male  22.0      1   \n",
       "1  Cumings, Mrs. John Bradley (Florence Briggs Th...  female  38.0      1   \n",
       "2                             Heikkinen, Miss. Laina  female  26.0      0   \n",
       "3       Futrelle, Mrs. Jacques Heath (Lily May Peel)  female  35.0      1   \n",
       "4                           Allen, Mr. William Henry    male  35.0      0   \n",
       "\n",
       "   Parch            Ticket     Fare Cabin Embarked  \n",
       "0      0         A/5 21171   7.2500   NaN        S  \n",
       "1      0          PC 17599  71.2833   C85        C  \n",
       "2      0  STON/O2. 3101282   7.9250   NaN        S  \n",
       "3      0            113803  53.1000  C123        S  \n",
       "4      0            373450   8.0500   NaN        S  "
      ]
     },
     "execution_count": 103,
     "metadata": {},
     "output_type": "execute_result"
    }
   ],
   "source": [
    "train_data.head()"
   ]
  },
  {
   "cell_type": "markdown",
   "metadata": {},
   "source": [
    "The attributes have the following meaning:\n",
    "* **Survived**: that's the target, 0 means the passenger did not survive, while 1 means he/she survived.\n",
    "* **Pclass**: passenger class.\n",
    "* **Name**, **Sex**, **Age**: self-explanatory\n",
    "* **SibSp**: how many siblings & spouses of the passenger aboard the Titanic.\n",
    "* **Parch**: how many children & parents of the passenger aboard the Titanic.\n",
    "* **Ticket**: ticket id\n",
    "* **Fare**: price paid (in pounds)\n",
    "* **Cabin**: passenger's cabin number\n",
    "* **Embarked**: where the passenger embarked the Titanic"
   ]
  },
  {
   "cell_type": "markdown",
   "metadata": {},
   "source": [
    "Let's get more info to see how much data is missing:"
   ]
  },
  {
   "cell_type": "code",
   "execution_count": 104,
   "metadata": {},
   "outputs": [
    {
     "name": "stdout",
     "output_type": "stream",
     "text": [
      "<class 'pandas.core.frame.DataFrame'>\n",
      "RangeIndex: 891 entries, 0 to 890\n",
      "Data columns (total 12 columns):\n",
      "PassengerId    891 non-null int64\n",
      "Survived       891 non-null int64\n",
      "Pclass         891 non-null int64\n",
      "Name           891 non-null object\n",
      "Sex            891 non-null object\n",
      "Age            714 non-null float64\n",
      "SibSp          891 non-null int64\n",
      "Parch          891 non-null int64\n",
      "Ticket         891 non-null object\n",
      "Fare           891 non-null float64\n",
      "Cabin          204 non-null object\n",
      "Embarked       889 non-null object\n",
      "dtypes: float64(2), int64(5), object(5)\n",
      "memory usage: 83.6+ KB\n"
     ]
    }
   ],
   "source": [
    "train_data.info()"
   ]
  },
  {
   "cell_type": "markdown",
   "metadata": {},
   "source": [
    "Okay, the **Age**, **Cabin** and **Embarked** attributes are sometimes null (less than 891 non-null), especially the **Cabin** (77% are null). We will ignore the **Cabin** for now and focus on the rest. The **Age** attribute has about 19% null values, so we will need to decide what to do with them. Replacing null values with the median age seems reasonable."
   ]
  },
  {
   "cell_type": "markdown",
   "metadata": {},
   "source": [
    "The **Name** and **Ticket** attributes may have some value, but they will be a bit tricky to convert into useful numbers that a model can consume. So for now, we will ignore them."
   ]
  },
  {
   "cell_type": "markdown",
   "metadata": {},
   "source": [
    "Let's take a look at the numerical attributes:"
   ]
  },
  {
   "cell_type": "code",
   "execution_count": 105,
   "metadata": {},
   "outputs": [
    {
     "data": {
      "text/html": [
       "<div>\n",
       "<style scoped>\n",
       "    .dataframe tbody tr th:only-of-type {\n",
       "        vertical-align: middle;\n",
       "    }\n",
       "\n",
       "    .dataframe tbody tr th {\n",
       "        vertical-align: top;\n",
       "    }\n",
       "\n",
       "    .dataframe thead th {\n",
       "        text-align: right;\n",
       "    }\n",
       "</style>\n",
       "<table border=\"1\" class=\"dataframe\">\n",
       "  <thead>\n",
       "    <tr style=\"text-align: right;\">\n",
       "      <th></th>\n",
       "      <th>PassengerId</th>\n",
       "      <th>Survived</th>\n",
       "      <th>Pclass</th>\n",
       "      <th>Age</th>\n",
       "      <th>SibSp</th>\n",
       "      <th>Parch</th>\n",
       "      <th>Fare</th>\n",
       "    </tr>\n",
       "  </thead>\n",
       "  <tbody>\n",
       "    <tr>\n",
       "      <th>count</th>\n",
       "      <td>891.000000</td>\n",
       "      <td>891.000000</td>\n",
       "      <td>891.000000</td>\n",
       "      <td>714.000000</td>\n",
       "      <td>891.000000</td>\n",
       "      <td>891.000000</td>\n",
       "      <td>891.000000</td>\n",
       "    </tr>\n",
       "    <tr>\n",
       "      <th>mean</th>\n",
       "      <td>446.000000</td>\n",
       "      <td>0.383838</td>\n",
       "      <td>2.308642</td>\n",
       "      <td>29.699118</td>\n",
       "      <td>0.523008</td>\n",
       "      <td>0.381594</td>\n",
       "      <td>32.204208</td>\n",
       "    </tr>\n",
       "    <tr>\n",
       "      <th>std</th>\n",
       "      <td>257.353842</td>\n",
       "      <td>0.486592</td>\n",
       "      <td>0.836071</td>\n",
       "      <td>14.526497</td>\n",
       "      <td>1.102743</td>\n",
       "      <td>0.806057</td>\n",
       "      <td>49.693429</td>\n",
       "    </tr>\n",
       "    <tr>\n",
       "      <th>min</th>\n",
       "      <td>1.000000</td>\n",
       "      <td>0.000000</td>\n",
       "      <td>1.000000</td>\n",
       "      <td>0.420000</td>\n",
       "      <td>0.000000</td>\n",
       "      <td>0.000000</td>\n",
       "      <td>0.000000</td>\n",
       "    </tr>\n",
       "    <tr>\n",
       "      <th>25%</th>\n",
       "      <td>223.500000</td>\n",
       "      <td>0.000000</td>\n",
       "      <td>2.000000</td>\n",
       "      <td>20.125000</td>\n",
       "      <td>0.000000</td>\n",
       "      <td>0.000000</td>\n",
       "      <td>7.910400</td>\n",
       "    </tr>\n",
       "    <tr>\n",
       "      <th>50%</th>\n",
       "      <td>446.000000</td>\n",
       "      <td>0.000000</td>\n",
       "      <td>3.000000</td>\n",
       "      <td>28.000000</td>\n",
       "      <td>0.000000</td>\n",
       "      <td>0.000000</td>\n",
       "      <td>14.454200</td>\n",
       "    </tr>\n",
       "    <tr>\n",
       "      <th>75%</th>\n",
       "      <td>668.500000</td>\n",
       "      <td>1.000000</td>\n",
       "      <td>3.000000</td>\n",
       "      <td>38.000000</td>\n",
       "      <td>1.000000</td>\n",
       "      <td>0.000000</td>\n",
       "      <td>31.000000</td>\n",
       "    </tr>\n",
       "    <tr>\n",
       "      <th>max</th>\n",
       "      <td>891.000000</td>\n",
       "      <td>1.000000</td>\n",
       "      <td>3.000000</td>\n",
       "      <td>80.000000</td>\n",
       "      <td>8.000000</td>\n",
       "      <td>6.000000</td>\n",
       "      <td>512.329200</td>\n",
       "    </tr>\n",
       "  </tbody>\n",
       "</table>\n",
       "</div>"
      ],
      "text/plain": [
       "       PassengerId    Survived      Pclass         Age       SibSp  \\\n",
       "count   891.000000  891.000000  891.000000  714.000000  891.000000   \n",
       "mean    446.000000    0.383838    2.308642   29.699118    0.523008   \n",
       "std     257.353842    0.486592    0.836071   14.526497    1.102743   \n",
       "min       1.000000    0.000000    1.000000    0.420000    0.000000   \n",
       "25%     223.500000    0.000000    2.000000   20.125000    0.000000   \n",
       "50%     446.000000    0.000000    3.000000   28.000000    0.000000   \n",
       "75%     668.500000    1.000000    3.000000   38.000000    1.000000   \n",
       "max     891.000000    1.000000    3.000000   80.000000    8.000000   \n",
       "\n",
       "            Parch        Fare  \n",
       "count  891.000000  891.000000  \n",
       "mean     0.381594   32.204208  \n",
       "std      0.806057   49.693429  \n",
       "min      0.000000    0.000000  \n",
       "25%      0.000000    7.910400  \n",
       "50%      0.000000   14.454200  \n",
       "75%      0.000000   31.000000  \n",
       "max      6.000000  512.329200  "
      ]
     },
     "execution_count": 105,
     "metadata": {},
     "output_type": "execute_result"
    }
   ],
   "source": [
    "train_data.describe()"
   ]
  },
  {
   "cell_type": "markdown",
   "metadata": {},
   "source": [
    "* Yikes, only 38% **Survived**. :(  That's close enough to 40%, so accuracy will be a reasonable metric to evaluate our model.\n",
    "* The mean **Fare** was £32.20, which does not seem so expensive (but it was probably a lot of money back then).\n",
    "* The mean **Age** was less than 30 years old."
   ]
  },
  {
   "cell_type": "markdown",
   "metadata": {},
   "source": [
    "Let's check that the target is indeed 0 or 1:"
   ]
  },
  {
   "cell_type": "code",
   "execution_count": 106,
   "metadata": {},
   "outputs": [
    {
     "data": {
      "text/plain": [
       "0    549\n",
       "1    342\n",
       "Name: Survived, dtype: int64"
      ]
     },
     "execution_count": 106,
     "metadata": {},
     "output_type": "execute_result"
    }
   ],
   "source": [
    "train_data[\"Survived\"].value_counts()"
   ]
  },
  {
   "cell_type": "markdown",
   "metadata": {},
   "source": [
    "Now let's take a quick look at all the categorical attributes:"
   ]
  },
  {
   "cell_type": "code",
   "execution_count": 107,
   "metadata": {},
   "outputs": [
    {
     "data": {
      "text/plain": [
       "3    491\n",
       "1    216\n",
       "2    184\n",
       "Name: Pclass, dtype: int64"
      ]
     },
     "execution_count": 107,
     "metadata": {},
     "output_type": "execute_result"
    }
   ],
   "source": [
    "train_data[\"Pclass\"].value_counts()"
   ]
  },
  {
   "cell_type": "code",
   "execution_count": 108,
   "metadata": {},
   "outputs": [
    {
     "data": {
      "text/plain": [
       "male      577\n",
       "female    314\n",
       "Name: Sex, dtype: int64"
      ]
     },
     "execution_count": 108,
     "metadata": {},
     "output_type": "execute_result"
    }
   ],
   "source": [
    "train_data[\"Sex\"].value_counts()"
   ]
  },
  {
   "cell_type": "code",
   "execution_count": 109,
   "metadata": {},
   "outputs": [
    {
     "data": {
      "text/plain": [
       "S    644\n",
       "C    168\n",
       "Q     77\n",
       "Name: Embarked, dtype: int64"
      ]
     },
     "execution_count": 109,
     "metadata": {},
     "output_type": "execute_result"
    }
   ],
   "source": [
    "train_data[\"Embarked\"].value_counts()"
   ]
  },
  {
   "cell_type": "markdown",
   "metadata": {},
   "source": [
    "The Embarked attribute tells us where the passenger embarked: C=Cherbourg, Q=Queenstown, S=Southampton."
   ]
  },
  {
   "cell_type": "markdown",
   "metadata": {},
   "source": [
    "**Note**: the code below uses a mix of `Pipeline`, `FeatureUnion` and a custom `DataFrameSelector` to preprocess some columns differently.  Since Scikit-Learn 0.20, it is preferable to use a `ColumnTransformer`, like in the previous chapter."
   ]
  },
  {
   "cell_type": "markdown",
   "metadata": {},
   "source": [
    "Now let's build our preprocessing pipelines. We will reuse the `DataframeSelector` we built in the previous chapter to select specific attributes from the `DataFrame`:"
   ]
  },
  {
   "cell_type": "code",
   "execution_count": 110,
   "metadata": {},
   "outputs": [],
   "source": [
    "from sklearn.base import BaseEstimator, TransformerMixin\n",
    "\n",
    "class DataFrameSelector(BaseEstimator, TransformerMixin):\n",
    "    def __init__(self, attribute_names):\n",
    "        self.attribute_names = attribute_names\n",
    "    def fit(self, X, y=None):\n",
    "        return self\n",
    "    def transform(self, X):\n",
    "        return X[self.attribute_names]"
   ]
  },
  {
   "cell_type": "markdown",
   "metadata": {},
   "source": [
    "Let's build the pipeline for the numerical attributes:"
   ]
  },
  {
   "cell_type": "code",
   "execution_count": 111,
   "metadata": {},
   "outputs": [],
   "source": [
    "from sklearn.pipeline import Pipeline\n",
    "from sklearn.impute import SimpleImputer\n",
    "\n",
    "num_pipeline = Pipeline([\n",
    "        (\"select_numeric\", DataFrameSelector([\"Age\", \"SibSp\", \"Parch\", \"Fare\"])),\n",
    "        (\"imputer\", SimpleImputer(strategy=\"median\")),\n",
    "    ])"
   ]
  },
  {
   "cell_type": "code",
   "execution_count": 112,
   "metadata": {},
   "outputs": [
    {
     "data": {
      "text/plain": [
       "array([[22.    ,  1.    ,  0.    ,  7.25  ],\n",
       "       [38.    ,  1.    ,  0.    , 71.2833],\n",
       "       [26.    ,  0.    ,  0.    ,  7.925 ],\n",
       "       ...,\n",
       "       [28.    ,  1.    ,  2.    , 23.45  ],\n",
       "       [26.    ,  0.    ,  0.    , 30.    ],\n",
       "       [32.    ,  0.    ,  0.    ,  7.75  ]])"
      ]
     },
     "execution_count": 112,
     "metadata": {},
     "output_type": "execute_result"
    }
   ],
   "source": [
    "num_pipeline.fit_transform(train_data)"
   ]
  },
  {
   "cell_type": "markdown",
   "metadata": {},
   "source": [
    "We will also need an imputer for the string categorical columns (the regular `SimpleImputer` does not work on those):"
   ]
  },
  {
   "cell_type": "code",
   "execution_count": 113,
   "metadata": {},
   "outputs": [],
   "source": [
    "# Inspired from stackoverflow.com/questions/25239958\n",
    "class MostFrequentImputer(BaseEstimator, TransformerMixin):\n",
    "    def fit(self, X, y=None):\n",
    "        self.most_frequent_ = pd.Series([X[c].value_counts().index[0] for c in X],\n",
    "                                        index=X.columns)\n",
    "        return self\n",
    "    def transform(self, X, y=None):\n",
    "        return X.fillna(self.most_frequent_)"
   ]
  },
  {
   "cell_type": "code",
   "execution_count": 114,
   "metadata": {},
   "outputs": [],
   "source": [
    "from sklearn.preprocessing import OneHotEncoder"
   ]
  },
  {
   "cell_type": "markdown",
   "metadata": {},
   "source": [
    "Now we can build the pipeline for the categorical attributes:"
   ]
  },
  {
   "cell_type": "code",
   "execution_count": 115,
   "metadata": {},
   "outputs": [],
   "source": [
    "cat_pipeline = Pipeline([\n",
    "        (\"select_cat\", DataFrameSelector([\"Pclass\", \"Sex\", \"Embarked\"])),\n",
    "        (\"imputer\", MostFrequentImputer()),\n",
    "        (\"cat_encoder\", OneHotEncoder(sparse=False)),\n",
    "    ])"
   ]
  },
  {
   "cell_type": "code",
   "execution_count": 116,
   "metadata": {},
   "outputs": [
    {
     "data": {
      "text/plain": [
       "array([[0., 0., 1., ..., 0., 0., 1.],\n",
       "       [1., 0., 0., ..., 1., 0., 0.],\n",
       "       [0., 0., 1., ..., 0., 0., 1.],\n",
       "       ...,\n",
       "       [0., 0., 1., ..., 0., 0., 1.],\n",
       "       [1., 0., 0., ..., 1., 0., 0.],\n",
       "       [0., 0., 1., ..., 0., 1., 0.]])"
      ]
     },
     "execution_count": 116,
     "metadata": {},
     "output_type": "execute_result"
    }
   ],
   "source": [
    "cat_pipeline.fit_transform(train_data)"
   ]
  },
  {
   "cell_type": "markdown",
   "metadata": {},
   "source": [
    "Finally, let's join the numerical and categorical pipelines:"
   ]
  },
  {
   "cell_type": "code",
   "execution_count": 117,
   "metadata": {},
   "outputs": [],
   "source": [
    "from sklearn.pipeline import FeatureUnion\n",
    "preprocess_pipeline = FeatureUnion(transformer_list=[\n",
    "        (\"num_pipeline\", num_pipeline),\n",
    "        (\"cat_pipeline\", cat_pipeline),\n",
    "    ])"
   ]
  },
  {
   "cell_type": "markdown",
   "metadata": {},
   "source": [
    "Cool! Now we have a nice preprocessing pipeline that takes the raw data and outputs numerical input features that we can feed to any Machine Learning model we want."
   ]
  },
  {
   "cell_type": "code",
   "execution_count": 118,
   "metadata": {},
   "outputs": [
    {
     "data": {
      "text/plain": [
       "array([[22.,  1.,  0., ...,  0.,  0.,  1.],\n",
       "       [38.,  1.,  0., ...,  1.,  0.,  0.],\n",
       "       [26.,  0.,  0., ...,  0.,  0.,  1.],\n",
       "       ...,\n",
       "       [28.,  1.,  2., ...,  0.,  0.,  1.],\n",
       "       [26.,  0.,  0., ...,  1.,  0.,  0.],\n",
       "       [32.,  0.,  0., ...,  0.,  1.,  0.]])"
      ]
     },
     "execution_count": 118,
     "metadata": {},
     "output_type": "execute_result"
    }
   ],
   "source": [
    "X_train = preprocess_pipeline.fit_transform(train_data)\n",
    "X_train"
   ]
  },
  {
   "cell_type": "markdown",
   "metadata": {},
   "source": [
    "Let's not forget to get the labels:"
   ]
  },
  {
   "cell_type": "code",
   "execution_count": 119,
   "metadata": {},
   "outputs": [],
   "source": [
    "y_train = train_data[\"Survived\"]"
   ]
  },
  {
   "cell_type": "markdown",
   "metadata": {},
   "source": [
    "We are now ready to train a classifier. Let's start with an `SVC`:"
   ]
  },
  {
   "cell_type": "code",
   "execution_count": 120,
   "metadata": {},
   "outputs": [
    {
     "data": {
      "text/plain": [
       "SVC(C=1.0, cache_size=200, class_weight=None, coef0=0.0,\n",
       "  decision_function_shape='ovr', degree=3, gamma='auto', kernel='rbf',\n",
       "  max_iter=-1, probability=False, random_state=None, shrinking=True,\n",
       "  tol=0.001, verbose=False)"
      ]
     },
     "execution_count": 120,
     "metadata": {},
     "output_type": "execute_result"
    }
   ],
   "source": [
    "from sklearn.svm import SVC\n",
    "\n",
    "svm_clf = SVC(gamma=\"auto\")\n",
    "svm_clf.fit(X_train, y_train)"
   ]
  },
  {
   "cell_type": "markdown",
   "metadata": {},
   "source": [
    "Great, our model is trained, let's use it to make predictions on the test set:"
   ]
  },
  {
   "cell_type": "code",
   "execution_count": 121,
   "metadata": {},
   "outputs": [],
   "source": [
    "X_test = preprocess_pipeline.transform(test_data)\n",
    "y_pred = svm_clf.predict(X_test)"
   ]
  },
  {
   "cell_type": "markdown",
   "metadata": {},
   "source": [
    "And now we could just build a CSV file with these predictions (respecting the format excepted by Kaggle), then upload it and hope for the best. But wait! We can do better than hope. Why don't we use cross-validation to have an idea of how good our model is?"
   ]
  },
  {
   "cell_type": "code",
   "execution_count": 122,
   "metadata": {},
   "outputs": [
    {
     "data": {
      "text/plain": [
       "0.7365250822835092"
      ]
     },
     "execution_count": 122,
     "metadata": {},
     "output_type": "execute_result"
    }
   ],
   "source": [
    "from sklearn.model_selection import cross_val_score\n",
    "\n",
    "svm_scores = cross_val_score(svm_clf, X_train, y_train, cv=10)\n",
    "svm_scores.mean()"
   ]
  },
  {
   "cell_type": "markdown",
   "metadata": {},
   "source": [
    "Okay, over 73% accuracy, clearly better than random chance, but it's not a great score. Looking at the [leaderboard](https://www.kaggle.com/c/titanic/leaderboard) for the Titanic competition on Kaggle, you can see that you need to reach above 80% accuracy to be within the top 10% Kagglers. Some reached 100%, but since you can easily find the [list of victims](https://www.encyclopedia-titanica.org/titanic-victims/) of the Titanic, it seems likely that there was little Machine Learning involved in their performance! ;-) So let's try to build a model that reaches 80% accuracy."
   ]
  },
  {
   "cell_type": "markdown",
   "metadata": {},
   "source": [
    "Let's try a `RandomForestClassifier`:"
   ]
  },
  {
   "cell_type": "code",
   "execution_count": 123,
   "metadata": {},
   "outputs": [
    {
     "data": {
      "text/plain": [
       "0.8149526160481217"
      ]
     },
     "execution_count": 123,
     "metadata": {},
     "output_type": "execute_result"
    }
   ],
   "source": [
    "from sklearn.ensemble import RandomForestClassifier\n",
    "\n",
    "forest_clf = RandomForestClassifier(n_estimators=100, random_state=42)\n",
    "forest_scores = cross_val_score(forest_clf, X_train, y_train, cv=10)\n",
    "forest_scores.mean()"
   ]
  },
  {
   "cell_type": "markdown",
   "metadata": {},
   "source": [
    "That's much better!"
   ]
  },
  {
   "cell_type": "markdown",
   "metadata": {},
   "source": [
    "Instead of just looking at the mean accuracy across the 10 cross-validation folds, let's plot all 10 scores for each model, along with a box plot highlighting the lower and upper quartiles, and \"whiskers\" showing the extent of the scores (thanks to Nevin Yilmaz for suggesting this visualization). Note that the `boxplot()` function detects outliers (called \"fliers\") and does not include them within the whiskers. Specifically, if the lower quartile is $Q_1$ and the upper quartile is $Q_3$, then the interquartile range $IQR = Q_3 - Q_1$ (this is the box's height), and any score lower than $Q_1 - 1.5 \\times IQR$ is a flier, and so is any score greater than $Q3 + 1.5 \\times IQR$."
   ]
  },
  {
   "cell_type": "code",
   "execution_count": 124,
   "metadata": {},
   "outputs": [
    {
     "data": {
      "image/png": "[encoded data removed]",
      "text/plain": [
       "<Figure size 576x288 with 1 Axes>"
      ]
     },
     "metadata": {
      "needs_background": "light"
     },
     "output_type": "display_data"
    }
   ],
   "source": [
    "plt.figure(figsize=(8, 4))\n",
    "plt.plot([1]*10, svm_scores, \".\")\n",
    "plt.plot([2]*10, forest_scores, \".\")\n",
    "plt.boxplot([svm_scores, forest_scores], labels=(\"SVM\",\"Random Forest\"))\n",
    "plt.ylabel(\"Accuracy\", fontsize=14)\n",
    "plt.show()"
   ]
  },
  {
   "cell_type": "markdown",
   "metadata": {},
   "source": [
    "To improve this result further, you could:\n",
    "* Compare many more models and tune hyperparameters using cross validation and grid search,\n",
    "* Do more feature engineering, for example:\n",
    "  * replace **SibSp** and **Parch** with their sum,\n",
    "  * try to identify parts of names that correlate well with the **Survived** attribute (e.g. if the name contains \"Countess\", then survival seems more likely),\n",
    "* try to convert numerical attributes to categorical attributes: for example, different age groups had very different survival rates (see below), so it may help to create an age bucket category and use it instead of the age. Similarly, it may be useful to have a special category for people traveling alone since only 30% of them survived (see below)."
   ]
  },
  {
   "cell_type": "code",
   "execution_count": 125,
   "metadata": {},
   "outputs": [
    {
     "data": {
      "text/html": [
       "<div>\n",
       "<style scoped>\n",
       "    .dataframe tbody tr th:only-of-type {\n",
       "        vertical-align: middle;\n",
       "    }\n",
       "\n",
       "    .dataframe tbody tr th {\n",
       "        vertical-align: top;\n",
       "    }\n",
       "\n",
       "    .dataframe thead th {\n",
       "        text-align: right;\n",
       "    }\n",
       "</style>\n",
       "<table border=\"1\" class=\"dataframe\">\n",
       "  <thead>\n",
       "    <tr style=\"text-align: right;\">\n",
       "      <th></th>\n",
       "      <th>Survived</th>\n",
       "    </tr>\n",
       "    <tr>\n",
       "      <th>AgeBucket</th>\n",
       "      <th></th>\n",
       "    </tr>\n",
       "  </thead>\n",
       "  <tbody>\n",
       "    <tr>\n",
       "      <th>0.0</th>\n",
       "      <td>0.576923</td>\n",
       "    </tr>\n",
       "    <tr>\n",
       "      <th>15.0</th>\n",
       "      <td>0.362745</td>\n",
       "    </tr>\n",
       "    <tr>\n",
       "      <th>30.0</th>\n",
       "      <td>0.423256</td>\n",
       "    </tr>\n",
       "    <tr>\n",
       "      <th>45.0</th>\n",
       "      <td>0.404494</td>\n",
       "    </tr>\n",
       "    <tr>\n",
       "      <th>60.0</th>\n",
       "      <td>0.240000</td>\n",
       "    </tr>\n",
       "    <tr>\n",
       "      <th>75.0</th>\n",
       "      <td>1.000000</td>\n",
       "    </tr>\n",
       "  </tbody>\n",
       "</table>\n",
       "</div>"
      ],
      "text/plain": [
       "           Survived\n",
       "AgeBucket          \n",
       "0.0        0.576923\n",
       "15.0       0.362745\n",
       "30.0       0.423256\n",
       "45.0       0.404494\n",
       "60.0       0.240000\n",
       "75.0       1.000000"
      ]
     },
     "execution_count": 125,
     "metadata": {},
     "output_type": "execute_result"
    }
   ],
   "source": [
    "train_data[\"AgeBucket\"] = train_data[\"Age\"] // 15 * 15\n",
    "train_data[[\"AgeBucket\", \"Survived\"]].groupby(['AgeBucket']).mean()"
   ]
  },
  {
   "cell_type": "code",
   "execution_count": 126,
   "metadata": {},
   "outputs": [
    {
     "data": {
      "text/html": [
       "<div>\n",
       "<style scoped>\n",
       "    .dataframe tbody tr th:only-of-type {\n",
       "        vertical-align: middle;\n",
       "    }\n",
       "\n",
       "    .dataframe tbody tr th {\n",
       "        vertical-align: top;\n",
       "    }\n",
       "\n",
       "    .dataframe thead th {\n",
       "        text-align: right;\n",
       "    }\n",
       "</style>\n",
       "<table border=\"1\" class=\"dataframe\">\n",
       "  <thead>\n",
       "    <tr style=\"text-align: right;\">\n",
       "      <th></th>\n",
       "      <th>Survived</th>\n",
       "    </tr>\n",
       "    <tr>\n",
       "      <th>RelativesOnboard</th>\n",
       "      <th></th>\n",
       "    </tr>\n",
       "  </thead>\n",
       "  <tbody>\n",
       "    <tr>\n",
       "      <th>0</th>\n",
       "      <td>0.303538</td>\n",
       "    </tr>\n",
       "    <tr>\n",
       "      <th>1</th>\n",
       "      <td>0.552795</td>\n",
       "    </tr>\n",
       "    <tr>\n",
       "      <th>2</th>\n",
       "      <td>0.578431</td>\n",
       "    </tr>\n",
       "    <tr>\n",
       "      <th>3</th>\n",
       "      <td>0.724138</td>\n",
       "    </tr>\n",
       "    <tr>\n",
       "      <th>4</th>\n",
       "      <td>0.200000</td>\n",
       "    </tr>\n",
       "    <tr>\n",
       "      <th>5</th>\n",
       "      <td>0.136364</td>\n",
       "    </tr>\n",
       "    <tr>\n",
       "      <th>6</th>\n",
       "      <td>0.333333</td>\n",
       "    </tr>\n",
       "    <tr>\n",
       "      <th>7</th>\n",
       "      <td>0.000000</td>\n",
       "    </tr>\n",
       "    <tr>\n",
       "      <th>10</th>\n",
       "      <td>0.000000</td>\n",
       "    </tr>\n",
       "  </tbody>\n",
       "</table>\n",
       "</div>"
      ],
      "text/plain": [
       "                  Survived\n",
       "RelativesOnboard          \n",
       "0                 0.303538\n",
       "1                 0.552795\n",
       "2                 0.578431\n",
       "3                 0.724138\n",
       "4                 0.200000\n",
       "5                 0.136364\n",
       "6                 0.333333\n",
       "7                 0.000000\n",
       "10                0.000000"
      ]
     },
     "execution_count": 126,
     "metadata": {},
     "output_type": "execute_result"
    }
   ],
   "source": [
    "train_data[\"RelativesOnboard\"] = train_data[\"SibSp\"] + train_data[\"Parch\"]\n",
    "train_data[[\"RelativesOnboard\", \"Survived\"]].groupby(['RelativesOnboard']).mean()"
   ]
  },
  {
   "cell_type": "markdown",
   "metadata": {},
   "source": [
    "## 4. Spam classifier"
   ]
  },
  {
   "cell_type": "markdown",
   "metadata": {},
   "source": [
    "First, let's fetch the data:"
   ]
  },
  {
   "cell_type": "code",
   "execution_count": 127,
   "metadata": {},
   "outputs": [],
   "source": [
    "import os\n",
    "import tarfile\n",
    "import urllib\n",
    "\n",
    "DOWNLOAD_ROOT = \"http://spamassassin.apache.org/old/publiccorpus/\"\n",
    "HAM_URL = DOWNLOAD_ROOT + \"20030228_easy_ham.tar.bz2\"\n",
    "SPAM_URL = DOWNLOAD_ROOT + \"20030228_spam.tar.bz2\"\n",
    "SPAM_PATH = os.path.join(\"datasets\", \"spam\")\n",
    "\n",
    "def fetch_spam_data(spam_url=SPAM_URL, spam_path=SPAM_PATH):\n",
    "    if not os.path.isdir(spam_path):\n",
    "        os.makedirs(spam_path)\n",
    "    for filename, url in ((\"ham.tar.bz2\", HAM_URL), (\"spam.tar.bz2\", SPAM_URL)):\n",
    "        path = os.path.join(spam_path, filename)\n",
    "        if not os.path.isfile(path):\n",
    "            urllib.request.urlretrieve(url, path)\n",
    "        tar_bz2_file = tarfile.open(path)\n",
    "        tar_bz2_file.extractall(path=SPAM_PATH)\n",
    "        tar_bz2_file.close()"
   ]
  },
  {
   "cell_type": "code",
   "execution_count": 128,
   "metadata": {},
   "outputs": [],
   "source": [
    "fetch_spam_data()"
   ]
  },
  {
   "cell_type": "markdown",
   "metadata": {},
   "source": [
    "Next, let's load all the emails:"
   ]
  },
  {
   "cell_type": "code",
   "execution_count": 129,
   "metadata": {},
   "outputs": [],
   "source": [
    "HAM_DIR = os.path.join(SPAM_PATH, \"easy_ham\")\n",
    "SPAM_DIR = os.path.join(SPAM_PATH, \"spam\")\n",
    "ham_filenames = [name for name in sorted(os.listdir(HAM_DIR)) if len(name) > 20]\n",
    "spam_filenames = [name for name in sorted(os.listdir(SPAM_DIR)) if len(name) > 20]"
   ]
  },
  {
   "cell_type": "code",
   "execution_count": 130,
   "metadata": {},
   "outputs": [
    {
     "data": {
      "text/plain": [
       "2500"
      ]
     },
     "execution_count": 130,
     "metadata": {},
     "output_type": "execute_result"
    }
   ],
   "source": [
    "len(ham_filenames)"
   ]
  },
  {
   "cell_type": "code",
   "execution_count": 131,
   "metadata": {},
   "outputs": [
    {
     "data": {
      "text/plain": [
       "500"
      ]
     },
     "execution_count": 131,
     "metadata": {},
     "output_type": "execute_result"
    }
   ],
   "source": [
    "len(spam_filenames)"
   ]
  },
  {
   "cell_type": "markdown",
   "metadata": {},
   "source": [
    "We can use Python's `email` module to parse these emails (this handles headers, encoding, and so on):"
   ]
  },
  {
   "cell_type": "code",
   "execution_count": 132,
   "metadata": {},
   "outputs": [],
   "source": [
    "import email\n",
    "import email.policy\n",
    "\n",
    "def load_email(is_spam, filename, spam_path=SPAM_PATH):\n",
    "    directory = \"spam\" if is_spam else \"easy_ham\"\n",
    "    with open(os.path.join(spam_path, directory, filename), \"rb\") as f:\n",
    "        return email.parser.BytesParser(policy=email.policy.default).parse(f)"
   ]
  },
  {
   "cell_type": "code",
   "execution_count": 133,
   "metadata": {},
   "outputs": [],
   "source": [
    "ham_emails = [load_email(is_spam=False, filename=name) for name in ham_filenames]\n",
    "spam_emails = [load_email(is_spam=True, filename=name) for name in spam_filenames]"
   ]
  },
  {
   "cell_type": "markdown",
   "metadata": {},
   "source": [
    "Let's look at one example of ham and one example of spam, to get a feel of what the data looks like:"
   ]
  },
  {
   "cell_type": "code",
   "execution_count": 134,
   "metadata": {},
   "outputs": [
    {
     "name": "stdout",
     "output_type": "stream",
     "text": [
      "Martin A posted:\n",
      "Tassos Papadopoulos, the Greek sculptor behind the plan, judged that the\n",
      " limestone of Mount Kerdylio, 70 miles east of Salonika and not far from the\n",
      " Mount Athos monastic community, was ideal for the patriotic sculpture. \n",
      " \n",
      " As well as Alexander's granite features, 240 ft high and 170 ft wide, a\n",
      " museum, a restored amphitheatre and car park for admiring crowds are\n",
      "planned\n",
      "---------------------\n",
      "So is this mountain limestone or granite?\n",
      "If it's limestone, it'll weather pretty fast.\n",
      "\n",
      "------------------------ Yahoo! Groups Sponsor ---------------------~-->\n",
      "4 DVDs Free +s&p Join Now\n",
      "http://us.click.yahoo.com/pt6YBB/NXiEAA/mG3HAA/7gSolB/TM\n",
      "---------------------------------------------------------------------~->\n",
      "\n",
      "To unsubscribe from this group, send an email to:\n",
      "forteana-unsubscribe@egroups.com\n",
      "\n",
      " \n",
      "\n",
      "Your use of Yahoo! Groups is subject to http://docs.yahoo.com/info/terms/\n"
     ]
    }
   ],
   "source": [
    "print(ham_emails[1].get_content().strip())"
   ]
  },
  {
   "cell_type": "code",
   "execution_count": 135,
   "metadata": {},
   "outputs": [
    {
     "name": "stdout",
     "output_type": "stream",
     "text": [
      "Help wanted.  We are a 14 year old fortune 500 company, that is\n",
      "growing at a tremendous rate.  We are looking for individuals who\n",
      "want to work from home.\n",
      "\n",
      "This is an opportunity to make an excellent income.  No experience\n",
      "is required.  We will train you.\n",
      "\n",
      "So if you are looking to be employed from home with a career that has\n",
      "vast opportunities, then go:\n",
      "\n",
      "http://www.basetel.com/wealthnow\n",
      "\n",
      "We are looking for energetic and self motivated people.  If that is you\n",
      "than click on the link and fill out the form, and one of our\n",
      "employement specialist will contact you.\n",
      "\n",
      "To be removed from our link simple go to:\n",
      "\n",
      "http://www.basetel.com/remove.html\n",
      "\n",
      "\n",
      "4139vOLW7-758DoDY1425FRhM1-764SMFc8513fCsLl40\n"
     ]
    }
   ],
   "source": [
    "print(spam_emails[6].get_content().strip())"
   ]
  },
  {
   "cell_type": "markdown",
   "metadata": {},
   "source": [
    "Some emails are actually multipart, with images and attachments (which can have their own attachments). Let's look at the various types of structures we have:"
   ]
  },
  {
   "cell_type": "code",
   "execution_count": 136,
   "metadata": {},
   "outputs": [],
   "source": [
    "def get_email_structure(email):\n",
    "    if isinstance(email, str):\n",
    "        return email\n",
    "    payload = email.get_payload()\n",
    "    if isinstance(payload, list):\n",
    "        return \"multipart({})\".format(\", \".join([\n",
    "            get_email_structure(sub_email)\n",
    "            for sub_email in payload\n",
    "        ]))\n",
    "    else:\n",
    "        return email.get_content_type()"
   ]
  },
  {
   "cell_type": "code",
   "execution_count": 137,
   "metadata": {},
   "outputs": [],
   "source": [
    "from collections import Counter\n",
    "\n",
    "def structures_counter(emails):\n",
    "    structures = Counter()\n",
    "    for email in emails:\n",
    "        structure = get_email_structure(email)\n",
    "        structures[structure] += 1\n",
    "    return structures"
   ]
  },
  {
   "cell_type": "code",
   "execution_count": 138,
   "metadata": {},
   "outputs": [
    {
     "data": {
      "text/plain": [
       "[('text/plain', 2408),\n",
       " ('multipart(text/plain, application/pgp-signature)', 66),\n",
       " ('multipart(text/plain, text/html)', 8),\n",
       " ('multipart(text/plain, text/plain)', 4),\n",
       " ('multipart(text/plain)', 3),\n",
       " ('multipart(text/plain, application/octet-stream)', 2),\n",
       " ('multipart(text/plain, text/enriched)', 1),\n",
       " ('multipart(text/plain, application/ms-tnef, text/plain)', 1),\n",
       " ('multipart(multipart(text/plain, text/plain, text/plain), application/pgp-signature)',\n",
       "  1),\n",
       " ('multipart(text/plain, video/mng)', 1),\n",
       " ('multipart(text/plain, multipart(text/plain))', 1),\n",
       " ('multipart(text/plain, application/x-pkcs7-signature)', 1),\n",
       " ('multipart(text/plain, multipart(text/plain, text/plain), text/rfc822-headers)',\n",
       "  1),\n",
       " ('multipart(text/plain, multipart(text/plain, text/plain), multipart(multipart(text/plain, application/x-pkcs7-signature)))',\n",
       "  1),\n",
       " ('multipart(text/plain, application/x-java-applet)', 1)]"
      ]
     },
     "execution_count": 138,
     "metadata": {},
     "output_type": "execute_result"
    }
   ],
   "source": [
    "structures_counter(ham_emails).most_common()"
   ]
  },
  {
   "cell_type": "code",
   "execution_count": 139,
   "metadata": {},
   "outputs": [
    {
     "data": {
      "text/plain": [
       "[('text/plain', 218),\n",
       " ('text/html', 183),\n",
       " ('multipart(text/plain, text/html)', 45),\n",
       " ('multipart(text/html)', 20),\n",
       " ('multipart(text/plain)', 19),\n",
       " ('multipart(multipart(text/html))', 5),\n",
       " ('multipart(text/plain, image/jpeg)', 3),\n",
       " ('multipart(text/html, application/octet-stream)', 2),\n",
       " ('multipart(text/plain, application/octet-stream)', 1),\n",
       " ('multipart(text/html, text/plain)', 1),\n",
       " ('multipart(multipart(text/html), application/octet-stream, image/jpeg)', 1),\n",
       " ('multipart(multipart(text/plain, text/html), image/gif)', 1),\n",
       " ('multipart/alternative', 1)]"
      ]
     },
     "execution_count": 139,
     "metadata": {},
     "output_type": "execute_result"
    }
   ],
   "source": [
    "structures_counter(spam_emails).most_common()"
   ]
  },
  {
   "cell_type": "markdown",
   "metadata": {},
   "source": [
    "It seems that the ham emails are more often plain text, while spam has quite a lot of HTML. Moreover, quite a few ham emails are signed using PGP, while no spam is. In short, it seems that the email structure is useful information to have."
   ]
  },
  {
   "cell_type": "markdown",
   "metadata": {},
   "source": [
    "Now let's take a look at the email headers:"
   ]
  },
  {
   "cell_type": "code",
   "execution_count": 140,
   "metadata": {},
   "outputs": [
    {
     "name": "stdout",
     "output_type": "stream",
     "text": [
      "Return-Path : <12a1mailbot1@web.de>\n",
      "Delivered-To : zzzz@localhost.spamassassin.taint.org\n",
      "Received : from localhost (localhost [127.0.0.1])\tby phobos.labs.spamassassin.taint.org (Postfix) with ESMTP id 136B943C32\tfor <zzzz@localhost>; Thu, 22 Aug 2002 08:17:21 -0400 (EDT)\n",
      "Received : from mail.webnote.net [193.120.211.219]\tby localhost with POP3 (fetchmail-5.9.0)\tfor zzzz@localhost (single-drop); Thu, 22 Aug 2002 13:17:21 +0100 (IST)\n",
      "Received : from dd_it7 ([210.97.77.167])\tby webnote.net (8.9.3/8.9.3) with ESMTP id NAA04623\tfor <zzzz@spamassassin.taint.org>; Thu, 22 Aug 2002 13:09:41 +0100\n",
      "From : 12a1mailbot1@web.de\n",
      "Received : from r-smtp.korea.com - 203.122.2.197 by dd_it7  with Microsoft SMTPSVC(5.5.1775.675.6);\t Sat, 24 Aug 2002 09:42:10 +0900\n",
      "To : dcek1a1@netsgo.com\n",
      "Subject : Life Insurance - Why Pay More?\n",
      "Date : Wed, 21 Aug 2002 20:31:57 -1600\n",
      "MIME-Version : 1.0\n",
      "Message-ID : <0103c1042001882DD_IT7@dd_it7>\n",
      "Content-Type : text/html; charset=\"iso-8859-1\"\n",
      "Content-Transfer-Encoding : quoted-printable\n"
     ]
    }
   ],
   "source": [
    "for header, value in spam_emails[0].items():\n",
    "    print(header,\":\",value)"
   ]
  },
  {
   "cell_type": "markdown",
   "metadata": {},
   "source": [
    "There's probably a lot of useful information in there, such as the sender's email address (12a1mailbot1@web.de looks fishy), but we will just focus on the `Subject` header:"
   ]
  },
  {
   "cell_type": "code",
   "execution_count": 141,
   "metadata": {},
   "outputs": [
    {
     "data": {
      "text/plain": [
       "'Life Insurance - Why Pay More?'"
      ]
     },
     "execution_count": 141,
     "metadata": {},
     "output_type": "execute_result"
    }
   ],
   "source": [
    "spam_emails[0][\"Subject\"]"
   ]
  },
  {
   "cell_type": "markdown",
   "metadata": {},
   "source": [
    "Okay, before we learn too much about the data, let's not forget to split it into a training set and a test set:"
   ]
  },
  {
   "cell_type": "code",
   "execution_count": 142,
   "metadata": {},
   "outputs": [],
   "source": [
    "import numpy as np\n",
    "from sklearn.model_selection import train_test_split\n",
    "\n",
    "X = np.array(ham_emails + spam_emails)\n",
    "y = np.array([0] * len(ham_emails) + [1] * len(spam_emails))\n",
    "\n",
    "X_train, X_test, y_train, y_test = train_test_split(X, y, test_size=0.2, random_state=42)"
   ]
  },
  {
   "cell_type": "markdown",
   "metadata": {},
   "source": [
    "Okay, let's start writing the preprocessing functions. First, we will need a function to convert HTML to plain text. Arguably the best way to do this would be to use the great [BeautifulSoup](https://www.crummy.com/software/BeautifulSoup/) library, but I would like to avoid adding another dependency to this project, so let's hack a quick & dirty solution using regular expressions (at the risk of [un̨ho͞ly radiańcé destro҉ying all enli̍̈́̂̈́ghtenment](https://stackoverflow.com/a/1732454/38626)). The following function first drops the `<head>` section, then converts all `<a>` tags to the word HYPERLINK, then it gets rid of all HTML tags, leaving only the plain text. For readability, it also replaces multiple newlines with single newlines, and finally it unescapes html entities (such as `&gt;` or `&nbsp;`):"
   ]
  },
  {
   "cell_type": "code",
   "execution_count": 143,
   "metadata": {},
   "outputs": [],
   "source": [
    "import re\n",
    "from html import unescape\n",
    "\n",
    "def html_to_plain_text(html):\n",
    "    text = re.sub('<head.*?>.*?</head>', '', html, flags=re.M | re.S | re.I)\n",
    "    text = re.sub('<a\\s.*?>', ' HYPERLINK ', text, flags=re.M | re.S | re.I)\n",
    "    text = re.sub('<.*?>', '', text, flags=re.M | re.S)\n",
    "    text = re.sub(r'(\\s*\\n)+', '\\n', text, flags=re.M | re.S)\n",
    "    return unescape(text)"
   ]
  },
  {
   "cell_type": "markdown",
   "metadata": {},
   "source": [
    "Let's see if it works. This is HTML spam:"
   ]
  },
  {
   "cell_type": "code",
   "execution_count": 144,
   "metadata": {},
   "outputs": [
    {
     "name": "stdout",
     "output_type": "stream",
     "text": [
      "<HTML><HEAD><TITLE></TITLE><META http-equiv=\"Content-Type\" content=\"text/html; charset=windows-1252\"><STYLE>A:link {TEX-DECORATION: none}A:active {TEXT-DECORATION: none}A:visited {TEXT-DECORATION: none}A:hover {COLOR: #0033ff; TEXT-DECORATION: underline}</STYLE><META content=\"MSHTML 6.00.2713.1100\" name=\"GENERATOR\"></HEAD>\n",
      "<BODY text=\"#000000\" vLink=\"#0033ff\" link=\"#0033ff\" bgColor=\"#CCCC99\"><TABLE borderColor=\"#660000\" cellSpacing=\"0\" cellPadding=\"0\" border=\"0\" width=\"100%\"><TR><TD bgColor=\"#CCCC99\" valign=\"top\" colspan=\"2\" height=\"27\">\n",
      "<font size=\"6\" face=\"Arial, Helvetica, sans-serif\" color=\"#660000\">\n",
      "<b>OTC</b></font></TD></TR><TR><TD height=\"2\" bgcolor=\"#6a694f\">\n",
      "<font size=\"5\" face=\"Times New Roman, Times, serif\" color=\"#FFFFFF\">\n",
      "<b>&nbsp;Newsletter</b></font></TD><TD height=\"2\" bgcolor=\"#6a694f\"><div align=\"right\"><font color=\"#FFFFFF\">\n",
      "<b>Discover Tomorrow's Winners&nbsp;</b></font></div></TD></TR><TR><TD height=\"25\" colspan=\"2\" bgcolor=\"#CCCC99\"><table width=\"100%\" border=\"0\"  ...\n"
     ]
    }
   ],
   "source": [
    "html_spam_emails = [email for email in X_train[y_train==1]\n",
    "                    if get_email_structure(email) == \"text/html\"]\n",
    "sample_html_spam = html_spam_emails[7]\n",
    "print(sample_html_spam.get_content().strip()[:1000], \"...\")"
   ]
  },
  {
   "cell_type": "markdown",
   "metadata": {},
   "source": [
    "And this is the resulting plain text:"
   ]
  },
  {
   "cell_type": "code",
   "execution_count": 145,
   "metadata": {},
   "outputs": [
    {
     "name": "stdout",
     "output_type": "stream",
     "text": [
      "\n",
      "OTC\n",
      " Newsletter\n",
      "Discover Tomorrow's Winners \n",
      "For Immediate Release\n",
      "Cal-Bay (Stock Symbol: CBYI)\n",
      "Watch for analyst \"Strong Buy Recommendations\" and several advisory newsletters picking CBYI.  CBYI has filed to be traded on the OTCBB, share prices historically INCREASE when companies get listed on this larger trading exchange. CBYI is trading around 25 cents and should skyrocket to $2.66 - $3.25 a share in the near future.\n",
      "Put CBYI on your watch list, acquire a position TODAY.\n",
      "REASONS TO INVEST IN CBYI\n",
      "A profitable company and is on track to beat ALL earnings estimates!\n",
      "One of the FASTEST growing distributors in environmental & safety equipment instruments.\n",
      "Excellent management team, several EXCLUSIVE contracts.  IMPRESSIVE client list including the U.S. Air Force, Anheuser-Busch, Chevron Refining and Mitsubishi Heavy Industries, GE-Energy & Environmental Research.\n",
      "RAPIDLY GROWING INDUSTRY\n",
      "Industry revenues exceed $900 million, estimates indicate that there could be as much as $25 billi ...\n"
     ]
    }
   ],
   "source": [
    "print(html_to_plain_text(sample_html_spam.get_content())[:1000], \"...\")"
   ]
  },
  {
   "cell_type": "markdown",
   "metadata": {},
   "source": [
    "Great! Now let's write a function that takes an email as input and returns its content as plain text, whatever its format is:"
   ]
  },
  {
   "cell_type": "code",
   "execution_count": 146,
   "metadata": {},
   "outputs": [],
   "source": [
    "def email_to_text(email):\n",
    "    html = None\n",
    "    for part in email.walk():\n",
    "        ctype = part.get_content_type()\n",
    "        if not ctype in (\"text/plain\", \"text/html\"):\n",
    "            continue\n",
    "        try:\n",
    "            content = part.get_content()\n",
    "        except: # in case of encoding issues\n",
    "            content = str(part.get_payload())\n",
    "        if ctype == \"text/plain\":\n",
    "            return content\n",
    "        else:\n",
    "            html = content\n",
    "    if html:\n",
    "        return html_to_plain_text(html)"
   ]
  },
  {
   "cell_type": "code",
   "execution_count": 147,
   "metadata": {},
   "outputs": [
    {
     "name": "stdout",
     "output_type": "stream",
     "text": [
      "\n",
      "OTC\n",
      " Newsletter\n",
      "Discover Tomorrow's Winners \n",
      "For Immediate Release\n",
      "Cal-Bay (Stock Symbol: CBYI)\n",
      "Wat ...\n"
     ]
    }
   ],
   "source": [
    "print(email_to_text(sample_html_spam)[:100], \"...\")"
   ]
  },
  {
   "cell_type": "markdown",
   "metadata": {},
   "source": [
    "Let's throw in some stemming! For this to work, you need to install the Natural Language Toolkit ([NLTK](http://www.nltk.org/)). It's as simple as running the following command (don't forget to activate your virtualenv first; if you don't have one, you will likely need administrator rights, or use the `--user` option):\n",
    "\n",
    "`$ pip3 install nltk`"
   ]
  },
  {
   "cell_type": "code",
   "execution_count": 148,
   "metadata": {},
   "outputs": [
    {
     "name": "stdout",
     "output_type": "stream",
     "text": [
      "Computations => comput\n",
      "Computation => comput\n",
      "Computing => comput\n",
      "Computed => comput\n",
      "Compute => comput\n",
      "Compulsive => compuls\n"
     ]
    }
   ],
   "source": [
    "try:\n",
    "    import nltk\n",
    "\n",
    "    stemmer = nltk.PorterStemmer()\n",
    "    for word in (\"Computations\", \"Computation\", \"Computing\", \"Computed\", \"Compute\", \"Compulsive\"):\n",
    "        print(word, \"=>\", stemmer.stem(word))\n",
    "except ImportError:\n",
    "    print(\"Error: stemming requires the NLTK module.\")\n",
    "    stemmer = None"
   ]
  },
  {
   "cell_type": "markdown",
   "metadata": {},
   "source": [
    "We will also need a way to replace URLs with the word \"URL\". For this, we could use hard core [regular expressions](https://mathiasbynens.be/demo/url-regex) but we will just use the [urlextract](https://github.com/lipoja/URLExtract) library. You can install it with the following command (don't forget to activate your virtualenv first; if you don't have one, you will likely need administrator rights, or use the `--user` option):\n",
    "\n",
    "`$ pip3 install urlextract`"
   ]
  },
  {
   "cell_type": "code",
   "execution_count": 149,
   "metadata": {},
   "outputs": [
    {
     "name": "stdout",
     "output_type": "stream",
     "text": [
      "['github.com', 'https://youtu.be/7Pq-S557XQU?t=3m32s']\n"
     ]
    }
   ],
   "source": [
    "try:\n",
    "    import urlextract # may require an Internet connection to download root domain names\n",
    "    \n",
    "    url_extractor = urlextract.URLExtract()\n",
    "    print(url_extractor.find_urls(\"Will it detect github.com and https://youtu.be/7Pq-S557XQU?t=3m32s\"))\n",
    "except ImportError:\n",
    "    print(\"Error: replacing URLs requires the urlextract module.\")\n",
    "    url_extractor = None"
   ]
  },
  {
   "cell_type": "markdown",
   "metadata": {},
   "source": [
    "We are ready to put all this together into a transformer that we will use to convert emails to word counters. Note that we split sentences into words using Python's `split()` method, which uses whitespaces for word boundaries. This works for many written languages, but not all. For example, Chinese and Japanese scripts generally don't use spaces between words, and Vietnamese often uses spaces even between syllables. It's okay in this exercise, because the dataset is (mostly) in English."
   ]
  },
  {
   "cell_type": "code",
   "execution_count": 150,
   "metadata": {},
   "outputs": [],
   "source": [
    "from sklearn.base import BaseEstimator, TransformerMixin\n",
    "\n",
    "class EmailToWordCounterTransformer(BaseEstimator, TransformerMixin):\n",
    "    def __init__(self, strip_headers=True, lower_case=True, remove_punctuation=True,\n",
    "                 replace_urls=True, replace_numbers=True, stemming=True):\n",
    "        self.strip_headers = strip_headers\n",
    "        self.lower_case = lower_case\n",
    "        self.remove_punctuation = remove_punctuation\n",
    "        self.replace_urls = replace_urls\n",
    "        self.replace_numbers = replace_numbers\n",
    "        self.stemming = stemming\n",
    "    def fit(self, X, y=None):\n",
    "        return self\n",
    "    def transform(self, X, y=None):\n",
    "        X_transformed = []\n",
    "        for email in X:\n",
    "            text = email_to_text(email) or \"\"\n",
    "            if self.lower_case:\n",
    "                text = text.lower()\n",
    "            if self.replace_urls and url_extractor is not None:\n",
    "                urls = list(set(url_extractor.find_urls(text)))\n",
    "                urls.sort(key=lambda url: len(url), reverse=True)\n",
    "                for url in urls:\n",
    "                    text = text.replace(url, \" URL \")\n",
    "            if self.replace_numbers:\n",
    "                text = re.sub(r'\\d+(?:\\.\\d*(?:[eE]\\d+))?', 'NUMBER', text)\n",
    "            if self.remove_punctuation:\n",
    "                text = re.sub(r'\\W+', ' ', text, flags=re.M)\n",
    "            word_counts = Counter(text.split())\n",
    "            if self.stemming and stemmer is not None:\n",
    "                stemmed_word_counts = Counter()\n",
    "                for word, count in word_counts.items():\n",
    "                    stemmed_word = stemmer.stem(word)\n",
    "                    stemmed_word_counts[stemmed_word] += count\n",
    "                word_counts = stemmed_word_counts\n",
    "            X_transformed.append(word_counts)\n",
    "        return np.array(X_transformed)"
   ]
  },
  {
   "cell_type": "markdown",
   "metadata": {},
   "source": [
    "Let's try this transformer on a few emails:"
   ]
  },
  {
   "cell_type": "code",
   "execution_count": 151,
   "metadata": {},
   "outputs": [
    {
     "data": {
      "text/plain": [
       "array([Counter({'chuck': 1, 'murcko': 1, 'wrote': 1, 'stuff': 1, 'yawn': 1, 'r': 1}),\n",
       "       Counter({'the': 11, 'of': 9, 'and': 8, 'all': 3, 'christian': 3, 'to': 3, 'by': 3, 'jefferson': 2, 'i': 2, 'have': 2, 'superstit': 2, 'one': 2, 'on': 2, 'been': 2, 'ha': 2, 'half': 2, 'rogueri': 2, 'teach': 2, 'jesu': 2, 'some': 1, 'interest': 1, 'quot': 1, 'url': 1, 'thoma': 1, 'examin': 1, 'known': 1, 'word': 1, 'do': 1, 'not': 1, 'find': 1, 'in': 1, 'our': 1, 'particular': 1, 'redeem': 1, 'featur': 1, 'they': 1, 'are': 1, 'alik': 1, 'found': 1, 'fabl': 1, 'mytholog': 1, 'million': 1, 'innoc': 1, 'men': 1, 'women': 1, 'children': 1, 'sinc': 1, 'introduct': 1, 'burnt': 1, 'tortur': 1, 'fine': 1, 'imprison': 1, 'what': 1, 'effect': 1, 'thi': 1, 'coercion': 1, 'make': 1, 'world': 1, 'fool': 1, 'other': 1, 'hypocrit': 1, 'support': 1, 'error': 1, 'over': 1, 'earth': 1, 'six': 1, 'histor': 1, 'american': 1, 'john': 1, 'e': 1, 'remsburg': 1, 'letter': 1, 'william': 1, 'short': 1, 'again': 1, 'becom': 1, 'most': 1, 'pervert': 1, 'system': 1, 'that': 1, 'ever': 1, 'shone': 1, 'man': 1, 'absurd': 1, 'untruth': 1, 'were': 1, 'perpetr': 1, 'upon': 1, 'a': 1, 'larg': 1, 'band': 1, 'dupe': 1, 'import': 1, 'led': 1, 'paul': 1, 'first': 1, 'great': 1, 'corrupt': 1}),\n",
       "       Counter({'url': 5, 's': 3, 'group': 3, 'to': 3, 'in': 2, 'forteana': 2, 'martin': 2, 'an': 2, 'and': 2, 'we': 2, 'is': 2, 'yahoo': 2, 'unsubscrib': 2, 'y': 1, 'adamson': 1, 'wrote': 1, 'for': 1, 'altern': 1, 'rather': 1, 'more': 1, 'factual': 1, 'base': 1, 'rundown': 1, 'on': 1, 'hamza': 1, 'career': 1, 'includ': 1, 'hi': 1, 'belief': 1, 'that': 1, 'all': 1, 'non': 1, 'muslim': 1, 'yemen': 1, 'should': 1, 'be': 1, 'murder': 1, 'outright': 1, 'know': 1, 'how': 1, 'unbias': 1, 'memri': 1, 'don': 1, 't': 1, 'html': 1, 'rob': 1, 'sponsor': 1, 'number': 1, 'dvd': 1, 'free': 1, 'p': 1, 'join': 1, 'now': 1, 'from': 1, 'thi': 1, 'send': 1, 'email': 1, 'your': 1, 'use': 1, 'of': 1, 'subject': 1})],\n",
       "      dtype=object)"
      ]
     },
     "execution_count": 151,
     "metadata": {},
     "output_type": "execute_result"
    }
   ],
   "source": [
    "X_few = X_train[:3]\n",
    "X_few_wordcounts = EmailToWordCounterTransformer().fit_transform(X_few)\n",
    "X_few_wordcounts"
   ]
  },
  {
   "cell_type": "markdown",
   "metadata": {},
   "source": [
    "This looks about right!"
   ]
  },
  {
   "cell_type": "markdown",
   "metadata": {},
   "source": [
    "Now we have the word counts, and we need to convert them to vectors. For this, we will build another transformer whose `fit()` method will build the vocabulary (an ordered list of the most common words) and whose `transform()` method will use the vocabulary to convert word counts to vectors. The output is a sparse matrix."
   ]
  },
  {
   "cell_type": "code",
   "execution_count": 152,
   "metadata": {},
   "outputs": [],
   "source": [
    "from scipy.sparse import csr_matrix\n",
    "\n",
    "class WordCounterToVectorTransformer(BaseEstimator, TransformerMixin):\n",
    "    def __init__(self, vocabulary_size=1000):\n",
    "        self.vocabulary_size = vocabulary_size\n",
    "    def fit(self, X, y=None):\n",
    "        total_count = Counter()\n",
    "        for word_count in X:\n",
    "            for word, count in word_count.items():\n",
    "                total_count[word] += min(count, 10)\n",
    "        most_common = total_count.most_common()[:self.vocabulary_size]\n",
    "        self.most_common_ = most_common\n",
    "        self.vocabulary_ = {word: index + 1 for index, (word, count) in enumerate(most_common)}\n",
    "        return self\n",
    "    def transform(self, X, y=None):\n",
    "        rows = []\n",
    "        cols = []\n",
    "        data = []\n",
    "        for row, word_count in enumerate(X):\n",
    "            for word, count in word_count.items():\n",
    "                rows.append(row)\n",
    "                cols.append(self.vocabulary_.get(word, 0))\n",
    "                data.append(count)\n",
    "        return csr_matrix((data, (rows, cols)), shape=(len(X), self.vocabulary_size + 1))"
   ]
  },
  {
   "cell_type": "code",
   "execution_count": 153,
   "metadata": {},
   "outputs": [
    {
     "data": {
      "text/plain": [
       "<3x11 sparse matrix of type '<class 'numpy.int64'>'\n",
       "\twith 20 stored elements in Compressed Sparse Row format>"
      ]
     },
     "execution_count": 153,
     "metadata": {},
     "output_type": "execute_result"
    }
   ],
   "source": [
    "vocab_transformer = WordCounterToVectorTransformer(vocabulary_size=10)\n",
    "X_few_vectors = vocab_transformer.fit_transform(X_few_wordcounts)\n",
    "X_few_vectors"
   ]
  },
  {
   "cell_type": "code",
   "execution_count": 154,
   "metadata": {},
   "outputs": [
    {
     "data": {
      "text/plain": [
       "array([[ 6,  0,  0,  0,  0,  0,  0,  0,  0,  0,  0],\n",
       "       [99, 11,  9,  8,  1,  3,  3,  1,  3,  2,  3],\n",
       "       [65,  0,  1,  2,  5,  3,  1,  2,  0,  1,  0]], dtype=int64)"
      ]
     },
     "execution_count": 154,
     "metadata": {},
     "output_type": "execute_result"
    }
   ],
   "source": [
    "X_few_vectors.toarray()"
   ]
  },
  {
   "cell_type": "markdown",
   "metadata": {},
   "source": [
    "What does this matrix mean? Well, the 64 in the third row, first column, means that the third email contains 64 words that are not part of the vocabulary. The 1 next to it means that the first word in the vocabulary is present once in this email. The 2 next to it means that the second word is present twice, and so on. You can look at the vocabulary to know which words we are talking about. The first word is \"of\", the second word is \"and\", etc."
   ]
  },
  {
   "cell_type": "code",
   "execution_count": 155,
   "metadata": {},
   "outputs": [
    {
     "data": {
      "text/plain": [
       "{'the': 1,\n",
       " 'of': 2,\n",
       " 'and': 3,\n",
       " 'url': 4,\n",
       " 'to': 5,\n",
       " 'all': 6,\n",
       " 'in': 7,\n",
       " 'christian': 8,\n",
       " 'on': 9,\n",
       " 'by': 10}"
      ]
     },
     "execution_count": 155,
     "metadata": {},
     "output_type": "execute_result"
    }
   ],
   "source": [
    "vocab_transformer.vocabulary_"
   ]
  },
  {
   "cell_type": "markdown",
   "metadata": {},
   "source": [
    "We are now ready to train our first spam classifier! Let's transform the whole dataset:"
   ]
  },
  {
   "cell_type": "code",
   "execution_count": 156,
   "metadata": {},
   "outputs": [],
   "source": [
    "from sklearn.pipeline import Pipeline\n",
    "\n",
    "preprocess_pipeline = Pipeline([\n",
    "    (\"email_to_wordcount\", EmailToWordCounterTransformer()),\n",
    "    (\"wordcount_to_vector\", WordCounterToVectorTransformer()),\n",
    "])\n",
    "\n",
    "X_train_transformed = preprocess_pipeline.fit_transform(X_train)"
   ]
  },
  {
   "cell_type": "markdown",
   "metadata": {},
   "source": [
    "**Note**: to be future-proof, we set `solver=\"lbfgs\"` since this will be the default value in Scikit-Learn 0.22."
   ]
  },
  {
   "cell_type": "code",
   "execution_count": 157,
   "metadata": {},
   "outputs": [
    {
     "name": "stderr",
     "output_type": "stream",
     "text": [
      "[Parallel(n_jobs=1)]: Using backend SequentialBackend with 1 concurrent workers.\n",
      "/Users/ageron/.virtualenvs/tf2/lib/python3.6/site-packages/sklearn/linear_model/logistic.py:758: ConvergenceWarning: lbfgs failed to converge. Increase the number of iterations.\n",
      "  \"of iterations.\", ConvergenceWarning)\n",
      "[Parallel(n_jobs=1)]: Done   1 out of   1 | elapsed:    0.1s remaining:    0.0s\n"
     ]
    },
    {
     "name": "stdout",
     "output_type": "stream",
     "text": [
      "[CV]  ................................................................\n",
      "[CV] .................................... , score=0.985, total=   0.1s\n",
      "[CV]  ................................................................\n",
      "[CV] .................................... , score=0.985, total=   0.1s\n",
      "[CV]  ................................................................\n",
      "[CV] ................................... , score=0.9925, total=   0.1s\n"
     ]
    },
    {
     "name": "stderr",
     "output_type": "stream",
     "text": [
      "/Users/ageron/.virtualenvs/tf2/lib/python3.6/site-packages/sklearn/linear_model/logistic.py:758: ConvergenceWarning: lbfgs failed to converge. Increase the number of iterations.\n",
      "  \"of iterations.\", ConvergenceWarning)\n",
      "[Parallel(n_jobs=1)]: Done   2 out of   2 | elapsed:    0.2s remaining:    0.0s\n",
      "/Users/ageron/.virtualenvs/tf2/lib/python3.6/site-packages/sklearn/linear_model/logistic.py:758: ConvergenceWarning: lbfgs failed to converge. Increase the number of iterations.\n",
      "  \"of iterations.\", ConvergenceWarning)\n",
      "[Parallel(n_jobs=1)]: Done   3 out of   3 | elapsed:    0.4s finished\n"
     ]
    },
    {
     "data": {
      "text/plain": [
       "0.9874999999999999"
      ]
     },
     "execution_count": 157,
     "metadata": {},
     "output_type": "execute_result"
    }
   ],
   "source": [
    "from sklearn.linear_model import LogisticRegression\n",
    "from sklearn.model_selection import cross_val_score\n",
    "\n",
    "log_clf = LogisticRegression(solver=\"lbfgs\", random_state=42)\n",
    "score = cross_val_score(log_clf, X_train_transformed, y_train, cv=3, verbose=3)\n",
    "score.mean()"
   ]
  },
  {
   "cell_type": "markdown",
   "metadata": {},
   "source": [
    "Over 98.7%, not bad for a first try! :) However, remember that we are using the \"easy\" dataset. You can try with the harder datasets, the results won't be so amazing. You would have to try multiple models, select the best ones and fine-tune them using cross-validation, and so on.\n",
    "\n",
    "But you get the picture, so let's stop now, and just print out the precision/recall we get on the test set:"
   ]
  },
  {
   "cell_type": "code",
   "execution_count": 158,
   "metadata": {},
   "outputs": [
    {
     "name": "stdout",
     "output_type": "stream",
     "text": [
      "Precision: 95.88%\n",
      "Recall: 97.89%\n"
     ]
    },
    {
     "name": "stderr",
     "output_type": "stream",
     "text": [
      "/Users/ageron/.virtualenvs/tf2/lib/python3.6/site-packages/sklearn/linear_model/logistic.py:758: ConvergenceWarning: lbfgs failed to converge. Increase the number of iterations.\n",
      "  \"of iterations.\", ConvergenceWarning)\n"
     ]
    }
   ],
   "source": [
    "from sklearn.metrics import precision_score, recall_score\n",
    "\n",
    "X_test_transformed = preprocess_pipeline.transform(X_test)\n",
    "\n",
    "log_clf = LogisticRegression(solver=\"lbfgs\", random_state=42)\n",
    "log_clf.fit(X_train_transformed, y_train)\n",
    "\n",
    "y_pred = log_clf.predict(X_test_transformed)\n",
    "\n",
    "print(\"Precision: {:.2f}%\".format(100 * precision_score(y_test, y_pred)))\n",
    "print(\"Recall: {:.2f}%\".format(100 * recall_score(y_test, y_pred)))"
   ]
  },
  {
   "cell_type": "code",
   "execution_count": null,
   "metadata": {},
   "outputs": [],
   "source": []
  }
 ],
 "metadata": {
  "kernelspec": {
   "display_name": "Python 3.7.3 64-bit ('tf2': conda)",
   "language": "python",
   "name": "python37364bittf2conda12c8ad7ec8e44811bebf6e94c333d48d"
  },
  "language_info": {
   "codemirror_mode": {
    "name": "ipython",
    "version": 3
   },
   "file_extension": ".py",
   "mimetype": "text/x-python",
   "name": "python",
   "nbconvert_exporter": "python",
   "pygments_lexer": "ipython3",
   "version": "3.7.3-final"
  },
  "nav_menu": {},
  "toc": {
   "navigate_menu": true,
   "number_sections": true,
   "sideBar": true,
   "threshold": 6,
   "toc_cell": false,
   "toc_section_display": "block",
   "toc_window_display": false
  }
 },
 "nbformat": 4,
 "nbformat_minor": 1
}